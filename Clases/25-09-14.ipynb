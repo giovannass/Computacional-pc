{
 "metadata": {
  "language": "Julia",
  "name": "",
  "signature": "sha256:f48a91932dae0a8b11f9c3aae2a9377d6ba32767cb18f9d48ccf8eb39a3b89a7"
 },
 "nbformat": 3,
 "nbformat_minor": 0,
 "worksheets": [
  {
   "cells": [
    {
     "cell_type": "code",
     "collapsed": false,
     "input": [
      ";git init\n"
     ],
     "language": "python",
     "metadata": {},
     "outputs": [
      {
       "output_type": "stream",
       "stream": "stdout",
       "text": [
        "Reinitialized existing Git repository in /home/est2/.git/\n"
       ]
      }
     ],
     "prompt_number": 1
    },
    {
     "cell_type": "code",
     "collapsed": false,
     "input": [
      ";ls"
     ],
     "language": "python",
     "metadata": {},
     "outputs": [
      {
       "output_type": "stream",
       "stream": "stdout",
       "text": [
        "25-09-14.ipynb\n",
        "Clase 19-08-14.ipynb\n",
        "Clase 21-08-15.ipynb\n",
        "Clase 23-09-14.ipynb\n",
        "Descargas\n",
        "Documentos\n",
        "Escritorio\n",
        "Im\u00e1genes\n",
        "M\u00fasica\n",
        "Plantillas\n",
        "P\u00fablico\n",
        "text.txt\n",
        "Untitled0.ipynb\n",
        "Untitled1.ipynb\n",
        "Untitled2.ipynb\n",
        "V\u00eddeos\n"
       ]
      }
     ],
     "prompt_number": 2
    },
    {
     "cell_type": "code",
     "collapsed": false,
     "input": [
      ";ls -a"
     ],
     "language": "python",
     "metadata": {},
     "outputs": [
      {
       "output_type": "stream",
       "stream": "stdout",
       "text": [
        ".\n",
        "..\n",
        "25-09-14.ipynb\n",
        ".bash_history\n",
        ".bash_logout\n",
        ".bash_profile\n",
        ".bashrc\n",
        ".bashrc~\n",
        ".cache\n",
        "Clase 19-08-14.ipynb\n",
        "Clase 21-08-15.ipynb\n",
        "Clase 23-09-14.ipynb\n",
        ".config\n",
        "Descargas\n",
        "Documentos\n",
        "Escritorio\n",
        ".esd_auth\n",
        ".fedmsg-notify.pid\n",
        ".git\n",
        ".gitconfig\n",
        ".gnome2\n",
        ".gnome2_private\n",
        ".gnupg\n",
        ".gstreamer-0.10\n",
        ".ICEauthority\n",
        "Im\u00e1genes\n",
        ".ipynb_checkpoints\n",
        ".ipython\n",
        ".julia\n",
        ".julia_history\n",
        ".local\n",
        ".mozilla\n",
        "M\u00fasica\n",
        ".pki\n",
        "Plantillas\n",
        "P\u00fablico\n",
        ".ssh\n",
        "text.txt\n",
        "Untitled0.ipynb\n",
        "Untitled1.ipynb\n",
        "Untitled2.ipynb\n",
        "V\u00eddeos\n",
        ".zshrc\n"
       ]
      }
     ],
     "prompt_number": 3
    },
    {
     "cell_type": "code",
     "collapsed": false,
     "input": [
      ";git status"
     ],
     "language": "python",
     "metadata": {},
     "outputs": [
      {
       "output_type": "stream",
       "stream": "stdout",
       "text": [
        "On branch master\n",
        "\n",
        "Initial commit\n",
        "\n",
        "Changes to be committed:\n",
        "  (use \"git rm --cached <file>...\" to unstage)\n",
        "\n",
        "\tnew file:   text.txt\n",
        "\n",
        "Untracked files:\n",
        "  (use \"git add <file>...\" to include in what will be committed)\n",
        "\n",
        "\t.ICEauthority\n",
        "\t.bash_history\n",
        "\t.bash_logout\n",
        "\t.bash_profile\n",
        "\t.bashrc\n",
        "\t.bashrc~\n",
        "\t.cache/\n",
        "\t.config/\n",
        "\t.esd_auth\n",
        "\t.fedmsg-notify.pid\n",
        "\t.gitconfig\n",
        "\t.gnupg/\n",
        "\t.gstreamer-0.10/\n",
        "\t.ipynb_checkpoints/\n",
        "\t.ipython/\n",
        "\t.julia/\n",
        "\t.julia_history\n",
        "\t.local/\n",
        "\t.mozilla/\n",
        "\t.pki/\n",
        "\t.zshrc\n",
        "\t25-09-14.ipynb\n",
        "\tClase 19-08-14.ipynb\n",
        "\tClase 21-08-15.ipynb\n",
        "\tClase 23-09-14.ipynb\n",
        "\tDescargas/\n",
        "\tDocumentos/\n",
        "\t\"Im\\303\\241genes/\"\n",
        "\tUntitled0.ipynb\n",
        "\tUntitled1.ipynb\n",
        "\tUntitled2.ipynb\n",
        "\n"
       ]
      }
     ],
     "prompt_number": 3
    },
    {
     "cell_type": "code",
     "collapsed": false,
     "input": [
      ";git add text.txt"
     ],
     "language": "python",
     "metadata": {},
     "outputs": [],
     "prompt_number": 6
    },
    {
     "cell_type": "code",
     "collapsed": false,
     "input": [
      ";git status"
     ],
     "language": "python",
     "metadata": {},
     "outputs": [
      {
       "output_type": "stream",
       "stream": "stdout",
       "text": [
        "On branch master\n",
        "\n",
        "Initial commit\n",
        "\n",
        "Changes to be committed:\n",
        "  (use \"git rm --cached <file>...\" to unstage)\n",
        "\n",
        "\tnew file:   text.txt\n",
        "\n",
        "Untracked files:\n",
        "  (use \"git add <file>...\" to include in what will be committed)\n",
        "\n",
        "\t.ICEauthority\n",
        "\t.bash_history\n",
        "\t.bash_logout\n",
        "\t.bash_profile\n",
        "\t.bashrc\n",
        "\t.bashrc~\n",
        "\t.cache/\n",
        "\t.config/\n",
        "\t.esd_auth\n",
        "\t.fedmsg-notify.pid\n",
        "\t.gitconfig\n",
        "\t.gnupg/\n",
        "\t.gstreamer-0.10/\n",
        "\t.ipynb_checkpoints/\n",
        "\t.ipython/\n",
        "\t.julia/\n",
        "\t.julia_history\n",
        "\t.local/\n",
        "\t.mozilla/\n",
        "\t.pki/\n",
        "\t.zshrc\n",
        "\t25-09-14.ipynb\n",
        "\tClase 19-08-14.ipynb\n",
        "\tClase 21-08-15.ipynb\n",
        "\tClase 23-09-14.ipynb\n",
        "\tDescargas/\n",
        "\tDocumentos/\n",
        "\t\"Im\\303\\241genes/\"\n",
        "\tUntitled0.ipynb\n",
        "\tUntitled1.ipynb\n",
        "\tUntitled2.ipynb\n",
        "\n"
       ]
      }
     ],
     "prompt_number": 4
    },
    {
     "cell_type": "code",
     "collapsed": false,
     "input": [
      ";git config --global user.name \"Gio\"\n"
     ],
     "language": "python",
     "metadata": {},
     "outputs": [],
     "prompt_number": 4
    },
    {
     "cell_type": "code",
     "collapsed": false,
     "input": [
      ";git commit -m \"hola\""
     ],
     "language": "python",
     "metadata": {},
     "outputs": [
      {
       "output_type": "stream",
       "stream": "stdout",
       "text": [
        "[master (root-commit) 2744c61] hola\n",
        " Committer: Gio <est2@vl10h40.fciencias.unam.mx>\n",
        "Your name and email address were configured automatically based\n",
        "on your username and hostname. Please check that they are accurate.\n",
        "You can suppress this message by setting them explicitly:\n",
        "\n",
        "    git config --global user.name \"Your Name\"\n",
        "    git config --global user.email you@example.com\n",
        "\n",
        "After doing this, you may fix the identity used for this commit with:\n",
        "\n",
        "    git commit --amend --reset-author\n",
        "\n",
        " 1 file changed, 0 insertions(+), 0 deletions(-)\n",
        " create mode 100644 text.txt\n"
       ]
      }
     ],
     "prompt_number": 5
    },
    {
     "cell_type": "code",
     "collapsed": false,
     "input": [
      ";git rm --cached text.txt"
     ],
     "language": "python",
     "metadata": {},
     "outputs": [
      {
       "output_type": "stream",
       "stream": "stdout",
       "text": [
        "rm 'text.txt'\n"
       ]
      }
     ],
     "prompt_number": 6
    },
    {
     "cell_type": "code",
     "collapsed": false,
     "input": [
      ";cat text.txt"
     ],
     "language": "python",
     "metadata": {},
     "outputs": [],
     "prompt_number": 7
    },
    {
     "cell_type": "code",
     "collapsed": false,
     "input": [
      ";git status"
     ],
     "language": "python",
     "metadata": {},
     "outputs": [
      {
       "output_type": "stream",
       "stream": "stdout",
       "text": [
        "On branch master\n",
        "Changes to be committed:\n",
        "  (use \"git reset HEAD <file>...\" to unstage)\n",
        "\n",
        "\tdeleted:    text.txt\n",
        "\n",
        "Untracked files:\n",
        "  (use \"git add <file>...\" to include in what will be committed)\n",
        "\n",
        "\t.ICEauthority\n",
        "\t.bash_history\n",
        "\t.bash_logout\n",
        "\t.bash_profile\n",
        "\t.bashrc\n",
        "\t.bashrc~\n",
        "\t.cache/\n",
        "\t.config/\n",
        "\t.esd_auth\n",
        "\t.fedmsg-notify.pid\n",
        "\t.gitconfig\n",
        "\t.gnupg/\n",
        "\t.gstreamer-0.10/\n",
        "\t.ipynb_checkpoints/\n",
        "\t.ipython/\n",
        "\t.julia/\n",
        "\t.julia_history\n",
        "\t.local/\n",
        "\t.mozilla/\n",
        "\t.pki/\n",
        "\t.zshrc\n",
        "\t25-09-14.ipynb\n",
        "\tClase 19-08-14.ipynb\n",
        "\tClase 21-08-15.ipynb\n",
        "\tClase 23-09-14.ipynb\n",
        "\tDescargas/\n",
        "\tDocumentos/\n",
        "\t\"Im\\303\\241genes/\"\n",
        "\tUntitled0.ipynb\n",
        "\tUntitled1.ipynb\n",
        "\tUntitled2.ipynb\n",
        "\ttext.txt\n",
        "\n"
       ]
      }
     ],
     "prompt_number": 9
    },
    {
     "cell_type": "code",
     "collapsed": false,
     "input": [
      ";git add text.txt"
     ],
     "language": "python",
     "metadata": {},
     "outputs": [],
     "prompt_number": 10
    },
    {
     "cell_type": "code",
     "collapsed": false,
     "input": [
      ";git status"
     ],
     "language": "python",
     "metadata": {},
     "outputs": [
      {
       "output_type": "stream",
       "stream": "stdout",
       "text": [
        "On branch master\n",
        "Untracked files:\n",
        "  (use \"git add <file>...\" to include in what will be committed)\n",
        "\n",
        "\t.ICEauthority\n",
        "\t.bash_history\n",
        "\t.bash_logout\n",
        "\t.bash_profile\n",
        "\t.bashrc\n",
        "\t.bashrc~\n",
        "\t.cache/\n",
        "\t.config/\n",
        "\t.esd_auth\n",
        "\t.fedmsg-notify.pid\n",
        "\t.gitconfig\n",
        "\t.gnupg/\n",
        "\t.gstreamer-0.10/\n",
        "\t.ipynb_checkpoints/\n",
        "\t.ipython/\n",
        "\t.julia/\n",
        "\t.julia_history\n",
        "\t.local/\n",
        "\t.mozilla/\n",
        "\t.pki/\n",
        "\t.zshrc\n",
        "\t25-09-14.ipynb\n",
        "\tClase 19-08-14.ipynb\n",
        "\tClase 21-08-15.ipynb\n",
        "\tClase 23-09-14.ipynb\n",
        "\tDescargas/\n",
        "\tDocumentos/\n",
        "\t\"Im\\303\\241genes/\"\n",
        "\tUntitled0.ipynb\n",
        "\tUntitled1.ipynb\n",
        "\tUntitled2.ipynb\n",
        "\n",
        "nothing added to commit but untracked files present (use \"git add\" to track)\n"
       ]
      }
     ],
     "prompt_number": 11
    },
    {
     "cell_type": "code",
     "collapsed": false,
     "input": [
      ";touch gio.txt"
     ],
     "language": "python",
     "metadata": {},
     "outputs": [],
     "prompt_number": 13
    },
    {
     "cell_type": "code",
     "collapsed": false,
     "input": [
      ";git add gio.txt"
     ],
     "language": "python",
     "metadata": {},
     "outputs": [],
     "prompt_number": 14
    },
    {
     "cell_type": "code",
     "collapsed": false,
     "input": [
      ";git status\n"
     ],
     "language": "python",
     "metadata": {},
     "outputs": [
      {
       "output_type": "stream",
       "stream": "stdout",
       "text": [
        "On branch master\n",
        "Changes to be committed:\n",
        "  (use \"git reset HEAD <file>...\" to unstage)\n",
        "\n",
        "\tnew file:   gio.txt\n",
        "\n",
        "Untracked files:\n",
        "  (use \"git add <file>...\" to include in what will be committed)\n",
        "\n",
        "\t.ICEauthority\n",
        "\t.bash_history\n",
        "\t.bash_logout\n",
        "\t.bash_profile\n",
        "\t.bashrc\n",
        "\t.bashrc~\n",
        "\t.cache/\n",
        "\t.config/\n",
        "\t.esd_auth\n",
        "\t.fedmsg-notify.pid\n",
        "\t.gitconfig\n",
        "\t.gnupg/\n",
        "\t.gstreamer-0.10/\n",
        "\t.ipynb_checkpoints/\n",
        "\t.ipython/\n",
        "\t.julia/\n",
        "\t.julia_history\n",
        "\t.local/\n",
        "\t.mozilla/\n",
        "\t.pki/\n",
        "\t.zshrc\n",
        "\t25-09-14.ipynb\n",
        "\tClase 19-08-14.ipynb\n",
        "\tClase 21-08-15.ipynb\n",
        "\tClase 23-09-14.ipynb\n",
        "\tDescargas/\n",
        "\tDocumentos/\n",
        "\t\"Im\\303\\241genes/\"\n",
        "\tUntitled0.ipynb\n",
        "\tUntitled1.ipynb\n",
        "\tUntitled2.ipynb\n",
        "\n"
       ]
      }
     ],
     "prompt_number": 15
    },
    {
     "cell_type": "code",
     "collapsed": false,
     "input": [
      ";git commit -m \"Hallo\""
     ],
     "language": "python",
     "metadata": {},
     "outputs": [
      {
       "output_type": "stream",
       "stream": "stdout",
       "text": [
        "[master 4a4695e] Hallo\n",
        " Committer: Gio <est2@vl10h40.fciencias.unam.mx>\n",
        "Your name and email address were configured automatically based\n",
        "on your username and hostname. Please check that they are accurate.\n",
        "You can suppress this message by setting them explicitly:\n",
        "\n",
        "    git config --global user.name \"Your Name\"\n",
        "    git config --global user.email you@example.com\n",
        "\n",
        "After doing this, you may fix the identity used for this commit with:\n",
        "\n",
        "    git commit --amend --reset-author\n",
        "\n",
        " 1 file changed, 0 insertions(+), 0 deletions(-)\n",
        " create mode 100644 gio.txt\n"
       ]
      }
     ],
     "prompt_number": 17
    },
    {
     "cell_type": "code",
     "collapsed": false,
     "input": [
      ";git status"
     ],
     "language": "python",
     "metadata": {},
     "outputs": [
      {
       "output_type": "stream",
       "stream": "stdout",
       "text": [
        "On branch master\n",
        "Untracked files:\n",
        "  (use \"git add <file>...\" to include in what will be committed)\n",
        "\n",
        "\t.ICEauthority\n",
        "\t.bash_history\n",
        "\t.bash_logout\n",
        "\t.bash_profile\n",
        "\t.bashrc\n",
        "\t.bashrc~\n",
        "\t.cache/\n",
        "\t.config/\n",
        "\t.esd_auth\n",
        "\t.fedmsg-notify.pid\n",
        "\t.gitconfig\n",
        "\t.gnupg/\n",
        "\t.gstreamer-0.10/\n",
        "\t.ipynb_checkpoints/\n",
        "\t.ipython/\n",
        "\t.julia/\n",
        "\t.julia_history\n",
        "\t.local/\n",
        "\t.mozilla/\n",
        "\t.pki/\n",
        "\t.zshrc\n",
        "\t25-09-14.ipynb\n",
        "\tClase 19-08-14.ipynb\n",
        "\tClase 21-08-15.ipynb\n",
        "\tClase 23-09-14.ipynb\n",
        "\tDescargas/\n",
        "\tDocumentos/\n",
        "\t\"Im\\303\\241genes/\"\n",
        "\tUntitled0.ipynb\n",
        "\tUntitled1.ipynb\n",
        "\tUntitled2.ipynb\n",
        "\n",
        "nothing added to commit but untracked files present (use \"git add\" to track)\n"
       ]
      }
     ],
     "prompt_number": 18
    },
    {
     "cell_type": "code",
     "collapsed": false,
     "input": [
      ";git log"
     ],
     "language": "python",
     "metadata": {},
     "outputs": [
      {
       "output_type": "stream",
       "stream": "stdout",
       "text": [
        "commit 4a4695ec34499c4b3251cfa5b197ec48d3c6eb10\n",
        "Author: Gio <est2@vl10h40.fciencias.unam.mx>\n",
        "Date:   Thu Sep 25 12:15:32 2014 -0500\n",
        "\n",
        "    Hallo\n",
        "\n",
        "commit 2744c61258b2150392526b14d4b6db5da34969f3\n",
        "Author: Gio <est2@vl10h40.fciencias.unam.mx>\n",
        "Date:   Thu Sep 25 12:09:48 2014 -0500\n",
        "\n",
        "    hola\n"
       ]
      }
     ],
     "prompt_number": 19
    },
    {
     "cell_type": "code",
     "collapsed": false,
     "input": [
      ";git status"
     ],
     "language": "python",
     "metadata": {},
     "outputs": [
      {
       "output_type": "stream",
       "stream": "stdout",
       "text": [
        "On branch master\n",
        "Untracked files:\n",
        "  (use \"git add <file>...\" to include in what will be committed)\n",
        "\n",
        "\t.ICEauthority\n",
        "\t.bash_history\n",
        "\t.bash_logout\n",
        "\t.bash_profile\n",
        "\t.bashrc\n",
        "\t.bashrc~\n",
        "\t.cache/\n",
        "\t.config/\n",
        "\t.esd_auth\n",
        "\t.fedmsg-notify.pid\n",
        "\t.gitconfig\n",
        "\t.gnupg/\n",
        "\t.gstreamer-0.10/\n",
        "\t.ipynb_checkpoints/\n",
        "\t.ipython/\n",
        "\t.julia/\n",
        "\t.julia_history\n",
        "\t.local/\n",
        "\t.mozilla/\n",
        "\t.pki/\n",
        "\t.zshrc\n",
        "\t25-09-14.ipynb\n",
        "\tClase 19-08-14.ipynb\n",
        "\tClase 21-08-15.ipynb\n",
        "\tClase 23-09-14.ipynb\n",
        "\tDescargas/\n",
        "\tDocumentos/\n",
        "\t\"Im\\303\\241genes/\"\n",
        "\tUntitled0.ipynb\n",
        "\tUntitled1.ipynb\n",
        "\tUntitled2.ipynb\n",
        "\n",
        "nothing added to commit but untracked files present (use \"git add\" to track)\n"
       ]
      }
     ],
     "prompt_number": 20
    },
    {
     "cell_type": "code",
     "collapsed": false,
     "input": [
      ";git add gio.txt"
     ],
     "language": "python",
     "metadata": {},
     "outputs": [],
     "prompt_number": 23
    },
    {
     "cell_type": "code",
     "collapsed": false,
     "input": [
      ";git status"
     ],
     "language": "python",
     "metadata": {},
     "outputs": [
      {
       "output_type": "stream",
       "stream": "stdout",
       "text": [
        "On branch master\n",
        "Changes to be committed:\n",
        "  (use \"git reset HEAD <file>...\" to unstage)\n",
        "\n",
        "\tmodified:   gio.txt\n",
        "\n",
        "Untracked files:\n",
        "  (use \"git add <file>...\" to include in what will be committed)\n",
        "\n",
        "\t.ICEauthority\n",
        "\t.bash_history\n",
        "\t.bash_logout\n",
        "\t.bash_profile\n",
        "\t.bashrc\n",
        "\t.bashrc~\n",
        "\t.cache/\n",
        "\t.config/\n",
        "\t.esd_auth\n",
        "\t.fedmsg-notify.pid\n",
        "\t.gitconfig\n",
        "\t.gnupg/\n",
        "\t.gstreamer-0.10/\n",
        "\t.ipynb_checkpoints/\n",
        "\t.ipython/\n",
        "\t.julia/\n",
        "\t.julia_history\n",
        "\t.local/\n",
        "\t.mozilla/\n",
        "\t.pki/\n",
        "\t.zshrc\n",
        "\t25-09-14.ipynb\n",
        "\tClase 19-08-14.ipynb\n",
        "\tClase 21-08-15.ipynb\n",
        "\tClase 23-09-14.ipynb\n",
        "\tDescargas/\n",
        "\tDocumentos/\n",
        "\t\"Im\\303\\241genes/\"\n",
        "\tUntitled0.ipynb\n",
        "\tUntitled1.ipynb\n",
        "\tUntitled2.ipynb\n",
        "\tgio.txt~\n",
        "\n"
       ]
      }
     ],
     "prompt_number": 25
    },
    {
     "cell_type": "code",
     "collapsed": false,
     "input": [
      ";git add gio.txt"
     ],
     "language": "python",
     "metadata": {},
     "outputs": [],
     "prompt_number": 26
    },
    {
     "cell_type": "code",
     "collapsed": false,
     "input": [
      ";git status"
     ],
     "language": "python",
     "metadata": {},
     "outputs": [
      {
       "output_type": "stream",
       "stream": "stdout",
       "text": [
        "On branch master\n",
        "Changes to be committed:\n",
        "  (use \"git reset HEAD <file>...\" to unstage)\n",
        "\n",
        "\tmodified:   gio.txt\n",
        "\n",
        "Untracked files:\n",
        "  (use \"git add <file>...\" to include in what will be committed)\n",
        "\n",
        "\t.ICEauthority\n",
        "\t.bash_history\n",
        "\t.bash_logout\n",
        "\t.bash_profile\n",
        "\t.bashrc\n",
        "\t.bashrc~\n",
        "\t.cache/\n",
        "\t.config/\n",
        "\t.esd_auth\n",
        "\t.fedmsg-notify.pid\n",
        "\t.gitconfig\n",
        "\t.gnupg/\n",
        "\t.gstreamer-0.10/\n",
        "\t.ipynb_checkpoints/\n",
        "\t.ipython/\n",
        "\t.julia/\n",
        "\t.julia_history\n",
        "\t.local/\n",
        "\t.mozilla/\n",
        "\t.pki/\n",
        "\t.zshrc\n",
        "\t25-09-14.ipynb\n",
        "\tClase 19-08-14.ipynb\n",
        "\tClase 21-08-15.ipynb\n",
        "\tClase 23-09-14.ipynb\n",
        "\tDescargas/\n",
        "\tDocumentos/\n",
        "\t\"Im\\303\\241genes/\"\n",
        "\tUntitled0.ipynb\n",
        "\tUntitled1.ipynb\n",
        "\tUntitled2.ipynb\n",
        "\tgio.txt~\n",
        "\n"
       ]
      }
     ],
     "prompt_number": 27
    },
    {
     "cell_type": "code",
     "collapsed": false,
     "input": [
      ";git commit -m \"Tenia sed\""
     ],
     "language": "python",
     "metadata": {},
     "outputs": [
      {
       "output_type": "stream",
       "stream": "stdout",
       "text": [
        "[master 53a59f5] Tenia sed\n",
        " Committer: Gio <est2@vl10h40.fciencias.unam.mx>\n",
        "Your name and email address were configured automatically based\n",
        "on your username and hostname. Please check that they are accurate.\n",
        "You can suppress this message by setting them explicitly:\n",
        "\n",
        "    git config --global user.name \"Your Name\"\n",
        "    git config --global user.email you@example.com\n",
        "\n",
        "After doing this, you may fix the identity used for this commit with:\n",
        "\n",
        "    git commit --amend --reset-author\n",
        "\n",
        " 1 file changed, 1 insertion(+)\n"
       ]
      }
     ],
     "prompt_number": 28
    },
    {
     "cell_type": "code",
     "collapsed": false,
     "input": [
      ";git status"
     ],
     "language": "python",
     "metadata": {},
     "outputs": [
      {
       "output_type": "stream",
       "stream": "stdout",
       "text": [
        "On branch master\n",
        "Untracked files:\n",
        "  (use \"git add <file>...\" to include in what will be committed)\n",
        "\n",
        "\t.ICEauthority\n",
        "\t.bash_history\n",
        "\t.bash_logout\n",
        "\t.bash_profile\n",
        "\t.bashrc\n",
        "\t.bashrc~\n",
        "\t.cache/\n",
        "\t.config/\n",
        "\t.esd_auth\n",
        "\t.fedmsg-notify.pid\n",
        "\t.gitconfig\n",
        "\t.gnupg/\n",
        "\t.gstreamer-0.10/\n",
        "\t.ipynb_checkpoints/\n",
        "\t.ipython/\n",
        "\t.julia/\n",
        "\t.julia_history\n",
        "\t.local/\n",
        "\t.mozilla/\n",
        "\t.pki/\n",
        "\t.zshrc\n",
        "\t25-09-14.ipynb\n",
        "\tClase 19-08-14.ipynb\n",
        "\tClase 21-08-15.ipynb\n",
        "\tClase 23-09-14.ipynb\n",
        "\tDescargas/\n",
        "\tDocumentos/\n",
        "\t\"Im\\303\\241genes/\"\n",
        "\tUntitled0.ipynb\n",
        "\tUntitled1.ipynb\n",
        "\tUntitled2.ipynb\n",
        "\tgio.txt~\n",
        "\n",
        "nothing added to commit but untracked files present (use \"git add\" to track)\n"
       ]
      }
     ],
     "prompt_number": 29
    },
    {
     "cell_type": "code",
     "collapsed": false,
     "input": [
      ";cat gio.txt"
     ],
     "language": "python",
     "metadata": {},
     "outputs": [
      {
       "output_type": "stream",
       "stream": "stdout",
       "text": [
        "Tengo sed, \u00bfqu\u00e9 agooooooooooooooo?\n"
       ]
      }
     ],
     "prompt_number": 31
    },
    {
     "cell_type": "code",
     "collapsed": false,
     "input": [
      ";git log"
     ],
     "language": "python",
     "metadata": {},
     "outputs": [
      {
       "output_type": "stream",
       "stream": "stdout",
       "text": [
        "commit 53a59f518bb59552972aea5c5d6e184f31629979\n",
        "Author: Gio <est2@vl10h40.fciencias.unam.mx>\n",
        "Date:   Thu Sep 25 12:21:46 2014 -0500\n",
        "\n",
        "    Tenia sed\n",
        "\n",
        "commit 4a4695ec34499c4b3251cfa5b197ec48d3c6eb10\n",
        "Author: Gio <est2@vl10h40.fciencias.unam.mx>\n",
        "Date:   Thu Sep 25 12:15:32 2014 -0500\n",
        "\n",
        "    Hallo\n",
        "\n",
        "commit 2744c61258b2150392526b14d4b6db5da34969f3\n",
        "Author: Gio <est2@vl10h40.fciencias.unam.mx>\n",
        "Date:   Thu Sep 25 12:09:48 2014 -0500\n",
        "\n",
        "    hola\n"
       ]
      }
     ],
     "prompt_number": 32
    },
    {
     "cell_type": "code",
     "collapsed": false,
     "input": [
      ";git checkout 53a59 2744c6\n"
     ],
     "language": "python",
     "metadata": {},
     "outputs": [
      {
       "output_type": "stream",
       "stream": "stderr",
       "text": [
        "error: pathspec '2744c6' did not match any file(s) known to git.\n"
       ]
      }
     ],
     "prompt_number": 47
    },
    {
     "cell_type": "code",
     "collapsed": false,
     "input": [
      ";hub"
     ],
     "language": "python",
     "metadata": {},
     "outputs": [
      {
       "output_type": "stream",
       "stream": "stderr",
       "text": [
        "/bin/bash: hub: no se encontr\u00f3 la orden\n"
       ]
      }
     ],
     "prompt_number": 43
    },
    {
     "cell_type": "code",
     "collapsed": false,
     "input": [],
     "language": "python",
     "metadata": {},
     "outputs": []
    }
   ],
   "metadata": {}
  }
 ]
}