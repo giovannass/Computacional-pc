{
 "metadata": {
  "language": "Julia",
  "name": "",
  "signature": "sha256:95ac225ab4394b2a4c6f9c1d8baf71475716c8d31c09c230105fdec6f45f1460"
 },
 "nbformat": 3,
 "nbformat_minor": 0,
 "worksheets": [
  {
   "cells": [
    {
     "cell_type": "heading",
     "level": 1,
     "metadata": {},
     "source": [
      "Matrices"
     ]
    },
    {
     "cell_type": "markdown",
     "metadata": {},
     "source": [
      "Las matrices son importantes en muchas \u00e1reas de la f\u00edsica y del c\u00f3mputo; veremos muchos ejemplos. Para comenzar, necesitamos saber manipular matrices en Julia."
     ]
    },
    {
     "cell_type": "markdown",
     "metadata": {},
     "source": [
      "Las matrices se pueden definir a mano con una extensi\u00f3n de la sintaxis para vectores:"
     ]
    },
    {
     "cell_type": "code",
     "collapsed": false,
     "input": [
      "M = [1 2; 3 4]"
     ],
     "language": "python",
     "metadata": {},
     "outputs": [
      {
       "metadata": {},
       "output_type": "pyout",
       "prompt_number": 1,
       "text": [
        "2x2 Array{Int64,2}:\n",
        " 1  2\n",
        " 3  4"
       ]
      }
     ],
     "prompt_number": 1
    },
    {
     "cell_type": "markdown",
     "metadata": {},
     "source": [
      "Nota que no hay comas, y que hay un punto y coma para separar las l\u00edneas."
     ]
    },
    {
     "cell_type": "markdown",
     "metadata": {},
     "source": [
      "Una manera interesante de construir una matriz es con una comprensi\u00f3n doble:"
     ]
    },
    {
     "cell_type": "code",
     "collapsed": false,
     "input": [
      "M = [i+j for i in 1:3, j in 1:3]"
     ],
     "language": "python",
     "metadata": {},
     "outputs": [
      {
       "metadata": {},
       "output_type": "pyout",
       "prompt_number": 8,
       "text": [
        "3x3 Array{Int64,2}:\n",
        " 2  3  4\n",
        " 3  4  5\n",
        " 4  5  6"
       ]
      }
     ],
     "prompt_number": 8
    },
    {
     "cell_type": "markdown",
     "metadata": {},
     "source": [
      "Hay funciones para definir tipos especiales de matriz:"
     ]
    },
    {
     "cell_type": "markdown",
     "metadata": {},
     "source": [
      "[1] \u00bfQu\u00e9 hace la funci\u00f3n `zeros`? \n",
      "\n",
      "[2] \u00bfQu\u00e9 hace la funci\u00f3n `ones`?\n",
      "\n",
      "[3] \u00bfQu\u00e9 hace la funci\u00f3n `eye`?"
     ]
    },
    {
     "cell_type": "code",
     "collapsed": false,
     "input": [
      "zeros(6,8)"
     ],
     "language": "python",
     "metadata": {},
     "outputs": [
      {
       "metadata": {},
       "output_type": "pyout",
       "prompt_number": 11,
       "text": [
        "6x8 Array{Float64,2}:\n",
        " 0.0  0.0  0.0  0.0  0.0  0.0  0.0  0.0\n",
        " 0.0  0.0  0.0  0.0  0.0  0.0  0.0  0.0\n",
        " 0.0  0.0  0.0  0.0  0.0  0.0  0.0  0.0\n",
        " 0.0  0.0  0.0  0.0  0.0  0.0  0.0  0.0\n",
        " 0.0  0.0  0.0  0.0  0.0  0.0  0.0  0.0\n",
        " 0.0  0.0  0.0  0.0  0.0  0.0  0.0  0.0"
       ]
      }
     ],
     "prompt_number": 11
    },
    {
     "cell_type": "code",
     "collapsed": false,
     "input": [
      "eye(4,3)"
     ],
     "language": "python",
     "metadata": {},
     "outputs": [
      {
       "metadata": {},
       "output_type": "pyout",
       "prompt_number": 14,
       "text": [
        "4x3 Array{Float64,2}:\n",
        " 1.0  0.0  0.0\n",
        " 0.0  1.0  0.0\n",
        " 0.0  0.0  1.0\n",
        " 0.0  0.0  0.0"
       ]
      }
     ],
     "prompt_number": 14
    },
    {
     "cell_type": "code",
     "collapsed": false,
     "input": [
      "ones(3,6)"
     ],
     "language": "python",
     "metadata": {},
     "outputs": [
      {
       "metadata": {},
       "output_type": "pyout",
       "prompt_number": 15,
       "text": [
        "3x6 Array{Float64,2}:\n",
        " 1.0  1.0  1.0  1.0  1.0  1.0\n",
        " 1.0  1.0  1.0  1.0  1.0  1.0\n",
        " 1.0  1.0  1.0  1.0  1.0  1.0"
       ]
      }
     ],
     "prompt_number": 15
    },
    {
     "cell_type": "markdown",
     "metadata": {},
     "source": [
      "[4] \u00bfQu\u00e9 pasa si intentas acceder a elementos de una matriz? \u00bfC\u00f3mo se accede al elemento $M_{2,1}$ de una matriz $M$?"
     ]
    },
    {
     "cell_type": "code",
     "collapsed": false,
     "input": [
      "M[2,2]"
     ],
     "language": "python",
     "metadata": {},
     "outputs": [
      {
       "metadata": {},
       "output_type": "pyout",
       "prompt_number": 17,
       "text": [
        "4"
       ]
      }
     ],
     "prompt_number": 17
    },
    {
     "cell_type": "heading",
     "level": 2,
     "metadata": {},
     "source": [
      "Operaciones con matrices"
     ]
    },
    {
     "cell_type": "markdown",
     "metadata": {},
     "source": [
      "[5] Investiga cu\u00e1les operaciones b\u00e1sicas est\u00e1n disponibles para matrices."
     ]
    },
    {
     "cell_type": "code",
     "collapsed": false,
     "input": [
      "M=[2  4 6; 1 3 5; -1 -1 -1]"
     ],
     "language": "python",
     "metadata": {},
     "outputs": [
      {
       "metadata": {},
       "output_type": "pyout",
       "prompt_number": 18,
       "text": [
        "3x3 Array{Int64,2}:\n",
        "  2   4   6\n",
        "  1   3   5\n",
        " -1  -1  -1"
       ]
      }
     ],
     "prompt_number": 18
    },
    {
     "cell_type": "code",
     "collapsed": false,
     "input": [
      "M2="
     ],
     "language": "python",
     "metadata": {},
     "outputs": []
    },
    {
     "cell_type": "code",
     "collapsed": false,
     "input": [],
     "language": "python",
     "metadata": {},
     "outputs": []
    },
    {
     "cell_type": "markdown",
     "metadata": {},
     "source": []
    }
   ],
   "metadata": {}
  }
 ]
}