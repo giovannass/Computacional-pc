{
 "metadata": {
  "language": "Julia",
  "name": "",
  "signature": "sha256:dc1fb41378bddd4c2729b791250841bf15c1ec02940009ef92c4427e84f0972f"
 },
 "nbformat": 3,
 "nbformat_minor": 0,
 "worksheets": [
  {
   "cells": [
    {
     "cell_type": "heading",
     "level": 1,
     "metadata": {},
     "source": [
      "Paquetes"
     ]
    },
    {
     "cell_type": "markdown",
     "metadata": {},
     "source": [
      "Nueva funcionalidad en Julia se adquiere a trav\u00e9s de *paquetes*, que son b\u00e1sicamente archivos de Julia que definen funciones nuevas.\n",
      "\n",
      "El gestor de paquetes se llama `Pkg`. Conoce la ubicaci\u00f3n de todos los paquetes ya registrados. Para actualizarlo hacemos:"
     ]
    },
    {
     "cell_type": "code",
     "collapsed": false,
     "input": [
      "Pkg.update()"
     ],
     "language": "python",
     "metadata": {},
     "outputs": [
      {
       "output_type": "stream",
       "stream": "stderr",
       "text": [
        "INFO: Updating METADATA...\n"
       ]
      },
      {
       "output_type": "stream",
       "stream": "stderr",
       "text": [
        "INFO: Updating cache of FixedPointNumbers...\n"
       ]
      },
      {
       "output_type": "stream",
       "stream": "stderr",
       "text": [
        "INFO: Updating cache of PyPlot...\n"
       ]
      },
      {
       "output_type": "stream",
       "stream": "stderr",
       "text": [
        "INFO: Updating cache of Lazy...\n",
        "INFO: Updating cache of PDMats...\n"
       ]
      },
      {
       "output_type": "stream",
       "stream": "stderr",
       "text": [
        "INFO: Updating cache of Jewel...\n"
       ]
      },
      {
       "output_type": "stream",
       "stream": "stderr",
       "text": [
        "INFO: Updating cache of IJulia...\n"
       ]
      },
      {
       "output_type": "stream",
       "stream": "stderr",
       "text": [
        "INFO: Updating cache of Homebrew...\n"
       ]
      },
      {
       "output_type": "stream",
       "stream": "stderr",
       "text": [
        "INFO: Updating cache of BinDeps...\n",
        "INFO: Updating cache of Color...\n"
       ]
      },
      {
       "output_type": "stream",
       "stream": "stderr",
       "text": [
        "INFO: Updating cache of StatsBase...\n"
       ]
      },
      {
       "output_type": "stream",
       "stream": "stderr",
       "text": [
        "INFO: Computing changes...\n"
       ]
      },
      {
       "output_type": "stream",
       "stream": "stderr",
       "text": [
        "INFO: Cloning cache of Compose from git://github.com/dcjones/Compose.jl.git\n"
       ]
      },
      {
       "output_type": "stream",
       "stream": "stderr",
       "text": [
        "INFO: Cloning cache of FactCheck from git://github.com/zachallaun/FactCheck.jl.git\n"
       ]
      },
      {
       "output_type": "stream",
       "stream": "stderr",
       "text": [
        "INFO: Cloning cache of Iterators from git://github.com/JuliaLang/Iterators.jl.git\n"
       ]
      },
      {
       "output_type": "stream",
       "stream": "stderr",
       "text": [
        "INFO: Cloning cache of JuliaParser from git://github.com/jakebolewski/JuliaParser.jl.git\n"
       ]
      },
      {
       "output_type": "stream",
       "stream": "stderr",
       "text": [
        "INFO: Cloning cache of SHA from git://github.com/staticfloat/SHA.jl.git\n"
       ]
      },
      {
       "output_type": "stream",
       "stream": "stderr",
       "text": [
        "INFO: Upgrading BinDeps: v0.2.14 => v0.3.3\n"
       ]
      },
      {
       "output_type": "stream",
       "stream": "stderr",
       "text": [
        "INFO: Upgrading Color: v0.3.1- => v0.3.3\n"
       ]
      },
      {
       "output_type": "stream",
       "stream": "stderr",
       "text": [
        "INFO: Installing Compose v0.3.6\n"
       ]
      },
      {
       "output_type": "stream",
       "stream": "stderr",
       "text": [
        "INFO: Installing FactCheck v0.1.2\n"
       ]
      },
      {
       "output_type": "stream",
       "stream": "stderr",
       "text": [
        "INFO: Upgrading FixedPointNumbers: v0.0.1 => v0.0.2\n"
       ]
      },
      {
       "output_type": "stream",
       "stream": "stderr",
       "text": [
        "INFO: Upgrading Homebrew: v0.1.8 => v0.1.9\n"
       ]
      },
      {
       "output_type": "stream",
       "stream": "stderr",
       "text": [
        "INFO: Upgrading IJulia: v0.1.12 => v0.1.13\n"
       ]
      },
      {
       "output_type": "stream",
       "stream": "stderr",
       "text": [
        "INFO: Installing Iterators v0.1.6\n"
       ]
      },
      {
       "output_type": "stream",
       "stream": "stderr",
       "text": [
        "INFO: Upgrading Jewel: v0.6.4 => v0.7.0\n"
       ]
      },
      {
       "output_type": "stream",
       "stream": "stderr",
       "text": [
        "INFO: Installing JuliaParser v0.5.2\n"
       ]
      },
      {
       "output_type": "stream",
       "stream": "stderr",
       "text": [
        "INFO: Upgrading Lazy: v0.4.1 => v0.4.3\n"
       ]
      },
      {
       "output_type": "stream",
       "stream": "stderr",
       "text": [
        "INFO: Upgrading PDMats: v0.2.3 => v0.2.4\n"
       ]
      },
      {
       "output_type": "stream",
       "stream": "stderr",
       "text": [
        "INFO: Upgrading PyPlot: v1.2.10 => v1.3.0\n"
       ]
      },
      {
       "output_type": "stream",
       "stream": "stderr",
       "text": [
        "INFO: Installing SHA v0.0.2\n"
       ]
      },
      {
       "output_type": "stream",
       "stream": "stderr",
       "text": [
        "INFO: Upgrading StatsBase: v0.6.3 => v0.6.4\n"
       ]
      },
      {
       "output_type": "stream",
       "stream": "stderr",
       "text": [
        "INFO: Building Homebrew\n"
       ]
      },
      {
       "output_type": "stream",
       "stream": "stderr",
       "text": [
        "From https://github.com/Homebrew/homebrew\n",
        "   d866e83..b12f856  master     -> origin/master\n"
       ]
      },
      {
       "output_type": "stream",
       "stream": "stdout",
       "text": [
        "HEAD is now at b12f856 gnutls: update 3.2.17 bottle.\n"
       ]
      },
      {
       "output_type": "stream",
       "stream": "stdout",
       "text": [
        "HEAD is now at 4c5030e Add bottles for newly versioned glpk formulae\n"
       ]
      },
      {
       "output_type": "stream",
       "stream": "stderr",
       "text": [
        "INFO: Building Nettle\n"
       ]
      },
      {
       "output_type": "stream",
       "stream": "stderr",
       "text": [
        "INFO: Building ZMQ\n"
       ]
      },
      {
       "output_type": "stream",
       "stream": "stderr",
       "text": [
        "INFO: Building IJulia\n"
       ]
      },
      {
       "output_type": "stream",
       "stream": "stderr",
       "text": [
        "Found IPython version 2.1.0 ... ok.\n"
       ]
      },
      {
       "output_type": "stream",
       "stream": "stderr",
       "text": [
        "Creating julia profile in IPython...\n"
       ]
      },
      {
       "output_type": "stream",
       "stream": "stderr",
       "text": [
        "(Existing KernelManager.kernel_cmd setting in ipython_config.py is untouched.)\n"
       ]
      },
      {
       "output_type": "stream",
       "stream": "stderr",
       "text": [
        "(Existing IPythonWidget.execute_on_complete_input setting in ipython_qtconsole_config.py is untouched.)\n",
        "(Existing FrontendWidget.lexer_class setting in ipython_qtconsole_config.py is untouched.)\n",
        "(Existing NotebookApp.port setting in ipython_notebook_config.py is untouched.)\n",
        "(Existing ipynblogo.png file untouched.)"
       ]
      },
      {
       "output_type": "stream",
       "stream": "stderr",
       "text": [
        "\n",
        "(Existing ipynblogo.svg file untouched.)\n",
        "(Existing favicon.ico file untouched.)\n",
        "Copying custom.js to Julia IPython profile.\n",
        "(Existing julia.js file untouched.)\n"
       ]
      },
      {
       "ename": "LoadError",
       "evalue": "D not defined\nwhile loading In[1], in expression starting on line 1",
       "output_type": "pyerr",
       "traceback": [
        "D not defined\nwhile loading In[1], in expression starting on line 1"
       ]
      }
     ],
     "prompt_number": 1
    },
    {
     "cell_type": "markdown",
     "metadata": {},
     "source": [
      "Para agregar un paquete nuevo, ponemos:"
     ]
    },
    {
     "cell_type": "code",
     "collapsed": false,
     "input": [
      "Pkg.add(\"Interact\")"
     ],
     "language": "python",
     "metadata": {},
     "outputs": [
      {
       "output_type": "stream",
       "stream": "stderr",
       "text": [
        "INFO: Cloning cache of Interact from git://github.com/shashi/Interact.jl.git\n"
       ]
      },
      {
       "output_type": "stream",
       "stream": "stderr",
       "text": [
        "INFO: Cloning cache of React from git://github.com/shashi/React.jl.git\n"
       ]
      },
      {
       "output_type": "stream",
       "stream": "stderr",
       "text": [
        "INFO: Installing Interact v0.1.2\n"
       ]
      },
      {
       "output_type": "stream",
       "stream": "stderr",
       "text": [
        "INFO: Installing React v0.1.6\n"
       ]
      },
      {
       "output_type": "stream",
       "stream": "stderr",
       "text": [
        "INFO: Package database updated\n"
       ]
      }
     ],
     "prompt_number": 2
    },
    {
     "cell_type": "heading",
     "level": 1,
     "metadata": {},
     "source": [
      "Interactividad"
     ]
    },
    {
     "cell_type": "markdown",
     "metadata": {},
     "source": [
      "Una adici\u00f3n muy reciente a IJulia es la interactividad a trav\u00e9s de `Interact.jl`. Lo cargamos con:"
     ]
    },
    {
     "cell_type": "code",
     "collapsed": false,
     "input": [
      "using Interact"
     ],
     "language": "python",
     "metadata": {},
     "outputs": [
      {
       "html": [
        "<script charset=\"utf-8\">(function ($, undefined) {\n",
        "\n",
        "    function createElem(tag, attr, content) {\n",
        "\t// TODO: remove jQuery dependency\n",
        "\tvar el = $(\"<\" + tag + \"/>\").attr(attr);\n",
        "\tif (content) {\n",
        "\t    el.append(content);\n",
        "\t}\n",
        "\treturn el[0];\n",
        "    }\n",
        "\n",
        "    // A widget must expose an id field which identifies it to the backend,\n",
        "    // an elem attribute which is will be added to the DOM, and\n",
        "    // a getState() method which returns the value to be sent to the backend\n",
        "    // a sendUpdate() method which sends its current value to the backend\n",
        "    var Widget = {\n",
        "\tid: undefined,\n",
        "\telem: undefined,\n",
        "\tlabel: undefined,\n",
        "\tgetState: function () {\n",
        "\t    return this.elem.value;\n",
        "\t},\n",
        "\tsendUpdate: undefined\n",
        "    };\n",
        "\n",
        "    var Slider = function (typ, id, init) {\n",
        "\tvar attr = { type:  \"range\",\n",
        "\t\t     value: init.value,\n",
        "\t\t     min:   init.min,\n",
        "\t\t     max:   init.max,\n",
        "\t\t     step:  init.step },\n",
        "\t    elem = createElem(\"input\", attr),\n",
        "\t    self = this;\n",
        "\n",
        "\telem.onchange = function () {\n",
        "\t    self.sendUpdate();\n",
        "\t}\n",
        "\n",
        "\tthis.id = id;\n",
        "\tthis.elem = elem;\n",
        "\tthis.label = init.label;\n",
        "\n",
        "\tInputWidgets.commInitializer(this); // Initialize communication\n",
        "    }\n",
        "    Slider.prototype = Widget;\n",
        "\n",
        "    var Checkbox = function (typ, id, init) {\n",
        "\tvar attr = { type: \"checkbox\",\n",
        "\t\t     checked: init.value },\n",
        "\t    elem = createElem(\"input\", attr),\n",
        "\t    self = this;\n",
        "\n",
        "\tthis.getState = function () {\n",
        "\t    return elem.checked;\n",
        "\t}\n",
        "\telem.onchange = function () {\n",
        "\t    self.sendUpdate();\n",
        "\t}\n",
        "\n",
        "\tthis.id = id;\n",
        "\tthis.elem = elem;\n",
        "\tthis.label = init.label;\n",
        "\n",
        "\tInputWidgets.commInitializer(this);\n",
        "    }\n",
        "    Checkbox.prototype = Widget;\n",
        "\n",
        "    var Button = function (typ, id, init) {\n",
        "\tvar attr = { type:    \"button\",\n",
        "\t\t     value:   init.label },\n",
        "\t    elem = createElem(\"input\", attr),\n",
        "\t    self = this;\n",
        "\tthis.getState = function () {\n",
        "\t    return null;\n",
        "\t}\n",
        "\telem.onclick = function () {\n",
        "\t    self.sendUpdate();\n",
        "\t}\n",
        "\n",
        "\tthis.id = id;\n",
        "\tthis.elem = elem;\n",
        "\tthis.label = init.label;\n",
        "\n",
        "\tInputWidgets.commInitializer(this);\n",
        "    }\n",
        "    Button.prototype = Widget;\n",
        "\n",
        "    var Text = function (typ, id, init) {\n",
        "\tvar attr = { type:  \"text\",\n",
        "\t\t     placeholder: init.label,\n",
        "\t\t     value: init.value },\n",
        "\t    elem = createElem(\"input\", attr),\n",
        "\t    self = this;\n",
        "\tthis.getState = function () {\n",
        "\t    return elem.value;\n",
        "\t}\n",
        "\telem.onkeyup = function () {\n",
        "\t    self.sendUpdate();\n",
        "\t}\n",
        "\n",
        "\tthis.id = id;\n",
        "\tthis.elem = elem;\n",
        "\tthis.label = init.label;\n",
        "\n",
        "\tInputWidgets.commInitializer(this);\n",
        "    }\n",
        "    Text.prototype = Widget;\n",
        "\n",
        "    var Textarea = function (typ, id, init) {\n",
        "\tvar attr = { placeholder: init.label },\n",
        "\t    elem = createElem(\"textarea\", attr, init.value),\n",
        "\t    self = this;\n",
        "\tthis.getState = function () {\n",
        "\t    return elem.value;\n",
        "\t}\n",
        "\telem.onchange = function () {\n",
        "\t    self.sendUpdate();\n",
        "\t}\n",
        "\n",
        "\tthis.id = id;\n",
        "\tthis.elem = elem;\n",
        "\tthis.label = init.label;\n",
        "\n",
        "\tInputWidgets.commInitializer(this);\n",
        "    }\n",
        "    Textarea.prototype = Widget;\n",
        "\n",
        "    // RadioButtons\n",
        "    // Dropdown\n",
        "    // HTML\n",
        "    // Latex\n",
        "\n",
        "    var InputWidgets = {\n",
        "\tSlider: Slider,\n",
        "\tCheckbox: Checkbox,\n",
        "\tButton: Button,\n",
        "\tText: Text,\n",
        "\tTextarea: Textarea,\n",
        "\tdebug: false,\n",
        "\tlog: function () {\n",
        "\t    if (InputWidgets.debug) {\n",
        "\t\tconsole.log.apply(console, arguments);\n",
        "\t    }\n",
        "\t},\n",
        "\t// a central way to initalize communication\n",
        "\t// for widgets.\n",
        "\tcommInitializer: function (widget) {\n",
        "\t    widget.sendUpdate = function () {};\n",
        "\t}\n",
        "    };\n",
        "\n",
        "    window.InputWidgets = InputWidgets;\n",
        "\n",
        "})(jQuery, undefined);\n",
        "</script>"
       ],
       "metadata": {},
       "output_type": "display_data"
      },
      {
       "html": [
        "<script charset=\"utf-8\">(function (IPython, $, _, Widgets) {\n",
        "    $.event.special.destroyed = {\n",
        "\tremove: function(o) {\n",
        "\t    if (o.handler) {\n",
        "\t\to.handler.apply(this, arguments)\n",
        "\t    }\n",
        "\t}\n",
        "    }\n",
        "\n",
        "    $(document).ready(function() {\n",
        "\tWidgets.debug = false; // log messages etc in console.\n",
        "\tfunction initComm(evt, data) {\n",
        "\t    var comm_manager = data.kernel.comm_manager;\n",
        "\t    comm_manager.register_target(\"Signal\", function (comm) {\n",
        "\t\tcomm.on_msg(function (msg) {\n",
        "\t\t    //Widgets.log(\"message received\", msg);\n",
        "\t\t    var val = msg.content.data.value;\n",
        "\t\t    $(\".signal-\" + comm.comm_id).each(function() {\n",
        "\t\t\tvar self = this;\n",
        "\t\t\tvar type = $(this).data(\"type\");\n",
        "\t\t\tif (val[type]) {\n",
        "\t\t\t    var selector = $(self).empty();\n",
        "\t\t\t    var oa = new IPython.OutputArea(_.extend(selector, {\n",
        "\t\t\t\tselector: selector,\n",
        "\t\t\t\tprompt_area: true,\n",
        "\t\t\t\tevents: IPython.events,\n",
        "\t\t\t\tkeyboard_manager: IPython.keyboard_manager\n",
        "\t\t\t    })); // Hack to work with IPython 2.1.0\n",
        "\t\t\t    var toinsert = IPython.OutputArea.append_map[type].apply(\n",
        "\t\t\t\toa, [val[type], {}, selector]\n",
        "\t\t\t    );\n",
        "\t\t\t    delete toinsert;\n",
        "\t\t\t}\n",
        "\t\t    });\n",
        "\t\t    delete val;\n",
        "\t\t    delete msg.content.data.value;\n",
        "\t\t});\n",
        "\t    });\n",
        "\n",
        "\t    // coordingate with Comm and redraw Signals\n",
        "\t    // XXX: Test using React here to improve performance\n",
        "\t    $([IPython.events]).on(\n",
        "\t\t'output_appended.OutputArea', function (event, type, value, md, toinsert) {\n",
        "\t\t    if (md && md.reactive) {\n",
        "\t\t\t// console.log(md.comm_id);\n",
        "\t\t\ttoinsert.addClass(\"signal-\" + md.comm_id);\n",
        "\t\t\ttoinsert.data(\"type\", type);\n",
        "\t\t\t// Signal back indicating the mimetype required\n",
        "\t\t\tvar comm_manager = IPython.notebook.kernel.comm_manager;\n",
        "\t\t\tvar comm = comm_manager.comms[md.comm_id];\n",
        "\t\t\tcomm.send({action: \"subscribe_mime\",\n",
        "\t\t\t\t   mime: type});\n",
        "\t\t\ttoinsert.bind(\"destroyed\", function() {\n",
        "\t\t\t    comm.send({action: \"unsubscribe_mime\",\n",
        "\t\t\t\t       mime: type});\n",
        "\t\t\t});\n",
        "\t\t    }\n",
        "\t    });\n",
        "\n",
        "\t    // Set up communication for Widgets\n",
        "\t    Widgets.commInitializer = function (widget) {\n",
        "\t\tvar comm = comm_manager.new_comm(\n",
        "\t\t    \"InputWidget\", {widget_id: widget.id}\n",
        "\t\t);\n",
        "\t\twidget.sendUpdate = function () {\n",
        "\t\t    // `this` is a widget here.\n",
        "\t\t    // TODO: I have a feeling there's some\n",
        "\t\t    //       IPython bookkeeping to be done here.\n",
        "\t\t    // Widgets.log(\"State changed\", this, this.getState());\n",
        "\t\t    comm.send({value: this.getState()});\n",
        "\t\t}\n",
        "\t    };\n",
        "\t}\n",
        "\n",
        "\ttry {\n",
        "\t    // try to initialize right away. otherwise, wait on the status_started event.\n",
        "\t    initComm(undefined, IPython.notebook);\n",
        "\t} catch (e) {\n",
        "\t    $([IPython.events]).on('status_started.Kernel', initComm);\n",
        "\t}\n",
        "    });\n",
        "})(IPython, jQuery, _, InputWidgets);\n",
        "</script>"
       ],
       "metadata": {},
       "output_type": "display_data"
      },
      {
       "ename": "LoadError",
       "evalue": "CommManager not defined\nwhile loading /Users/dsanders/.julia/Interact/src/IJulia/setup.jl, in expression starting on line 22\nwhile loading /Users/dsanders/.julia/Interact/src/Interact.jl, in expression starting on line 88\nwhile loading In[3], in expression starting on line 1",
       "output_type": "pyerr",
       "traceback": [
        "CommManager not defined\nwhile loading /Users/dsanders/.julia/Interact/src/IJulia/setup.jl, in expression starting on line 22\nwhile loading /Users/dsanders/.julia/Interact/src/Interact.jl, in expression starting on line 88\nwhile loading In[3], in expression starting on line 1",
        " in include at ./boot.jl:245",
        " in include_from_node1 at ./loading.jl:128",
        " in include at ./boot.jl:245",
        " in include_from_node1 at ./loading.jl:128",
        " in reload_path at loading.jl:152",
        " in _require at loading.jl:67",
        " in require at loading.jl:51"
       ]
      }
     ],
     "prompt_number": 3
    },
    {
     "cell_type": "markdown",
     "metadata": {},
     "source": [
      "Si te sale el mensaje arriba, creo que quiere decir que el entorno est\u00e1 desactualizado. Ahora dentro del directorio `.julia` en tu directorio hogar, donde se guardan los paquetes, se deber\u00eda guardar en el subdirectorio `v0.3` (es decir, versi\u00f3n 0.3.) Al parecer, la soluci\u00f3n es *borrar* ese directorio y reinstalar todos los paquetes desde Julia. En Linux y Mac esto se puede hacer desde el mismo IJulia, usando `;`, que manda comandos a la terminal / shell / Bash, como sigue. \u00a1Ten *mucho* cuidado con este comando!"
     ]
    },
    {
     "cell_type": "code",
     "collapsed": false,
     "input": [
      "; rm -r ~/.julia  "
     ],
     "language": "python",
     "metadata": {},
     "outputs": [],
     "prompt_number": 4
    },
    {
     "cell_type": "code",
     "collapsed": false,
     "input": [
      "Pkg.add(\"Interact\")"
     ],
     "language": "python",
     "metadata": {},
     "outputs": [
      {
       "output_type": "stream",
       "stream": "stderr",
       "text": [
        "INFO: Initializing package repository /Users/dsanders/.julia/v0.3\n",
        "INFO: Cloning METADATA from git://github.com/JuliaLang/METADATA.jl\n"
       ]
      },
      {
       "output_type": "stream",
       "stream": "stderr",
       "text": [
        "INFO: Cloning cache of DataStructures from git://github.com/JuliaLang/DataStructures.jl.git\n"
       ]
      },
      {
       "output_type": "stream",
       "stream": "stderr",
       "text": [
        "INFO: Cloning cache of Interact from git://github.com/shashi/Interact.jl.git\n"
       ]
      },
      {
       "output_type": "stream",
       "stream": "stderr",
       "text": [
        "INFO: Cloning cache of React from git://github.com/shashi/React.jl.git\n"
       ]
      },
      {
       "output_type": "stream",
       "stream": "stderr",
       "text": [
        "INFO: Installing DataStructures v0.3.1\n"
       ]
      },
      {
       "output_type": "stream",
       "stream": "stderr",
       "text": [
        "INFO: Installing Interact v0.1.2\n"
       ]
      },
      {
       "output_type": "stream",
       "stream": "stderr",
       "text": [
        "INFO: Installing React v0.1.6\n"
       ]
      },
      {
       "output_type": "stream",
       "stream": "stderr",
       "text": [
        "INFO: Package database updated\n"
       ]
      }
     ],
     "prompt_number": 5
    },
    {
     "cell_type": "markdown",
     "metadata": {},
     "source": [
      "`Interact.jl` provee el comando (macro) `@manipulate`. Cargamos el paquete con"
     ]
    },
    {
     "cell_type": "code",
     "collapsed": false,
     "input": [
      "using Interact"
     ],
     "language": "python",
     "metadata": {},
     "outputs": [
      {
       "html": [
        "<script charset=\"utf-8\">(function ($, undefined) {\n",
        "\n",
        "    function createElem(tag, attr, content) {\n",
        "\t// TODO: remove jQuery dependency\n",
        "\tvar el = $(\"<\" + tag + \"/>\").attr(attr);\n",
        "\tif (content) {\n",
        "\t    el.append(content);\n",
        "\t}\n",
        "\treturn el[0];\n",
        "    }\n",
        "\n",
        "    // A widget must expose an id field which identifies it to the backend,\n",
        "    // an elem attribute which is will be added to the DOM, and\n",
        "    // a getState() method which returns the value to be sent to the backend\n",
        "    // a sendUpdate() method which sends its current value to the backend\n",
        "    var Widget = {\n",
        "\tid: undefined,\n",
        "\telem: undefined,\n",
        "\tlabel: undefined,\n",
        "\tgetState: function () {\n",
        "\t    return this.elem.value;\n",
        "\t},\n",
        "\tsendUpdate: undefined\n",
        "    };\n",
        "\n",
        "    var Slider = function (typ, id, init) {\n",
        "\tvar attr = { type:  \"range\",\n",
        "\t\t     value: init.value,\n",
        "\t\t     min:   init.min,\n",
        "\t\t     max:   init.max,\n",
        "\t\t     step:  init.step },\n",
        "\t    elem = createElem(\"input\", attr),\n",
        "\t    self = this;\n",
        "\n",
        "\telem.onchange = function () {\n",
        "\t    self.sendUpdate();\n",
        "\t}\n",
        "\n",
        "\tthis.id = id;\n",
        "\tthis.elem = elem;\n",
        "\tthis.label = init.label;\n",
        "\n",
        "\tInputWidgets.commInitializer(this); // Initialize communication\n",
        "    }\n",
        "    Slider.prototype = Widget;\n",
        "\n",
        "    var Checkbox = function (typ, id, init) {\n",
        "\tvar attr = { type: \"checkbox\",\n",
        "\t\t     checked: init.value },\n",
        "\t    elem = createElem(\"input\", attr),\n",
        "\t    self = this;\n",
        "\n",
        "\tthis.getState = function () {\n",
        "\t    return elem.checked;\n",
        "\t}\n",
        "\telem.onchange = function () {\n",
        "\t    self.sendUpdate();\n",
        "\t}\n",
        "\n",
        "\tthis.id = id;\n",
        "\tthis.elem = elem;\n",
        "\tthis.label = init.label;\n",
        "\n",
        "\tInputWidgets.commInitializer(this);\n",
        "    }\n",
        "    Checkbox.prototype = Widget;\n",
        "\n",
        "    var Button = function (typ, id, init) {\n",
        "\tvar attr = { type:    \"button\",\n",
        "\t\t     value:   init.label },\n",
        "\t    elem = createElem(\"input\", attr),\n",
        "\t    self = this;\n",
        "\tthis.getState = function () {\n",
        "\t    return null;\n",
        "\t}\n",
        "\telem.onclick = function () {\n",
        "\t    self.sendUpdate();\n",
        "\t}\n",
        "\n",
        "\tthis.id = id;\n",
        "\tthis.elem = elem;\n",
        "\tthis.label = init.label;\n",
        "\n",
        "\tInputWidgets.commInitializer(this);\n",
        "    }\n",
        "    Button.prototype = Widget;\n",
        "\n",
        "    var Text = function (typ, id, init) {\n",
        "\tvar attr = { type:  \"text\",\n",
        "\t\t     placeholder: init.label,\n",
        "\t\t     value: init.value },\n",
        "\t    elem = createElem(\"input\", attr),\n",
        "\t    self = this;\n",
        "\tthis.getState = function () {\n",
        "\t    return elem.value;\n",
        "\t}\n",
        "\telem.onkeyup = function () {\n",
        "\t    self.sendUpdate();\n",
        "\t}\n",
        "\n",
        "\tthis.id = id;\n",
        "\tthis.elem = elem;\n",
        "\tthis.label = init.label;\n",
        "\n",
        "\tInputWidgets.commInitializer(this);\n",
        "    }\n",
        "    Text.prototype = Widget;\n",
        "\n",
        "    var Textarea = function (typ, id, init) {\n",
        "\tvar attr = { placeholder: init.label },\n",
        "\t    elem = createElem(\"textarea\", attr, init.value),\n",
        "\t    self = this;\n",
        "\tthis.getState = function () {\n",
        "\t    return elem.value;\n",
        "\t}\n",
        "\telem.onchange = function () {\n",
        "\t    self.sendUpdate();\n",
        "\t}\n",
        "\n",
        "\tthis.id = id;\n",
        "\tthis.elem = elem;\n",
        "\tthis.label = init.label;\n",
        "\n",
        "\tInputWidgets.commInitializer(this);\n",
        "    }\n",
        "    Textarea.prototype = Widget;\n",
        "\n",
        "    // RadioButtons\n",
        "    // Dropdown\n",
        "    // HTML\n",
        "    // Latex\n",
        "\n",
        "    var InputWidgets = {\n",
        "\tSlider: Slider,\n",
        "\tCheckbox: Checkbox,\n",
        "\tButton: Button,\n",
        "\tText: Text,\n",
        "\tTextarea: Textarea,\n",
        "\tdebug: false,\n",
        "\tlog: function () {\n",
        "\t    if (InputWidgets.debug) {\n",
        "\t\tconsole.log.apply(console, arguments);\n",
        "\t    }\n",
        "\t},\n",
        "\t// a central way to initalize communication\n",
        "\t// for widgets.\n",
        "\tcommInitializer: function (widget) {\n",
        "\t    widget.sendUpdate = function () {};\n",
        "\t}\n",
        "    };\n",
        "\n",
        "    window.InputWidgets = InputWidgets;\n",
        "\n",
        "})(jQuery, undefined);\n",
        "</script>"
       ],
       "metadata": {},
       "output_type": "display_data"
      },
      {
       "html": [
        "<script charset=\"utf-8\">(function (IPython, $, _, Widgets) {\n",
        "    $.event.special.destroyed = {\n",
        "\tremove: function(o) {\n",
        "\t    if (o.handler) {\n",
        "\t\to.handler.apply(this, arguments)\n",
        "\t    }\n",
        "\t}\n",
        "    }\n",
        "\n",
        "    $(document).ready(function() {\n",
        "\tWidgets.debug = false; // log messages etc in console.\n",
        "\tfunction initComm(evt, data) {\n",
        "\t    var comm_manager = data.kernel.comm_manager;\n",
        "\t    comm_manager.register_target(\"Signal\", function (comm) {\n",
        "\t\tcomm.on_msg(function (msg) {\n",
        "\t\t    //Widgets.log(\"message received\", msg);\n",
        "\t\t    var val = msg.content.data.value;\n",
        "\t\t    $(\".signal-\" + comm.comm_id).each(function() {\n",
        "\t\t\tvar self = this;\n",
        "\t\t\tvar type = $(this).data(\"type\");\n",
        "\t\t\tif (val[type]) {\n",
        "\t\t\t    var selector = $(self).empty();\n",
        "\t\t\t    var oa = new IPython.OutputArea(_.extend(selector, {\n",
        "\t\t\t\tselector: selector,\n",
        "\t\t\t\tprompt_area: true,\n",
        "\t\t\t\tevents: IPython.events,\n",
        "\t\t\t\tkeyboard_manager: IPython.keyboard_manager\n",
        "\t\t\t    })); // Hack to work with IPython 2.1.0\n",
        "\t\t\t    var toinsert = IPython.OutputArea.append_map[type].apply(\n",
        "\t\t\t\toa, [val[type], {}, selector]\n",
        "\t\t\t    );\n",
        "\t\t\t    delete toinsert;\n",
        "\t\t\t}\n",
        "\t\t    });\n",
        "\t\t    delete val;\n",
        "\t\t    delete msg.content.data.value;\n",
        "\t\t});\n",
        "\t    });\n",
        "\n",
        "\t    // coordingate with Comm and redraw Signals\n",
        "\t    // XXX: Test using React here to improve performance\n",
        "\t    $([IPython.events]).on(\n",
        "\t\t'output_appended.OutputArea', function (event, type, value, md, toinsert) {\n",
        "\t\t    if (md && md.reactive) {\n",
        "\t\t\t// console.log(md.comm_id);\n",
        "\t\t\ttoinsert.addClass(\"signal-\" + md.comm_id);\n",
        "\t\t\ttoinsert.data(\"type\", type);\n",
        "\t\t\t// Signal back indicating the mimetype required\n",
        "\t\t\tvar comm_manager = IPython.notebook.kernel.comm_manager;\n",
        "\t\t\tvar comm = comm_manager.comms[md.comm_id];\n",
        "\t\t\tcomm.send({action: \"subscribe_mime\",\n",
        "\t\t\t\t   mime: type});\n",
        "\t\t\ttoinsert.bind(\"destroyed\", function() {\n",
        "\t\t\t    comm.send({action: \"unsubscribe_mime\",\n",
        "\t\t\t\t       mime: type});\n",
        "\t\t\t});\n",
        "\t\t    }\n",
        "\t    });\n",
        "\n",
        "\t    // Set up communication for Widgets\n",
        "\t    Widgets.commInitializer = function (widget) {\n",
        "\t\tvar comm = comm_manager.new_comm(\n",
        "\t\t    \"InputWidget\", {widget_id: widget.id}\n",
        "\t\t);\n",
        "\t\twidget.sendUpdate = function () {\n",
        "\t\t    // `this` is a widget here.\n",
        "\t\t    // TODO: I have a feeling there's some\n",
        "\t\t    //       IPython bookkeeping to be done here.\n",
        "\t\t    // Widgets.log(\"State changed\", this, this.getState());\n",
        "\t\t    comm.send({value: this.getState()});\n",
        "\t\t}\n",
        "\t    };\n",
        "\t}\n",
        "\n",
        "\ttry {\n",
        "\t    // try to initialize right away. otherwise, wait on the status_started event.\n",
        "\t    initComm(undefined, IPython.notebook);\n",
        "\t} catch (e) {\n",
        "\t    $([IPython.events]).on('status_started.Kernel', initComm);\n",
        "\t}\n",
        "    });\n",
        "})(IPython, jQuery, _, InputWidgets);\n",
        "</script>"
       ],
       "metadata": {},
       "output_type": "display_data"
      }
     ],
     "prompt_number": 2
    },
    {
     "cell_type": "markdown",
     "metadata": {},
     "source": [
      "Esto hace disponible varios nombres, incluyendo `@manipulate`:"
     ]
    },
    {
     "cell_type": "code",
     "collapsed": false,
     "input": [],
     "language": "python",
     "metadata": {},
     "outputs": []
    },
    {
     "cell_type": "code",
     "collapsed": false,
     "input": [
      "@manipulate for x in -3:0.1:3\n",
      "    x^2\n",
      "end"
     ],
     "language": "python",
     "metadata": {},
     "outputs": [
      {
       "html": [
        "<div class=\"input-widget slider\"  id=\"widget-ef0d430e-44c0-4c0c-a631-2ccf8af57779\"></div><script>(function($,W) {$('#widget-ef0d430e-44c0-4c0c-a631-2ccf8af57779').empty().append((new W.Slider(\"Float64\",\"ef0d430e-44c0-4c0c-a631-2ccf8af57779\",{\"range\":[-3.0,-2.9,-2.8,-2.7,-2.6,-2.5,-2.4,-2.3,-2.2,-2.1,-2.0,-1.9,-1.8,-1.7,-1.6,-1.5,-1.4,-1.3,-1.2,-1.1,-1.0,-0.9,-0.8,-0.7,-0.6,-0.5,-0.4,-0.3,-0.2,-0.1,0.0,0.1,0.2,0.3,0.4,0.5,0.6,0.7,0.8,0.9,1.0,1.1,1.2,1.3,1.4,1.5,1.6,1.7,1.8,1.9,2.0,2.1,2.2,2.3,2.4,2.5,2.6,2.7,2.8,2.9,3.0],\"value\":0.0})).elem);})(jQuery,InputWidgets)</script>"
       ],
       "metadata": {},
       "output_type": "display_data",
       "text": [
        "Slider{Float64}([Input{Float64}] 0.0,\"x\",0.0,-3.0:0.1:3.0)"
       ]
      },
      {
       "metadata": {},
       "output_type": "pyout",
       "prompt_number": 10,
       "text": [
        "0.0"
       ]
      },
      {
       "ename": "KeyError",
       "evalue": "key not found: \"comm_open\"",
       "output_type": "pyerr",
       "traceback": [
        "KERNEL EXCEPTION",
        "key not found: \"comm_open\"",
        " in eventloop at /Users/dsanders/.julia/IJulia/src/IJulia.jl:74",
        " in anonymous at task.jl:340"
       ]
      }
     ],
     "prompt_number": 10
    },
    {
     "cell_type": "markdown",
     "metadata": {},
     "source": [
      "Si sale esto, probablemente habr\u00e1 que reabrir IJulia, ya que est\u00e1 usando una versi\u00f3n anterior. (Se actualiza con el `Pkg.update()`.) Puede ser necesario desde la terminal (REPL) borrar IJulia con `Pkg.rm(\"IJulia\")` y reinstalarlo con `Pkg.add(\"IJulia\")."
     ]
    },
    {
     "cell_type": "code",
     "collapsed": false,
     "input": [
      "@manipulate for x in -3:0.1:3\n",
      "    x^2\n",
      "end"
     ],
     "language": "python",
     "metadata": {},
     "outputs": [
      {
       "html": [],
       "metadata": {},
       "output_type": "display_data",
       "text": [
        "Slider{Float64}([Input{Float64}] 0.0,\"x\",0.0,-3.0:0.1:3.0)"
       ]
      },
      {
       "metadata": {
        "comm_id": "df967c0b-9852-492c-899e-992dd67de26b",
        "reactive": true
       },
       "output_type": "pyout",
       "prompt_number": 3,
       "text": [
        "0.0"
       ]
      }
     ],
     "prompt_number": 3
    },
    {
     "cell_type": "markdown",
     "metadata": {},
     "source": [
      "Si todo funciona bien, podemos empezar a utilizarlo:"
     ]
    },
    {
     "cell_type": "code",
     "collapsed": false,
     "input": [
      "using Interact"
     ],
     "language": "python",
     "metadata": {},
     "outputs": [],
     "prompt_number": 6
    },
    {
     "cell_type": "code",
     "collapsed": false,
     "input": [
      "f(x) = x^2\n",
      "\n",
      "@manipulate for x in -3:0.1:3, y in -3:0.1:3\n",
      "    f(x+y)\n",
      "end"
     ],
     "language": "python",
     "metadata": {},
     "outputs": [
      {
       "html": [],
       "metadata": {},
       "output_type": "display_data",
       "text": [
        "Slider{Float64}([Input{Float64}] 0.0,\"x\",0.0,-3.0:0.1:3.0)"
       ]
      },
      {
       "metadata": {
        "comm_id": "396545ff-a5ad-4470-bb9f-248d49842ec6",
        "reactive": true
       },
       "output_type": "pyout",
       "prompt_number": 4,
       "text": [
        "nothing"
       ]
      }
     ],
     "prompt_number": 4
    },
    {
     "cell_type": "markdown",
     "metadata": {},
     "source": [
      "N\u00f3tese la sintaxis corta para dos bucles `for`."
     ]
    },
    {
     "cell_type": "heading",
     "level": 1,
     "metadata": {},
     "source": [
      "Interactuando con `PyPlot`"
     ]
    },
    {
     "cell_type": "markdown",
     "metadata": {},
     "source": [
      "Ahora queremos poder interactuar con gr\u00e1ficas hechas con `PyPlot`. Resulta que tenemos que usar algo adicional: primero definir el objeto que represente la figura, y luego utilizar una sintaxis un poco rara. Pero con estos elementos deber\u00eda funcionar:"
     ]
    },
    {
     "cell_type": "code",
     "collapsed": false,
     "input": [
      "Pkg.add(\"PyPlot\")"
     ],
     "language": "python",
     "metadata": {},
     "outputs": [
      {
       "output_type": "stream",
       "stream": "stderr",
       "text": [
        "INFO: Cloning cache of Color from git://github.com/JuliaLang/Color.jl.git\n"
       ]
      },
      {
       "output_type": "stream",
       "stream": "stderr",
       "text": [
        "INFO: Cloning cache of FixedPointNumbers from git://github.com/JeffBezanson/FixedPointNumbers.jl.git\n"
       ]
      },
      {
       "output_type": "stream",
       "stream": "stderr",
       "text": [
        "INFO: Cloning cache of PyCall from git://github.com/stevengj/PyCall.jl.git\n"
       ]
      },
      {
       "output_type": "stream",
       "stream": "stderr",
       "text": [
        "INFO: Cloning cache of PyPlot from git://github.com/stevengj/PyPlot.jl.git\n"
       ]
      },
      {
       "output_type": "stream",
       "stream": "stderr",
       "text": [
        "INFO: Installing Color v0.3.3\n"
       ]
      },
      {
       "output_type": "stream",
       "stream": "stderr",
       "text": [
        "INFO: Installing FixedPointNumbers v0.0.2\n"
       ]
      },
      {
       "output_type": "stream",
       "stream": "stderr",
       "text": [
        "INFO: Installing PyCall v0.4.8\n"
       ]
      },
      {
       "output_type": "stream",
       "stream": "stderr",
       "text": [
        "INFO: Installing PyPlot v1.3.0\n"
       ]
      },
      {
       "output_type": "stream",
       "stream": "stderr",
       "text": [
        "INFO: Package database updated\n"
       ]
      }
     ],
     "prompt_number": 9
    },
    {
     "cell_type": "code",
     "collapsed": false,
     "input": [
      "using PyCall\n",
      "pygui(:gtk)\n",
      "using PyPlot"
     ],
     "language": "python",
     "metadata": {},
     "outputs": [
      {
       "output_type": "stream",
       "stream": "stderr",
       "text": [
        "INFO: Loading help data...\n"
       ]
      }
     ],
     "prompt_number": 1
    },
    {
     "cell_type": "code",
     "collapsed": false,
     "input": [
      "\n",
      "f1 = figure()\n",
      "\n",
      "@manipulate for a in -2:0.1:2\n",
      "    withfig(f1) do\n",
      "        x = -3:0.1:3\n",
      "        plot(x, sin(x+a))\n",
      "    end\n",
      "end"
     ],
     "language": "python",
     "metadata": {},
     "outputs": [
      {
       "html": [],
       "metadata": {},
       "output_type": "display_data",
       "text": [
        "Slider{Float64}([Input{Float64}] 0.0,\"a\",0.0,-2.0:0.1:2.0)"
       ]
      },
      {
       "metadata": {
        "comm_id": "58d6aad0-f126-499e-9aac-8ae2d7fdbe22",
        "reactive": true
       },
       "output_type": "pyout",
       "png": "[encoded data removed]",
       "prompt_number": 9,
       "text": [
        "Figure(PyObject <matplotlib.figure.Figure object at 0xc824dd0>)"
       ]
      }
     ],
     "prompt_number": 9
    },
    {
     "cell_type": "markdown",
     "metadata": {},
     "source": [
      "(N\u00f3tese que nada de lo interactivo aparecer\u00e1 en una versi\u00f3n est\u00e1tica de este notebook. Hay que correrlo de forma... \u00a1interactiva!)"
     ]
    },
    {
     "cell_type": "code",
     "collapsed": false,
     "input": [
      "using Interact"
     ],
     "language": "python",
     "metadata": {},
     "outputs": [
      {
       "html": [
        "<script charset=\"utf-8\">(function ($, undefined) {\n",
        "\n",
        "    function createElem(tag, attr, content) {\n",
        "\t// TODO: remove jQuery dependency\n",
        "\tvar el = $(\"<\" + tag + \"/>\").attr(attr);\n",
        "\tif (content) {\n",
        "\t    el.append(content);\n",
        "\t}\n",
        "\treturn el[0];\n",
        "    }\n",
        "\n",
        "    // A widget must expose an id field which identifies it to the backend,\n",
        "    // an elem attribute which is will be added to the DOM, and\n",
        "    // a getState() method which returns the value to be sent to the backend\n",
        "    // a sendUpdate() method which sends its current value to the backend\n",
        "    var Widget = {\n",
        "\tid: undefined,\n",
        "\telem: undefined,\n",
        "\tlabel: undefined,\n",
        "\tgetState: function () {\n",
        "\t    return this.elem.value;\n",
        "\t},\n",
        "\tsendUpdate: undefined\n",
        "    };\n",
        "\n",
        "    var Slider = function (typ, id, init) {\n",
        "\tvar attr = { type:  \"range\",\n",
        "\t\t     value: init.value,\n",
        "\t\t     min:   init.min,\n",
        "\t\t     max:   init.max,\n",
        "\t\t     step:  init.step },\n",
        "\t    elem = createElem(\"input\", attr),\n",
        "\t    self = this;\n",
        "\n",
        "\telem.onchange = function () {\n",
        "\t    self.sendUpdate();\n",
        "\t}\n",
        "\n",
        "\tthis.id = id;\n",
        "\tthis.elem = elem;\n",
        "\tthis.label = init.label;\n",
        "\n",
        "\tInputWidgets.commInitializer(this); // Initialize communication\n",
        "    }\n",
        "    Slider.prototype = Widget;\n",
        "\n",
        "    var Checkbox = function (typ, id, init) {\n",
        "\tvar attr = { type: \"checkbox\",\n",
        "\t\t     checked: init.value },\n",
        "\t    elem = createElem(\"input\", attr),\n",
        "\t    self = this;\n",
        "\n",
        "\tthis.getState = function () {\n",
        "\t    return elem.checked;\n",
        "\t}\n",
        "\telem.onchange = function () {\n",
        "\t    self.sendUpdate();\n",
        "\t}\n",
        "\n",
        "\tthis.id = id;\n",
        "\tthis.elem = elem;\n",
        "\tthis.label = init.label;\n",
        "\n",
        "\tInputWidgets.commInitializer(this);\n",
        "    }\n",
        "    Checkbox.prototype = Widget;\n",
        "\n",
        "    var Button = function (typ, id, init) {\n",
        "\tvar attr = { type:    \"button\",\n",
        "\t\t     value:   init.label },\n",
        "\t    elem = createElem(\"input\", attr),\n",
        "\t    self = this;\n",
        "\tthis.getState = function () {\n",
        "\t    return null;\n",
        "\t}\n",
        "\telem.onclick = function () {\n",
        "\t    self.sendUpdate();\n",
        "\t}\n",
        "\n",
        "\tthis.id = id;\n",
        "\tthis.elem = elem;\n",
        "\tthis.label = init.label;\n",
        "\n",
        "\tInputWidgets.commInitializer(this);\n",
        "    }\n",
        "    Button.prototype = Widget;\n",
        "\n",
        "    var Text = function (typ, id, init) {\n",
        "\tvar attr = { type:  \"text\",\n",
        "\t\t     placeholder: init.label,\n",
        "\t\t     value: init.value },\n",
        "\t    elem = createElem(\"input\", attr),\n",
        "\t    self = this;\n",
        "\tthis.getState = function () {\n",
        "\t    return elem.value;\n",
        "\t}\n",
        "\telem.onkeyup = function () {\n",
        "\t    self.sendUpdate();\n",
        "\t}\n",
        "\n",
        "\tthis.id = id;\n",
        "\tthis.elem = elem;\n",
        "\tthis.label = init.label;\n",
        "\n",
        "\tInputWidgets.commInitializer(this);\n",
        "    }\n",
        "    Text.prototype = Widget;\n",
        "\n",
        "    var Textarea = function (typ, id, init) {\n",
        "\tvar attr = { placeholder: init.label },\n",
        "\t    elem = createElem(\"textarea\", attr, init.value),\n",
        "\t    self = this;\n",
        "\tthis.getState = function () {\n",
        "\t    return elem.value;\n",
        "\t}\n",
        "\telem.onchange = function () {\n",
        "\t    self.sendUpdate();\n",
        "\t}\n",
        "\n",
        "\tthis.id = id;\n",
        "\tthis.elem = elem;\n",
        "\tthis.label = init.label;\n",
        "\n",
        "\tInputWidgets.commInitializer(this);\n",
        "    }\n",
        "    Textarea.prototype = Widget;\n",
        "\n",
        "    // RadioButtons\n",
        "    // Dropdown\n",
        "    // HTML\n",
        "    // Latex\n",
        "\n",
        "    var InputWidgets = {\n",
        "\tSlider: Slider,\n",
        "\tCheckbox: Checkbox,\n",
        "\tButton: Button,\n",
        "\tText: Text,\n",
        "\tTextarea: Textarea,\n",
        "\tdebug: false,\n",
        "\tlog: function () {\n",
        "\t    if (InputWidgets.debug) {\n",
        "\t\tconsole.log.apply(console, arguments);\n",
        "\t    }\n",
        "\t},\n",
        "\t// a central way to initalize communication\n",
        "\t// for widgets.\n",
        "\tcommInitializer: function (widget) {\n",
        "\t    widget.sendUpdate = function () {};\n",
        "\t}\n",
        "    };\n",
        "\n",
        "    window.InputWidgets = InputWidgets;\n",
        "\n",
        "})(jQuery, undefined);\n",
        "</script>"
       ],
       "metadata": {},
       "output_type": "display_data"
      },
      {
       "html": [
        "<script charset=\"utf-8\">(function (IPython, $, _, Widgets) {\n",
        "    $.event.special.destroyed = {\n",
        "\tremove: function(o) {\n",
        "\t    if (o.handler) {\n",
        "\t\to.handler.apply(this, arguments)\n",
        "\t    }\n",
        "\t}\n",
        "    }\n",
        "\n",
        "    $(document).ready(function() {\n",
        "\tWidgets.debug = false; // log messages etc in console.\n",
        "\tfunction initComm(evt, data) {\n",
        "\t    var comm_manager = data.kernel.comm_manager;\n",
        "\t    comm_manager.register_target(\"Signal\", function (comm) {\n",
        "\t\tcomm.on_msg(function (msg) {\n",
        "\t\t    //Widgets.log(\"message received\", msg);\n",
        "\t\t    var val = msg.content.data.value;\n",
        "\t\t    $(\".signal-\" + comm.comm_id).each(function() {\n",
        "\t\t\tvar self = this;\n",
        "\t\t\tvar type = $(this).data(\"type\");\n",
        "\t\t\tif (val[type]) {\n",
        "\t\t\t    var selector = $(self).empty();\n",
        "\t\t\t    var oa = new IPython.OutputArea(_.extend(selector, {\n",
        "\t\t\t\tselector: selector,\n",
        "\t\t\t\tprompt_area: true,\n",
        "\t\t\t\tevents: IPython.events,\n",
        "\t\t\t\tkeyboard_manager: IPython.keyboard_manager\n",
        "\t\t\t    })); // Hack to work with IPython 2.1.0\n",
        "\t\t\t    var toinsert = IPython.OutputArea.append_map[type].apply(\n",
        "\t\t\t\toa, [val[type], {}, selector]\n",
        "\t\t\t    );\n",
        "\t\t\t    delete toinsert;\n",
        "\t\t\t}\n",
        "\t\t    });\n",
        "\t\t    delete val;\n",
        "\t\t    delete msg.content.data.value;\n",
        "\t\t});\n",
        "\t    });\n",
        "\n",
        "\t    // coordingate with Comm and redraw Signals\n",
        "\t    // XXX: Test using React here to improve performance\n",
        "\t    $([IPython.events]).on(\n",
        "\t\t'output_appended.OutputArea', function (event, type, value, md, toinsert) {\n",
        "\t\t    if (md && md.reactive) {\n",
        "\t\t\t// console.log(md.comm_id);\n",
        "\t\t\ttoinsert.addClass(\"signal-\" + md.comm_id);\n",
        "\t\t\ttoinsert.data(\"type\", type);\n",
        "\t\t\t// Signal back indicating the mimetype required\n",
        "\t\t\tvar comm_manager = IPython.notebook.kernel.comm_manager;\n",
        "\t\t\tvar comm = comm_manager.comms[md.comm_id];\n",
        "\t\t\tcomm.send({action: \"subscribe_mime\",\n",
        "\t\t\t\t   mime: type});\n",
        "\t\t\ttoinsert.bind(\"destroyed\", function() {\n",
        "\t\t\t    comm.send({action: \"unsubscribe_mime\",\n",
        "\t\t\t\t       mime: type});\n",
        "\t\t\t});\n",
        "\t\t    }\n",
        "\t    });\n",
        "\n",
        "\t    // Set up communication for Widgets\n",
        "\t    Widgets.commInitializer = function (widget) {\n",
        "\t\tvar comm = comm_manager.new_comm(\n",
        "\t\t    \"InputWidget\", {widget_id: widget.id}\n",
        "\t\t);\n",
        "\t\twidget.sendUpdate = function () {\n",
        "\t\t    // `this` is a widget here.\n",
        "\t\t    // TODO: I have a feeling there's some\n",
        "\t\t    //       IPython bookkeeping to be done here.\n",
        "\t\t    // Widgets.log(\"State changed\", this, this.getState());\n",
        "\t\t    comm.send({value: this.getState()});\n",
        "\t\t}\n",
        "\t    };\n",
        "\t}\n",
        "\n",
        "\ttry {\n",
        "\t    // try to initialize right away. otherwise, wait on the status_started event.\n",
        "\t    initComm(undefined, IPython.notebook);\n",
        "\t} catch (e) {\n",
        "\t    $([IPython.events]).on('status_started.Kernel', initComm);\n",
        "\t}\n",
        "    });\n",
        "})(IPython, jQuery, _, InputWidgets);\n",
        "</script>"
       ],
       "metadata": {},
       "output_type": "display_data"
      }
     ],
     "prompt_number": 2
    },
    {
     "cell_type": "code",
     "collapsed": false,
     "input": [
      "\n",
      "f1 = figure()\n",
      "\n",
      "@manipulate for a in -2:0.1:2\n",
      "    withfig(f1) do\n",
      "        x = -3:0.1:3\n",
      "        plot(x, sin(x+a))\n",
      "    end\n",
      "end"
     ],
     "language": "python",
     "metadata": {},
     "outputs": [
      {
       "html": [],
       "metadata": {},
       "output_type": "display_data",
       "text": [
        "Slider{Float64}([Input{Float64}] 0.0,\"a\",0.0,-2.0:0.1:2.0)"
       ]
      },
      {
       "metadata": {
        "comm_id": "280d17d4-1fc2-4f7a-bb00-0f5f510847e5",
        "reactive": true
       },
       "output_type": "pyout",
       "png": "[encoded data removed]",
       "prompt_number": 3,
       "text": [
        "Figure(PyObject <matplotlib.figure.Figure object at 0x6d43290>)"
       ]
      }
     ],
     "prompt_number": 3
    },
    {
     "cell_type": "markdown",
     "metadata": {},
     "source": [
      "[1] Haz una gr\u00e1fica interactiva de una cuadr\u00e1tica, en la cual puedes modificar todos los coeficientes.\n",
      "\n",
      "[2] Haz lo mismo para una cu\u00e1rtica."
     ]
    },
    {
     "cell_type": "code",
     "collapsed": false,
     "input": [
      "\n",
      "f2 = figure()\n",
      "\n",
      "@manipulate for a in -10:0.1:10, b in -10:0.1:10, c in -10:0.1:10    \n",
      "    withfig(f2) do\n",
      "        x = [-3:0.1:3]\n",
      "        cuad=[a*(x^2)+b*x+c for x in x]\n",
      "        plot(x,cuad)\n",
      "    end\n",
      "end"
     ],
     "language": "python",
     "metadata": {},
     "outputs": [
      {
       "html": [],
       "metadata": {},
       "output_type": "display_data",
       "text": [
        "Slider{Float64}([Input{Float64}] 0.0,\"a\",0.0,-10.0:0.1:10.0)"
       ]
      },
      {
       "html": [],
       "metadata": {},
       "output_type": "display_data",
       "text": [
        "Slider{Float64}([Input{Float64}] 0.0,\"b\",0.0,-10.0:0.1:10.0)"
       ]
      },
      {
       "html": [],
       "metadata": {},
       "output_type": "display_data",
       "text": [
        "Slider{Float64}([Input{Float64}] 0.0,\"c\",0.0,-10.0:0.1:10.0)"
       ]
      },
      {
       "metadata": {
        "comm_id": "3ee758e0-2548-4e2a-8de0-2151960a2e91",
        "reactive": true
       },
       "output_type": "pyout",
       "png": "[encoded data removed]",
       "prompt_number": 10,
       "text": [
        "Figure(PyObject <matplotlib.figure.Figure object at 0x587dcd0>)"
       ]
      }
     ],
     "prompt_number": 10
    },
    {
     "cell_type": "code",
     "collapsed": false,
     "input": [
      "\n",
      "f3 = figure()\n",
      "\n",
      "@manipulate for a in -10:0.1:10, b in -10:0.1:10, c in -10:0.1:10, d in 0:5    \n",
      "    withfig(f3) do\n",
      "        x = [-3:0.1:3]\n",
      "        cuad=[a*(x^d)+b*x+c for x in x]\n",
      "        plot(x,cuad)\n",
      "    end\n",
      "end"
     ],
     "language": "python",
     "metadata": {},
     "outputs": [
      {
       "html": [],
       "metadata": {},
       "output_type": "display_data",
       "text": [
        "Slider{Float64}([Input{Float64}] 0.0,\"a\",0.0,-10.0:0.1:10.0)"
       ]
      },
      {
       "html": [],
       "metadata": {},
       "output_type": "display_data",
       "text": [
        "Slider{Float64}([Input{Float64}] 0.0,\"b\",0.0,-10.0:0.1:10.0)"
       ]
      },
      {
       "html": [],
       "metadata": {},
       "output_type": "display_data",
       "text": [
        "Slider{Float64}([Input{Float64}] 0.0,\"c\",0.0,-10.0:0.1:10.0)"
       ]
      },
      {
       "html": [],
       "metadata": {},
       "output_type": "display_data",
       "text": [
        "Slider{Int64}([Input{Int64}] 2,\"d\",2,0:5)"
       ]
      },
      {
       "metadata": {
        "comm_id": "795193f7-8ef9-4c58-ab3a-6f2468d6c510",
        "reactive": true
       },
       "output_type": "pyout",
       "png": "[encoded data removed]",
       "prompt_number": 11,
       "text": [
        "Figure(PyObject <matplotlib.figure.Figure object at 0x1006b190>)"
       ]
      }
     ],
     "prompt_number": 11
    },
    {
     "cell_type": "markdown",
     "metadata": {},
     "source": [
      "Se pueden hacer cosas m\u00e1s impresionantes; los siguientes ejemplos se tomaron de posts de Steven Johnson (autor de PyPlot) en los issues del paquete `Interact.jl` hace un par de semanas:"
     ]
    },
    {
     "cell_type": "code",
     "collapsed": false,
     "input": [
      "x = -2:0.1:2\n",
      "y = -2:0.1:2\n",
      "f = figure(figsize=(5,4))\n",
      "@manipulate for \u03b1=0.2:0.1:3 \n",
      "    withfig(f) do\n",
      "        surf(x, y, exp(-\u03b1 * (x.^2 .+ y'.^2)))\n",
      "    end\n",
      "end"
     ],
     "language": "python",
     "metadata": {},
     "outputs": [
      {
       "html": [],
       "metadata": {},
       "output_type": "display_data",
       "text": [
        "Slider{Float64}([Input{Float64}] 1.6,\"\u03b1\",1.6,0.2:0.1:3.0)"
       ]
      },
      {
       "metadata": {
        "comm_id": "8e03c0a0-8f51-4cc6-be9a-5e8b78bd6a38",
        "reactive": true
       },
       "output_type": "pyout",
       "png": "[encoded data removed]",
       "prompt_number": 6,
       "text": [
        "Figure(PyObject <matplotlib.figure.Figure object at 0x118d75fd0>)"
       ]
      }
     ],
     "prompt_number": 6
    },
    {
     "cell_type": "code",
     "collapsed": false,
     "input": [
      "f = figure()\n",
      "x = linspace(0,2\u03c0,1000)\n",
      "@manipulate for \u03b1=1:0.1:3, \u03b2=1:0.1:3, \u03b3=1:0.1:3, leg=false; withfig(f) do\n",
      "        plot(x, cos(\u03b1*x + sin(\u03b2*x + \u03b3)))\n",
      "        if leg\n",
      "            legend([\"a funny plot\"])\n",
      "        end\n",
      "    end\n",
      "end"
     ],
     "language": "python",
     "metadata": {},
     "outputs": [
      {
       "html": [],
       "metadata": {},
       "output_type": "display_data",
       "text": [
        "Slider{Float64}([Input{Float64}] 2.0,\"\u03b1\",2.0,1.0:0.1:3.0)"
       ]
      },
      {
       "html": [],
       "metadata": {},
       "output_type": "display_data",
       "text": [
        "Slider{Float64}([Input{Float64}] 2.0,\"\u03b2\",2.0,1.0:0.1:3.0)"
       ]
      },
      {
       "html": [],
       "metadata": {},
       "output_type": "display_data",
       "text": [
        "Slider{Float64}([Input{Float64}] 2.0,\"\u03b3\",2.0,1.0:0.1:3.0)"
       ]
      },
      {
       "html": [],
       "metadata": {},
       "output_type": "display_data",
       "text": [
        "Checkbox([Input{Bool}] false,\"leg\",false)"
       ]
      },
      {
       "metadata": {
        "comm_id": "79ba0b07-624a-4b99-a802-9a5ee0585839",
        "reactive": true
       },
       "output_type": "pyout",
       "png": "[encoded data removed]",
       "prompt_number": 12,
       "text": [
        "Figure(PyObject <matplotlib.figure.Figure object at 0xf7e4f10>)"
       ]
      }
     ],
     "prompt_number": 12
    },
    {
     "cell_type": "heading",
     "level": 1,
     "metadata": {},
     "source": [
      "Gadfly"
     ]
    },
    {
     "cell_type": "markdown",
     "metadata": {},
     "source": [
      "Otro paquete gr\u00e1fico, muy avanzado y de otro tipo, nativo para Julia, se llama Gadfly:"
     ]
    },
    {
     "cell_type": "code",
     "collapsed": false,
     "input": [
      "Pkg.add(\"Gadfly\")\n",
      "using Gadfly"
     ],
     "language": "python",
     "metadata": {},
     "outputs": [
      {
       "output_type": "stream",
       "stream": "stderr",
       "text": [
        "INFO: Cloning cache of ArrayViews from git://github.com/lindahua/ArrayViews.jl.git\n"
       ]
      },
      {
       "output_type": "stream",
       "stream": "stderr",
       "text": [
        "INFO: Cloning cache of Codecs from git://github.com/dcjones/Codecs.jl.git\n"
       ]
      },
      {
       "output_type": "stream",
       "stream": "stderr",
       "text": [
        "INFO: Cloning cache of Compose from git://github.com/dcjones/Compose.jl.git\n"
       ]
      },
      {
       "output_type": "stream",
       "stream": "stderr",
       "text": [
        "INFO: Cloning cache of Contour from git://github.com/tlycken/Contour.jl.git\n"
       ]
      },
      {
       "output_type": "stream",
       "stream": "stderr",
       "text": [
        "INFO: Cloning cache of DataArrays from git://github.com/JuliaStats/DataArrays.jl.git\n"
       ]
      },
      {
       "output_type": "stream",
       "stream": "stderr",
       "text": [
        "INFO: Cloning cache of DataFrames from git://github.com/JuliaStats/DataFrames.jl.git\n"
       ]
      },
      {
       "output_type": "stream",
       "stream": "stderr",
       "text": [
        "INFO: Cloning cache of Datetime from git://github.com/quinnj/Datetime.jl.git\n"
       ]
      },
      {
       "output_type": "stream",
       "stream": "stderr",
       "text": [
        "INFO: Cloning cache of Distance from git://github.com/JuliaStats/Distance.jl.git\n"
       ]
      },
      {
       "output_type": "stream",
       "stream": "stderr",
       "text": [
        "INFO: Cloning cache of Distributions from git://github.com/JuliaStats/Distributions.jl.git\n"
       ]
      },
      {
       "output_type": "stream",
       "stream": "stderr",
       "text": [
        "INFO: Cloning cache of GZip from git://github.com/JuliaLang/GZip.jl.git\n"
       ]
      },
      {
       "output_type": "stream",
       "stream": "stderr",
       "text": [
        "INFO: Cloning cache of Gadfly from git://github.com/dcjones/Gadfly.jl.git\n"
       ]
      },
      {
       "output_type": "stream",
       "stream": "stderr",
       "text": [
        "INFO: Cloning cache of Hexagons from git://github.com/dcjones/Hexagons.jl.git\n"
       ]
      },
      {
       "output_type": "stream",
       "stream": "stderr",
       "text": [
        "INFO: Cloning cache of ImmutableArrays from git://github.com/twadleigh/ImmutableArrays.jl.git\n"
       ]
      },
      {
       "output_type": "stream",
       "stream": "stderr",
       "text": [
        "INFO: Cloning cache of Iterators from git://github.com/JuliaLang/Iterators.jl.git\n"
       ]
      },
      {
       "output_type": "stream",
       "stream": "stderr",
       "text": [
        "INFO: Cloning cache of KernelDensity from git://github.com/JuliaStats/KernelDensity.jl.git\n"
       ]
      },
      {
       "output_type": "stream",
       "stream": "stderr",
       "text": [
        "INFO: Cloning cache of Loess from git://github.com/dcjones/Loess.jl.git\n"
       ]
      },
      {
       "output_type": "stream",
       "stream": "stderr",
       "text": [
        "INFO: Cloning cache of PDMats from git://github.com/JuliaStats/PDMats.jl.git\n"
       ]
      },
      {
       "output_type": "stream",
       "stream": "stderr",
       "text": [
        "INFO: Cloning cache of Reexport from git://github.com/simonster/Reexport.jl.git\n"
       ]
      },
      {
       "output_type": "stream",
       "stream": "stderr",
       "text": [
        "INFO: Cloning cache of SortingAlgorithms from git://github.com/JuliaLang/SortingAlgorithms.jl.git\n"
       ]
      },
      {
       "output_type": "stream",
       "stream": "stderr",
       "text": [
        "INFO: Cloning cache of StatsBase from git://github.com/JuliaStats/StatsBase.jl.git\n"
       ]
      },
      {
       "output_type": "stream",
       "stream": "stderr",
       "text": [
        "INFO: Installing ArrayViews v0.4.6\n"
       ]
      },
      {
       "output_type": "stream",
       "stream": "stderr",
       "text": [
        "INFO: Installing Codecs v0.1.2\n"
       ]
      },
      {
       "output_type": "stream",
       "stream": "stderr",
       "text": [
        "INFO: Installing Compose v0.3.6\n"
       ]
      },
      {
       "output_type": "stream",
       "stream": "stderr",
       "text": [
        "INFO: Installing Contour v0.0.4\n"
       ]
      },
      {
       "output_type": "stream",
       "stream": "stderr",
       "text": [
        "INFO: Installing DataArrays v0.2.0\n"
       ]
      },
      {
       "output_type": "stream",
       "stream": "stderr",
       "text": [
        "INFO: Installing DataFrames v0.5.7\n"
       ]
      },
      {
       "output_type": "stream",
       "stream": "stderr",
       "text": [
        "INFO: Installing Datetime v0.1.7\n"
       ]
      },
      {
       "output_type": "stream",
       "stream": "stderr",
       "text": [
        "INFO: Installing Distance v0.5.0\n"
       ]
      },
      {
       "output_type": "stream",
       "stream": "stderr",
       "text": [
        "INFO: Installing Distributions v0.5.4\n"
       ]
      },
      {
       "output_type": "stream",
       "stream": "stderr",
       "text": [
        "INFO: Installing GZip v0.2.13\n"
       ]
      },
      {
       "output_type": "stream",
       "stream": "stderr",
       "text": [
        "INFO: Installing Gadfly v0.3.6\n"
       ]
      },
      {
       "output_type": "stream",
       "stream": "stderr",
       "text": [
        "INFO: Installing Hexagons v0.0.2\n"
       ]
      },
      {
       "output_type": "stream",
       "stream": "stderr",
       "text": [
        "INFO: Installing ImmutableArrays v0.0.6\n"
       ]
      },
      {
       "output_type": "stream",
       "stream": "stderr",
       "text": [
        "INFO: Installing Iterators v0.1.6\n",
        "INFO: Installing KernelDensity v0.0.2\n"
       ]
      },
      {
       "output_type": "stream",
       "stream": "stderr",
       "text": [
        "INFO: Installing Loess v0.0.2\n"
       ]
      },
      {
       "output_type": "stream",
       "stream": "stderr",
       "text": [
        "INFO: Installing PDMats v0.2.4\n",
        "INFO: Installing Reexport v0.0.1\n"
       ]
      },
      {
       "output_type": "stream",
       "stream": "stderr",
       "text": [
        "INFO: Installing SortingAlgorithms v0.0.1\n",
        "INFO: Installing StatsBase v0.6.4\n"
       ]
      },
      {
       "output_type": "stream",
       "stream": "stderr",
       "text": [
        "INFO: Building Datetime\n",
        "WARNING: The Datetime.jl package is deprecated, but will remain maintained for the 0.3 release. Please consider using the Dates.jl package instead, which mirrors the Dates module in Base Julia in 0.4\n"
       ]
      },
      {
       "output_type": "stream",
       "stream": "stderr",
       "text": [
        "INFO: Package database updated\n"
       ]
      },
      {
       "output_type": "stream",
       "stream": "stderr",
       "text": [
        "INFO: METADATA is out-of-date \u2014 you may not have the latest version of Gadfly\n",
        "INFO: Use `Pkg.update()` to get the latest versions of your packages\n",
        "WARNING: The Distance package is deprecated. Please use a new package Distances instead.\n"
       ]
      },
      {
       "output_type": "stream",
       "stream": "stderr",
       "text": [
        "Warning: using Gadfly.plot in module Main conflicts with an existing identifier.\n"
       ]
      }
     ],
     "prompt_number": 13
    },
    {
     "cell_type": "code",
     "collapsed": false,
     "input": [
      "@manipulate for \u03d5 in 0:\u03c0/16:4\u03c0, f=[\"Jean\"=>sin, \"Tovar\"=>cos]\n",
      "    Gadfly.plot(\u03b8 -> f(\u03b8 + \u03d5), 0, 25)\n",
      "end"
     ],
     "language": "python",
     "metadata": {},
     "outputs": [
      {
       "html": [],
       "metadata": {},
       "output_type": "display_data",
       "text": [
        "Slider{Float64}([Input{Float64}] 6.283185307179586,\"\u03d5\",6.283185307179586,0.0:0.19634954084936207:12.566370614359172)"
       ]
      },
      {
       "html": [],
       "metadata": {},
       "output_type": "display_data",
       "text": [
        "Options{:ToggleButtons,Function}([Input{Function}] cos,\"f\",cos,\"Tovar\",[\"Tovar\"=>cos,\"Jean\"=>sin])"
       ]
      },
      {
       "html": [
        "<?xml version=\"1.0\" encoding=\"UTF-8\"?>\n",
        "<svg xmlns=\"http://www.w3.org/2000/svg\"\n",
        "     xmlns:xlink=\"http://www.w3.org/1999/xlink\"\n",
        "     xmlns:gadfly=\"http://www.gadflyjl.org/ns\"\n",
        "     version=\"1.2\"\n",
        "     width=\"120mm\" height=\"80mm\" viewBox=\"0 0 120 80\"\n",
        "     stroke=\"none\"\n",
        "     fill=\"#000000\"\n",
        "     stroke-width=\"0.3\"\n",
        "\n",
        "     id=\"fig-941554d3eb3b4b908c6699e000f5c6c8\">\n",
        "<g class=\"plotroot xscalable yscalable\" id=\"fig-941554d3eb3b4b908c6699e000f5c6c8-element-1\">\n",
        "  <g font-size=\"3.88\" font-family=\"'PT Sans','Helvetica Neue','Helvetica',sans-serif\" fill=\"#564A55\" stroke=\"none\" id=\"fig-941554d3eb3b4b908c6699e000f5c6c8-element-2\">\n",
        "    <text x=\"67.37\" y=\"72\" text-anchor=\"middle\">x</text>\n",
        "  </g>\n",
        "  <g class=\"guide xlabels\" font-size=\"2.82\" font-family=\"'PT Sans Caption','Helvetica Neue','Helvetica',sans-serif\" fill=\"#6C606B\" id=\"fig-941554d3eb3b4b908c6699e000f5c6c8-element-3\">\n",
        "    <text x=\"-87.76\" y=\"66.39\" text-anchor=\"middle\" gadfly:scale=\"1.0\" visibility=\"hidden\">-30</text>\n",
        "    <text x=\"-69.51\" y=\"66.39\" text-anchor=\"middle\" gadfly:scale=\"1.0\" visibility=\"hidden\">-25</text>\n",
        "    <text x=\"-51.26\" y=\"66.39\" text-anchor=\"middle\" gadfly:scale=\"1.0\" visibility=\"hidden\">-20</text>\n",
        "    <text x=\"-33.01\" y=\"66.39\" text-anchor=\"middle\" gadfly:scale=\"1.0\" visibility=\"hidden\">-15</text>\n",
        "    <text x=\"-14.76\" y=\"66.39\" text-anchor=\"middle\" gadfly:scale=\"1.0\" visibility=\"hidden\">-10</text>\n",
        "    <text x=\"3.49\" y=\"66.39\" text-anchor=\"middle\" gadfly:scale=\"1.0\" visibility=\"hidden\">-5</text>\n",
        "    <text x=\"21.75\" y=\"66.39\" text-anchor=\"middle\" gadfly:scale=\"1.0\" visibility=\"visible\">0</text>\n",
        "    <text x=\"40\" y=\"66.39\" text-anchor=\"middle\" gadfly:scale=\"1.0\" visibility=\"visible\">5</text>\n",
        "    <text x=\"58.25\" y=\"66.39\" text-anchor=\"middle\" gadfly:scale=\"1.0\" visibility=\"visible\">10</text>\n",
        "    <text x=\"76.5\" y=\"66.39\" text-anchor=\"middle\" gadfly:scale=\"1.0\" visibility=\"visible\">15</text>\n",
        "    <text x=\"94.75\" y=\"66.39\" text-anchor=\"middle\" gadfly:scale=\"1.0\" visibility=\"visible\">20</text>\n",
        "    <text x=\"113\" y=\"66.39\" text-anchor=\"middle\" gadfly:scale=\"1.0\" visibility=\"visible\">25</text>\n",
        "    <text x=\"131.25\" y=\"66.39\" text-anchor=\"middle\" gadfly:scale=\"1.0\" visibility=\"hidden\">30</text>\n",
        "    <text x=\"149.5\" y=\"66.39\" text-anchor=\"middle\" gadfly:scale=\"1.0\" visibility=\"hidden\">35</text>\n",
        "    <text x=\"167.75\" y=\"66.39\" text-anchor=\"middle\" gadfly:scale=\"1.0\" visibility=\"hidden\">40</text>\n",
        "    <text x=\"186\" y=\"66.39\" text-anchor=\"middle\" gadfly:scale=\"1.0\" visibility=\"hidden\">45</text>\n",
        "    <text x=\"204.26\" y=\"66.39\" text-anchor=\"middle\" gadfly:scale=\"1.0\" visibility=\"hidden\">50</text>\n",
        "    <text x=\"222.51\" y=\"66.39\" text-anchor=\"middle\" gadfly:scale=\"1.0\" visibility=\"hidden\">55</text>\n",
        "    <text x=\"-69.51\" y=\"66.39\" text-anchor=\"middle\" gadfly:scale=\"10.0\" visibility=\"hidden\">-25</text>\n",
        "    <text x=\"-65.86\" y=\"66.39\" text-anchor=\"middle\" gadfly:scale=\"10.0\" visibility=\"hidden\">-24</text>\n",
        "    <text x=\"-62.21\" y=\"66.39\" text-anchor=\"middle\" gadfly:scale=\"10.0\" visibility=\"hidden\">-23</text>\n",
        "    <text x=\"-58.56\" y=\"66.39\" text-anchor=\"middle\" gadfly:scale=\"10.0\" visibility=\"hidden\">-22</text>\n",
        "    <text x=\"-54.91\" y=\"66.39\" text-anchor=\"middle\" gadfly:scale=\"10.0\" visibility=\"hidden\">-21</text>\n",
        "    <text x=\"-51.26\" y=\"66.39\" text-anchor=\"middle\" gadfly:scale=\"10.0\" visibility=\"hidden\">-20</text>\n",
        "    <text x=\"-47.61\" y=\"66.39\" text-anchor=\"middle\" gadfly:scale=\"10.0\" visibility=\"hidden\">-19</text>\n",
        "    <text x=\"-43.96\" y=\"66.39\" text-anchor=\"middle\" gadfly:scale=\"10.0\" visibility=\"hidden\">-18</text>\n",
        "    <text x=\"-40.31\" y=\"66.39\" text-anchor=\"middle\" gadfly:scale=\"10.0\" visibility=\"hidden\">-17</text>\n",
        "    <text x=\"-36.66\" y=\"66.39\" text-anchor=\"middle\" gadfly:scale=\"10.0\" visibility=\"hidden\">-16</text>\n",
        "    <text x=\"-33.01\" y=\"66.39\" text-anchor=\"middle\" gadfly:scale=\"10.0\" visibility=\"hidden\">-15</text>\n",
        "    <text x=\"-29.36\" y=\"66.39\" text-anchor=\"middle\" gadfly:scale=\"10.0\" visibility=\"hidden\">-14</text>\n",
        "    <text x=\"-25.71\" y=\"66.39\" text-anchor=\"middle\" gadfly:scale=\"10.0\" visibility=\"hidden\">-13</text>\n",
        "    <text x=\"-22.06\" y=\"66.39\" text-anchor=\"middle\" gadfly:scale=\"10.0\" visibility=\"hidden\">-12</text>\n",
        "    <text x=\"-18.41\" y=\"66.39\" text-anchor=\"middle\" gadfly:scale=\"10.0\" visibility=\"hidden\">-11</text>\n",
        "    <text x=\"-14.76\" y=\"66.39\" text-anchor=\"middle\" gadfly:scale=\"10.0\" visibility=\"hidden\">-10</text>\n",
        "    <text x=\"-11.11\" y=\"66.39\" text-anchor=\"middle\" gadfly:scale=\"10.0\" visibility=\"hidden\">-9</text>\n",
        "    <text x=\"-7.46\" y=\"66.39\" text-anchor=\"middle\" gadfly:scale=\"10.0\" visibility=\"hidden\">-8</text>\n",
        "    <text x=\"-3.81\" y=\"66.39\" text-anchor=\"middle\" gadfly:scale=\"10.0\" visibility=\"hidden\">-7</text>\n",
        "    <text x=\"-0.16\" y=\"66.39\" text-anchor=\"middle\" gadfly:scale=\"10.0\" visibility=\"hidden\">-6</text>\n",
        "    <text x=\"3.49\" y=\"66.39\" text-anchor=\"middle\" gadfly:scale=\"10.0\" visibility=\"hidden\">-5</text>\n",
        "    <text x=\"7.14\" y=\"66.39\" text-anchor=\"middle\" gadfly:scale=\"10.0\" visibility=\"hidden\">-4</text>\n",
        "    <text x=\"10.79\" y=\"66.39\" text-anchor=\"middle\" gadfly:scale=\"10.0\" visibility=\"hidden\">-3</text>\n",
        "    <text x=\"14.44\" y=\"66.39\" text-anchor=\"middle\" gadfly:scale=\"10.0\" visibility=\"hidden\">-2</text>\n",
        "    <text x=\"18.09\" y=\"66.39\" text-anchor=\"middle\" gadfly:scale=\"10.0\" visibility=\"hidden\">-1</text>\n",
        "    <text x=\"21.75\" y=\"66.39\" text-anchor=\"middle\" gadfly:scale=\"10.0\" visibility=\"hidden\">0</text>\n",
        "    <text x=\"25.4\" y=\"66.39\" text-anchor=\"middle\" gadfly:scale=\"10.0\" visibility=\"hidden\">1</text>\n",
        "    <text x=\"29.05\" y=\"66.39\" text-anchor=\"middle\" gadfly:scale=\"10.0\" visibility=\"hidden\">2</text>\n",
        "    <text x=\"32.7\" y=\"66.39\" text-anchor=\"middle\" gadfly:scale=\"10.0\" visibility=\"hidden\">3</text>\n",
        "    <text x=\"36.35\" y=\"66.39\" text-anchor=\"middle\" gadfly:scale=\"10.0\" visibility=\"hidden\">4</text>\n",
        "    <text x=\"40\" y=\"66.39\" text-anchor=\"middle\" gadfly:scale=\"10.0\" visibility=\"hidden\">5</text>\n",
        "    <text x=\"43.65\" y=\"66.39\" text-anchor=\"middle\" gadfly:scale=\"10.0\" visibility=\"hidden\">6</text>\n",
        "    <text x=\"47.3\" y=\"66.39\" text-anchor=\"middle\" gadfly:scale=\"10.0\" visibility=\"hidden\">7</text>\n",
        "    <text x=\"50.95\" y=\"66.39\" text-anchor=\"middle\" gadfly:scale=\"10.0\" visibility=\"hidden\">8</text>\n",
        "    <text x=\"54.6\" y=\"66.39\" text-anchor=\"middle\" gadfly:scale=\"10.0\" visibility=\"hidden\">9</text>\n",
        "    <text x=\"58.25\" y=\"66.39\" text-anchor=\"middle\" gadfly:scale=\"10.0\" visibility=\"hidden\">10</text>\n",
        "    <text x=\"61.9\" y=\"66.39\" text-anchor=\"middle\" gadfly:scale=\"10.0\" visibility=\"hidden\">11</text>\n",
        "    <text x=\"65.55\" y=\"66.39\" text-anchor=\"middle\" gadfly:scale=\"10.0\" visibility=\"hidden\">12</text>\n",
        "    <text x=\"69.2\" y=\"66.39\" text-anchor=\"middle\" gadfly:scale=\"10.0\" visibility=\"hidden\">13</text>\n",
        "    <text x=\"72.85\" y=\"66.39\" text-anchor=\"middle\" gadfly:scale=\"10.0\" visibility=\"hidden\">14</text>\n",
        "    <text x=\"76.5\" y=\"66.39\" text-anchor=\"middle\" gadfly:scale=\"10.0\" visibility=\"hidden\">15</text>\n",
        "    <text x=\"80.15\" y=\"66.39\" text-anchor=\"middle\" gadfly:scale=\"10.0\" visibility=\"hidden\">16</text>\n",
        "    <text x=\"83.8\" y=\"66.39\" text-anchor=\"middle\" gadfly:scale=\"10.0\" visibility=\"hidden\">17</text>\n",
        "    <text x=\"87.45\" y=\"66.39\" text-anchor=\"middle\" gadfly:scale=\"10.0\" visibility=\"hidden\">18</text>\n",
        "    <text x=\"91.1\" y=\"66.39\" text-anchor=\"middle\" gadfly:scale=\"10.0\" visibility=\"hidden\">19</text>\n",
        "    <text x=\"94.75\" y=\"66.39\" text-anchor=\"middle\" gadfly:scale=\"10.0\" visibility=\"hidden\">20</text>\n",
        "    <text x=\"98.4\" y=\"66.39\" text-anchor=\"middle\" gadfly:scale=\"10.0\" visibility=\"hidden\">21</text>\n",
        "    <text x=\"102.05\" y=\"66.39\" text-anchor=\"middle\" gadfly:scale=\"10.0\" visibility=\"hidden\">22</text>\n",
        "    <text x=\"105.7\" y=\"66.39\" text-anchor=\"middle\" gadfly:scale=\"10.0\" visibility=\"hidden\">23</text>\n",
        "    <text x=\"109.35\" y=\"66.39\" text-anchor=\"middle\" gadfly:scale=\"10.0\" visibility=\"hidden\">24</text>\n",
        "    <text x=\"113\" y=\"66.39\" text-anchor=\"middle\" gadfly:scale=\"10.0\" visibility=\"hidden\">25</text>\n",
        "    <text x=\"116.65\" y=\"66.39\" text-anchor=\"middle\" gadfly:scale=\"10.0\" visibility=\"hidden\">26</text>\n",
        "    <text x=\"120.3\" y=\"66.39\" text-anchor=\"middle\" gadfly:scale=\"10.0\" visibility=\"hidden\">27</text>\n",
        "    <text x=\"123.95\" y=\"66.39\" text-anchor=\"middle\" gadfly:scale=\"10.0\" visibility=\"hidden\">28</text>\n",
        "    <text x=\"127.6\" y=\"66.39\" text-anchor=\"middle\" gadfly:scale=\"10.0\" visibility=\"hidden\">29</text>\n",
        "    <text x=\"131.25\" y=\"66.39\" text-anchor=\"middle\" gadfly:scale=\"10.0\" visibility=\"hidden\">30</text>\n",
        "    <text x=\"134.9\" y=\"66.39\" text-anchor=\"middle\" gadfly:scale=\"10.0\" visibility=\"hidden\">31</text>\n",
        "    <text x=\"138.55\" y=\"66.39\" text-anchor=\"middle\" gadfly:scale=\"10.0\" visibility=\"hidden\">32</text>\n",
        "    <text x=\"142.2\" y=\"66.39\" text-anchor=\"middle\" gadfly:scale=\"10.0\" visibility=\"hidden\">33</text>\n",
        "    <text x=\"145.85\" y=\"66.39\" text-anchor=\"middle\" gadfly:scale=\"10.0\" visibility=\"hidden\">34</text>\n",
        "    <text x=\"149.5\" y=\"66.39\" text-anchor=\"middle\" gadfly:scale=\"10.0\" visibility=\"hidden\">35</text>\n",
        "    <text x=\"153.15\" y=\"66.39\" text-anchor=\"middle\" gadfly:scale=\"10.0\" visibility=\"hidden\">36</text>\n",
        "    <text x=\"156.8\" y=\"66.39\" text-anchor=\"middle\" gadfly:scale=\"10.0\" visibility=\"hidden\">37</text>\n",
        "    <text x=\"160.45\" y=\"66.39\" text-anchor=\"middle\" gadfly:scale=\"10.0\" visibility=\"hidden\">38</text>\n",
        "    <text x=\"164.1\" y=\"66.39\" text-anchor=\"middle\" gadfly:scale=\"10.0\" visibility=\"hidden\">39</text>\n",
        "    <text x=\"167.75\" y=\"66.39\" text-anchor=\"middle\" gadfly:scale=\"10.0\" visibility=\"hidden\">40</text>\n",
        "    <text x=\"171.4\" y=\"66.39\" text-anchor=\"middle\" gadfly:scale=\"10.0\" visibility=\"hidden\">41</text>\n",
        "    <text x=\"175.05\" y=\"66.39\" text-anchor=\"middle\" gadfly:scale=\"10.0\" visibility=\"hidden\">42</text>\n",
        "    <text x=\"178.7\" y=\"66.39\" text-anchor=\"middle\" gadfly:scale=\"10.0\" visibility=\"hidden\">43</text>\n",
        "    <text x=\"182.35\" y=\"66.39\" text-anchor=\"middle\" gadfly:scale=\"10.0\" visibility=\"hidden\">44</text>\n",
        "    <text x=\"186\" y=\"66.39\" text-anchor=\"middle\" gadfly:scale=\"10.0\" visibility=\"hidden\">45</text>\n",
        "    <text x=\"189.65\" y=\"66.39\" text-anchor=\"middle\" gadfly:scale=\"10.0\" visibility=\"hidden\">46</text>\n",
        "    <text x=\"193.3\" y=\"66.39\" text-anchor=\"middle\" gadfly:scale=\"10.0\" visibility=\"hidden\">47</text>\n",
        "    <text x=\"196.95\" y=\"66.39\" text-anchor=\"middle\" gadfly:scale=\"10.0\" visibility=\"hidden\">48</text>\n",
        "    <text x=\"200.6\" y=\"66.39\" text-anchor=\"middle\" gadfly:scale=\"10.0\" visibility=\"hidden\">49</text>\n",
        "    <text x=\"204.26\" y=\"66.39\" text-anchor=\"middle\" gadfly:scale=\"10.0\" visibility=\"hidden\">50</text>\n",
        "    <text x=\"-69.51\" y=\"66.39\" text-anchor=\"middle\" gadfly:scale=\"0.5\" visibility=\"hidden\">-25</text>\n",
        "    <text x=\"21.75\" y=\"66.39\" text-anchor=\"middle\" gadfly:scale=\"0.5\" visibility=\"hidden\">0</text>\n",
        "    <text x=\"113\" y=\"66.39\" text-anchor=\"middle\" gadfly:scale=\"0.5\" visibility=\"hidden\">25</text>\n",
        "    <text x=\"204.26\" y=\"66.39\" text-anchor=\"middle\" gadfly:scale=\"0.5\" visibility=\"hidden\">50</text>\n",
        "    <text x=\"-73.16\" y=\"66.39\" text-anchor=\"middle\" gadfly:scale=\"5.0\" visibility=\"hidden\">-26</text>\n",
        "    <text x=\"-65.86\" y=\"66.39\" text-anchor=\"middle\" gadfly:scale=\"5.0\" visibility=\"hidden\">-24</text>\n",
        "    <text x=\"-58.56\" y=\"66.39\" text-anchor=\"middle\" gadfly:scale=\"5.0\" visibility=\"hidden\">-22</text>\n",
        "    <text x=\"-51.26\" y=\"66.39\" text-anchor=\"middle\" gadfly:scale=\"5.0\" visibility=\"hidden\">-20</text>\n",
        "    <text x=\"-43.96\" y=\"66.39\" text-anchor=\"middle\" gadfly:scale=\"5.0\" visibility=\"hidden\">-18</text>\n",
        "    <text x=\"-36.66\" y=\"66.39\" text-anchor=\"middle\" gadfly:scale=\"5.0\" visibility=\"hidden\">-16</text>\n",
        "    <text x=\"-29.36\" y=\"66.39\" text-anchor=\"middle\" gadfly:scale=\"5.0\" visibility=\"hidden\">-14</text>\n",
        "    <text x=\"-22.06\" y=\"66.39\" text-anchor=\"middle\" gadfly:scale=\"5.0\" visibility=\"hidden\">-12</text>\n",
        "    <text x=\"-14.76\" y=\"66.39\" text-anchor=\"middle\" gadfly:scale=\"5.0\" visibility=\"hidden\">-10</text>\n",
        "    <text x=\"-7.46\" y=\"66.39\" text-anchor=\"middle\" gadfly:scale=\"5.0\" visibility=\"hidden\">-8</text>\n",
        "    <text x=\"-0.16\" y=\"66.39\" text-anchor=\"middle\" gadfly:scale=\"5.0\" visibility=\"hidden\">-6</text>\n",
        "    <text x=\"7.14\" y=\"66.39\" text-anchor=\"middle\" gadfly:scale=\"5.0\" visibility=\"hidden\">-4</text>\n",
        "    <text x=\"14.44\" y=\"66.39\" text-anchor=\"middle\" gadfly:scale=\"5.0\" visibility=\"hidden\">-2</text>\n",
        "    <text x=\"21.75\" y=\"66.39\" text-anchor=\"middle\" gadfly:scale=\"5.0\" visibility=\"hidden\">0</text>\n",
        "    <text x=\"29.05\" y=\"66.39\" text-anchor=\"middle\" gadfly:scale=\"5.0\" visibility=\"hidden\">2</text>\n",
        "    <text x=\"36.35\" y=\"66.39\" text-anchor=\"middle\" gadfly:scale=\"5.0\" visibility=\"hidden\">4</text>\n",
        "    <text x=\"43.65\" y=\"66.39\" text-anchor=\"middle\" gadfly:scale=\"5.0\" visibility=\"hidden\">6</text>\n",
        "    <text x=\"50.95\" y=\"66.39\" text-anchor=\"middle\" gadfly:scale=\"5.0\" visibility=\"hidden\">8</text>\n",
        "    <text x=\"58.25\" y=\"66.39\" text-anchor=\"middle\" gadfly:scale=\"5.0\" visibility=\"hidden\">10</text>\n",
        "    <text x=\"65.55\" y=\"66.39\" text-anchor=\"middle\" gadfly:scale=\"5.0\" visibility=\"hidden\">12</text>\n",
        "    <text x=\"72.85\" y=\"66.39\" text-anchor=\"middle\" gadfly:scale=\"5.0\" visibility=\"hidden\">14</text>\n",
        "    <text x=\"80.15\" y=\"66.39\" text-anchor=\"middle\" gadfly:scale=\"5.0\" visibility=\"hidden\">16</text>\n",
        "    <text x=\"87.45\" y=\"66.39\" text-anchor=\"middle\" gadfly:scale=\"5.0\" visibility=\"hidden\">18</text>\n",
        "    <text x=\"94.75\" y=\"66.39\" text-anchor=\"middle\" gadfly:scale=\"5.0\" visibility=\"hidden\">20</text>\n",
        "    <text x=\"102.05\" y=\"66.39\" text-anchor=\"middle\" gadfly:scale=\"5.0\" visibility=\"hidden\">22</text>\n",
        "    <text x=\"109.35\" y=\"66.39\" text-anchor=\"middle\" gadfly:scale=\"5.0\" visibility=\"hidden\">24</text>\n",
        "    <text x=\"116.65\" y=\"66.39\" text-anchor=\"middle\" gadfly:scale=\"5.0\" visibility=\"hidden\">26</text>\n",
        "    <text x=\"123.95\" y=\"66.39\" text-anchor=\"middle\" gadfly:scale=\"5.0\" visibility=\"hidden\">28</text>\n",
        "    <text x=\"131.25\" y=\"66.39\" text-anchor=\"middle\" gadfly:scale=\"5.0\" visibility=\"hidden\">30</text>\n",
        "    <text x=\"138.55\" y=\"66.39\" text-anchor=\"middle\" gadfly:scale=\"5.0\" visibility=\"hidden\">32</text>\n",
        "    <text x=\"145.85\" y=\"66.39\" text-anchor=\"middle\" gadfly:scale=\"5.0\" visibility=\"hidden\">34</text>\n",
        "    <text x=\"153.15\" y=\"66.39\" text-anchor=\"middle\" gadfly:scale=\"5.0\" visibility=\"hidden\">36</text>\n",
        "    <text x=\"160.45\" y=\"66.39\" text-anchor=\"middle\" gadfly:scale=\"5.0\" visibility=\"hidden\">38</text>\n",
        "    <text x=\"167.75\" y=\"66.39\" text-anchor=\"middle\" gadfly:scale=\"5.0\" visibility=\"hidden\">40</text>\n",
        "    <text x=\"175.05\" y=\"66.39\" text-anchor=\"middle\" gadfly:scale=\"5.0\" visibility=\"hidden\">42</text>\n",
        "    <text x=\"182.35\" y=\"66.39\" text-anchor=\"middle\" gadfly:scale=\"5.0\" visibility=\"hidden\">44</text>\n",
        "    <text x=\"189.65\" y=\"66.39\" text-anchor=\"middle\" gadfly:scale=\"5.0\" visibility=\"hidden\">46</text>\n",
        "    <text x=\"196.95\" y=\"66.39\" text-anchor=\"middle\" gadfly:scale=\"5.0\" visibility=\"hidden\">48</text>\n",
        "    <text x=\"204.26\" y=\"66.39\" text-anchor=\"middle\" gadfly:scale=\"5.0\" visibility=\"hidden\">50</text>\n",
        "  </g>\n",
        "  <g clip-path=\"url(#fig-941554d3eb3b4b908c6699e000f5c6c8-element-5)\" id=\"fig-941554d3eb3b4b908c6699e000f5c6c8-element-4\">\n",
        "    <g pointer-events=\"visible\" opacity=\"1\" fill=\"none\" stroke=\"none\" class=\"guide background\" id=\"fig-941554d3eb3b4b908c6699e000f5c6c8-element-6\">\n",
        "      <rect x=\"19.75\" y=\"5\" width=\"95.26\" height=\"57.72\"/>\n",
        "    </g>\n",
        "    <g class=\"guide ygridlines xfixed\" stroke-dasharray=\"0.5,0.5\" stroke-width=\"0.2\" stroke=\"#D0D0E0\" id=\"fig-941554d3eb3b4b908c6699e000f5c6c8-element-7\">\n",
        "      <path d=\"M19.75,127.86 L 115 127.86\" gadfly:scale=\"1.0\" visibility=\"hidden\"/>\n",
        "      <path d=\"M19.75,114.43 L 115 114.43\" gadfly:scale=\"1.0\" visibility=\"hidden\"/>\n",
        "      <path d=\"M19.75,101 L 115 101\" gadfly:scale=\"1.0\" visibility=\"hidden\"/>\n",
        "      <path d=\"M19.75,87.57 L 115 87.57\" gadfly:scale=\"1.0\" visibility=\"hidden\"/>\n",
        "      <path d=\"M19.75,74.14 L 115 74.14\" gadfly:scale=\"1.0\" visibility=\"hidden\"/>\n",
        "      <path d=\"M19.75,60.72 L 115 60.72\" gadfly:scale=\"1.0\" visibility=\"visible\"/>\n",
        "      <path d=\"M19.75,47.29 L 115 47.29\" gadfly:scale=\"1.0\" visibility=\"visible\"/>\n",
        "      <path d=\"M19.75,33.86 L 115 33.86\" gadfly:scale=\"1.0\" visibility=\"visible\"/>\n",
        "      <path d=\"M19.75,20.43 L 115 20.43\" gadfly:scale=\"1.0\" visibility=\"visible\"/>\n",
        "      <path d=\"M19.75,7 L 115 7\" gadfly:scale=\"1.0\" visibility=\"visible\"/>\n",
        "      <path d=\"M19.75,-6.43 L 115 -6.43\" gadfly:scale=\"1.0\" visibility=\"hidden\"/>\n",
        "      <path d=\"M19.75,-19.86 L 115 -19.86\" gadfly:scale=\"1.0\" visibility=\"hidden\"/>\n",
        "      <path d=\"M19.75,-33.29 L 115 -33.29\" gadfly:scale=\"1.0\" visibility=\"hidden\"/>\n",
        "      <path d=\"M19.75,-46.71 L 115 -46.71\" gadfly:scale=\"1.0\" visibility=\"hidden\"/>\n",
        "      <path d=\"M19.75,-60.14 L 115 -60.14\" gadfly:scale=\"1.0\" visibility=\"hidden\"/>\n",
        "      <path d=\"M19.75,114.43 L 115 114.43\" gadfly:scale=\"10.0\" visibility=\"hidden\"/>\n",
        "      <path d=\"M19.75,111.74 L 115 111.74\" gadfly:scale=\"10.0\" visibility=\"hidden\"/>\n",
        "      <path d=\"M19.75,109.06 L 115 109.06\" gadfly:scale=\"10.0\" visibility=\"hidden\"/>\n",
        "      <path d=\"M19.75,106.37 L 115 106.37\" gadfly:scale=\"10.0\" visibility=\"hidden\"/>\n",
        "      <path d=\"M19.75,103.69 L 115 103.69\" gadfly:scale=\"10.0\" visibility=\"hidden\"/>\n",
        "      <path d=\"M19.75,101 L 115 101\" gadfly:scale=\"10.0\" visibility=\"hidden\"/>\n",
        "      <path d=\"M19.75,98.32 L 115 98.32\" gadfly:scale=\"10.0\" visibility=\"hidden\"/>\n",
        "      <path d=\"M19.75,95.63 L 115 95.63\" gadfly:scale=\"10.0\" visibility=\"hidden\"/>\n",
        "      <path d=\"M19.75,92.94 L 115 92.94\" gadfly:scale=\"10.0\" visibility=\"hidden\"/>\n",
        "      <path d=\"M19.75,90.26 L 115 90.26\" gadfly:scale=\"10.0\" visibility=\"hidden\"/>\n",
        "      <path d=\"M19.75,87.57 L 115 87.57\" gadfly:scale=\"10.0\" visibility=\"hidden\"/>\n",
        "      <path d=\"M19.75,84.89 L 115 84.89\" gadfly:scale=\"10.0\" visibility=\"hidden\"/>\n",
        "      <path d=\"M19.75,82.2 L 115 82.2\" gadfly:scale=\"10.0\" visibility=\"hidden\"/>\n",
        "      <path d=\"M19.75,79.52 L 115 79.52\" gadfly:scale=\"10.0\" visibility=\"hidden\"/>\n",
        "      <path d=\"M19.75,76.83 L 115 76.83\" gadfly:scale=\"10.0\" visibility=\"hidden\"/>\n",
        "      <path d=\"M19.75,74.14 L 115 74.14\" gadfly:scale=\"10.0\" visibility=\"hidden\"/>\n",
        "      <path d=\"M19.75,71.46 L 115 71.46\" gadfly:scale=\"10.0\" visibility=\"hidden\"/>\n",
        "      <path d=\"M19.75,68.77 L 115 68.77\" gadfly:scale=\"10.0\" visibility=\"hidden\"/>\n",
        "      <path d=\"M19.75,66.09 L 115 66.09\" gadfly:scale=\"10.0\" visibility=\"hidden\"/>\n",
        "      <path d=\"M19.75,63.4 L 115 63.4\" gadfly:scale=\"10.0\" visibility=\"hidden\"/>\n",
        "      <path d=\"M19.75,60.72 L 115 60.72\" gadfly:scale=\"10.0\" visibility=\"hidden\"/>\n",
        "      <path d=\"M19.75,58.03 L 115 58.03\" gadfly:scale=\"10.0\" visibility=\"hidden\"/>\n",
        "      <path d=\"M19.75,55.34 L 115 55.34\" gadfly:scale=\"10.0\" visibility=\"hidden\"/>\n",
        "      <path d=\"M19.75,52.66 L 115 52.66\" gadfly:scale=\"10.0\" visibility=\"hidden\"/>\n",
        "      <path d=\"M19.75,49.97 L 115 49.97\" gadfly:scale=\"10.0\" visibility=\"hidden\"/>\n",
        "      <path d=\"M19.75,47.29 L 115 47.29\" gadfly:scale=\"10.0\" visibility=\"hidden\"/>\n",
        "      <path d=\"M19.75,44.6 L 115 44.6\" gadfly:scale=\"10.0\" visibility=\"hidden\"/>\n",
        "      <path d=\"M19.75,41.91 L 115 41.91\" gadfly:scale=\"10.0\" visibility=\"hidden\"/>\n",
        "      <path d=\"M19.75,39.23 L 115 39.23\" gadfly:scale=\"10.0\" visibility=\"hidden\"/>\n",
        "      <path d=\"M19.75,36.54 L 115 36.54\" gadfly:scale=\"10.0\" visibility=\"hidden\"/>\n",
        "      <path d=\"M19.75,33.86 L 115 33.86\" gadfly:scale=\"10.0\" visibility=\"hidden\"/>\n",
        "      <path d=\"M19.75,31.17 L 115 31.17\" gadfly:scale=\"10.0\" visibility=\"hidden\"/>\n",
        "      <path d=\"M19.75,28.49 L 115 28.49\" gadfly:scale=\"10.0\" visibility=\"hidden\"/>\n",
        "      <path d=\"M19.75,25.8 L 115 25.8\" gadfly:scale=\"10.0\" visibility=\"hidden\"/>\n",
        "      <path d=\"M19.75,23.11 L 115 23.11\" gadfly:scale=\"10.0\" visibility=\"hidden\"/>\n",
        "      <path d=\"M19.75,20.43 L 115 20.43\" gadfly:scale=\"10.0\" visibility=\"hidden\"/>\n",
        "      <path d=\"M19.75,17.74 L 115 17.74\" gadfly:scale=\"10.0\" visibility=\"hidden\"/>\n",
        "      <path d=\"M19.75,15.06 L 115 15.06\" gadfly:scale=\"10.0\" visibility=\"hidden\"/>\n",
        "      <path d=\"M19.75,12.37 L 115 12.37\" gadfly:scale=\"10.0\" visibility=\"hidden\"/>\n",
        "      <path d=\"M19.75,9.69 L 115 9.69\" gadfly:scale=\"10.0\" visibility=\"hidden\"/>\n",
        "      <path d=\"M19.75,7 L 115 7\" gadfly:scale=\"10.0\" visibility=\"hidden\"/>\n",
        "      <path d=\"M19.75,4.31 L 115 4.31\" gadfly:scale=\"10.0\" visibility=\"hidden\"/>\n",
        "      <path d=\"M19.75,1.63 L 115 1.63\" gadfly:scale=\"10.0\" visibility=\"hidden\"/>\n",
        "      <path d=\"M19.75,-1.06 L 115 -1.06\" gadfly:scale=\"10.0\" visibility=\"hidden\"/>\n",
        "      <path d=\"M19.75,-3.74 L 115 -3.74\" gadfly:scale=\"10.0\" visibility=\"hidden\"/>\n",
        "      <path d=\"M19.75,-6.43 L 115 -6.43\" gadfly:scale=\"10.0\" visibility=\"hidden\"/>\n",
        "      <path d=\"M19.75,-9.11 L 115 -9.11\" gadfly:scale=\"10.0\" visibility=\"hidden\"/>\n",
        "      <path d=\"M19.75,-11.8 L 115 -11.8\" gadfly:scale=\"10.0\" visibility=\"hidden\"/>\n",
        "      <path d=\"M19.75,-14.49 L 115 -14.49\" gadfly:scale=\"10.0\" visibility=\"hidden\"/>\n",
        "      <path d=\"M19.75,-17.17 L 115 -17.17\" gadfly:scale=\"10.0\" visibility=\"hidden\"/>\n",
        "      <path d=\"M19.75,-19.86 L 115 -19.86\" gadfly:scale=\"10.0\" visibility=\"hidden\"/>\n",
        "      <path d=\"M19.75,-22.54 L 115 -22.54\" gadfly:scale=\"10.0\" visibility=\"hidden\"/>\n",
        "      <path d=\"M19.75,-25.23 L 115 -25.23\" gadfly:scale=\"10.0\" visibility=\"hidden\"/>\n",
        "      <path d=\"M19.75,-27.91 L 115 -27.91\" gadfly:scale=\"10.0\" visibility=\"hidden\"/>\n",
        "      <path d=\"M19.75,-30.6 L 115 -30.6\" gadfly:scale=\"10.0\" visibility=\"hidden\"/>\n",
        "      <path d=\"M19.75,-33.29 L 115 -33.29\" gadfly:scale=\"10.0\" visibility=\"hidden\"/>\n",
        "      <path d=\"M19.75,-35.97 L 115 -35.97\" gadfly:scale=\"10.0\" visibility=\"hidden\"/>\n",
        "      <path d=\"M19.75,-38.66 L 115 -38.66\" gadfly:scale=\"10.0\" visibility=\"hidden\"/>\n",
        "      <path d=\"M19.75,-41.34 L 115 -41.34\" gadfly:scale=\"10.0\" visibility=\"hidden\"/>\n",
        "      <path d=\"M19.75,-44.03 L 115 -44.03\" gadfly:scale=\"10.0\" visibility=\"hidden\"/>\n",
        "      <path d=\"M19.75,-46.71 L 115 -46.71\" gadfly:scale=\"10.0\" visibility=\"hidden\"/>\n",
        "      <path d=\"M19.75,141.29 L 115 141.29\" gadfly:scale=\"0.5\" visibility=\"hidden\"/>\n",
        "      <path d=\"M19.75,87.57 L 115 87.57\" gadfly:scale=\"0.5\" visibility=\"hidden\"/>\n",
        "      <path d=\"M19.75,33.86 L 115 33.86\" gadfly:scale=\"0.5\" visibility=\"hidden\"/>\n",
        "      <path d=\"M19.75,-19.86 L 115 -19.86\" gadfly:scale=\"0.5\" visibility=\"hidden\"/>\n",
        "      <path d=\"M19.75,-73.57 L 115 -73.57\" gadfly:scale=\"0.5\" visibility=\"hidden\"/>\n",
        "      <path d=\"M19.75,114.43 L 115 114.43\" gadfly:scale=\"5.0\" visibility=\"hidden\"/>\n",
        "      <path d=\"M19.75,109.06 L 115 109.06\" gadfly:scale=\"5.0\" visibility=\"hidden\"/>\n",
        "      <path d=\"M19.75,103.69 L 115 103.69\" gadfly:scale=\"5.0\" visibility=\"hidden\"/>\n",
        "      <path d=\"M19.75,98.32 L 115 98.32\" gadfly:scale=\"5.0\" visibility=\"hidden\"/>\n",
        "      <path d=\"M19.75,92.94 L 115 92.94\" gadfly:scale=\"5.0\" visibility=\"hidden\"/>\n",
        "      <path d=\"M19.75,87.57 L 115 87.57\" gadfly:scale=\"5.0\" visibility=\"hidden\"/>\n",
        "      <path d=\"M19.75,82.2 L 115 82.2\" gadfly:scale=\"5.0\" visibility=\"hidden\"/>\n",
        "      <path d=\"M19.75,76.83 L 115 76.83\" gadfly:scale=\"5.0\" visibility=\"hidden\"/>\n",
        "      <path d=\"M19.75,71.46 L 115 71.46\" gadfly:scale=\"5.0\" visibility=\"hidden\"/>\n",
        "      <path d=\"M19.75,66.09 L 115 66.09\" gadfly:scale=\"5.0\" visibility=\"hidden\"/>\n",
        "      <path d=\"M19.75,60.72 L 115 60.72\" gadfly:scale=\"5.0\" visibility=\"hidden\"/>\n",
        "      <path d=\"M19.75,55.34 L 115 55.34\" gadfly:scale=\"5.0\" visibility=\"hidden\"/>\n",
        "      <path d=\"M19.75,49.97 L 115 49.97\" gadfly:scale=\"5.0\" visibility=\"hidden\"/>\n",
        "      <path d=\"M19.75,44.6 L 115 44.6\" gadfly:scale=\"5.0\" visibility=\"hidden\"/>\n",
        "      <path d=\"M19.75,39.23 L 115 39.23\" gadfly:scale=\"5.0\" visibility=\"hidden\"/>\n",
        "      <path d=\"M19.75,33.86 L 115 33.86\" gadfly:scale=\"5.0\" visibility=\"hidden\"/>\n",
        "      <path d=\"M19.75,28.49 L 115 28.49\" gadfly:scale=\"5.0\" visibility=\"hidden\"/>\n",
        "      <path d=\"M19.75,23.11 L 115 23.11\" gadfly:scale=\"5.0\" visibility=\"hidden\"/>\n",
        "      <path d=\"M19.75,17.74 L 115 17.74\" gadfly:scale=\"5.0\" visibility=\"hidden\"/>\n",
        "      <path d=\"M19.75,12.37 L 115 12.37\" gadfly:scale=\"5.0\" visibility=\"hidden\"/>\n",
        "      <path d=\"M19.75,7 L 115 7\" gadfly:scale=\"5.0\" visibility=\"hidden\"/>\n",
        "      <path d=\"M19.75,1.63 L 115 1.63\" gadfly:scale=\"5.0\" visibility=\"hidden\"/>\n",
        "      <path d=\"M19.75,-3.74 L 115 -3.74\" gadfly:scale=\"5.0\" visibility=\"hidden\"/>\n",
        "      <path d=\"M19.75,-9.11 L 115 -9.11\" gadfly:scale=\"5.0\" visibility=\"hidden\"/>\n",
        "      <path d=\"M19.75,-14.49 L 115 -14.49\" gadfly:scale=\"5.0\" visibility=\"hidden\"/>\n",
        "      <path d=\"M19.75,-19.86 L 115 -19.86\" gadfly:scale=\"5.0\" visibility=\"hidden\"/>\n",
        "      <path d=\"M19.75,-25.23 L 115 -25.23\" gadfly:scale=\"5.0\" visibility=\"hidden\"/>\n",
        "      <path d=\"M19.75,-30.6 L 115 -30.6\" gadfly:scale=\"5.0\" visibility=\"hidden\"/>\n",
        "      <path d=\"M19.75,-35.97 L 115 -35.97\" gadfly:scale=\"5.0\" visibility=\"hidden\"/>\n",
        "      <path d=\"M19.75,-41.34 L 115 -41.34\" gadfly:scale=\"5.0\" visibility=\"hidden\"/>\n",
        "      <path d=\"M19.75,-46.71 L 115 -46.71\" gadfly:scale=\"5.0\" visibility=\"hidden\"/>\n",
        "    </g>\n",
        "    <g class=\"guide xgridlines yfixed\" stroke-dasharray=\"0.5,0.5\" stroke-width=\"0.2\" stroke=\"#D0D0E0\" id=\"fig-941554d3eb3b4b908c6699e000f5c6c8-element-8\">\n",
        "      <path d=\"M-87.76,5 L -87.76 62.72\" gadfly:scale=\"1.0\" visibility=\"hidden\"/>\n",
        "      <path d=\"M-69.51,5 L -69.51 62.72\" gadfly:scale=\"1.0\" visibility=\"hidden\"/>\n",
        "      <path d=\"M-51.26,5 L -51.26 62.72\" gadfly:scale=\"1.0\" visibility=\"hidden\"/>\n",
        "      <path d=\"M-33.01,5 L -33.01 62.72\" gadfly:scale=\"1.0\" visibility=\"hidden\"/>\n",
        "      <path d=\"M-14.76,5 L -14.76 62.72\" gadfly:scale=\"1.0\" visibility=\"hidden\"/>\n",
        "      <path d=\"M3.49,5 L 3.49 62.72\" gadfly:scale=\"1.0\" visibility=\"hidden\"/>\n",
        "      <path d=\"M21.75,5 L 21.75 62.72\" gadfly:scale=\"1.0\" visibility=\"visible\"/>\n",
        "      <path d=\"M40,5 L 40 62.72\" gadfly:scale=\"1.0\" visibility=\"visible\"/>\n",
        "      <path d=\"M58.25,5 L 58.25 62.72\" gadfly:scale=\"1.0\" visibility=\"visible\"/>\n",
        "      <path d=\"M76.5,5 L 76.5 62.72\" gadfly:scale=\"1.0\" visibility=\"visible\"/>\n",
        "      <path d=\"M94.75,5 L 94.75 62.72\" gadfly:scale=\"1.0\" visibility=\"visible\"/>\n",
        "      <path d=\"M113,5 L 113 62.72\" gadfly:scale=\"1.0\" visibility=\"visible\"/>\n",
        "      <path d=\"M131.25,5 L 131.25 62.72\" gadfly:scale=\"1.0\" visibility=\"hidden\"/>\n",
        "      <path d=\"M149.5,5 L 149.5 62.72\" gadfly:scale=\"1.0\" visibility=\"hidden\"/>\n",
        "      <path d=\"M167.75,5 L 167.75 62.72\" gadfly:scale=\"1.0\" visibility=\"hidden\"/>\n",
        "      <path d=\"M186,5 L 186 62.72\" gadfly:scale=\"1.0\" visibility=\"hidden\"/>\n",
        "      <path d=\"M204.26,5 L 204.26 62.72\" gadfly:scale=\"1.0\" visibility=\"hidden\"/>\n",
        "      <path d=\"M222.51,5 L 222.51 62.72\" gadfly:scale=\"1.0\" visibility=\"hidden\"/>\n",
        "      <path d=\"M-69.51,5 L -69.51 62.72\" gadfly:scale=\"10.0\" visibility=\"hidden\"/>\n",
        "      <path d=\"M-65.86,5 L -65.86 62.72\" gadfly:scale=\"10.0\" visibility=\"hidden\"/>\n",
        "      <path d=\"M-62.21,5 L -62.21 62.72\" gadfly:scale=\"10.0\" visibility=\"hidden\"/>\n",
        "      <path d=\"M-58.56,5 L -58.56 62.72\" gadfly:scale=\"10.0\" visibility=\"hidden\"/>\n",
        "      <path d=\"M-54.91,5 L -54.91 62.72\" gadfly:scale=\"10.0\" visibility=\"hidden\"/>\n",
        "      <path d=\"M-51.26,5 L -51.26 62.72\" gadfly:scale=\"10.0\" visibility=\"hidden\"/>\n",
        "      <path d=\"M-47.61,5 L -47.61 62.72\" gadfly:scale=\"10.0\" visibility=\"hidden\"/>\n",
        "      <path d=\"M-43.96,5 L -43.96 62.72\" gadfly:scale=\"10.0\" visibility=\"hidden\"/>\n",
        "      <path d=\"M-40.31,5 L -40.31 62.72\" gadfly:scale=\"10.0\" visibility=\"hidden\"/>\n",
        "      <path d=\"M-36.66,5 L -36.66 62.72\" gadfly:scale=\"10.0\" visibility=\"hidden\"/>\n",
        "      <path d=\"M-33.01,5 L -33.01 62.72\" gadfly:scale=\"10.0\" visibility=\"hidden\"/>\n",
        "      <path d=\"M-29.36,5 L -29.36 62.72\" gadfly:scale=\"10.0\" visibility=\"hidden\"/>\n",
        "      <path d=\"M-25.71,5 L -25.71 62.72\" gadfly:scale=\"10.0\" visibility=\"hidden\"/>\n",
        "      <path d=\"M-22.06,5 L -22.06 62.72\" gadfly:scale=\"10.0\" visibility=\"hidden\"/>\n",
        "      <path d=\"M-18.41,5 L -18.41 62.72\" gadfly:scale=\"10.0\" visibility=\"hidden\"/>\n",
        "      <path d=\"M-14.76,5 L -14.76 62.72\" gadfly:scale=\"10.0\" visibility=\"hidden\"/>\n",
        "      <path d=\"M-11.11,5 L -11.11 62.72\" gadfly:scale=\"10.0\" visibility=\"hidden\"/>\n",
        "      <path d=\"M-7.46,5 L -7.46 62.72\" gadfly:scale=\"10.0\" visibility=\"hidden\"/>\n",
        "      <path d=\"M-3.81,5 L -3.81 62.72\" gadfly:scale=\"10.0\" visibility=\"hidden\"/>\n",
        "      <path d=\"M-0.16,5 L -0.16 62.72\" gadfly:scale=\"10.0\" visibility=\"hidden\"/>\n",
        "      <path d=\"M3.49,5 L 3.49 62.72\" gadfly:scale=\"10.0\" visibility=\"hidden\"/>\n",
        "      <path d=\"M7.14,5 L 7.14 62.72\" gadfly:scale=\"10.0\" visibility=\"hidden\"/>\n",
        "      <path d=\"M10.79,5 L 10.79 62.72\" gadfly:scale=\"10.0\" visibility=\"hidden\"/>\n",
        "      <path d=\"M14.44,5 L 14.44 62.72\" gadfly:scale=\"10.0\" visibility=\"hidden\"/>\n",
        "      <path d=\"M18.09,5 L 18.09 62.72\" gadfly:scale=\"10.0\" visibility=\"hidden\"/>\n",
        "      <path d=\"M21.75,5 L 21.75 62.72\" gadfly:scale=\"10.0\" visibility=\"hidden\"/>\n",
        "      <path d=\"M25.4,5 L 25.4 62.72\" gadfly:scale=\"10.0\" visibility=\"hidden\"/>\n",
        "      <path d=\"M29.05,5 L 29.05 62.72\" gadfly:scale=\"10.0\" visibility=\"hidden\"/>\n",
        "      <path d=\"M32.7,5 L 32.7 62.72\" gadfly:scale=\"10.0\" visibility=\"hidden\"/>\n",
        "      <path d=\"M36.35,5 L 36.35 62.72\" gadfly:scale=\"10.0\" visibility=\"hidden\"/>\n",
        "      <path d=\"M40,5 L 40 62.72\" gadfly:scale=\"10.0\" visibility=\"hidden\"/>\n",
        "      <path d=\"M43.65,5 L 43.65 62.72\" gadfly:scale=\"10.0\" visibility=\"hidden\"/>\n",
        "      <path d=\"M47.3,5 L 47.3 62.72\" gadfly:scale=\"10.0\" visibility=\"hidden\"/>\n",
        "      <path d=\"M50.95,5 L 50.95 62.72\" gadfly:scale=\"10.0\" visibility=\"hidden\"/>\n",
        "      <path d=\"M54.6,5 L 54.6 62.72\" gadfly:scale=\"10.0\" visibility=\"hidden\"/>\n",
        "      <path d=\"M58.25,5 L 58.25 62.72\" gadfly:scale=\"10.0\" visibility=\"hidden\"/>\n",
        "      <path d=\"M61.9,5 L 61.9 62.72\" gadfly:scale=\"10.0\" visibility=\"hidden\"/>\n",
        "      <path d=\"M65.55,5 L 65.55 62.72\" gadfly:scale=\"10.0\" visibility=\"hidden\"/>\n",
        "      <path d=\"M69.2,5 L 69.2 62.72\" gadfly:scale=\"10.0\" visibility=\"hidden\"/>\n",
        "      <path d=\"M72.85,5 L 72.85 62.72\" gadfly:scale=\"10.0\" visibility=\"hidden\"/>\n",
        "      <path d=\"M76.5,5 L 76.5 62.72\" gadfly:scale=\"10.0\" visibility=\"hidden\"/>\n",
        "      <path d=\"M80.15,5 L 80.15 62.72\" gadfly:scale=\"10.0\" visibility=\"hidden\"/>\n",
        "      <path d=\"M83.8,5 L 83.8 62.72\" gadfly:scale=\"10.0\" visibility=\"hidden\"/>\n",
        "      <path d=\"M87.45,5 L 87.45 62.72\" gadfly:scale=\"10.0\" visibility=\"hidden\"/>\n",
        "      <path d=\"M91.1,5 L 91.1 62.72\" gadfly:scale=\"10.0\" visibility=\"hidden\"/>\n",
        "      <path d=\"M94.75,5 L 94.75 62.72\" gadfly:scale=\"10.0\" visibility=\"hidden\"/>\n",
        "      <path d=\"M98.4,5 L 98.4 62.72\" gadfly:scale=\"10.0\" visibility=\"hidden\"/>\n",
        "      <path d=\"M102.05,5 L 102.05 62.72\" gadfly:scale=\"10.0\" visibility=\"hidden\"/>\n",
        "      <path d=\"M105.7,5 L 105.7 62.72\" gadfly:scale=\"10.0\" visibility=\"hidden\"/>\n",
        "      <path d=\"M109.35,5 L 109.35 62.72\" gadfly:scale=\"10.0\" visibility=\"hidden\"/>\n",
        "      <path d=\"M113,5 L 113 62.72\" gadfly:scale=\"10.0\" visibility=\"hidden\"/>\n",
        "      <path d=\"M116.65,5 L 116.65 62.72\" gadfly:scale=\"10.0\" visibility=\"hidden\"/>\n",
        "      <path d=\"M120.3,5 L 120.3 62.72\" gadfly:scale=\"10.0\" visibility=\"hidden\"/>\n",
        "      <path d=\"M123.95,5 L 123.95 62.72\" gadfly:scale=\"10.0\" visibility=\"hidden\"/>\n",
        "      <path d=\"M127.6,5 L 127.6 62.72\" gadfly:scale=\"10.0\" visibility=\"hidden\"/>\n",
        "      <path d=\"M131.25,5 L 131.25 62.72\" gadfly:scale=\"10.0\" visibility=\"hidden\"/>\n",
        "      <path d=\"M134.9,5 L 134.9 62.72\" gadfly:scale=\"10.0\" visibility=\"hidden\"/>\n",
        "      <path d=\"M138.55,5 L 138.55 62.72\" gadfly:scale=\"10.0\" visibility=\"hidden\"/>\n",
        "      <path d=\"M142.2,5 L 142.2 62.72\" gadfly:scale=\"10.0\" visibility=\"hidden\"/>\n",
        "      <path d=\"M145.85,5 L 145.85 62.72\" gadfly:scale=\"10.0\" visibility=\"hidden\"/>\n",
        "      <path d=\"M149.5,5 L 149.5 62.72\" gadfly:scale=\"10.0\" visibility=\"hidden\"/>\n",
        "      <path d=\"M153.15,5 L 153.15 62.72\" gadfly:scale=\"10.0\" visibility=\"hidden\"/>\n",
        "      <path d=\"M156.8,5 L 156.8 62.72\" gadfly:scale=\"10.0\" visibility=\"hidden\"/>\n",
        "      <path d=\"M160.45,5 L 160.45 62.72\" gadfly:scale=\"10.0\" visibility=\"hidden\"/>\n",
        "      <path d=\"M164.1,5 L 164.1 62.72\" gadfly:scale=\"10.0\" visibility=\"hidden\"/>\n",
        "      <path d=\"M167.75,5 L 167.75 62.72\" gadfly:scale=\"10.0\" visibility=\"hidden\"/>\n",
        "      <path d=\"M171.4,5 L 171.4 62.72\" gadfly:scale=\"10.0\" visibility=\"hidden\"/>\n",
        "      <path d=\"M175.05,5 L 175.05 62.72\" gadfly:scale=\"10.0\" visibility=\"hidden\"/>\n",
        "      <path d=\"M178.7,5 L 178.7 62.72\" gadfly:scale=\"10.0\" visibility=\"hidden\"/>\n",
        "      <path d=\"M182.35,5 L 182.35 62.72\" gadfly:scale=\"10.0\" visibility=\"hidden\"/>\n",
        "      <path d=\"M186,5 L 186 62.72\" gadfly:scale=\"10.0\" visibility=\"hidden\"/>\n",
        "      <path d=\"M189.65,5 L 189.65 62.72\" gadfly:scale=\"10.0\" visibility=\"hidden\"/>\n",
        "      <path d=\"M193.3,5 L 193.3 62.72\" gadfly:scale=\"10.0\" visibility=\"hidden\"/>\n",
        "      <path d=\"M196.95,5 L 196.95 62.72\" gadfly:scale=\"10.0\" visibility=\"hidden\"/>\n",
        "      <path d=\"M200.6,5 L 200.6 62.72\" gadfly:scale=\"10.0\" visibility=\"hidden\"/>\n",
        "      <path d=\"M204.26,5 L 204.26 62.72\" gadfly:scale=\"10.0\" visibility=\"hidden\"/>\n",
        "      <path d=\"M-69.51,5 L -69.51 62.72\" gadfly:scale=\"0.5\" visibility=\"hidden\"/>\n",
        "      <path d=\"M21.75,5 L 21.75 62.72\" gadfly:scale=\"0.5\" visibility=\"hidden\"/>\n",
        "      <path d=\"M113,5 L 113 62.72\" gadfly:scale=\"0.5\" visibility=\"hidden\"/>\n",
        "      <path d=\"M204.26,5 L 204.26 62.72\" gadfly:scale=\"0.5\" visibility=\"hidden\"/>\n",
        "      <path d=\"M-73.16,5 L -73.16 62.72\" gadfly:scale=\"5.0\" visibility=\"hidden\"/>\n",
        "      <path d=\"M-65.86,5 L -65.86 62.72\" gadfly:scale=\"5.0\" visibility=\"hidden\"/>\n",
        "      <path d=\"M-58.56,5 L -58.56 62.72\" gadfly:scale=\"5.0\" visibility=\"hidden\"/>\n",
        "      <path d=\"M-51.26,5 L -51.26 62.72\" gadfly:scale=\"5.0\" visibility=\"hidden\"/>\n",
        "      <path d=\"M-43.96,5 L -43.96 62.72\" gadfly:scale=\"5.0\" visibility=\"hidden\"/>\n",
        "      <path d=\"M-36.66,5 L -36.66 62.72\" gadfly:scale=\"5.0\" visibility=\"hidden\"/>\n",
        "      <path d=\"M-29.36,5 L -29.36 62.72\" gadfly:scale=\"5.0\" visibility=\"hidden\"/>\n",
        "      <path d=\"M-22.06,5 L -22.06 62.72\" gadfly:scale=\"5.0\" visibility=\"hidden\"/>\n",
        "      <path d=\"M-14.76,5 L -14.76 62.72\" gadfly:scale=\"5.0\" visibility=\"hidden\"/>\n",
        "      <path d=\"M-7.46,5 L -7.46 62.72\" gadfly:scale=\"5.0\" visibility=\"hidden\"/>\n",
        "      <path d=\"M-0.16,5 L -0.16 62.72\" gadfly:scale=\"5.0\" visibility=\"hidden\"/>\n",
        "      <path d=\"M7.14,5 L 7.14 62.72\" gadfly:scale=\"5.0\" visibility=\"hidden\"/>\n",
        "      <path d=\"M14.44,5 L 14.44 62.72\" gadfly:scale=\"5.0\" visibility=\"hidden\"/>\n",
        "      <path d=\"M21.75,5 L 21.75 62.72\" gadfly:scale=\"5.0\" visibility=\"hidden\"/>\n",
        "      <path d=\"M29.05,5 L 29.05 62.72\" gadfly:scale=\"5.0\" visibility=\"hidden\"/>\n",
        "      <path d=\"M36.35,5 L 36.35 62.72\" gadfly:scale=\"5.0\" visibility=\"hidden\"/>\n",
        "      <path d=\"M43.65,5 L 43.65 62.72\" gadfly:scale=\"5.0\" visibility=\"hidden\"/>\n",
        "      <path d=\"M50.95,5 L 50.95 62.72\" gadfly:scale=\"5.0\" visibility=\"hidden\"/>\n",
        "      <path d=\"M58.25,5 L 58.25 62.72\" gadfly:scale=\"5.0\" visibility=\"hidden\"/>\n",
        "      <path d=\"M65.55,5 L 65.55 62.72\" gadfly:scale=\"5.0\" visibility=\"hidden\"/>\n",
        "      <path d=\"M72.85,5 L 72.85 62.72\" gadfly:scale=\"5.0\" visibility=\"hidden\"/>\n",
        "      <path d=\"M80.15,5 L 80.15 62.72\" gadfly:scale=\"5.0\" visibility=\"hidden\"/>\n",
        "      <path d=\"M87.45,5 L 87.45 62.72\" gadfly:scale=\"5.0\" visibility=\"hidden\"/>\n",
        "      <path d=\"M94.75,5 L 94.75 62.72\" gadfly:scale=\"5.0\" visibility=\"hidden\"/>\n",
        "      <path d=\"M102.05,5 L 102.05 62.72\" gadfly:scale=\"5.0\" visibility=\"hidden\"/>\n",
        "      <path d=\"M109.35,5 L 109.35 62.72\" gadfly:scale=\"5.0\" visibility=\"hidden\"/>\n",
        "      <path d=\"M116.65,5 L 116.65 62.72\" gadfly:scale=\"5.0\" visibility=\"hidden\"/>\n",
        "      <path d=\"M123.95,5 L 123.95 62.72\" gadfly:scale=\"5.0\" visibility=\"hidden\"/>\n",
        "      <path d=\"M131.25,5 L 131.25 62.72\" gadfly:scale=\"5.0\" visibility=\"hidden\"/>\n",
        "      <path d=\"M138.55,5 L 138.55 62.72\" gadfly:scale=\"5.0\" visibility=\"hidden\"/>\n",
        "      <path d=\"M145.85,5 L 145.85 62.72\" gadfly:scale=\"5.0\" visibility=\"hidden\"/>\n",
        "      <path d=\"M153.15,5 L 153.15 62.72\" gadfly:scale=\"5.0\" visibility=\"hidden\"/>\n",
        "      <path d=\"M160.45,5 L 160.45 62.72\" gadfly:scale=\"5.0\" visibility=\"hidden\"/>\n",
        "      <path d=\"M167.75,5 L 167.75 62.72\" gadfly:scale=\"5.0\" visibility=\"hidden\"/>\n",
        "      <path d=\"M175.05,5 L 175.05 62.72\" gadfly:scale=\"5.0\" visibility=\"hidden\"/>\n",
        "      <path d=\"M182.35,5 L 182.35 62.72\" gadfly:scale=\"5.0\" visibility=\"hidden\"/>\n",
        "      <path d=\"M189.65,5 L 189.65 62.72\" gadfly:scale=\"5.0\" visibility=\"hidden\"/>\n",
        "      <path d=\"M196.95,5 L 196.95 62.72\" gadfly:scale=\"5.0\" visibility=\"hidden\"/>\n",
        "      <path d=\"M204.26,5 L 204.26 62.72\" gadfly:scale=\"5.0\" visibility=\"hidden\"/>\n",
        "    </g>\n",
        "    <g class=\"plotpanel\" id=\"fig-941554d3eb3b4b908c6699e000f5c6c8-element-9\">\n",
        "      <g stroke-width=\"0.3\" fill=\"none\" class=\"geometry\" stroke=\"#00BFFF\" id=\"fig-941554d3eb3b4b908c6699e000f5c6c8-element-10\">\n",
        "        <path d=\"M21.75,7 L 22.11 7.14 22.48 7.54 22.84 8.21 23.21 9.14 23.58 10.31 23.94 11.73 24.31 13.36 24.68 15.21 25.04 17.24 25.41 19.44 25.78 21.78 26.14 24.25 26.51 26.81 26.88 29.44 27.24 32.12 27.61 34.81 27.98 37.5 28.34 40.15 28.71 42.73 29.07 45.23 29.44 47.61 29.81 49.85 30.17 51.94 30.54 53.84 30.91 55.53 31.27 57.01 31.64 58.26 32.01 59.26 32.37 60.01 32.74 60.49 33.11 60.7 33.47 60.65 33.84 60.32 34.21 59.73 34.57 58.87 34.94 57.77 35.3 56.42 35.67 54.85 36.04 53.06 36.4 51.08 36.77 48.93 37.14 46.63 37.5 44.2 37.87 41.66 38.24 39.04 38.6 36.38 38.97 33.68 39.34 30.99 39.7 28.33 40.07 25.72 40.44 23.2 40.8 20.78 41.17 18.5 41.54 16.37 41.9 14.41 42.27 12.65 42.63 11.11 43 9.79 43.37 8.72 43.73 7.9 44.1 7.34 44.47 7.05 44.83 7.02 45.2 7.27 45.57 7.79 45.93 8.57 46.3 9.6 46.67 10.88 47.03 12.39 47.4 14.11 47.77 16.04 48.13 18.14 48.5 20.4 48.86 22.8 49.23 25.31 49.6 27.91 49.96 30.56 50.33 33.25 50.7 35.94 51.06 38.62 51.43 41.24 51.8 43.79 52.16 46.24 52.53 48.57 52.9 50.75 53.26 52.76 53.63 54.57 54 56.18 54.36 57.57 54.73 58.71 55.1 59.61 55.46 60.24 55.83 60.61 56.19 60.71 56.56 60.54 56.93 60.1 57.29 59.4 57.66 58.44 58.03 57.23 58.39 55.79 58.76 54.12 59.13 52.26 59.49 50.2 59.86 47.98 60.23 45.62 60.59 43.14 60.96 40.57 61.33 37.93 61.69 35.25 62.06 32.55 62.42 29.87 62.79 27.23 63.16 24.65 63.52 22.17 63.89 19.81 64.26 17.58 64.62 15.52 64.99 13.65 65.36 11.98 65.72 10.53 66.09 9.31 66.46 8.34 66.82 7.63 67.19 7.18 67.56 7 67.92 7.1 68.29 7.46 68.66 8.08 69.02 8.97 69.39 10.11 69.75 11.48 70.12 13.09 70.49 14.9 70.85 16.9 71.22 19.07 71.59 21.39 71.95 23.84 72.32 26.39 72.69 29.01 73.05 31.69 73.42 34.38 73.79 37.07 74.15 39.73 74.52 42.32 74.89 44.84 75.25 47.24 75.62 49.5 75.98 51.61 76.35 53.54 76.72 55.28 77.08 56.79 77.45 58.08 77.82 59.12 78.18 59.91 78.55 60.43 78.92 60.69 79.28 60.67 79.65 60.39 80.02 59.84 80.38 59.03 80.75 57.96 81.12 56.65 81.48 55.12 81.85 53.36 82.22 51.41 82.58 49.29 82.95 47.01 83.31 44.59 83.68 42.07 84.05 39.47 84.41 36.81 84.78 34.12 85.15 31.42 85.51 28.76 85.88 26.14 86.25 23.6 86.61 21.16 86.98 18.85 87.35 16.7 87.71 14.71 88.08 12.92 88.45 11.34 88.81 9.99 89.18 8.87 89.54 8.01 89.91 7.41 90.28 7.07 90.64 7.01 91.01 7.21 91.38 7.69 91.74 8.42 92.11 9.42 92.48 10.66 92.84 12.13 93.21 13.82 93.58 15.72 93.94 17.79 94.31 20.03 94.68 22.41 95.04 24.9 95.41 27.48 95.78 30.13 96.14 32.81 96.51 35.51 96.87 38.19 97.24 40.82 97.61 43.39 97.97 45.86 98.34 48.21 98.71 50.41 99.07 52.45 99.44 54.29 99.81 55.94 100.17 57.36 100.54 58.54 100.91 59.48 101.27 60.16 101.64 60.57 102.01 60.71 102.37 60.59 102.74 60.19 103.1 59.53 103.47 58.61 103.84 57.44 104.2 56.04 104.57 54.41 104.94 52.57 105.3 50.54 105.67 48.35 106.04 46.01 106.4 43.55 106.77 40.99 107.14 38.36 107.5 35.68 107.87 32.99 108.24 30.3 108.6 27.65 108.97 25.06 109.34 22.56 109.7 20.18 110.07 17.93 110.43 15.84 110.8 13.94 111.17 12.23 111.53 10.74 111.9 9.49 112.27 8.48 112.63 7.73 113 7.24\"/>\n",
        "      </g>\n",
        "    </g>\n",
        "    <g opacity=\"0\" class=\"guide zoomslider\" stroke=\"none\" id=\"fig-941554d3eb3b4b908c6699e000f5c6c8-element-11\">\n",
        "      <g fill=\"#EAEAEA\" stroke-width=\"0.3\" stroke-opacity=\"0\" stroke=\"#6A6A6A\" id=\"fig-941554d3eb3b4b908c6699e000f5c6c8-element-12\">\n",
        "        <rect x=\"108\" y=\"8\" width=\"4\" height=\"4\"/>\n",
        "        <g class=\"button_logo\" fill=\"#6A6A6A\" id=\"fig-941554d3eb3b4b908c6699e000f5c6c8-element-13\">\n",
        "          <path d=\"M108.8,9.6 L 109.6 9.6 109.6 8.8 110.4 8.8 110.4 9.6 111.2 9.6 111.2 10.4 110.4 10.4 110.4 11.2 109.6 11.2 109.6 10.4 108.8 10.4 z\"/>\n",
        "        </g>\n",
        "      </g>\n",
        "      <g fill=\"#EAEAEA\" id=\"fig-941554d3eb3b4b908c6699e000f5c6c8-element-14\">\n",
        "        <rect x=\"88.5\" y=\"8\" width=\"19\" height=\"4\"/>\n",
        "      </g>\n",
        "      <g class=\"zoomslider_thumb\" fill=\"#6A6A6A\" id=\"fig-941554d3eb3b4b908c6699e000f5c6c8-element-15\">\n",
        "        <rect x=\"97\" y=\"8\" width=\"2\" height=\"4\"/>\n",
        "      </g>\n",
        "      <g fill=\"#EAEAEA\" stroke-width=\"0.3\" stroke-opacity=\"0\" stroke=\"#6A6A6A\" id=\"fig-941554d3eb3b4b908c6699e000f5c6c8-element-16\">\n",
        "        <rect x=\"84\" y=\"8\" width=\"4\" height=\"4\"/>\n",
        "        <g class=\"button_logo\" fill=\"#6A6A6A\" id=\"fig-941554d3eb3b4b908c6699e000f5c6c8-element-17\">\n",
        "          <path d=\"M84.8,9.6 L 87.2 9.6 87.2 10.4 84.8 10.4 z\"/>\n",
        "        </g>\n",
        "      </g>\n",
        "    </g>\n",
        "  </g>\n",
        "  <g class=\"guide ylabels\" font-size=\"2.82\" font-family=\"'PT Sans Caption','Helvetica Neue','Helvetica',sans-serif\" fill=\"#6C606B\" id=\"fig-941554d3eb3b4b908c6699e000f5c6c8-element-18\">\n",
        "    <text x=\"18.75\" y=\"127.86\" text-anchor=\"end\" dy=\"0.35em\" gadfly:scale=\"1.0\" visibility=\"hidden\">-3.5</text>\n",
        "    <text x=\"18.75\" y=\"114.43\" text-anchor=\"end\" dy=\"0.35em\" gadfly:scale=\"1.0\" visibility=\"hidden\">-3.0</text>\n",
        "    <text x=\"18.75\" y=\"101\" text-anchor=\"end\" dy=\"0.35em\" gadfly:scale=\"1.0\" visibility=\"hidden\">-2.5</text>\n",
        "    <text x=\"18.75\" y=\"87.57\" text-anchor=\"end\" dy=\"0.35em\" gadfly:scale=\"1.0\" visibility=\"hidden\">-2.0</text>\n",
        "    <text x=\"18.75\" y=\"74.14\" text-anchor=\"end\" dy=\"0.35em\" gadfly:scale=\"1.0\" visibility=\"hidden\">-1.5</text>\n",
        "    <text x=\"18.75\" y=\"60.72\" text-anchor=\"end\" dy=\"0.35em\" gadfly:scale=\"1.0\" visibility=\"visible\">-1.0</text>\n",
        "    <text x=\"18.75\" y=\"47.29\" text-anchor=\"end\" dy=\"0.35em\" gadfly:scale=\"1.0\" visibility=\"visible\">-0.5</text>\n",
        "    <text x=\"18.75\" y=\"33.86\" text-anchor=\"end\" dy=\"0.35em\" gadfly:scale=\"1.0\" visibility=\"visible\">0.0</text>\n",
        "    <text x=\"18.75\" y=\"20.43\" text-anchor=\"end\" dy=\"0.35em\" gadfly:scale=\"1.0\" visibility=\"visible\">0.5</text>\n",
        "    <text x=\"18.75\" y=\"7\" text-anchor=\"end\" dy=\"0.35em\" gadfly:scale=\"1.0\" visibility=\"visible\">1.0</text>\n",
        "    <text x=\"18.75\" y=\"-6.43\" text-anchor=\"end\" dy=\"0.35em\" gadfly:scale=\"1.0\" visibility=\"hidden\">1.5</text>\n",
        "    <text x=\"18.75\" y=\"-19.86\" text-anchor=\"end\" dy=\"0.35em\" gadfly:scale=\"1.0\" visibility=\"hidden\">2.0</text>\n",
        "    <text x=\"18.75\" y=\"-33.29\" text-anchor=\"end\" dy=\"0.35em\" gadfly:scale=\"1.0\" visibility=\"hidden\">2.5</text>\n",
        "    <text x=\"18.75\" y=\"-46.71\" text-anchor=\"end\" dy=\"0.35em\" gadfly:scale=\"1.0\" visibility=\"hidden\">3.0</text>\n",
        "    <text x=\"18.75\" y=\"-60.14\" text-anchor=\"end\" dy=\"0.35em\" gadfly:scale=\"1.0\" visibility=\"hidden\">3.5</text>\n",
        "    <text x=\"18.75\" y=\"114.43\" text-anchor=\"end\" dy=\"0.35em\" gadfly:scale=\"10.0\" visibility=\"hidden\">-3.0</text>\n",
        "    <text x=\"18.75\" y=\"111.74\" text-anchor=\"end\" dy=\"0.35em\" gadfly:scale=\"10.0\" visibility=\"hidden\">-2.9</text>\n",
        "    <text x=\"18.75\" y=\"109.06\" text-anchor=\"end\" dy=\"0.35em\" gadfly:scale=\"10.0\" visibility=\"hidden\">-2.8</text>\n",
        "    <text x=\"18.75\" y=\"106.37\" text-anchor=\"end\" dy=\"0.35em\" gadfly:scale=\"10.0\" visibility=\"hidden\">-2.7</text>\n",
        "    <text x=\"18.75\" y=\"103.69\" text-anchor=\"end\" dy=\"0.35em\" gadfly:scale=\"10.0\" visibility=\"hidden\">-2.6</text>\n",
        "    <text x=\"18.75\" y=\"101\" text-anchor=\"end\" dy=\"0.35em\" gadfly:scale=\"10.0\" visibility=\"hidden\">-2.5</text>\n",
        "    <text x=\"18.75\" y=\"98.32\" text-anchor=\"end\" dy=\"0.35em\" gadfly:scale=\"10.0\" visibility=\"hidden\">-2.4</text>\n",
        "    <text x=\"18.75\" y=\"95.63\" text-anchor=\"end\" dy=\"0.35em\" gadfly:scale=\"10.0\" visibility=\"hidden\">-2.3</text>\n",
        "    <text x=\"18.75\" y=\"92.94\" text-anchor=\"end\" dy=\"0.35em\" gadfly:scale=\"10.0\" visibility=\"hidden\">-2.2</text>\n",
        "    <text x=\"18.75\" y=\"90.26\" text-anchor=\"end\" dy=\"0.35em\" gadfly:scale=\"10.0\" visibility=\"hidden\">-2.1</text>\n",
        "    <text x=\"18.75\" y=\"87.57\" text-anchor=\"end\" dy=\"0.35em\" gadfly:scale=\"10.0\" visibility=\"hidden\">-2.0</text>\n",
        "    <text x=\"18.75\" y=\"84.89\" text-anchor=\"end\" dy=\"0.35em\" gadfly:scale=\"10.0\" visibility=\"hidden\">-1.9</text>\n",
        "    <text x=\"18.75\" y=\"82.2\" text-anchor=\"end\" dy=\"0.35em\" gadfly:scale=\"10.0\" visibility=\"hidden\">-1.8</text>\n",
        "    <text x=\"18.75\" y=\"79.52\" text-anchor=\"end\" dy=\"0.35em\" gadfly:scale=\"10.0\" visibility=\"hidden\">-1.7</text>\n",
        "    <text x=\"18.75\" y=\"76.83\" text-anchor=\"end\" dy=\"0.35em\" gadfly:scale=\"10.0\" visibility=\"hidden\">-1.6</text>\n",
        "    <text x=\"18.75\" y=\"74.14\" text-anchor=\"end\" dy=\"0.35em\" gadfly:scale=\"10.0\" visibility=\"hidden\">-1.5</text>\n",
        "    <text x=\"18.75\" y=\"71.46\" text-anchor=\"end\" dy=\"0.35em\" gadfly:scale=\"10.0\" visibility=\"hidden\">-1.4</text>\n",
        "    <text x=\"18.75\" y=\"68.77\" text-anchor=\"end\" dy=\"0.35em\" gadfly:scale=\"10.0\" visibility=\"hidden\">-1.3</text>\n",
        "    <text x=\"18.75\" y=\"66.09\" text-anchor=\"end\" dy=\"0.35em\" gadfly:scale=\"10.0\" visibility=\"hidden\">-1.2</text>\n",
        "    <text x=\"18.75\" y=\"63.4\" text-anchor=\"end\" dy=\"0.35em\" gadfly:scale=\"10.0\" visibility=\"hidden\">-1.1</text>\n",
        "    <text x=\"18.75\" y=\"60.72\" text-anchor=\"end\" dy=\"0.35em\" gadfly:scale=\"10.0\" visibility=\"hidden\">-1.0</text>\n",
        "    <text x=\"18.75\" y=\"58.03\" text-anchor=\"end\" dy=\"0.35em\" gadfly:scale=\"10.0\" visibility=\"hidden\">-0.9</text>\n",
        "    <text x=\"18.75\" y=\"55.34\" text-anchor=\"end\" dy=\"0.35em\" gadfly:scale=\"10.0\" visibility=\"hidden\">-0.8</text>\n",
        "    <text x=\"18.75\" y=\"52.66\" text-anchor=\"end\" dy=\"0.35em\" gadfly:scale=\"10.0\" visibility=\"hidden\">-0.7</text>\n",
        "    <text x=\"18.75\" y=\"49.97\" text-anchor=\"end\" dy=\"0.35em\" gadfly:scale=\"10.0\" visibility=\"hidden\">-0.6</text>\n",
        "    <text x=\"18.75\" y=\"47.29\" text-anchor=\"end\" dy=\"0.35em\" gadfly:scale=\"10.0\" visibility=\"hidden\">-0.5</text>\n",
        "    <text x=\"18.75\" y=\"44.6\" text-anchor=\"end\" dy=\"0.35em\" gadfly:scale=\"10.0\" visibility=\"hidden\">-0.4</text>\n",
        "    <text x=\"18.75\" y=\"41.91\" text-anchor=\"end\" dy=\"0.35em\" gadfly:scale=\"10.0\" visibility=\"hidden\">-0.3</text>\n",
        "    <text x=\"18.75\" y=\"39.23\" text-anchor=\"end\" dy=\"0.35em\" gadfly:scale=\"10.0\" visibility=\"hidden\">-0.2</text>\n",
        "    <text x=\"18.75\" y=\"36.54\" text-anchor=\"end\" dy=\"0.35em\" gadfly:scale=\"10.0\" visibility=\"hidden\">-0.1</text>\n",
        "    <text x=\"18.75\" y=\"33.86\" text-anchor=\"end\" dy=\"0.35em\" gadfly:scale=\"10.0\" visibility=\"hidden\">0.0</text>\n",
        "    <text x=\"18.75\" y=\"31.17\" text-anchor=\"end\" dy=\"0.35em\" gadfly:scale=\"10.0\" visibility=\"hidden\">0.1</text>\n",
        "    <text x=\"18.75\" y=\"28.49\" text-anchor=\"end\" dy=\"0.35em\" gadfly:scale=\"10.0\" visibility=\"hidden\">0.2</text>\n",
        "    <text x=\"18.75\" y=\"25.8\" text-anchor=\"end\" dy=\"0.35em\" gadfly:scale=\"10.0\" visibility=\"hidden\">0.3</text>\n",
        "    <text x=\"18.75\" y=\"23.11\" text-anchor=\"end\" dy=\"0.35em\" gadfly:scale=\"10.0\" visibility=\"hidden\">0.4</text>\n",
        "    <text x=\"18.75\" y=\"20.43\" text-anchor=\"end\" dy=\"0.35em\" gadfly:scale=\"10.0\" visibility=\"hidden\">0.5</text>\n",
        "    <text x=\"18.75\" y=\"17.74\" text-anchor=\"end\" dy=\"0.35em\" gadfly:scale=\"10.0\" visibility=\"hidden\">0.6</text>\n",
        "    <text x=\"18.75\" y=\"15.06\" text-anchor=\"end\" dy=\"0.35em\" gadfly:scale=\"10.0\" visibility=\"hidden\">0.7</text>\n",
        "    <text x=\"18.75\" y=\"12.37\" text-anchor=\"end\" dy=\"0.35em\" gadfly:scale=\"10.0\" visibility=\"hidden\">0.8</text>\n",
        "    <text x=\"18.75\" y=\"9.69\" text-anchor=\"end\" dy=\"0.35em\" gadfly:scale=\"10.0\" visibility=\"hidden\">0.9</text>\n",
        "    <text x=\"18.75\" y=\"7\" text-anchor=\"end\" dy=\"0.35em\" gadfly:scale=\"10.0\" visibility=\"hidden\">1.0</text>\n",
        "    <text x=\"18.75\" y=\"4.31\" text-anchor=\"end\" dy=\"0.35em\" gadfly:scale=\"10.0\" visibility=\"hidden\">1.1</text>\n",
        "    <text x=\"18.75\" y=\"1.63\" text-anchor=\"end\" dy=\"0.35em\" gadfly:scale=\"10.0\" visibility=\"hidden\">1.2</text>\n",
        "    <text x=\"18.75\" y=\"-1.06\" text-anchor=\"end\" dy=\"0.35em\" gadfly:scale=\"10.0\" visibility=\"hidden\">1.3</text>\n",
        "    <text x=\"18.75\" y=\"-3.74\" text-anchor=\"end\" dy=\"0.35em\" gadfly:scale=\"10.0\" visibility=\"hidden\">1.4</text>\n",
        "    <text x=\"18.75\" y=\"-6.43\" text-anchor=\"end\" dy=\"0.35em\" gadfly:scale=\"10.0\" visibility=\"hidden\">1.5</text>\n",
        "    <text x=\"18.75\" y=\"-9.11\" text-anchor=\"end\" dy=\"0.35em\" gadfly:scale=\"10.0\" visibility=\"hidden\">1.6</text>\n",
        "    <text x=\"18.75\" y=\"-11.8\" text-anchor=\"end\" dy=\"0.35em\" gadfly:scale=\"10.0\" visibility=\"hidden\">1.7</text>\n",
        "    <text x=\"18.75\" y=\"-14.49\" text-anchor=\"end\" dy=\"0.35em\" gadfly:scale=\"10.0\" visibility=\"hidden\">1.8</text>\n",
        "    <text x=\"18.75\" y=\"-17.17\" text-anchor=\"end\" dy=\"0.35em\" gadfly:scale=\"10.0\" visibility=\"hidden\">1.9</text>\n",
        "    <text x=\"18.75\" y=\"-19.86\" text-anchor=\"end\" dy=\"0.35em\" gadfly:scale=\"10.0\" visibility=\"hidden\">2.0</text>\n",
        "    <text x=\"18.75\" y=\"-22.54\" text-anchor=\"end\" dy=\"0.35em\" gadfly:scale=\"10.0\" visibility=\"hidden\">2.1</text>\n",
        "    <text x=\"18.75\" y=\"-25.23\" text-anchor=\"end\" dy=\"0.35em\" gadfly:scale=\"10.0\" visibility=\"hidden\">2.2</text>\n",
        "    <text x=\"18.75\" y=\"-27.91\" text-anchor=\"end\" dy=\"0.35em\" gadfly:scale=\"10.0\" visibility=\"hidden\">2.3</text>\n",
        "    <text x=\"18.75\" y=\"-30.6\" text-anchor=\"end\" dy=\"0.35em\" gadfly:scale=\"10.0\" visibility=\"hidden\">2.4</text>\n",
        "    <text x=\"18.75\" y=\"-33.29\" text-anchor=\"end\" dy=\"0.35em\" gadfly:scale=\"10.0\" visibility=\"hidden\">2.5</text>\n",
        "    <text x=\"18.75\" y=\"-35.97\" text-anchor=\"end\" dy=\"0.35em\" gadfly:scale=\"10.0\" visibility=\"hidden\">2.6</text>\n",
        "    <text x=\"18.75\" y=\"-38.66\" text-anchor=\"end\" dy=\"0.35em\" gadfly:scale=\"10.0\" visibility=\"hidden\">2.7</text>\n",
        "    <text x=\"18.75\" y=\"-41.34\" text-anchor=\"end\" dy=\"0.35em\" gadfly:scale=\"10.0\" visibility=\"hidden\">2.8</text>\n",
        "    <text x=\"18.75\" y=\"-44.03\" text-anchor=\"end\" dy=\"0.35em\" gadfly:scale=\"10.0\" visibility=\"hidden\">2.9</text>\n",
        "    <text x=\"18.75\" y=\"-46.71\" text-anchor=\"end\" dy=\"0.35em\" gadfly:scale=\"10.0\" visibility=\"hidden\">3.0</text>\n",
        "    <text x=\"18.75\" y=\"141.29\" text-anchor=\"end\" dy=\"0.35em\" gadfly:scale=\"0.5\" visibility=\"hidden\">-4</text>\n",
        "    <text x=\"18.75\" y=\"87.57\" text-anchor=\"end\" dy=\"0.35em\" gadfly:scale=\"0.5\" visibility=\"hidden\">-2</text>\n",
        "    <text x=\"18.75\" y=\"33.86\" text-anchor=\"end\" dy=\"0.35em\" gadfly:scale=\"0.5\" visibility=\"hidden\">0</text>\n",
        "    <text x=\"18.75\" y=\"-19.86\" text-anchor=\"end\" dy=\"0.35em\" gadfly:scale=\"0.5\" visibility=\"hidden\">2</text>\n",
        "    <text x=\"18.75\" y=\"-73.57\" text-anchor=\"end\" dy=\"0.35em\" gadfly:scale=\"0.5\" visibility=\"hidden\">4</text>\n",
        "    <text x=\"18.75\" y=\"114.43\" text-anchor=\"end\" dy=\"0.35em\" gadfly:scale=\"5.0\" visibility=\"hidden\">-3.0</text>\n",
        "    <text x=\"18.75\" y=\"109.06\" text-anchor=\"end\" dy=\"0.35em\" gadfly:scale=\"5.0\" visibility=\"hidden\">-2.8</text>\n",
        "    <text x=\"18.75\" y=\"103.69\" text-anchor=\"end\" dy=\"0.35em\" gadfly:scale=\"5.0\" visibility=\"hidden\">-2.6</text>\n",
        "    <text x=\"18.75\" y=\"98.32\" text-anchor=\"end\" dy=\"0.35em\" gadfly:scale=\"5.0\" visibility=\"hidden\">-2.4</text>\n",
        "    <text x=\"18.75\" y=\"92.94\" text-anchor=\"end\" dy=\"0.35em\" gadfly:scale=\"5.0\" visibility=\"hidden\">-2.2</text>\n",
        "    <text x=\"18.75\" y=\"87.57\" text-anchor=\"end\" dy=\"0.35em\" gadfly:scale=\"5.0\" visibility=\"hidden\">-2.0</text>\n",
        "    <text x=\"18.75\" y=\"82.2\" text-anchor=\"end\" dy=\"0.35em\" gadfly:scale=\"5.0\" visibility=\"hidden\">-1.8</text>\n",
        "    <text x=\"18.75\" y=\"76.83\" text-anchor=\"end\" dy=\"0.35em\" gadfly:scale=\"5.0\" visibility=\"hidden\">-1.6</text>\n",
        "    <text x=\"18.75\" y=\"71.46\" text-anchor=\"end\" dy=\"0.35em\" gadfly:scale=\"5.0\" visibility=\"hidden\">-1.4</text>\n",
        "    <text x=\"18.75\" y=\"66.09\" text-anchor=\"end\" dy=\"0.35em\" gadfly:scale=\"5.0\" visibility=\"hidden\">-1.2</text>\n",
        "    <text x=\"18.75\" y=\"60.72\" text-anchor=\"end\" dy=\"0.35em\" gadfly:scale=\"5.0\" visibility=\"hidden\">-1.0</text>\n",
        "    <text x=\"18.75\" y=\"55.34\" text-anchor=\"end\" dy=\"0.35em\" gadfly:scale=\"5.0\" visibility=\"hidden\">-0.8</text>\n",
        "    <text x=\"18.75\" y=\"49.97\" text-anchor=\"end\" dy=\"0.35em\" gadfly:scale=\"5.0\" visibility=\"hidden\">-0.6</text>\n",
        "    <text x=\"18.75\" y=\"44.6\" text-anchor=\"end\" dy=\"0.35em\" gadfly:scale=\"5.0\" visibility=\"hidden\">-0.4</text>\n",
        "    <text x=\"18.75\" y=\"39.23\" text-anchor=\"end\" dy=\"0.35em\" gadfly:scale=\"5.0\" visibility=\"hidden\">-0.2</text>\n",
        "    <text x=\"18.75\" y=\"33.86\" text-anchor=\"end\" dy=\"0.35em\" gadfly:scale=\"5.0\" visibility=\"hidden\">0.0</text>\n",
        "    <text x=\"18.75\" y=\"28.49\" text-anchor=\"end\" dy=\"0.35em\" gadfly:scale=\"5.0\" visibility=\"hidden\">0.2</text>\n",
        "    <text x=\"18.75\" y=\"23.11\" text-anchor=\"end\" dy=\"0.35em\" gadfly:scale=\"5.0\" visibility=\"hidden\">0.4</text>\n",
        "    <text x=\"18.75\" y=\"17.74\" text-anchor=\"end\" dy=\"0.35em\" gadfly:scale=\"5.0\" visibility=\"hidden\">0.6</text>\n",
        "    <text x=\"18.75\" y=\"12.37\" text-anchor=\"end\" dy=\"0.35em\" gadfly:scale=\"5.0\" visibility=\"hidden\">0.8</text>\n",
        "    <text x=\"18.75\" y=\"7\" text-anchor=\"end\" dy=\"0.35em\" gadfly:scale=\"5.0\" visibility=\"hidden\">1.0</text>\n",
        "    <text x=\"18.75\" y=\"1.63\" text-anchor=\"end\" dy=\"0.35em\" gadfly:scale=\"5.0\" visibility=\"hidden\">1.2</text>\n",
        "    <text x=\"18.75\" y=\"-3.74\" text-anchor=\"end\" dy=\"0.35em\" gadfly:scale=\"5.0\" visibility=\"hidden\">1.4</text>\n",
        "    <text x=\"18.75\" y=\"-9.11\" text-anchor=\"end\" dy=\"0.35em\" gadfly:scale=\"5.0\" visibility=\"hidden\">1.6</text>\n",
        "    <text x=\"18.75\" y=\"-14.49\" text-anchor=\"end\" dy=\"0.35em\" gadfly:scale=\"5.0\" visibility=\"hidden\">1.8</text>\n",
        "    <text x=\"18.75\" y=\"-19.86\" text-anchor=\"end\" dy=\"0.35em\" gadfly:scale=\"5.0\" visibility=\"hidden\">2.0</text>\n",
        "    <text x=\"18.75\" y=\"-25.23\" text-anchor=\"end\" dy=\"0.35em\" gadfly:scale=\"5.0\" visibility=\"hidden\">2.2</text>\n",
        "    <text x=\"18.75\" y=\"-30.6\" text-anchor=\"end\" dy=\"0.35em\" gadfly:scale=\"5.0\" visibility=\"hidden\">2.4</text>\n",
        "    <text x=\"18.75\" y=\"-35.97\" text-anchor=\"end\" dy=\"0.35em\" gadfly:scale=\"5.0\" visibility=\"hidden\">2.6</text>\n",
        "    <text x=\"18.75\" y=\"-41.34\" text-anchor=\"end\" dy=\"0.35em\" gadfly:scale=\"5.0\" visibility=\"hidden\">2.8</text>\n",
        "    <text x=\"18.75\" y=\"-46.71\" text-anchor=\"end\" dy=\"0.35em\" gadfly:scale=\"5.0\" visibility=\"hidden\">3.0</text>\n",
        "  </g>\n",
        "  <g font-size=\"3.88\" font-family=\"'PT Sans','Helvetica Neue','Helvetica',sans-serif\" fill=\"#564A55\" stroke=\"none\" id=\"fig-941554d3eb3b4b908c6699e000f5c6c8-element-19\">\n",
        "    <text x=\"8.81\" y=\"31.86\" text-anchor=\"middle\" dy=\"0.35em\" transform=\"rotate(-90, 8.81, 33.86)\">f(x)</text>\n",
        "  </g>\n",
        "</g>\n",
        "<defs>\n",
        "<clipPath id=\"fig-941554d3eb3b4b908c6699e000f5c6c8-element-5\">\n",
        "  <path d=\"M19.75,5 L 115 5 115 62.72 19.75 62.72\" />\n",
        "</clipPath\n",
        "></defs>\n",
        "<script> <![CDATA[\n",
        "(function(N){var k=/[\\.\\/]/,L=/\\s*,\\s*/,C=function(a,d){return a-d},a,v,y={n:{}},M=function(){for(var a=0,d=this.length;a<d;a++)if(\"undefined\"!=typeof this[a])return this[a]},A=function(){for(var a=this.length;--a;)if(\"undefined\"!=typeof this[a])return this[a]},w=function(k,d){k=String(k);var f=v,n=Array.prototype.slice.call(arguments,2),u=w.listeners(k),p=0,b,q=[],e={},l=[],r=a;l.firstDefined=M;l.lastDefined=A;a=k;for(var s=v=0,x=u.length;s<x;s++)\"zIndex\"in u[s]&&(q.push(u[s].zIndex),0>u[s].zIndex&&\n",
        "(e[u[s].zIndex]=u[s]));for(q.sort(C);0>q[p];)if(b=e[q[p++] ],l.push(b.apply(d,n)),v)return v=f,l;for(s=0;s<x;s++)if(b=u[s],\"zIndex\"in b)if(b.zIndex==q[p]){l.push(b.apply(d,n));if(v)break;do if(p++,(b=e[q[p] ])&&l.push(b.apply(d,n)),v)break;while(b)}else e[b.zIndex]=b;else if(l.push(b.apply(d,n)),v)break;v=f;a=r;return l};w._events=y;w.listeners=function(a){a=a.split(k);var d=y,f,n,u,p,b,q,e,l=[d],r=[];u=0;for(p=a.length;u<p;u++){e=[];b=0;for(q=l.length;b<q;b++)for(d=l[b].n,f=[d[a[u] ],d[\"*\"] ],n=2;n--;)if(d=\n",
        "f[n])e.push(d),r=r.concat(d.f||[]);l=e}return r};w.on=function(a,d){a=String(a);if(\"function\"!=typeof d)return function(){};for(var f=a.split(L),n=0,u=f.length;n<u;n++)(function(a){a=a.split(k);for(var b=y,f,e=0,l=a.length;e<l;e++)b=b.n,b=b.hasOwnProperty(a[e])&&b[a[e] ]||(b[a[e] ]={n:{}});b.f=b.f||[];e=0;for(l=b.f.length;e<l;e++)if(b.f[e]==d){f=!0;break}!f&&b.f.push(d)})(f[n]);return function(a){+a==+a&&(d.zIndex=+a)}};w.f=function(a){var d=[].slice.call(arguments,1);return function(){w.apply(null,\n",
        "[a,null].concat(d).concat([].slice.call(arguments,0)))}};w.stop=function(){v=1};w.nt=function(k){return k?(new RegExp(\"(?:\\\\.|\\\\/|^)\"+k+\"(?:\\\\.|\\\\/|$)\")).test(a):a};w.nts=function(){return a.split(k)};w.off=w.unbind=function(a,d){if(a){var f=a.split(L);if(1<f.length)for(var n=0,u=f.length;n<u;n++)w.off(f[n],d);else{for(var f=a.split(k),p,b,q,e,l=[y],n=0,u=f.length;n<u;n++)for(e=0;e<l.length;e+=q.length-2){q=[e,1];p=l[e].n;if(\"*\"!=f[n])p[f[n] ]&&q.push(p[f[n] ]);else for(b in p)p.hasOwnProperty(b)&&\n",
        "q.push(p[b]);l.splice.apply(l,q)}n=0;for(u=l.length;n<u;n++)for(p=l[n];p.n;){if(d){if(p.f){e=0;for(f=p.f.length;e<f;e++)if(p.f[e]==d){p.f.splice(e,1);break}!p.f.length&&delete p.f}for(b in p.n)if(p.n.hasOwnProperty(b)&&p.n[b].f){q=p.n[b].f;e=0;for(f=q.length;e<f;e++)if(q[e]==d){q.splice(e,1);break}!q.length&&delete p.n[b].f}}else for(b in delete p.f,p.n)p.n.hasOwnProperty(b)&&p.n[b].f&&delete p.n[b].f;p=p.n}}}else w._events=y={n:{}}};w.once=function(a,d){var f=function(){w.unbind(a,f);return d.apply(this,\n",
        "arguments)};return w.on(a,f)};w.version=\"0.4.2\";w.toString=function(){return\"You are running Eve 0.4.2\"};\"undefined\"!=typeof module&&module.exports?module.exports=w:\"function\"===typeof define&&define.amd?define(\"eve\",[],function(){return w}):N.eve=w})(this);\n",
        "(function(N,k){\"function\"===typeof define&&define.amd?define(\"Snap.svg\",[\"eve\"],function(L){return k(N,L)}):k(N,N.eve)})(this,function(N,k){var L=function(a){var k={},y=N.requestAnimationFrame||N.webkitRequestAnimationFrame||N.mozRequestAnimationFrame||N.oRequestAnimationFrame||N.msRequestAnimationFrame||function(a){setTimeout(a,16)},M=Array.isArray||function(a){return a instanceof Array||\"[object Array]\"==Object.prototype.toString.call(a)},A=0,w=\"M\"+(+new Date).toString(36),z=function(a){if(null==\n",
        "a)return this.s;var b=this.s-a;this.b+=this.dur*b;this.B+=this.dur*b;this.s=a},d=function(a){if(null==a)return this.spd;this.spd=a},f=function(a){if(null==a)return this.dur;this.s=this.s*a/this.dur;this.dur=a},n=function(){delete k[this.id];this.update();a(\"mina.stop.\"+this.id,this)},u=function(){this.pdif||(delete k[this.id],this.update(),this.pdif=this.get()-this.b)},p=function(){this.pdif&&(this.b=this.get()-this.pdif,delete this.pdif,k[this.id]=this)},b=function(){var a;if(M(this.start)){a=[];\n",
        "for(var b=0,e=this.start.length;b<e;b++)a[b]=+this.start[b]+(this.end[b]-this.start[b])*this.easing(this.s)}else a=+this.start+(this.end-this.start)*this.easing(this.s);this.set(a)},q=function(){var l=0,b;for(b in k)if(k.hasOwnProperty(b)){var e=k[b],f=e.get();l++;e.s=(f-e.b)/(e.dur/e.spd);1<=e.s&&(delete k[b],e.s=1,l--,function(b){setTimeout(function(){a(\"mina.finish.\"+b.id,b)})}(e));e.update()}l&&y(q)},e=function(a,r,s,x,G,h,J){a={id:w+(A++).toString(36),start:a,end:r,b:s,s:0,dur:x-s,spd:1,get:G,\n",
        "set:h,easing:J||e.linear,status:z,speed:d,duration:f,stop:n,pause:u,resume:p,update:b};k[a.id]=a;r=0;for(var K in k)if(k.hasOwnProperty(K)&&(r++,2==r))break;1==r&&y(q);return a};e.time=Date.now||function(){return+new Date};e.getById=function(a){return k[a]||null};e.linear=function(a){return a};e.easeout=function(a){return Math.pow(a,1.7)};e.easein=function(a){return Math.pow(a,0.48)};e.easeinout=function(a){if(1==a)return 1;if(0==a)return 0;var b=0.48-a/1.04,e=Math.sqrt(0.1734+b*b);a=e-b;a=Math.pow(Math.abs(a),\n",
        "1/3)*(0>a?-1:1);b=-e-b;b=Math.pow(Math.abs(b),1/3)*(0>b?-1:1);a=a+b+0.5;return 3*(1-a)*a*a+a*a*a};e.backin=function(a){return 1==a?1:a*a*(2.70158*a-1.70158)};e.backout=function(a){if(0==a)return 0;a-=1;return a*a*(2.70158*a+1.70158)+1};e.elastic=function(a){return a==!!a?a:Math.pow(2,-10*a)*Math.sin(2*(a-0.075)*Math.PI/0.3)+1};e.bounce=function(a){a<1/2.75?a*=7.5625*a:a<2/2.75?(a-=1.5/2.75,a=7.5625*a*a+0.75):a<2.5/2.75?(a-=2.25/2.75,a=7.5625*a*a+0.9375):(a-=2.625/2.75,a=7.5625*a*a+0.984375);return a};\n",
        "return N.mina=e}(\"undefined\"==typeof k?function(){}:k),C=function(){function a(c,t){if(c){if(c.tagName)return x(c);if(y(c,\"array\")&&a.set)return a.set.apply(a,c);if(c instanceof e)return c;if(null==t)return c=G.doc.querySelector(c),x(c)}return new s(null==c?\"100%\":c,null==t?\"100%\":t)}function v(c,a){if(a){\"#text\"==c&&(c=G.doc.createTextNode(a.text||\"\"));\"string\"==typeof c&&(c=v(c));if(\"string\"==typeof a)return\"xlink:\"==a.substring(0,6)?c.getAttributeNS(m,a.substring(6)):\"xml:\"==a.substring(0,4)?c.getAttributeNS(la,\n",
        "a.substring(4)):c.getAttribute(a);for(var da in a)if(a[h](da)){var b=J(a[da]);b?\"xlink:\"==da.substring(0,6)?c.setAttributeNS(m,da.substring(6),b):\"xml:\"==da.substring(0,4)?c.setAttributeNS(la,da.substring(4),b):c.setAttribute(da,b):c.removeAttribute(da)}}else c=G.doc.createElementNS(la,c);return c}function y(c,a){a=J.prototype.toLowerCase.call(a);return\"finite\"==a?isFinite(c):\"array\"==a&&(c instanceof Array||Array.isArray&&Array.isArray(c))?!0:\"null\"==a&&null===c||a==typeof c&&null!==c||\"object\"==\n",
        "a&&c===Object(c)||$.call(c).slice(8,-1).toLowerCase()==a}function M(c){if(\"function\"==typeof c||Object(c)!==c)return c;var a=new c.constructor,b;for(b in c)c[h](b)&&(a[b]=M(c[b]));return a}function A(c,a,b){function m(){var e=Array.prototype.slice.call(arguments,0),f=e.join(\"\\u2400\"),d=m.cache=m.cache||{},l=m.count=m.count||[];if(d[h](f)){a:for(var e=l,l=f,B=0,H=e.length;B<H;B++)if(e[B]===l){e.push(e.splice(B,1)[0]);break a}return b?b(d[f]):d[f]}1E3<=l.length&&delete d[l.shift()];l.push(f);d[f]=c.apply(a,\n",
        "e);return b?b(d[f]):d[f]}return m}function w(c,a,b,m,e,f){return null==e?(c-=b,a-=m,c||a?(180*I.atan2(-a,-c)/C+540)%360:0):w(c,a,e,f)-w(b,m,e,f)}function z(c){return c%360*C/180}function d(c){var a=[];c=c.replace(/(?:^|\\s)(\\w+)\\(([^)]+)\\)/g,function(c,b,m){m=m.split(/\\s*,\\s*|\\s+/);\"rotate\"==b&&1==m.length&&m.push(0,0);\"scale\"==b&&(2<m.length?m=m.slice(0,2):2==m.length&&m.push(0,0),1==m.length&&m.push(m[0],0,0));\"skewX\"==b?a.push([\"m\",1,0,I.tan(z(m[0])),1,0,0]):\"skewY\"==b?a.push([\"m\",1,I.tan(z(m[0])),\n",
        "0,1,0,0]):a.push([b.charAt(0)].concat(m));return c});return a}function f(c,t){var b=O(c),m=new a.Matrix;if(b)for(var e=0,f=b.length;e<f;e++){var h=b[e],d=h.length,B=J(h[0]).toLowerCase(),H=h[0]!=B,l=H?m.invert():0,E;\"t\"==B&&2==d?m.translate(h[1],0):\"t\"==B&&3==d?H?(d=l.x(0,0),B=l.y(0,0),H=l.x(h[1],h[2]),l=l.y(h[1],h[2]),m.translate(H-d,l-B)):m.translate(h[1],h[2]):\"r\"==B?2==d?(E=E||t,m.rotate(h[1],E.x+E.width/2,E.y+E.height/2)):4==d&&(H?(H=l.x(h[2],h[3]),l=l.y(h[2],h[3]),m.rotate(h[1],H,l)):m.rotate(h[1],\n",
        "h[2],h[3])):\"s\"==B?2==d||3==d?(E=E||t,m.scale(h[1],h[d-1],E.x+E.width/2,E.y+E.height/2)):4==d?H?(H=l.x(h[2],h[3]),l=l.y(h[2],h[3]),m.scale(h[1],h[1],H,l)):m.scale(h[1],h[1],h[2],h[3]):5==d&&(H?(H=l.x(h[3],h[4]),l=l.y(h[3],h[4]),m.scale(h[1],h[2],H,l)):m.scale(h[1],h[2],h[3],h[4])):\"m\"==B&&7==d&&m.add(h[1],h[2],h[3],h[4],h[5],h[6])}return m}function n(c,t){if(null==t){var m=!0;t=\"linearGradient\"==c.type||\"radialGradient\"==c.type?c.node.getAttribute(\"gradientTransform\"):\"pattern\"==c.type?c.node.getAttribute(\"patternTransform\"):\n",
        "c.node.getAttribute(\"transform\");if(!t)return new a.Matrix;t=d(t)}else t=a._.rgTransform.test(t)?J(t).replace(/\\.{3}|\\u2026/g,c._.transform||aa):d(t),y(t,\"array\")&&(t=a.path?a.path.toString.call(t):J(t)),c._.transform=t;var b=f(t,c.getBBox(1));if(m)return b;c.matrix=b}function u(c){c=c.node.ownerSVGElement&&x(c.node.ownerSVGElement)||c.node.parentNode&&x(c.node.parentNode)||a.select(\"svg\")||a(0,0);var t=c.select(\"defs\"),t=null==t?!1:t.node;t||(t=r(\"defs\",c.node).node);return t}function p(c){return c.node.ownerSVGElement&&\n",
        "x(c.node.ownerSVGElement)||a.select(\"svg\")}function b(c,a,m){function b(c){if(null==c)return aa;if(c==+c)return c;v(B,{width:c});try{return B.getBBox().width}catch(a){return 0}}function h(c){if(null==c)return aa;if(c==+c)return c;v(B,{height:c});try{return B.getBBox().height}catch(a){return 0}}function e(b,B){null==a?d[b]=B(c.attr(b)||0):b==a&&(d=B(null==m?c.attr(b)||0:m))}var f=p(c).node,d={},B=f.querySelector(\".svg---mgr\");B||(B=v(\"rect\"),v(B,{x:-9E9,y:-9E9,width:10,height:10,\"class\":\"svg---mgr\",\n",
        "fill:\"none\"}),f.appendChild(B));switch(c.type){case \"rect\":e(\"rx\",b),e(\"ry\",h);case \"image\":e(\"width\",b),e(\"height\",h);case \"text\":e(\"x\",b);e(\"y\",h);break;case \"circle\":e(\"cx\",b);e(\"cy\",h);e(\"r\",b);break;case \"ellipse\":e(\"cx\",b);e(\"cy\",h);e(\"rx\",b);e(\"ry\",h);break;case \"line\":e(\"x1\",b);e(\"x2\",b);e(\"y1\",h);e(\"y2\",h);break;case \"marker\":e(\"refX\",b);e(\"markerWidth\",b);e(\"refY\",h);e(\"markerHeight\",h);break;case \"radialGradient\":e(\"fx\",b);e(\"fy\",h);break;case \"tspan\":e(\"dx\",b);e(\"dy\",h);break;default:e(a,\n",
        "b)}f.removeChild(B);return d}function q(c){y(c,\"array\")||(c=Array.prototype.slice.call(arguments,0));for(var a=0,b=0,m=this.node;this[a];)delete this[a++];for(a=0;a<c.length;a++)\"set\"==c[a].type?c[a].forEach(function(c){m.appendChild(c.node)}):m.appendChild(c[a].node);for(var h=m.childNodes,a=0;a<h.length;a++)this[b++]=x(h[a]);return this}function e(c){if(c.snap in E)return E[c.snap];var a=this.id=V(),b;try{b=c.ownerSVGElement}catch(m){}this.node=c;b&&(this.paper=new s(b));this.type=c.tagName;this.anims=\n",
        "{};this._={transform:[]};c.snap=a;E[a]=this;\"g\"==this.type&&(this.add=q);if(this.type in{g:1,mask:1,pattern:1})for(var e in s.prototype)s.prototype[h](e)&&(this[e]=s.prototype[e])}function l(c){this.node=c}function r(c,a){var b=v(c);a.appendChild(b);return x(b)}function s(c,a){var b,m,f,d=s.prototype;if(c&&\"svg\"==c.tagName){if(c.snap in E)return E[c.snap];var l=c.ownerDocument;b=new e(c);m=c.getElementsByTagName(\"desc\")[0];f=c.getElementsByTagName(\"defs\")[0];m||(m=v(\"desc\"),m.appendChild(l.createTextNode(\"Created with Snap\")),\n",
        "b.node.appendChild(m));f||(f=v(\"defs\"),b.node.appendChild(f));b.defs=f;for(var ca in d)d[h](ca)&&(b[ca]=d[ca]);b.paper=b.root=b}else b=r(\"svg\",G.doc.body),v(b.node,{height:a,version:1.1,width:c,xmlns:la});return b}function x(c){return!c||c instanceof e||c instanceof l?c:c.tagName&&\"svg\"==c.tagName.toLowerCase()?new s(c):c.tagName&&\"object\"==c.tagName.toLowerCase()&&\"image/svg+xml\"==c.type?new s(c.contentDocument.getElementsByTagName(\"svg\")[0]):new e(c)}a.version=\"0.3.0\";a.toString=function(){return\"Snap v\"+\n",
        "this.version};a._={};var G={win:N,doc:N.document};a._.glob=G;var h=\"hasOwnProperty\",J=String,K=parseFloat,U=parseInt,I=Math,P=I.max,Q=I.min,Y=I.abs,C=I.PI,aa=\"\",$=Object.prototype.toString,F=/^\\s*((#[a-f\\d]{6})|(#[a-f\\d]{3})|rgba?\\(\\s*([\\d\\.]+%?\\s*,\\s*[\\d\\.]+%?\\s*,\\s*[\\d\\.]+%?(?:\\s*,\\s*[\\d\\.]+%?)?)\\s*\\)|hsba?\\(\\s*([\\d\\.]+(?:deg|\\xb0|%)?\\s*,\\s*[\\d\\.]+%?\\s*,\\s*[\\d\\.]+(?:%?\\s*,\\s*[\\d\\.]+)?%?)\\s*\\)|hsla?\\(\\s*([\\d\\.]+(?:deg|\\xb0|%)?\\s*,\\s*[\\d\\.]+%?\\s*,\\s*[\\d\\.]+(?:%?\\s*,\\s*[\\d\\.]+)?%?)\\s*\\))\\s*$/i;a._.separator=\n",
        "RegExp(\"[,\\t\\n\\x0B\\f\\r \\u00a0\\u1680\\u180e\\u2000\\u2001\\u2002\\u2003\\u2004\\u2005\\u2006\\u2007\\u2008\\u2009\\u200a\\u202f\\u205f\\u3000\\u2028\\u2029]+\");var S=RegExp(\"[\\t\\n\\x0B\\f\\r \\u00a0\\u1680\\u180e\\u2000\\u2001\\u2002\\u2003\\u2004\\u2005\\u2006\\u2007\\u2008\\u2009\\u200a\\u202f\\u205f\\u3000\\u2028\\u2029]*,[\\t\\n\\x0B\\f\\r \\u00a0\\u1680\\u180e\\u2000\\u2001\\u2002\\u2003\\u2004\\u2005\\u2006\\u2007\\u2008\\u2009\\u200a\\u202f\\u205f\\u3000\\u2028\\u2029]*\"),X={hs:1,rg:1},W=RegExp(\"([a-z])[\\t\\n\\x0B\\f\\r \\u00a0\\u1680\\u180e\\u2000\\u2001\\u2002\\u2003\\u2004\\u2005\\u2006\\u2007\\u2008\\u2009\\u200a\\u202f\\u205f\\u3000\\u2028\\u2029,]*((-?\\\\d*\\\\.?\\\\d*(?:e[\\\\-+]?\\\\d+)?[\\t\\n\\x0B\\f\\r \\u00a0\\u1680\\u180e\\u2000\\u2001\\u2002\\u2003\\u2004\\u2005\\u2006\\u2007\\u2008\\u2009\\u200a\\u202f\\u205f\\u3000\\u2028\\u2029]*,?[\\t\\n\\x0B\\f\\r \\u00a0\\u1680\\u180e\\u2000\\u2001\\u2002\\u2003\\u2004\\u2005\\u2006\\u2007\\u2008\\u2009\\u200a\\u202f\\u205f\\u3000\\u2028\\u2029]*)+)\",\n",
        "\"ig\"),ma=RegExp(\"([rstm])[\\t\\n\\x0B\\f\\r \\u00a0\\u1680\\u180e\\u2000\\u2001\\u2002\\u2003\\u2004\\u2005\\u2006\\u2007\\u2008\\u2009\\u200a\\u202f\\u205f\\u3000\\u2028\\u2029,]*((-?\\\\d*\\\\.?\\\\d*(?:e[\\\\-+]?\\\\d+)?[\\t\\n\\x0B\\f\\r \\u00a0\\u1680\\u180e\\u2000\\u2001\\u2002\\u2003\\u2004\\u2005\\u2006\\u2007\\u2008\\u2009\\u200a\\u202f\\u205f\\u3000\\u2028\\u2029]*,?[\\t\\n\\x0B\\f\\r \\u00a0\\u1680\\u180e\\u2000\\u2001\\u2002\\u2003\\u2004\\u2005\\u2006\\u2007\\u2008\\u2009\\u200a\\u202f\\u205f\\u3000\\u2028\\u2029]*)+)\",\"ig\"),Z=RegExp(\"(-?\\\\d*\\\\.?\\\\d*(?:e[\\\\-+]?\\\\d+)?)[\\t\\n\\x0B\\f\\r \\u00a0\\u1680\\u180e\\u2000\\u2001\\u2002\\u2003\\u2004\\u2005\\u2006\\u2007\\u2008\\u2009\\u200a\\u202f\\u205f\\u3000\\u2028\\u2029]*,?[\\t\\n\\x0B\\f\\r \\u00a0\\u1680\\u180e\\u2000\\u2001\\u2002\\u2003\\u2004\\u2005\\u2006\\u2007\\u2008\\u2009\\u200a\\u202f\\u205f\\u3000\\u2028\\u2029]*\",\n",
        "\"ig\"),na=0,ba=\"S\"+(+new Date).toString(36),V=function(){return ba+(na++).toString(36)},m=\"http://www.w3.org/1999/xlink\",la=\"http://www.w3.org/2000/svg\",E={},ca=a.url=function(c){return\"url('#\"+c+\"')\"};a._.$=v;a._.id=V;a.format=function(){var c=/\\{([^\\}]+)\\}/g,a=/(?:(?:^|\\.)(.+?)(?=\\[|\\.|$|\\()|\\[('|\")(.+?)\\2\\])(\\(\\))?/g,b=function(c,b,m){var h=m;b.replace(a,function(c,a,b,m,t){a=a||m;h&&(a in h&&(h=h[a]),\"function\"==typeof h&&t&&(h=h()))});return h=(null==h||h==m?c:h)+\"\"};return function(a,m){return J(a).replace(c,\n",
        "function(c,a){return b(c,a,m)})}}();a._.clone=M;a._.cacher=A;a.rad=z;a.deg=function(c){return 180*c/C%360};a.angle=w;a.is=y;a.snapTo=function(c,a,b){b=y(b,\"finite\")?b:10;if(y(c,\"array\"))for(var m=c.length;m--;){if(Y(c[m]-a)<=b)return c[m]}else{c=+c;m=a%c;if(m<b)return a-m;if(m>c-b)return a-m+c}return a};a.getRGB=A(function(c){if(!c||(c=J(c)).indexOf(\"-\")+1)return{r:-1,g:-1,b:-1,hex:\"none\",error:1,toString:ka};if(\"none\"==c)return{r:-1,g:-1,b:-1,hex:\"none\",toString:ka};!X[h](c.toLowerCase().substring(0,\n",
        "2))&&\"#\"!=c.charAt()&&(c=T(c));if(!c)return{r:-1,g:-1,b:-1,hex:\"none\",error:1,toString:ka};var b,m,e,f,d;if(c=c.match(F)){c[2]&&(e=U(c[2].substring(5),16),m=U(c[2].substring(3,5),16),b=U(c[2].substring(1,3),16));c[3]&&(e=U((d=c[3].charAt(3))+d,16),m=U((d=c[3].charAt(2))+d,16),b=U((d=c[3].charAt(1))+d,16));c[4]&&(d=c[4].split(S),b=K(d[0]),\"%\"==d[0].slice(-1)&&(b*=2.55),m=K(d[1]),\"%\"==d[1].slice(-1)&&(m*=2.55),e=K(d[2]),\"%\"==d[2].slice(-1)&&(e*=2.55),\"rgba\"==c[1].toLowerCase().slice(0,4)&&(f=K(d[3])),\n",
        "d[3]&&\"%\"==d[3].slice(-1)&&(f/=100));if(c[5])return d=c[5].split(S),b=K(d[0]),\"%\"==d[0].slice(-1)&&(b/=100),m=K(d[1]),\"%\"==d[1].slice(-1)&&(m/=100),e=K(d[2]),\"%\"==d[2].slice(-1)&&(e/=100),\"deg\"!=d[0].slice(-3)&&\"\\u00b0\"!=d[0].slice(-1)||(b/=360),\"hsba\"==c[1].toLowerCase().slice(0,4)&&(f=K(d[3])),d[3]&&\"%\"==d[3].slice(-1)&&(f/=100),a.hsb2rgb(b,m,e,f);if(c[6])return d=c[6].split(S),b=K(d[0]),\"%\"==d[0].slice(-1)&&(b/=100),m=K(d[1]),\"%\"==d[1].slice(-1)&&(m/=100),e=K(d[2]),\"%\"==d[2].slice(-1)&&(e/=100),\n",
        "\"deg\"!=d[0].slice(-3)&&\"\\u00b0\"!=d[0].slice(-1)||(b/=360),\"hsla\"==c[1].toLowerCase().slice(0,4)&&(f=K(d[3])),d[3]&&\"%\"==d[3].slice(-1)&&(f/=100),a.hsl2rgb(b,m,e,f);b=Q(I.round(b),255);m=Q(I.round(m),255);e=Q(I.round(e),255);f=Q(P(f,0),1);c={r:b,g:m,b:e,toString:ka};c.hex=\"#\"+(16777216|e|m<<8|b<<16).toString(16).slice(1);c.opacity=y(f,\"finite\")?f:1;return c}return{r:-1,g:-1,b:-1,hex:\"none\",error:1,toString:ka}},a);a.hsb=A(function(c,b,m){return a.hsb2rgb(c,b,m).hex});a.hsl=A(function(c,b,m){return a.hsl2rgb(c,\n",
        "b,m).hex});a.rgb=A(function(c,a,b,m){if(y(m,\"finite\")){var e=I.round;return\"rgba(\"+[e(c),e(a),e(b),+m.toFixed(2)]+\")\"}return\"#\"+(16777216|b|a<<8|c<<16).toString(16).slice(1)});var T=function(c){var a=G.doc.getElementsByTagName(\"head\")[0]||G.doc.getElementsByTagName(\"svg\")[0];T=A(function(c){if(\"red\"==c.toLowerCase())return\"rgb(255, 0, 0)\";a.style.color=\"rgb(255, 0, 0)\";a.style.color=c;c=G.doc.defaultView.getComputedStyle(a,aa).getPropertyValue(\"color\");return\"rgb(255, 0, 0)\"==c?null:c});return T(c)},\n",
        "qa=function(){return\"hsb(\"+[this.h,this.s,this.b]+\")\"},ra=function(){return\"hsl(\"+[this.h,this.s,this.l]+\")\"},ka=function(){return 1==this.opacity||null==this.opacity?this.hex:\"rgba(\"+[this.r,this.g,this.b,this.opacity]+\")\"},D=function(c,b,m){null==b&&y(c,\"object\")&&\"r\"in c&&\"g\"in c&&\"b\"in c&&(m=c.b,b=c.g,c=c.r);null==b&&y(c,string)&&(m=a.getRGB(c),c=m.r,b=m.g,m=m.b);if(1<c||1<b||1<m)c/=255,b/=255,m/=255;return[c,b,m]},oa=function(c,b,m,e){c=I.round(255*c);b=I.round(255*b);m=I.round(255*m);c={r:c,\n",
        "g:b,b:m,opacity:y(e,\"finite\")?e:1,hex:a.rgb(c,b,m),toString:ka};y(e,\"finite\")&&(c.opacity=e);return c};a.color=function(c){var b;y(c,\"object\")&&\"h\"in c&&\"s\"in c&&\"b\"in c?(b=a.hsb2rgb(c),c.r=b.r,c.g=b.g,c.b=b.b,c.opacity=1,c.hex=b.hex):y(c,\"object\")&&\"h\"in c&&\"s\"in c&&\"l\"in c?(b=a.hsl2rgb(c),c.r=b.r,c.g=b.g,c.b=b.b,c.opacity=1,c.hex=b.hex):(y(c,\"string\")&&(c=a.getRGB(c)),y(c,\"object\")&&\"r\"in c&&\"g\"in c&&\"b\"in c&&!(\"error\"in c)?(b=a.rgb2hsl(c),c.h=b.h,c.s=b.s,c.l=b.l,b=a.rgb2hsb(c),c.v=b.b):(c={hex:\"none\"},\n",
        "c.r=c.g=c.b=c.h=c.s=c.v=c.l=-1,c.error=1));c.toString=ka;return c};a.hsb2rgb=function(c,a,b,m){y(c,\"object\")&&\"h\"in c&&\"s\"in c&&\"b\"in c&&(b=c.b,a=c.s,c=c.h,m=c.o);var e,h,d;c=360*c%360/60;d=b*a;a=d*(1-Y(c%2-1));b=e=h=b-d;c=~~c;b+=[d,a,0,0,a,d][c];e+=[a,d,d,a,0,0][c];h+=[0,0,a,d,d,a][c];return oa(b,e,h,m)};a.hsl2rgb=function(c,a,b,m){y(c,\"object\")&&\"h\"in c&&\"s\"in c&&\"l\"in c&&(b=c.l,a=c.s,c=c.h);if(1<c||1<a||1<b)c/=360,a/=100,b/=100;var e,h,d;c=360*c%360/60;d=2*a*(0.5>b?b:1-b);a=d*(1-Y(c%2-1));b=e=\n",
        "h=b-d/2;c=~~c;b+=[d,a,0,0,a,d][c];e+=[a,d,d,a,0,0][c];h+=[0,0,a,d,d,a][c];return oa(b,e,h,m)};a.rgb2hsb=function(c,a,b){b=D(c,a,b);c=b[0];a=b[1];b=b[2];var m,e;m=P(c,a,b);e=m-Q(c,a,b);c=((0==e?0:m==c?(a-b)/e:m==a?(b-c)/e+2:(c-a)/e+4)+360)%6*60/360;return{h:c,s:0==e?0:e/m,b:m,toString:qa}};a.rgb2hsl=function(c,a,b){b=D(c,a,b);c=b[0];a=b[1];b=b[2];var m,e,h;m=P(c,a,b);e=Q(c,a,b);h=m-e;c=((0==h?0:m==c?(a-b)/h:m==a?(b-c)/h+2:(c-a)/h+4)+360)%6*60/360;m=(m+e)/2;return{h:c,s:0==h?0:0.5>m?h/(2*m):h/(2-2*\n",
        "m),l:m,toString:ra}};a.parsePathString=function(c){if(!c)return null;var b=a.path(c);if(b.arr)return a.path.clone(b.arr);var m={a:7,c:6,o:2,h:1,l:2,m:2,r:4,q:4,s:4,t:2,v:1,u:3,z:0},e=[];y(c,\"array\")&&y(c[0],\"array\")&&(e=a.path.clone(c));e.length||J(c).replace(W,function(c,a,b){var h=[];c=a.toLowerCase();b.replace(Z,function(c,a){a&&h.push(+a)});\"m\"==c&&2<h.length&&(e.push([a].concat(h.splice(0,2))),c=\"l\",a=\"m\"==a?\"l\":\"L\");\"o\"==c&&1==h.length&&e.push([a,h[0] ]);if(\"r\"==c)e.push([a].concat(h));else for(;h.length>=\n",
        "m[c]&&(e.push([a].concat(h.splice(0,m[c]))),m[c]););});e.toString=a.path.toString;b.arr=a.path.clone(e);return e};var O=a.parseTransformString=function(c){if(!c)return null;var b=[];y(c,\"array\")&&y(c[0],\"array\")&&(b=a.path.clone(c));b.length||J(c).replace(ma,function(c,a,m){var e=[];a.toLowerCase();m.replace(Z,function(c,a){a&&e.push(+a)});b.push([a].concat(e))});b.toString=a.path.toString;return b};a._.svgTransform2string=d;a._.rgTransform=RegExp(\"^[a-z][\\t\\n\\x0B\\f\\r \\u00a0\\u1680\\u180e\\u2000\\u2001\\u2002\\u2003\\u2004\\u2005\\u2006\\u2007\\u2008\\u2009\\u200a\\u202f\\u205f\\u3000\\u2028\\u2029]*-?\\\\.?\\\\d\",\n",
        "\"i\");a._.transform2matrix=f;a._unit2px=b;a._.getSomeDefs=u;a._.getSomeSVG=p;a.select=function(c){return x(G.doc.querySelector(c))};a.selectAll=function(c){c=G.doc.querySelectorAll(c);for(var b=(a.set||Array)(),m=0;m<c.length;m++)b.push(x(c[m]));return b};setInterval(function(){for(var c in E)if(E[h](c)){var a=E[c],b=a.node;(\"svg\"!=a.type&&!b.ownerSVGElement||\"svg\"==a.type&&(!b.parentNode||\"ownerSVGElement\"in b.parentNode&&!b.ownerSVGElement))&&delete E[c]}},1E4);(function(c){function m(c){function a(c,\n",
        "b){var m=v(c.node,b);(m=(m=m&&m.match(d))&&m[2])&&\"#\"==m.charAt()&&(m=m.substring(1))&&(f[m]=(f[m]||[]).concat(function(a){var m={};m[b]=ca(a);v(c.node,m)}))}function b(c){var a=v(c.node,\"xlink:href\");a&&\"#\"==a.charAt()&&(a=a.substring(1))&&(f[a]=(f[a]||[]).concat(function(a){c.attr(\"xlink:href\",\"#\"+a)}))}var e=c.selectAll(\"*\"),h,d=/^\\s*url\\((\"|'|)(.*)\\1\\)\\s*$/;c=[];for(var f={},l=0,E=e.length;l<E;l++){h=e[l];a(h,\"fill\");a(h,\"stroke\");a(h,\"filter\");a(h,\"mask\");a(h,\"clip-path\");b(h);var t=v(h.node,\n",
        "\"id\");t&&(v(h.node,{id:h.id}),c.push({old:t,id:h.id}))}l=0;for(E=c.length;l<E;l++)if(e=f[c[l].old])for(h=0,t=e.length;h<t;h++)e[h](c[l].id)}function e(c,a,b){return function(m){m=m.slice(c,a);1==m.length&&(m=m[0]);return b?b(m):m}}function d(c){return function(){var a=c?\"<\"+this.type:\"\",b=this.node.attributes,m=this.node.childNodes;if(c)for(var e=0,h=b.length;e<h;e++)a+=\" \"+b[e].name+'=\"'+b[e].value.replace(/\"/g,'\\\\\"')+'\"';if(m.length){c&&(a+=\">\");e=0;for(h=m.length;e<h;e++)3==m[e].nodeType?a+=m[e].nodeValue:\n",
        "1==m[e].nodeType&&(a+=x(m[e]).toString());c&&(a+=\"</\"+this.type+\">\")}else c&&(a+=\"/>\");return a}}c.attr=function(c,a){if(!c)return this;if(y(c,\"string\"))if(1<arguments.length){var b={};b[c]=a;c=b}else return k(\"snap.util.getattr.\"+c,this).firstDefined();for(var m in c)c[h](m)&&k(\"snap.util.attr.\"+m,this,c[m]);return this};c.getBBox=function(c){if(!a.Matrix||!a.path)return this.node.getBBox();var b=this,m=new a.Matrix;if(b.removed)return a._.box();for(;\"use\"==b.type;)if(c||(m=m.add(b.transform().localMatrix.translate(b.attr(\"x\")||\n",
        "0,b.attr(\"y\")||0))),b.original)b=b.original;else var e=b.attr(\"xlink:href\"),b=b.original=b.node.ownerDocument.getElementById(e.substring(e.indexOf(\"#\")+1));var e=b._,h=a.path.get[b.type]||a.path.get.deflt;try{if(c)return e.bboxwt=h?a.path.getBBox(b.realPath=h(b)):a._.box(b.node.getBBox()),a._.box(e.bboxwt);b.realPath=h(b);b.matrix=b.transform().localMatrix;e.bbox=a.path.getBBox(a.path.map(b.realPath,m.add(b.matrix)));return a._.box(e.bbox)}catch(d){return a._.box()}};var f=function(){return this.string};\n",
        "c.transform=function(c){var b=this._;if(null==c){var m=this;c=new a.Matrix(this.node.getCTM());for(var e=n(this),h=[e],d=new a.Matrix,l=e.toTransformString(),b=J(e)==J(this.matrix)?J(b.transform):l;\"svg\"!=m.type&&(m=m.parent());)h.push(n(m));for(m=h.length;m--;)d.add(h[m]);return{string:b,globalMatrix:c,totalMatrix:d,localMatrix:e,diffMatrix:c.clone().add(e.invert()),global:c.toTransformString(),total:d.toTransformString(),local:l,toString:f}}c instanceof a.Matrix?this.matrix=c:n(this,c);this.node&&\n",
        "(\"linearGradient\"==this.type||\"radialGradient\"==this.type?v(this.node,{gradientTransform:this.matrix}):\"pattern\"==this.type?v(this.node,{patternTransform:this.matrix}):v(this.node,{transform:this.matrix}));return this};c.parent=function(){return x(this.node.parentNode)};c.append=c.add=function(c){if(c){if(\"set\"==c.type){var a=this;c.forEach(function(c){a.add(c)});return this}c=x(c);this.node.appendChild(c.node);c.paper=this.paper}return this};c.appendTo=function(c){c&&(c=x(c),c.append(this));return this};\n",
        "c.prepend=function(c){if(c){if(\"set\"==c.type){var a=this,b;c.forEach(function(c){b?b.after(c):a.prepend(c);b=c});return this}c=x(c);var m=c.parent();this.node.insertBefore(c.node,this.node.firstChild);this.add&&this.add();c.paper=this.paper;this.parent()&&this.parent().add();m&&m.add()}return this};c.prependTo=function(c){c=x(c);c.prepend(this);return this};c.before=function(c){if(\"set\"==c.type){var a=this;c.forEach(function(c){var b=c.parent();a.node.parentNode.insertBefore(c.node,a.node);b&&b.add()});\n",
        "this.parent().add();return this}c=x(c);var b=c.parent();this.node.parentNode.insertBefore(c.node,this.node);this.parent()&&this.parent().add();b&&b.add();c.paper=this.paper;return this};c.after=function(c){c=x(c);var a=c.parent();this.node.nextSibling?this.node.parentNode.insertBefore(c.node,this.node.nextSibling):this.node.parentNode.appendChild(c.node);this.parent()&&this.parent().add();a&&a.add();c.paper=this.paper;return this};c.insertBefore=function(c){c=x(c);var a=this.parent();c.node.parentNode.insertBefore(this.node,\n",
        "c.node);this.paper=c.paper;a&&a.add();c.parent()&&c.parent().add();return this};c.insertAfter=function(c){c=x(c);var a=this.parent();c.node.parentNode.insertBefore(this.node,c.node.nextSibling);this.paper=c.paper;a&&a.add();c.parent()&&c.parent().add();return this};c.remove=function(){var c=this.parent();this.node.parentNode&&this.node.parentNode.removeChild(this.node);delete this.paper;this.removed=!0;c&&c.add();return this};c.select=function(c){return x(this.node.querySelector(c))};c.selectAll=\n",
        "function(c){c=this.node.querySelectorAll(c);for(var b=(a.set||Array)(),m=0;m<c.length;m++)b.push(x(c[m]));return b};c.asPX=function(c,a){null==a&&(a=this.attr(c));return+b(this,c,a)};c.use=function(){var c,a=this.node.id;a||(a=this.id,v(this.node,{id:a}));c=\"linearGradient\"==this.type||\"radialGradient\"==this.type||\"pattern\"==this.type?r(this.type,this.node.parentNode):r(\"use\",this.node.parentNode);v(c.node,{\"xlink:href\":\"#\"+a});c.original=this;return c};var l=/\\S+/g;c.addClass=function(c){var a=(c||\n",
        "\"\").match(l)||[];c=this.node;var b=c.className.baseVal,m=b.match(l)||[],e,h,d;if(a.length){for(e=0;d=a[e++];)h=m.indexOf(d),~h||m.push(d);a=m.join(\" \");b!=a&&(c.className.baseVal=a)}return this};c.removeClass=function(c){var a=(c||\"\").match(l)||[];c=this.node;var b=c.className.baseVal,m=b.match(l)||[],e,h;if(m.length){for(e=0;h=a[e++];)h=m.indexOf(h),~h&&m.splice(h,1);a=m.join(\" \");b!=a&&(c.className.baseVal=a)}return this};c.hasClass=function(c){return!!~(this.node.className.baseVal.match(l)||[]).indexOf(c)};\n",
        "c.toggleClass=function(c,a){if(null!=a)return a?this.addClass(c):this.removeClass(c);var b=(c||\"\").match(l)||[],m=this.node,e=m.className.baseVal,h=e.match(l)||[],d,f,E;for(d=0;E=b[d++];)f=h.indexOf(E),~f?h.splice(f,1):h.push(E);b=h.join(\" \");e!=b&&(m.className.baseVal=b);return this};c.clone=function(){var c=x(this.node.cloneNode(!0));v(c.node,\"id\")&&v(c.node,{id:c.id});m(c);c.insertAfter(this);return c};c.toDefs=function(){u(this).appendChild(this.node);return this};c.pattern=c.toPattern=function(c,\n",
        "a,b,m){var e=r(\"pattern\",u(this));null==c&&(c=this.getBBox());y(c,\"object\")&&\"x\"in c&&(a=c.y,b=c.width,m=c.height,c=c.x);v(e.node,{x:c,y:a,width:b,height:m,patternUnits:\"userSpaceOnUse\",id:e.id,viewBox:[c,a,b,m].join(\" \")});e.node.appendChild(this.node);return e};c.marker=function(c,a,b,m,e,h){var d=r(\"marker\",u(this));null==c&&(c=this.getBBox());y(c,\"object\")&&\"x\"in c&&(a=c.y,b=c.width,m=c.height,e=c.refX||c.cx,h=c.refY||c.cy,c=c.x);v(d.node,{viewBox:[c,a,b,m].join(\" \"),markerWidth:b,markerHeight:m,\n",
        "orient:\"auto\",refX:e||0,refY:h||0,id:d.id});d.node.appendChild(this.node);return d};var E=function(c,a,b,m){\"function\"!=typeof b||b.length||(m=b,b=L.linear);this.attr=c;this.dur=a;b&&(this.easing=b);m&&(this.callback=m)};a._.Animation=E;a.animation=function(c,a,b,m){return new E(c,a,b,m)};c.inAnim=function(){var c=[],a;for(a in this.anims)this.anims[h](a)&&function(a){c.push({anim:new E(a._attrs,a.dur,a.easing,a._callback),mina:a,curStatus:a.status(),status:function(c){return a.status(c)},stop:function(){a.stop()}})}(this.anims[a]);\n",
        "return c};a.animate=function(c,a,b,m,e,h){\"function\"!=typeof e||e.length||(h=e,e=L.linear);var d=L.time();c=L(c,a,d,d+m,L.time,b,e);h&&k.once(\"mina.finish.\"+c.id,h);return c};c.stop=function(){for(var c=this.inAnim(),a=0,b=c.length;a<b;a++)c[a].stop();return this};c.animate=function(c,a,b,m){\"function\"!=typeof b||b.length||(m=b,b=L.linear);c instanceof E&&(m=c.callback,b=c.easing,a=b.dur,c=c.attr);var d=[],f=[],l={},t,ca,n,T=this,q;for(q in c)if(c[h](q)){T.equal?(n=T.equal(q,J(c[q])),t=n.from,ca=\n",
        "n.to,n=n.f):(t=+T.attr(q),ca=+c[q]);var la=y(t,\"array\")?t.length:1;l[q]=e(d.length,d.length+la,n);d=d.concat(t);f=f.concat(ca)}t=L.time();var p=L(d,f,t,t+a,L.time,function(c){var a={},b;for(b in l)l[h](b)&&(a[b]=l[b](c));T.attr(a)},b);T.anims[p.id]=p;p._attrs=c;p._callback=m;k(\"snap.animcreated.\"+T.id,p);k.once(\"mina.finish.\"+p.id,function(){delete T.anims[p.id];m&&m.call(T)});k.once(\"mina.stop.\"+p.id,function(){delete T.anims[p.id]});return T};var T={};c.data=function(c,b){var m=T[this.id]=T[this.id]||\n",
        "{};if(0==arguments.length)return k(\"snap.data.get.\"+this.id,this,m,null),m;if(1==arguments.length){if(a.is(c,\"object\")){for(var e in c)c[h](e)&&this.data(e,c[e]);return this}k(\"snap.data.get.\"+this.id,this,m[c],c);return m[c]}m[c]=b;k(\"snap.data.set.\"+this.id,this,b,c);return this};c.removeData=function(c){null==c?T[this.id]={}:T[this.id]&&delete T[this.id][c];return this};c.outerSVG=c.toString=d(1);c.innerSVG=d()})(e.prototype);a.parse=function(c){var a=G.doc.createDocumentFragment(),b=!0,m=G.doc.createElement(\"div\");\n",
        "c=J(c);c.match(/^\\s*<\\s*svg(?:\\s|>)/)||(c=\"<svg>\"+c+\"</svg>\",b=!1);m.innerHTML=c;if(c=m.getElementsByTagName(\"svg\")[0])if(b)a=c;else for(;c.firstChild;)a.appendChild(c.firstChild);m.innerHTML=aa;return new l(a)};l.prototype.select=e.prototype.select;l.prototype.selectAll=e.prototype.selectAll;a.fragment=function(){for(var c=Array.prototype.slice.call(arguments,0),b=G.doc.createDocumentFragment(),m=0,e=c.length;m<e;m++){var h=c[m];h.node&&h.node.nodeType&&b.appendChild(h.node);h.nodeType&&b.appendChild(h);\n",
        "\"string\"==typeof h&&b.appendChild(a.parse(h).node)}return new l(b)};a._.make=r;a._.wrap=x;s.prototype.el=function(c,a){var b=r(c,this.node);a&&b.attr(a);return b};k.on(\"snap.util.getattr\",function(){var c=k.nt(),c=c.substring(c.lastIndexOf(\".\")+1),a=c.replace(/[A-Z]/g,function(c){return\"-\"+c.toLowerCase()});return pa[h](a)?this.node.ownerDocument.defaultView.getComputedStyle(this.node,null).getPropertyValue(a):v(this.node,c)});var pa={\"alignment-baseline\":0,\"baseline-shift\":0,clip:0,\"clip-path\":0,\n",
        "\"clip-rule\":0,color:0,\"color-interpolation\":0,\"color-interpolation-filters\":0,\"color-profile\":0,\"color-rendering\":0,cursor:0,direction:0,display:0,\"dominant-baseline\":0,\"enable-background\":0,fill:0,\"fill-opacity\":0,\"fill-rule\":0,filter:0,\"flood-color\":0,\"flood-opacity\":0,font:0,\"font-family\":0,\"font-size\":0,\"font-size-adjust\":0,\"font-stretch\":0,\"font-style\":0,\"font-variant\":0,\"font-weight\":0,\"glyph-orientation-horizontal\":0,\"glyph-orientation-vertical\":0,\"image-rendering\":0,kerning:0,\"letter-spacing\":0,\n",
        "\"lighting-color\":0,marker:0,\"marker-end\":0,\"marker-mid\":0,\"marker-start\":0,mask:0,opacity:0,overflow:0,\"pointer-events\":0,\"shape-rendering\":0,\"stop-color\":0,\"stop-opacity\":0,stroke:0,\"stroke-dasharray\":0,\"stroke-dashoffset\":0,\"stroke-linecap\":0,\"stroke-linejoin\":0,\"stroke-miterlimit\":0,\"stroke-opacity\":0,\"stroke-width\":0,\"text-anchor\":0,\"text-decoration\":0,\"text-rendering\":0,\"unicode-bidi\":0,visibility:0,\"word-spacing\":0,\"writing-mode\":0};k.on(\"snap.util.attr\",function(c){var a=k.nt(),b={},a=a.substring(a.lastIndexOf(\".\")+\n",
        "1);b[a]=c;var m=a.replace(/-(\\w)/gi,function(c,a){return a.toUpperCase()}),a=a.replace(/[A-Z]/g,function(c){return\"-\"+c.toLowerCase()});pa[h](a)?this.node.style[m]=null==c?aa:c:v(this.node,b)});a.ajax=function(c,a,b,m){var e=new XMLHttpRequest,h=V();if(e){if(y(a,\"function\"))m=b,b=a,a=null;else if(y(a,\"object\")){var d=[],f;for(f in a)a.hasOwnProperty(f)&&d.push(encodeURIComponent(f)+\"=\"+encodeURIComponent(a[f]));a=d.join(\"&\")}e.open(a?\"POST\":\"GET\",c,!0);a&&(e.setRequestHeader(\"X-Requested-With\",\"XMLHttpRequest\"),\n",
        "e.setRequestHeader(\"Content-type\",\"application/x-www-form-urlencoded\"));b&&(k.once(\"snap.ajax.\"+h+\".0\",b),k.once(\"snap.ajax.\"+h+\".200\",b),k.once(\"snap.ajax.\"+h+\".304\",b));e.onreadystatechange=function(){4==e.readyState&&k(\"snap.ajax.\"+h+\".\"+e.status,m,e)};if(4==e.readyState)return e;e.send(a);return e}};a.load=function(c,b,m){a.ajax(c,function(c){c=a.parse(c.responseText);m?b.call(m,c):b(c)})};a.getElementByPoint=function(c,a){var b,m,e=G.doc.elementFromPoint(c,a);if(G.win.opera&&\"svg\"==e.tagName){b=\n",
        "e;m=b.getBoundingClientRect();b=b.ownerDocument;var h=b.body,d=b.documentElement;b=m.top+(g.win.pageYOffset||d.scrollTop||h.scrollTop)-(d.clientTop||h.clientTop||0);m=m.left+(g.win.pageXOffset||d.scrollLeft||h.scrollLeft)-(d.clientLeft||h.clientLeft||0);h=e.createSVGRect();h.x=c-m;h.y=a-b;h.width=h.height=1;b=e.getIntersectionList(h,null);b.length&&(e=b[b.length-1])}return e?x(e):null};a.plugin=function(c){c(a,e,s,G,l)};return G.win.Snap=a}();C.plugin(function(a,k,y,M,A){function w(a,d,f,b,q,e){null==\n",
        "d&&\"[object SVGMatrix]\"==z.call(a)?(this.a=a.a,this.b=a.b,this.c=a.c,this.d=a.d,this.e=a.e,this.f=a.f):null!=a?(this.a=+a,this.b=+d,this.c=+f,this.d=+b,this.e=+q,this.f=+e):(this.a=1,this.c=this.b=0,this.d=1,this.f=this.e=0)}var z=Object.prototype.toString,d=String,f=Math;(function(n){function k(a){return a[0]*a[0]+a[1]*a[1]}function p(a){var d=f.sqrt(k(a));a[0]&&(a[0]/=d);a[1]&&(a[1]/=d)}n.add=function(a,d,e,f,n,p){var k=[[],[],[] ],u=[[this.a,this.c,this.e],[this.b,this.d,this.f],[0,0,1] ];d=[[a,\n",
        "e,n],[d,f,p],[0,0,1] ];a&&a instanceof w&&(d=[[a.a,a.c,a.e],[a.b,a.d,a.f],[0,0,1] ]);for(a=0;3>a;a++)for(e=0;3>e;e++){for(f=n=0;3>f;f++)n+=u[a][f]*d[f][e];k[a][e]=n}this.a=k[0][0];this.b=k[1][0];this.c=k[0][1];this.d=k[1][1];this.e=k[0][2];this.f=k[1][2];return this};n.invert=function(){var a=this.a*this.d-this.b*this.c;return new w(this.d/a,-this.b/a,-this.c/a,this.a/a,(this.c*this.f-this.d*this.e)/a,(this.b*this.e-this.a*this.f)/a)};n.clone=function(){return new w(this.a,this.b,this.c,this.d,this.e,\n",
        "this.f)};n.translate=function(a,d){return this.add(1,0,0,1,a,d)};n.scale=function(a,d,e,f){null==d&&(d=a);(e||f)&&this.add(1,0,0,1,e,f);this.add(a,0,0,d,0,0);(e||f)&&this.add(1,0,0,1,-e,-f);return this};n.rotate=function(b,d,e){b=a.rad(b);d=d||0;e=e||0;var l=+f.cos(b).toFixed(9);b=+f.sin(b).toFixed(9);this.add(l,b,-b,l,d,e);return this.add(1,0,0,1,-d,-e)};n.x=function(a,d){return a*this.a+d*this.c+this.e};n.y=function(a,d){return a*this.b+d*this.d+this.f};n.get=function(a){return+this[d.fromCharCode(97+\n",
        "a)].toFixed(4)};n.toString=function(){return\"matrix(\"+[this.get(0),this.get(1),this.get(2),this.get(3),this.get(4),this.get(5)].join()+\")\"};n.offset=function(){return[this.e.toFixed(4),this.f.toFixed(4)]};n.determinant=function(){return this.a*this.d-this.b*this.c};n.split=function(){var b={};b.dx=this.e;b.dy=this.f;var d=[[this.a,this.c],[this.b,this.d] ];b.scalex=f.sqrt(k(d[0]));p(d[0]);b.shear=d[0][0]*d[1][0]+d[0][1]*d[1][1];d[1]=[d[1][0]-d[0][0]*b.shear,d[1][1]-d[0][1]*b.shear];b.scaley=f.sqrt(k(d[1]));\n",
        "p(d[1]);b.shear/=b.scaley;0>this.determinant()&&(b.scalex=-b.scalex);var e=-d[0][1],d=d[1][1];0>d?(b.rotate=a.deg(f.acos(d)),0>e&&(b.rotate=360-b.rotate)):b.rotate=a.deg(f.asin(e));b.isSimple=!+b.shear.toFixed(9)&&(b.scalex.toFixed(9)==b.scaley.toFixed(9)||!b.rotate);b.isSuperSimple=!+b.shear.toFixed(9)&&b.scalex.toFixed(9)==b.scaley.toFixed(9)&&!b.rotate;b.noRotation=!+b.shear.toFixed(9)&&!b.rotate;return b};n.toTransformString=function(a){a=a||this.split();if(+a.shear.toFixed(9))return\"m\"+[this.get(0),\n",
        "this.get(1),this.get(2),this.get(3),this.get(4),this.get(5)];a.scalex=+a.scalex.toFixed(4);a.scaley=+a.scaley.toFixed(4);a.rotate=+a.rotate.toFixed(4);return(a.dx||a.dy?\"t\"+[+a.dx.toFixed(4),+a.dy.toFixed(4)]:\"\")+(1!=a.scalex||1!=a.scaley?\"s\"+[a.scalex,a.scaley,0,0]:\"\")+(a.rotate?\"r\"+[+a.rotate.toFixed(4),0,0]:\"\")}})(w.prototype);a.Matrix=w;a.matrix=function(a,d,f,b,k,e){return new w(a,d,f,b,k,e)}});C.plugin(function(a,v,y,M,A){function w(h){return function(d){k.stop();d instanceof A&&1==d.node.childNodes.length&&\n",
        "(\"radialGradient\"==d.node.firstChild.tagName||\"linearGradient\"==d.node.firstChild.tagName||\"pattern\"==d.node.firstChild.tagName)&&(d=d.node.firstChild,b(this).appendChild(d),d=u(d));if(d instanceof v)if(\"radialGradient\"==d.type||\"linearGradient\"==d.type||\"pattern\"==d.type){d.node.id||e(d.node,{id:d.id});var f=l(d.node.id)}else f=d.attr(h);else f=a.color(d),f.error?(f=a(b(this).ownerSVGElement).gradient(d))?(f.node.id||e(f.node,{id:f.id}),f=l(f.node.id)):f=d:f=r(f);d={};d[h]=f;e(this.node,d);this.node.style[h]=\n",
        "x}}function z(a){k.stop();a==+a&&(a+=\"px\");this.node.style.fontSize=a}function d(a){var b=[];a=a.childNodes;for(var e=0,f=a.length;e<f;e++){var l=a[e];3==l.nodeType&&b.push(l.nodeValue);\"tspan\"==l.tagName&&(1==l.childNodes.length&&3==l.firstChild.nodeType?b.push(l.firstChild.nodeValue):b.push(d(l)))}return b}function f(){k.stop();return this.node.style.fontSize}var n=a._.make,u=a._.wrap,p=a.is,b=a._.getSomeDefs,q=/^url\\(#?([^)]+)\\)$/,e=a._.$,l=a.url,r=String,s=a._.separator,x=\"\";k.on(\"snap.util.attr.mask\",\n",
        "function(a){if(a instanceof v||a instanceof A){k.stop();a instanceof A&&1==a.node.childNodes.length&&(a=a.node.firstChild,b(this).appendChild(a),a=u(a));if(\"mask\"==a.type)var d=a;else d=n(\"mask\",b(this)),d.node.appendChild(a.node);!d.node.id&&e(d.node,{id:d.id});e(this.node,{mask:l(d.id)})}});(function(a){k.on(\"snap.util.attr.clip\",a);k.on(\"snap.util.attr.clip-path\",a);k.on(\"snap.util.attr.clipPath\",a)})(function(a){if(a instanceof v||a instanceof A){k.stop();if(\"clipPath\"==a.type)var d=a;else d=\n",
        "n(\"clipPath\",b(this)),d.node.appendChild(a.node),!d.node.id&&e(d.node,{id:d.id});e(this.node,{\"clip-path\":l(d.id)})}});k.on(\"snap.util.attr.fill\",w(\"fill\"));k.on(\"snap.util.attr.stroke\",w(\"stroke\"));var G=/^([lr])(?:\\(([^)]*)\\))?(.*)$/i;k.on(\"snap.util.grad.parse\",function(a){a=r(a);var b=a.match(G);if(!b)return null;a=b[1];var e=b[2],b=b[3],e=e.split(/\\s*,\\s*/).map(function(a){return+a==a?+a:a});1==e.length&&0==e[0]&&(e=[]);b=b.split(\"-\");b=b.map(function(a){a=a.split(\":\");var b={color:a[0]};a[1]&&\n",
        "(b.offset=parseFloat(a[1]));return b});return{type:a,params:e,stops:b}});k.on(\"snap.util.attr.d\",function(b){k.stop();p(b,\"array\")&&p(b[0],\"array\")&&(b=a.path.toString.call(b));b=r(b);b.match(/[ruo]/i)&&(b=a.path.toAbsolute(b));e(this.node,{d:b})})(-1);k.on(\"snap.util.attr.#text\",function(a){k.stop();a=r(a);for(a=M.doc.createTextNode(a);this.node.firstChild;)this.node.removeChild(this.node.firstChild);this.node.appendChild(a)})(-1);k.on(\"snap.util.attr.path\",function(a){k.stop();this.attr({d:a})})(-1);\n",
        "k.on(\"snap.util.attr.class\",function(a){k.stop();this.node.className.baseVal=a})(-1);k.on(\"snap.util.attr.viewBox\",function(a){a=p(a,\"object\")&&\"x\"in a?[a.x,a.y,a.width,a.height].join(\" \"):p(a,\"array\")?a.join(\" \"):a;e(this.node,{viewBox:a});k.stop()})(-1);k.on(\"snap.util.attr.transform\",function(a){this.transform(a);k.stop()})(-1);k.on(\"snap.util.attr.r\",function(a){\"rect\"==this.type&&(k.stop(),e(this.node,{rx:a,ry:a}))})(-1);k.on(\"snap.util.attr.textpath\",function(a){k.stop();if(\"text\"==this.type){var d,\n",
        "f;if(!a&&this.textPath){for(a=this.textPath;a.node.firstChild;)this.node.appendChild(a.node.firstChild);a.remove();delete this.textPath}else if(p(a,\"string\")?(d=b(this),a=u(d.parentNode).path(a),d.appendChild(a.node),d=a.id,a.attr({id:d})):(a=u(a),a instanceof v&&(d=a.attr(\"id\"),d||(d=a.id,a.attr({id:d})))),d)if(a=this.textPath,f=this.node,a)a.attr({\"xlink:href\":\"#\"+d});else{for(a=e(\"textPath\",{\"xlink:href\":\"#\"+d});f.firstChild;)a.appendChild(f.firstChild);f.appendChild(a);this.textPath=u(a)}}})(-1);\n",
        "k.on(\"snap.util.attr.text\",function(a){if(\"text\"==this.type){for(var b=this.node,d=function(a){var b=e(\"tspan\");if(p(a,\"array\"))for(var f=0;f<a.length;f++)b.appendChild(d(a[f]));else b.appendChild(M.doc.createTextNode(a));b.normalize&&b.normalize();return b};b.firstChild;)b.removeChild(b.firstChild);for(a=d(a);a.firstChild;)b.appendChild(a.firstChild)}k.stop()})(-1);k.on(\"snap.util.attr.fontSize\",z)(-1);k.on(\"snap.util.attr.font-size\",z)(-1);k.on(\"snap.util.getattr.transform\",function(){k.stop();\n",
        "return this.transform()})(-1);k.on(\"snap.util.getattr.textpath\",function(){k.stop();return this.textPath})(-1);(function(){function b(d){return function(){k.stop();var b=M.doc.defaultView.getComputedStyle(this.node,null).getPropertyValue(\"marker-\"+d);return\"none\"==b?b:a(M.doc.getElementById(b.match(q)[1]))}}function d(a){return function(b){k.stop();var d=\"marker\"+a.charAt(0).toUpperCase()+a.substring(1);if(\"\"==b||!b)this.node.style[d]=\"none\";else if(\"marker\"==b.type){var f=b.node.id;f||e(b.node,{id:b.id});\n",
        "this.node.style[d]=l(f)}}}k.on(\"snap.util.getattr.marker-end\",b(\"end\"))(-1);k.on(\"snap.util.getattr.markerEnd\",b(\"end\"))(-1);k.on(\"snap.util.getattr.marker-start\",b(\"start\"))(-1);k.on(\"snap.util.getattr.markerStart\",b(\"start\"))(-1);k.on(\"snap.util.getattr.marker-mid\",b(\"mid\"))(-1);k.on(\"snap.util.getattr.markerMid\",b(\"mid\"))(-1);k.on(\"snap.util.attr.marker-end\",d(\"end\"))(-1);k.on(\"snap.util.attr.markerEnd\",d(\"end\"))(-1);k.on(\"snap.util.attr.marker-start\",d(\"start\"))(-1);k.on(\"snap.util.attr.markerStart\",\n",
        "d(\"start\"))(-1);k.on(\"snap.util.attr.marker-mid\",d(\"mid\"))(-1);k.on(\"snap.util.attr.markerMid\",d(\"mid\"))(-1)})();k.on(\"snap.util.getattr.r\",function(){if(\"rect\"==this.type&&e(this.node,\"rx\")==e(this.node,\"ry\"))return k.stop(),e(this.node,\"rx\")})(-1);k.on(\"snap.util.getattr.text\",function(){if(\"text\"==this.type||\"tspan\"==this.type){k.stop();var a=d(this.node);return 1==a.length?a[0]:a}})(-1);k.on(\"snap.util.getattr.#text\",function(){return this.node.textContent})(-1);k.on(\"snap.util.getattr.viewBox\",\n",
        "function(){k.stop();var b=e(this.node,\"viewBox\");if(b)return b=b.split(s),a._.box(+b[0],+b[1],+b[2],+b[3])})(-1);k.on(\"snap.util.getattr.points\",function(){var a=e(this.node,\"points\");k.stop();if(a)return a.split(s)})(-1);k.on(\"snap.util.getattr.path\",function(){var a=e(this.node,\"d\");k.stop();return a})(-1);k.on(\"snap.util.getattr.class\",function(){return this.node.className.baseVal})(-1);k.on(\"snap.util.getattr.fontSize\",f)(-1);k.on(\"snap.util.getattr.font-size\",f)(-1)});C.plugin(function(a,v,y,\n",
        "M,A){function w(a){return a}function z(a){return function(b){return+b.toFixed(3)+a}}var d={\"+\":function(a,b){return a+b},\"-\":function(a,b){return a-b},\"/\":function(a,b){return a/b},\"*\":function(a,b){return a*b}},f=String,n=/[a-z]+$/i,u=/^\\s*([+\\-\\/*])\\s*=\\s*([\\d.eE+\\-]+)\\s*([^\\d\\s]+)?\\s*$/;k.on(\"snap.util.attr\",function(a){if(a=f(a).match(u)){var b=k.nt(),b=b.substring(b.lastIndexOf(\".\")+1),q=this.attr(b),e={};k.stop();var l=a[3]||\"\",r=q.match(n),s=d[a[1] ];r&&r==l?a=s(parseFloat(q),+a[2]):(q=this.asPX(b),\n",
        "a=s(this.asPX(b),this.asPX(b,a[2]+l)));isNaN(q)||isNaN(a)||(e[b]=a,this.attr(e))}})(-10);k.on(\"snap.util.equal\",function(a,b){var q=f(this.attr(a)||\"\"),e=f(b).match(u);if(e){k.stop();var l=e[3]||\"\",r=q.match(n),s=d[e[1] ];if(r&&r==l)return{from:parseFloat(q),to:s(parseFloat(q),+e[2]),f:z(r)};q=this.asPX(a);return{from:q,to:s(q,this.asPX(a,e[2]+l)),f:w}}})(-10)});C.plugin(function(a,v,y,M,A){var w=y.prototype,z=a.is;w.rect=function(a,d,k,p,b,q){var e;null==q&&(q=b);z(a,\"object\")&&\"[object Object]\"==\n",
        "a?e=a:null!=a&&(e={x:a,y:d,width:k,height:p},null!=b&&(e.rx=b,e.ry=q));return this.el(\"rect\",e)};w.circle=function(a,d,k){var p;z(a,\"object\")&&\"[object Object]\"==a?p=a:null!=a&&(p={cx:a,cy:d,r:k});return this.el(\"circle\",p)};var d=function(){function a(){this.parentNode.removeChild(this)}return function(d,k){var p=M.doc.createElement(\"img\"),b=M.doc.body;p.style.cssText=\"position:absolute;left:-9999em;top:-9999em\";p.onload=function(){k.call(p);p.onload=p.onerror=null;b.removeChild(p)};p.onerror=a;\n",
        "b.appendChild(p);p.src=d}}();w.image=function(f,n,k,p,b){var q=this.el(\"image\");if(z(f,\"object\")&&\"src\"in f)q.attr(f);else if(null!=f){var e={\"xlink:href\":f,preserveAspectRatio:\"none\"};null!=n&&null!=k&&(e.x=n,e.y=k);null!=p&&null!=b?(e.width=p,e.height=b):d(f,function(){a._.$(q.node,{width:this.offsetWidth,height:this.offsetHeight})});a._.$(q.node,e)}return q};w.ellipse=function(a,d,k,p){var b;z(a,\"object\")&&\"[object Object]\"==a?b=a:null!=a&&(b={cx:a,cy:d,rx:k,ry:p});return this.el(\"ellipse\",b)};\n",
        "w.path=function(a){var d;z(a,\"object\")&&!z(a,\"array\")?d=a:a&&(d={d:a});return this.el(\"path\",d)};w.group=w.g=function(a){var d=this.el(\"g\");1==arguments.length&&a&&!a.type?d.attr(a):arguments.length&&d.add(Array.prototype.slice.call(arguments,0));return d};w.svg=function(a,d,k,p,b,q,e,l){var r={};z(a,\"object\")&&null==d?r=a:(null!=a&&(r.x=a),null!=d&&(r.y=d),null!=k&&(r.width=k),null!=p&&(r.height=p),null!=b&&null!=q&&null!=e&&null!=l&&(r.viewBox=[b,q,e,l]));return this.el(\"svg\",r)};w.mask=function(a){var d=\n",
        "this.el(\"mask\");1==arguments.length&&a&&!a.type?d.attr(a):arguments.length&&d.add(Array.prototype.slice.call(arguments,0));return d};w.ptrn=function(a,d,k,p,b,q,e,l){if(z(a,\"object\"))var r=a;else arguments.length?(r={},null!=a&&(r.x=a),null!=d&&(r.y=d),null!=k&&(r.width=k),null!=p&&(r.height=p),null!=b&&null!=q&&null!=e&&null!=l&&(r.viewBox=[b,q,e,l])):r={patternUnits:\"userSpaceOnUse\"};return this.el(\"pattern\",r)};w.use=function(a){return null!=a?(make(\"use\",this.node),a instanceof v&&(a.attr(\"id\")||\n",
        "a.attr({id:ID()}),a=a.attr(\"id\")),this.el(\"use\",{\"xlink:href\":a})):v.prototype.use.call(this)};w.text=function(a,d,k){var p={};z(a,\"object\")?p=a:null!=a&&(p={x:a,y:d,text:k||\"\"});return this.el(\"text\",p)};w.line=function(a,d,k,p){var b={};z(a,\"object\")?b=a:null!=a&&(b={x1:a,x2:k,y1:d,y2:p});return this.el(\"line\",b)};w.polyline=function(a){1<arguments.length&&(a=Array.prototype.slice.call(arguments,0));var d={};z(a,\"object\")&&!z(a,\"array\")?d=a:null!=a&&(d={points:a});return this.el(\"polyline\",d)};\n",
        "w.polygon=function(a){1<arguments.length&&(a=Array.prototype.slice.call(arguments,0));var d={};z(a,\"object\")&&!z(a,\"array\")?d=a:null!=a&&(d={points:a});return this.el(\"polygon\",d)};(function(){function d(){return this.selectAll(\"stop\")}function n(b,d){var f=e(\"stop\"),k={offset:+d+\"%\"};b=a.color(b);k[\"stop-color\"]=b.hex;1>b.opacity&&(k[\"stop-opacity\"]=b.opacity);e(f,k);this.node.appendChild(f);return this}function u(){if(\"linearGradient\"==this.type){var b=e(this.node,\"x1\")||0,d=e(this.node,\"x2\")||\n",
        "1,f=e(this.node,\"y1\")||0,k=e(this.node,\"y2\")||0;return a._.box(b,f,math.abs(d-b),math.abs(k-f))}b=this.node.r||0;return a._.box((this.node.cx||0.5)-b,(this.node.cy||0.5)-b,2*b,2*b)}function p(a,d){function f(a,b){for(var d=(b-u)/(a-w),e=w;e<a;e++)h[e].offset=+(+u+d*(e-w)).toFixed(2);w=a;u=b}var n=k(\"snap.util.grad.parse\",null,d).firstDefined(),p;if(!n)return null;n.params.unshift(a);p=\"l\"==n.type.toLowerCase()?b.apply(0,n.params):q.apply(0,n.params);n.type!=n.type.toLowerCase()&&e(p.node,{gradientUnits:\"userSpaceOnUse\"});\n",
        "var h=n.stops,n=h.length,u=0,w=0;n--;for(var v=0;v<n;v++)\"offset\"in h[v]&&f(v,h[v].offset);h[n].offset=h[n].offset||100;f(n,h[n].offset);for(v=0;v<=n;v++){var y=h[v];p.addStop(y.color,y.offset)}return p}function b(b,k,p,q,w){b=a._.make(\"linearGradient\",b);b.stops=d;b.addStop=n;b.getBBox=u;null!=k&&e(b.node,{x1:k,y1:p,x2:q,y2:w});return b}function q(b,k,p,q,w,h){b=a._.make(\"radialGradient\",b);b.stops=d;b.addStop=n;b.getBBox=u;null!=k&&e(b.node,{cx:k,cy:p,r:q});null!=w&&null!=h&&e(b.node,{fx:w,fy:h});\n",
        "return b}var e=a._.$;w.gradient=function(a){return p(this.defs,a)};w.gradientLinear=function(a,d,e,f){return b(this.defs,a,d,e,f)};w.gradientRadial=function(a,b,d,e,f){return q(this.defs,a,b,d,e,f)};w.toString=function(){var b=this.node.ownerDocument,d=b.createDocumentFragment(),b=b.createElement(\"div\"),e=this.node.cloneNode(!0);d.appendChild(b);b.appendChild(e);a._.$(e,{xmlns:\"http://www.w3.org/2000/svg\"});b=b.innerHTML;d.removeChild(d.firstChild);return b};w.clear=function(){for(var a=this.node.firstChild,\n",
        "b;a;)b=a.nextSibling,\"defs\"!=a.tagName?a.parentNode.removeChild(a):w.clear.call({node:a}),a=b}})()});C.plugin(function(a,k,y,M){function A(a){var b=A.ps=A.ps||{};b[a]?b[a].sleep=100:b[a]={sleep:100};setTimeout(function(){for(var d in b)b[L](d)&&d!=a&&(b[d].sleep--,!b[d].sleep&&delete b[d])});return b[a]}function w(a,b,d,e){null==a&&(a=b=d=e=0);null==b&&(b=a.y,d=a.width,e=a.height,a=a.x);return{x:a,y:b,width:d,w:d,height:e,h:e,x2:a+d,y2:b+e,cx:a+d/2,cy:b+e/2,r1:F.min(d,e)/2,r2:F.max(d,e)/2,r0:F.sqrt(d*\n",
        "d+e*e)/2,path:s(a,b,d,e),vb:[a,b,d,e].join(\" \")}}function z(){return this.join(\",\").replace(N,\"$1\")}function d(a){a=C(a);a.toString=z;return a}function f(a,b,d,h,f,k,l,n,p){if(null==p)return e(a,b,d,h,f,k,l,n);if(0>p||e(a,b,d,h,f,k,l,n)<p)p=void 0;else{var q=0.5,O=1-q,s;for(s=e(a,b,d,h,f,k,l,n,O);0.01<Z(s-p);)q/=2,O+=(s<p?1:-1)*q,s=e(a,b,d,h,f,k,l,n,O);p=O}return u(a,b,d,h,f,k,l,n,p)}function n(b,d){function e(a){return+(+a).toFixed(3)}return a._.cacher(function(a,h,l){a instanceof k&&(a=a.attr(\"d\"));\n",
        "a=I(a);for(var n,p,D,q,O=\"\",s={},c=0,t=0,r=a.length;t<r;t++){D=a[t];if(\"M\"==D[0])n=+D[1],p=+D[2];else{q=f(n,p,D[1],D[2],D[3],D[4],D[5],D[6]);if(c+q>h){if(d&&!s.start){n=f(n,p,D[1],D[2],D[3],D[4],D[5],D[6],h-c);O+=[\"C\"+e(n.start.x),e(n.start.y),e(n.m.x),e(n.m.y),e(n.x),e(n.y)];if(l)return O;s.start=O;O=[\"M\"+e(n.x),e(n.y)+\"C\"+e(n.n.x),e(n.n.y),e(n.end.x),e(n.end.y),e(D[5]),e(D[6])].join();c+=q;n=+D[5];p=+D[6];continue}if(!b&&!d)return n=f(n,p,D[1],D[2],D[3],D[4],D[5],D[6],h-c)}c+=q;n=+D[5];p=+D[6]}O+=\n",
        "D.shift()+D}s.end=O;return n=b?c:d?s:u(n,p,D[0],D[1],D[2],D[3],D[4],D[5],1)},null,a._.clone)}function u(a,b,d,e,h,f,k,l,n){var p=1-n,q=ma(p,3),s=ma(p,2),c=n*n,t=c*n,r=q*a+3*s*n*d+3*p*n*n*h+t*k,q=q*b+3*s*n*e+3*p*n*n*f+t*l,s=a+2*n*(d-a)+c*(h-2*d+a),t=b+2*n*(e-b)+c*(f-2*e+b),x=d+2*n*(h-d)+c*(k-2*h+d),c=e+2*n*(f-e)+c*(l-2*f+e);a=p*a+n*d;b=p*b+n*e;h=p*h+n*k;f=p*f+n*l;l=90-180*F.atan2(s-x,t-c)/S;return{x:r,y:q,m:{x:s,y:t},n:{x:x,y:c},start:{x:a,y:b},end:{x:h,y:f},alpha:l}}function p(b,d,e,h,f,n,k,l){a.is(b,\n",
        "\"array\")||(b=[b,d,e,h,f,n,k,l]);b=U.apply(null,b);return w(b.min.x,b.min.y,b.max.x-b.min.x,b.max.y-b.min.y)}function b(a,b,d){return b>=a.x&&b<=a.x+a.width&&d>=a.y&&d<=a.y+a.height}function q(a,d){a=w(a);d=w(d);return b(d,a.x,a.y)||b(d,a.x2,a.y)||b(d,a.x,a.y2)||b(d,a.x2,a.y2)||b(a,d.x,d.y)||b(a,d.x2,d.y)||b(a,d.x,d.y2)||b(a,d.x2,d.y2)||(a.x<d.x2&&a.x>d.x||d.x<a.x2&&d.x>a.x)&&(a.y<d.y2&&a.y>d.y||d.y<a.y2&&d.y>a.y)}function e(a,b,d,e,h,f,n,k,l){null==l&&(l=1);l=(1<l?1:0>l?0:l)/2;for(var p=[-0.1252,\n",
        "0.1252,-0.3678,0.3678,-0.5873,0.5873,-0.7699,0.7699,-0.9041,0.9041,-0.9816,0.9816],q=[0.2491,0.2491,0.2335,0.2335,0.2032,0.2032,0.1601,0.1601,0.1069,0.1069,0.0472,0.0472],s=0,c=0;12>c;c++)var t=l*p[c]+l,r=t*(t*(-3*a+9*d-9*h+3*n)+6*a-12*d+6*h)-3*a+3*d,t=t*(t*(-3*b+9*e-9*f+3*k)+6*b-12*e+6*f)-3*b+3*e,s=s+q[c]*F.sqrt(r*r+t*t);return l*s}function l(a,b,d){a=I(a);b=I(b);for(var h,f,l,n,k,s,r,O,x,c,t=d?0:[],w=0,v=a.length;w<v;w++)if(x=a[w],\"M\"==x[0])h=k=x[1],f=s=x[2];else{\"C\"==x[0]?(x=[h,f].concat(x.slice(1)),\n",
        "h=x[6],f=x[7]):(x=[h,f,h,f,k,s,k,s],h=k,f=s);for(var G=0,y=b.length;G<y;G++)if(c=b[G],\"M\"==c[0])l=r=c[1],n=O=c[2];else{\"C\"==c[0]?(c=[l,n].concat(c.slice(1)),l=c[6],n=c[7]):(c=[l,n,l,n,r,O,r,O],l=r,n=O);var z;var K=x,B=c;z=d;var H=p(K),J=p(B);if(q(H,J)){for(var H=e.apply(0,K),J=e.apply(0,B),H=~~(H/8),J=~~(J/8),U=[],A=[],F={},M=z?0:[],P=0;P<H+1;P++){var C=u.apply(0,K.concat(P/H));U.push({x:C.x,y:C.y,t:P/H})}for(P=0;P<J+1;P++)C=u.apply(0,B.concat(P/J)),A.push({x:C.x,y:C.y,t:P/J});for(P=0;P<H;P++)for(K=\n",
        "0;K<J;K++){var Q=U[P],L=U[P+1],B=A[K],C=A[K+1],N=0.001>Z(L.x-Q.x)?\"y\":\"x\",S=0.001>Z(C.x-B.x)?\"y\":\"x\",R;R=Q.x;var Y=Q.y,V=L.x,ea=L.y,fa=B.x,ga=B.y,ha=C.x,ia=C.y;if(W(R,V)<X(fa,ha)||X(R,V)>W(fa,ha)||W(Y,ea)<X(ga,ia)||X(Y,ea)>W(ga,ia))R=void 0;else{var $=(R*ea-Y*V)*(fa-ha)-(R-V)*(fa*ia-ga*ha),aa=(R*ea-Y*V)*(ga-ia)-(Y-ea)*(fa*ia-ga*ha),ja=(R-V)*(ga-ia)-(Y-ea)*(fa-ha);if(ja){var $=$/ja,aa=aa/ja,ja=+$.toFixed(2),ba=+aa.toFixed(2);R=ja<+X(R,V).toFixed(2)||ja>+W(R,V).toFixed(2)||ja<+X(fa,ha).toFixed(2)||\n",
        "ja>+W(fa,ha).toFixed(2)||ba<+X(Y,ea).toFixed(2)||ba>+W(Y,ea).toFixed(2)||ba<+X(ga,ia).toFixed(2)||ba>+W(ga,ia).toFixed(2)?void 0:{x:$,y:aa}}else R=void 0}R&&F[R.x.toFixed(4)]!=R.y.toFixed(4)&&(F[R.x.toFixed(4)]=R.y.toFixed(4),Q=Q.t+Z((R[N]-Q[N])/(L[N]-Q[N]))*(L.t-Q.t),B=B.t+Z((R[S]-B[S])/(C[S]-B[S]))*(C.t-B.t),0<=Q&&1>=Q&&0<=B&&1>=B&&(z?M++:M.push({x:R.x,y:R.y,t1:Q,t2:B})))}z=M}else z=z?0:[];if(d)t+=z;else{H=0;for(J=z.length;H<J;H++)z[H].segment1=w,z[H].segment2=G,z[H].bez1=x,z[H].bez2=c;t=t.concat(z)}}}return t}\n",
        "function r(a){var b=A(a);if(b.bbox)return C(b.bbox);if(!a)return w();a=I(a);for(var d=0,e=0,h=[],f=[],l,n=0,k=a.length;n<k;n++)l=a[n],\"M\"==l[0]?(d=l[1],e=l[2],h.push(d),f.push(e)):(d=U(d,e,l[1],l[2],l[3],l[4],l[5],l[6]),h=h.concat(d.min.x,d.max.x),f=f.concat(d.min.y,d.max.y),d=l[5],e=l[6]);a=X.apply(0,h);l=X.apply(0,f);h=W.apply(0,h);f=W.apply(0,f);f=w(a,l,h-a,f-l);b.bbox=C(f);return f}function s(a,b,d,e,h){if(h)return[[\"M\",+a+ +h,b],[\"l\",d-2*h,0],[\"a\",h,h,0,0,1,h,h],[\"l\",0,e-2*h],[\"a\",h,h,0,0,1,\n",
        "-h,h],[\"l\",2*h-d,0],[\"a\",h,h,0,0,1,-h,-h],[\"l\",0,2*h-e],[\"a\",h,h,0,0,1,h,-h],[\"z\"] ];a=[[\"M\",a,b],[\"l\",d,0],[\"l\",0,e],[\"l\",-d,0],[\"z\"] ];a.toString=z;return a}function x(a,b,d,e,h){null==h&&null==e&&(e=d);a=+a;b=+b;d=+d;e=+e;if(null!=h){var f=Math.PI/180,l=a+d*Math.cos(-e*f);a+=d*Math.cos(-h*f);var n=b+d*Math.sin(-e*f);b+=d*Math.sin(-h*f);d=[[\"M\",l,n],[\"A\",d,d,0,+(180<h-e),0,a,b] ]}else d=[[\"M\",a,b],[\"m\",0,-e],[\"a\",d,e,0,1,1,0,2*e],[\"a\",d,e,0,1,1,0,-2*e],[\"z\"] ];d.toString=z;return d}function G(b){var e=\n",
        "A(b);if(e.abs)return d(e.abs);Q(b,\"array\")&&Q(b&&b[0],\"array\")||(b=a.parsePathString(b));if(!b||!b.length)return[[\"M\",0,0] ];var h=[],f=0,l=0,n=0,k=0,p=0;\"M\"==b[0][0]&&(f=+b[0][1],l=+b[0][2],n=f,k=l,p++,h[0]=[\"M\",f,l]);for(var q=3==b.length&&\"M\"==b[0][0]&&\"R\"==b[1][0].toUpperCase()&&\"Z\"==b[2][0].toUpperCase(),s,r,w=p,c=b.length;w<c;w++){h.push(s=[]);r=b[w];p=r[0];if(p!=p.toUpperCase())switch(s[0]=p.toUpperCase(),s[0]){case \"A\":s[1]=r[1];s[2]=r[2];s[3]=r[3];s[4]=r[4];s[5]=r[5];s[6]=+r[6]+f;s[7]=+r[7]+\n",
        "l;break;case \"V\":s[1]=+r[1]+l;break;case \"H\":s[1]=+r[1]+f;break;case \"R\":for(var t=[f,l].concat(r.slice(1)),u=2,v=t.length;u<v;u++)t[u]=+t[u]+f,t[++u]=+t[u]+l;h.pop();h=h.concat(P(t,q));break;case \"O\":h.pop();t=x(f,l,r[1],r[2]);t.push(t[0]);h=h.concat(t);break;case \"U\":h.pop();h=h.concat(x(f,l,r[1],r[2],r[3]));s=[\"U\"].concat(h[h.length-1].slice(-2));break;case \"M\":n=+r[1]+f,k=+r[2]+l;default:for(u=1,v=r.length;u<v;u++)s[u]=+r[u]+(u%2?f:l)}else if(\"R\"==p)t=[f,l].concat(r.slice(1)),h.pop(),h=h.concat(P(t,\n",
        "q)),s=[\"R\"].concat(r.slice(-2));else if(\"O\"==p)h.pop(),t=x(f,l,r[1],r[2]),t.push(t[0]),h=h.concat(t);else if(\"U\"==p)h.pop(),h=h.concat(x(f,l,r[1],r[2],r[3])),s=[\"U\"].concat(h[h.length-1].slice(-2));else for(t=0,u=r.length;t<u;t++)s[t]=r[t];p=p.toUpperCase();if(\"O\"!=p)switch(s[0]){case \"Z\":f=+n;l=+k;break;case \"H\":f=s[1];break;case \"V\":l=s[1];break;case \"M\":n=s[s.length-2],k=s[s.length-1];default:f=s[s.length-2],l=s[s.length-1]}}h.toString=z;e.abs=d(h);return h}function h(a,b,d,e){return[a,b,d,e,d,\n",
        "e]}function J(a,b,d,e,h,f){var l=1/3,n=2/3;return[l*a+n*d,l*b+n*e,l*h+n*d,l*f+n*e,h,f]}function K(b,d,e,h,f,l,n,k,p,s){var r=120*S/180,q=S/180*(+f||0),c=[],t,x=a._.cacher(function(a,b,c){var d=a*F.cos(c)-b*F.sin(c);a=a*F.sin(c)+b*F.cos(c);return{x:d,y:a}});if(s)v=s[0],t=s[1],l=s[2],u=s[3];else{t=x(b,d,-q);b=t.x;d=t.y;t=x(k,p,-q);k=t.x;p=t.y;F.cos(S/180*f);F.sin(S/180*f);t=(b-k)/2;v=(d-p)/2;u=t*t/(e*e)+v*v/(h*h);1<u&&(u=F.sqrt(u),e*=u,h*=u);var u=e*e,w=h*h,u=(l==n?-1:1)*F.sqrt(Z((u*w-u*v*v-w*t*t)/\n",
        "(u*v*v+w*t*t)));l=u*e*v/h+(b+k)/2;var u=u*-h*t/e+(d+p)/2,v=F.asin(((d-u)/h).toFixed(9));t=F.asin(((p-u)/h).toFixed(9));v=b<l?S-v:v;t=k<l?S-t:t;0>v&&(v=2*S+v);0>t&&(t=2*S+t);n&&v>t&&(v-=2*S);!n&&t>v&&(t-=2*S)}if(Z(t-v)>r){var c=t,w=k,G=p;t=v+r*(n&&t>v?1:-1);k=l+e*F.cos(t);p=u+h*F.sin(t);c=K(k,p,e,h,f,0,n,w,G,[t,c,l,u])}l=t-v;f=F.cos(v);r=F.sin(v);n=F.cos(t);t=F.sin(t);l=F.tan(l/4);e=4/3*e*l;l*=4/3*h;h=[b,d];b=[b+e*r,d-l*f];d=[k+e*t,p-l*n];k=[k,p];b[0]=2*h[0]-b[0];b[1]=2*h[1]-b[1];if(s)return[b,d,k].concat(c);\n",
        "c=[b,d,k].concat(c).join().split(\",\");s=[];k=0;for(p=c.length;k<p;k++)s[k]=k%2?x(c[k-1],c[k],q).y:x(c[k],c[k+1],q).x;return s}function U(a,b,d,e,h,f,l,k){for(var n=[],p=[[],[] ],s,r,c,t,q=0;2>q;++q)0==q?(r=6*a-12*d+6*h,s=-3*a+9*d-9*h+3*l,c=3*d-3*a):(r=6*b-12*e+6*f,s=-3*b+9*e-9*f+3*k,c=3*e-3*b),1E-12>Z(s)?1E-12>Z(r)||(s=-c/r,0<s&&1>s&&n.push(s)):(t=r*r-4*c*s,c=F.sqrt(t),0>t||(t=(-r+c)/(2*s),0<t&&1>t&&n.push(t),s=(-r-c)/(2*s),0<s&&1>s&&n.push(s)));for(r=q=n.length;q--;)s=n[q],c=1-s,p[0][q]=c*c*c*a+3*\n",
        "c*c*s*d+3*c*s*s*h+s*s*s*l,p[1][q]=c*c*c*b+3*c*c*s*e+3*c*s*s*f+s*s*s*k;p[0][r]=a;p[1][r]=b;p[0][r+1]=l;p[1][r+1]=k;p[0].length=p[1].length=r+2;return{min:{x:X.apply(0,p[0]),y:X.apply(0,p[1])},max:{x:W.apply(0,p[0]),y:W.apply(0,p[1])}}}function I(a,b){var e=!b&&A(a);if(!b&&e.curve)return d(e.curve);var f=G(a),l=b&&G(b),n={x:0,y:0,bx:0,by:0,X:0,Y:0,qx:null,qy:null},k={x:0,y:0,bx:0,by:0,X:0,Y:0,qx:null,qy:null},p=function(a,b,c){if(!a)return[\"C\",b.x,b.y,b.x,b.y,b.x,b.y];a[0]in{T:1,Q:1}||(b.qx=b.qy=null);\n",
        "switch(a[0]){case \"M\":b.X=a[1];b.Y=a[2];break;case \"A\":a=[\"C\"].concat(K.apply(0,[b.x,b.y].concat(a.slice(1))));break;case \"S\":\"C\"==c||\"S\"==c?(c=2*b.x-b.bx,b=2*b.y-b.by):(c=b.x,b=b.y);a=[\"C\",c,b].concat(a.slice(1));break;case \"T\":\"Q\"==c||\"T\"==c?(b.qx=2*b.x-b.qx,b.qy=2*b.y-b.qy):(b.qx=b.x,b.qy=b.y);a=[\"C\"].concat(J(b.x,b.y,b.qx,b.qy,a[1],a[2]));break;case \"Q\":b.qx=a[1];b.qy=a[2];a=[\"C\"].concat(J(b.x,b.y,a[1],a[2],a[3],a[4]));break;case \"L\":a=[\"C\"].concat(h(b.x,b.y,a[1],a[2]));break;case \"H\":a=[\"C\"].concat(h(b.x,\n",
        "b.y,a[1],b.y));break;case \"V\":a=[\"C\"].concat(h(b.x,b.y,b.x,a[1]));break;case \"Z\":a=[\"C\"].concat(h(b.x,b.y,b.X,b.Y))}return a},s=function(a,b){if(7<a[b].length){a[b].shift();for(var c=a[b];c.length;)q[b]=\"A\",l&&(u[b]=\"A\"),a.splice(b++,0,[\"C\"].concat(c.splice(0,6)));a.splice(b,1);v=W(f.length,l&&l.length||0)}},r=function(a,b,c,d,e){a&&b&&\"M\"==a[e][0]&&\"M\"!=b[e][0]&&(b.splice(e,0,[\"M\",d.x,d.y]),c.bx=0,c.by=0,c.x=a[e][1],c.y=a[e][2],v=W(f.length,l&&l.length||0))},q=[],u=[],c=\"\",t=\"\",x=0,v=W(f.length,\n",
        "l&&l.length||0);for(;x<v;x++){f[x]&&(c=f[x][0]);\"C\"!=c&&(q[x]=c,x&&(t=q[x-1]));f[x]=p(f[x],n,t);\"A\"!=q[x]&&\"C\"==c&&(q[x]=\"C\");s(f,x);l&&(l[x]&&(c=l[x][0]),\"C\"!=c&&(u[x]=c,x&&(t=u[x-1])),l[x]=p(l[x],k,t),\"A\"!=u[x]&&\"C\"==c&&(u[x]=\"C\"),s(l,x));r(f,l,n,k,x);r(l,f,k,n,x);var w=f[x],z=l&&l[x],y=w.length,U=l&&z.length;n.x=w[y-2];n.y=w[y-1];n.bx=$(w[y-4])||n.x;n.by=$(w[y-3])||n.y;k.bx=l&&($(z[U-4])||k.x);k.by=l&&($(z[U-3])||k.y);k.x=l&&z[U-2];k.y=l&&z[U-1]}l||(e.curve=d(f));return l?[f,l]:f}function P(a,\n",
        "b){for(var d=[],e=0,h=a.length;h-2*!b>e;e+=2){var f=[{x:+a[e-2],y:+a[e-1]},{x:+a[e],y:+a[e+1]},{x:+a[e+2],y:+a[e+3]},{x:+a[e+4],y:+a[e+5]}];b?e?h-4==e?f[3]={x:+a[0],y:+a[1]}:h-2==e&&(f[2]={x:+a[0],y:+a[1]},f[3]={x:+a[2],y:+a[3]}):f[0]={x:+a[h-2],y:+a[h-1]}:h-4==e?f[3]=f[2]:e||(f[0]={x:+a[e],y:+a[e+1]});d.push([\"C\",(-f[0].x+6*f[1].x+f[2].x)/6,(-f[0].y+6*f[1].y+f[2].y)/6,(f[1].x+6*f[2].x-f[3].x)/6,(f[1].y+6*f[2].y-f[3].y)/6,f[2].x,f[2].y])}return d}y=k.prototype;var Q=a.is,C=a._.clone,L=\"hasOwnProperty\",\n",
        "N=/,?([a-z]),?/gi,$=parseFloat,F=Math,S=F.PI,X=F.min,W=F.max,ma=F.pow,Z=F.abs;M=n(1);var na=n(),ba=n(0,1),V=a._unit2px;a.path=A;a.path.getTotalLength=M;a.path.getPointAtLength=na;a.path.getSubpath=function(a,b,d){if(1E-6>this.getTotalLength(a)-d)return ba(a,b).end;a=ba(a,d,1);return b?ba(a,b).end:a};y.getTotalLength=function(){if(this.node.getTotalLength)return this.node.getTotalLength()};y.getPointAtLength=function(a){return na(this.attr(\"d\"),a)};y.getSubpath=function(b,d){return a.path.getSubpath(this.attr(\"d\"),\n",
        "b,d)};a._.box=w;a.path.findDotsAtSegment=u;a.path.bezierBBox=p;a.path.isPointInsideBBox=b;a.path.isBBoxIntersect=q;a.path.intersection=function(a,b){return l(a,b)};a.path.intersectionNumber=function(a,b){return l(a,b,1)};a.path.isPointInside=function(a,d,e){var h=r(a);return b(h,d,e)&&1==l(a,[[\"M\",d,e],[\"H\",h.x2+10] ],1)%2};a.path.getBBox=r;a.path.get={path:function(a){return a.attr(\"path\")},circle:function(a){a=V(a);return x(a.cx,a.cy,a.r)},ellipse:function(a){a=V(a);return x(a.cx||0,a.cy||0,a.rx,\n",
        "a.ry)},rect:function(a){a=V(a);return s(a.x||0,a.y||0,a.width,a.height,a.rx,a.ry)},image:function(a){a=V(a);return s(a.x||0,a.y||0,a.width,a.height)},line:function(a){return\"M\"+[a.attr(\"x1\")||0,a.attr(\"y1\")||0,a.attr(\"x2\"),a.attr(\"y2\")]},polyline:function(a){return\"M\"+a.attr(\"points\")},polygon:function(a){return\"M\"+a.attr(\"points\")+\"z\"},deflt:function(a){a=a.node.getBBox();return s(a.x,a.y,a.width,a.height)}};a.path.toRelative=function(b){var e=A(b),h=String.prototype.toLowerCase;if(e.rel)return d(e.rel);\n",
        "a.is(b,\"array\")&&a.is(b&&b[0],\"array\")||(b=a.parsePathString(b));var f=[],l=0,n=0,k=0,p=0,s=0;\"M\"==b[0][0]&&(l=b[0][1],n=b[0][2],k=l,p=n,s++,f.push([\"M\",l,n]));for(var r=b.length;s<r;s++){var q=f[s]=[],x=b[s];if(x[0]!=h.call(x[0]))switch(q[0]=h.call(x[0]),q[0]){case \"a\":q[1]=x[1];q[2]=x[2];q[3]=x[3];q[4]=x[4];q[5]=x[5];q[6]=+(x[6]-l).toFixed(3);q[7]=+(x[7]-n).toFixed(3);break;case \"v\":q[1]=+(x[1]-n).toFixed(3);break;case \"m\":k=x[1],p=x[2];default:for(var c=1,t=x.length;c<t;c++)q[c]=+(x[c]-(c%2?l:\n",
        "n)).toFixed(3)}else for(f[s]=[],\"m\"==x[0]&&(k=x[1]+l,p=x[2]+n),q=0,c=x.length;q<c;q++)f[s][q]=x[q];x=f[s].length;switch(f[s][0]){case \"z\":l=k;n=p;break;case \"h\":l+=+f[s][x-1];break;case \"v\":n+=+f[s][x-1];break;default:l+=+f[s][x-2],n+=+f[s][x-1]}}f.toString=z;e.rel=d(f);return f};a.path.toAbsolute=G;a.path.toCubic=I;a.path.map=function(a,b){if(!b)return a;var d,e,h,f,l,n,k;a=I(a);h=0;for(l=a.length;h<l;h++)for(k=a[h],f=1,n=k.length;f<n;f+=2)d=b.x(k[f],k[f+1]),e=b.y(k[f],k[f+1]),k[f]=d,k[f+1]=e;return a};\n",
        "a.path.toString=z;a.path.clone=d});C.plugin(function(a,v,y,C){var A=Math.max,w=Math.min,z=function(a){this.items=[];this.bindings={};this.length=0;this.type=\"set\";if(a)for(var f=0,n=a.length;f<n;f++)a[f]&&(this[this.items.length]=this.items[this.items.length]=a[f],this.length++)};v=z.prototype;v.push=function(){for(var a,f,n=0,k=arguments.length;n<k;n++)if(a=arguments[n])f=this.items.length,this[f]=this.items[f]=a,this.length++;return this};v.pop=function(){this.length&&delete this[this.length--];\n",
        "return this.items.pop()};v.forEach=function(a,f){for(var n=0,k=this.items.length;n<k&&!1!==a.call(f,this.items[n],n);n++);return this};v.animate=function(d,f,n,u){\"function\"!=typeof n||n.length||(u=n,n=L.linear);d instanceof a._.Animation&&(u=d.callback,n=d.easing,f=n.dur,d=d.attr);var p=arguments;if(a.is(d,\"array\")&&a.is(p[p.length-1],\"array\"))var b=!0;var q,e=function(){q?this.b=q:q=this.b},l=0,r=u&&function(){l++==this.length&&u.call(this)};return this.forEach(function(a,l){k.once(\"snap.animcreated.\"+\n",
        "a.id,e);b?p[l]&&a.animate.apply(a,p[l]):a.animate(d,f,n,r)})};v.remove=function(){for(;this.length;)this.pop().remove();return this};v.bind=function(a,f,k){var u={};if(\"function\"==typeof f)this.bindings[a]=f;else{var p=k||a;this.bindings[a]=function(a){u[p]=a;f.attr(u)}}return this};v.attr=function(a){var f={},k;for(k in a)if(this.bindings[k])this.bindings[k](a[k]);else f[k]=a[k];a=0;for(k=this.items.length;a<k;a++)this.items[a].attr(f);return this};v.clear=function(){for(;this.length;)this.pop()};\n",
        "v.splice=function(a,f,k){a=0>a?A(this.length+a,0):a;f=A(0,w(this.length-a,f));var u=[],p=[],b=[],q;for(q=2;q<arguments.length;q++)b.push(arguments[q]);for(q=0;q<f;q++)p.push(this[a+q]);for(;q<this.length-a;q++)u.push(this[a+q]);var e=b.length;for(q=0;q<e+u.length;q++)this.items[a+q]=this[a+q]=q<e?b[q]:u[q-e];for(q=this.items.length=this.length-=f-e;this[q];)delete this[q++];return new z(p)};v.exclude=function(a){for(var f=0,k=this.length;f<k;f++)if(this[f]==a)return this.splice(f,1),!0;return!1};\n",
        "v.insertAfter=function(a){for(var f=this.items.length;f--;)this.items[f].insertAfter(a);return this};v.getBBox=function(){for(var a=[],f=[],k=[],u=[],p=this.items.length;p--;)if(!this.items[p].removed){var b=this.items[p].getBBox();a.push(b.x);f.push(b.y);k.push(b.x+b.width);u.push(b.y+b.height)}a=w.apply(0,a);f=w.apply(0,f);k=A.apply(0,k);u=A.apply(0,u);return{x:a,y:f,x2:k,y2:u,width:k-a,height:u-f,cx:a+(k-a)/2,cy:f+(u-f)/2}};v.clone=function(a){a=new z;for(var f=0,k=this.items.length;f<k;f++)a.push(this.items[f].clone());\n",
        "return a};v.toString=function(){return\"Snap\\u2018s set\"};v.type=\"set\";a.set=function(){var a=new z;arguments.length&&a.push.apply(a,Array.prototype.slice.call(arguments,0));return a}});C.plugin(function(a,v,y,C){function A(a){var b=a[0];switch(b.toLowerCase()){case \"t\":return[b,0,0];case \"m\":return[b,1,0,0,1,0,0];case \"r\":return 4==a.length?[b,0,a[2],a[3] ]:[b,0];case \"s\":return 5==a.length?[b,1,1,a[3],a[4] ]:3==a.length?[b,1,1]:[b,1]}}function w(b,d,f){d=q(d).replace(/\\.{3}|\\u2026/g,b);b=a.parseTransformString(b)||\n",
        "[];d=a.parseTransformString(d)||[];for(var k=Math.max(b.length,d.length),p=[],v=[],h=0,w,z,y,I;h<k;h++){y=b[h]||A(d[h]);I=d[h]||A(y);if(y[0]!=I[0]||\"r\"==y[0].toLowerCase()&&(y[2]!=I[2]||y[3]!=I[3])||\"s\"==y[0].toLowerCase()&&(y[3]!=I[3]||y[4]!=I[4])){b=a._.transform2matrix(b,f());d=a._.transform2matrix(d,f());p=[[\"m\",b.a,b.b,b.c,b.d,b.e,b.f] ];v=[[\"m\",d.a,d.b,d.c,d.d,d.e,d.f] ];break}p[h]=[];v[h]=[];w=0;for(z=Math.max(y.length,I.length);w<z;w++)w in y&&(p[h][w]=y[w]),w in I&&(v[h][w]=I[w])}return{from:u(p),\n",
        "to:u(v),f:n(p)}}function z(a){return a}function d(a){return function(b){return+b.toFixed(3)+a}}function f(b){return a.rgb(b[0],b[1],b[2])}function n(a){var b=0,d,f,k,n,h,p,q=[];d=0;for(f=a.length;d<f;d++){h=\"[\";p=['\"'+a[d][0]+'\"'];k=1;for(n=a[d].length;k<n;k++)p[k]=\"val[\"+b++ +\"]\";h+=p+\"]\";q[d]=h}return Function(\"val\",\"return Snap.path.toString.call([\"+q+\"])\")}function u(a){for(var b=[],d=0,f=a.length;d<f;d++)for(var k=1,n=a[d].length;k<n;k++)b.push(a[d][k]);return b}var p={},b=/[a-z]+$/i,q=String;\n",
        "p.stroke=p.fill=\"colour\";v.prototype.equal=function(a,b){return k(\"snap.util.equal\",this,a,b).firstDefined()};k.on(\"snap.util.equal\",function(e,k){var r,s;r=q(this.attr(e)||\"\");var x=this;if(r==+r&&k==+k)return{from:+r,to:+k,f:z};if(\"colour\"==p[e])return r=a.color(r),s=a.color(k),{from:[r.r,r.g,r.b,r.opacity],to:[s.r,s.g,s.b,s.opacity],f:f};if(\"transform\"==e||\"gradientTransform\"==e||\"patternTransform\"==e)return k instanceof a.Matrix&&(k=k.toTransformString()),a._.rgTransform.test(k)||(k=a._.svgTransform2string(k)),\n",
        "w(r,k,function(){return x.getBBox(1)});if(\"d\"==e||\"path\"==e)return r=a.path.toCubic(r,k),{from:u(r[0]),to:u(r[1]),f:n(r[0])};if(\"points\"==e)return r=q(r).split(a._.separator),s=q(k).split(a._.separator),{from:r,to:s,f:function(a){return a}};aUnit=r.match(b);s=q(k).match(b);return aUnit&&aUnit==s?{from:parseFloat(r),to:parseFloat(k),f:d(aUnit)}:{from:this.asPX(e),to:this.asPX(e,k),f:z}})});C.plugin(function(a,v,y,C){var A=v.prototype,w=\"createTouch\"in C.doc;v=\"click dblclick mousedown mousemove mouseout mouseover mouseup touchstart touchmove touchend touchcancel\".split(\" \");\n",
        "var z={mousedown:\"touchstart\",mousemove:\"touchmove\",mouseup:\"touchend\"},d=function(a,b){var d=\"y\"==a?\"scrollTop\":\"scrollLeft\",e=b&&b.node?b.node.ownerDocument:C.doc;return e[d in e.documentElement?\"documentElement\":\"body\"][d]},f=function(){this.returnValue=!1},n=function(){return this.originalEvent.preventDefault()},u=function(){this.cancelBubble=!0},p=function(){return this.originalEvent.stopPropagation()},b=function(){if(C.doc.addEventListener)return function(a,b,e,f){var k=w&&z[b]?z[b]:b,l=function(k){var l=\n",
        "d(\"y\",f),q=d(\"x\",f);if(w&&z.hasOwnProperty(b))for(var r=0,u=k.targetTouches&&k.targetTouches.length;r<u;r++)if(k.targetTouches[r].target==a||a.contains(k.targetTouches[r].target)){u=k;k=k.targetTouches[r];k.originalEvent=u;k.preventDefault=n;k.stopPropagation=p;break}return e.call(f,k,k.clientX+q,k.clientY+l)};b!==k&&a.addEventListener(b,l,!1);a.addEventListener(k,l,!1);return function(){b!==k&&a.removeEventListener(b,l,!1);a.removeEventListener(k,l,!1);return!0}};if(C.doc.attachEvent)return function(a,\n",
        "b,e,h){var k=function(a){a=a||h.node.ownerDocument.window.event;var b=d(\"y\",h),k=d(\"x\",h),k=a.clientX+k,b=a.clientY+b;a.preventDefault=a.preventDefault||f;a.stopPropagation=a.stopPropagation||u;return e.call(h,a,k,b)};a.attachEvent(\"on\"+b,k);return function(){a.detachEvent(\"on\"+b,k);return!0}}}(),q=[],e=function(a){for(var b=a.clientX,e=a.clientY,f=d(\"y\"),l=d(\"x\"),n,p=q.length;p--;){n=q[p];if(w)for(var r=a.touches&&a.touches.length,u;r--;){if(u=a.touches[r],u.identifier==n.el._drag.id||n.el.node.contains(u.target)){b=\n",
        "u.clientX;e=u.clientY;(a.originalEvent?a.originalEvent:a).preventDefault();break}}else a.preventDefault();b+=l;e+=f;k(\"snap.drag.move.\"+n.el.id,n.move_scope||n.el,b-n.el._drag.x,e-n.el._drag.y,b,e,a)}},l=function(b){a.unmousemove(e).unmouseup(l);for(var d=q.length,f;d--;)f=q[d],f.el._drag={},k(\"snap.drag.end.\"+f.el.id,f.end_scope||f.start_scope||f.move_scope||f.el,b);q=[]};for(y=v.length;y--;)(function(d){a[d]=A[d]=function(e,f){a.is(e,\"function\")&&(this.events=this.events||[],this.events.push({name:d,\n",
        "f:e,unbind:b(this.node||document,d,e,f||this)}));return this};a[\"un\"+d]=A[\"un\"+d]=function(a){for(var b=this.events||[],e=b.length;e--;)if(b[e].name==d&&(b[e].f==a||!a)){b[e].unbind();b.splice(e,1);!b.length&&delete this.events;break}return this}})(v[y]);A.hover=function(a,b,d,e){return this.mouseover(a,d).mouseout(b,e||d)};A.unhover=function(a,b){return this.unmouseover(a).unmouseout(b)};var r=[];A.drag=function(b,d,f,h,n,p){function u(r,v,w){(r.originalEvent||r).preventDefault();this._drag.x=v;\n",
        "this._drag.y=w;this._drag.id=r.identifier;!q.length&&a.mousemove(e).mouseup(l);q.push({el:this,move_scope:h,start_scope:n,end_scope:p});d&&k.on(\"snap.drag.start.\"+this.id,d);b&&k.on(\"snap.drag.move.\"+this.id,b);f&&k.on(\"snap.drag.end.\"+this.id,f);k(\"snap.drag.start.\"+this.id,n||h||this,v,w,r)}if(!arguments.length){var v;return this.drag(function(a,b){this.attr({transform:v+(v?\"T\":\"t\")+[a,b]})},function(){v=this.transform().local})}this._drag={};r.push({el:this,start:u});this.mousedown(u);return this};\n",
        "A.undrag=function(){for(var b=r.length;b--;)r[b].el==this&&(this.unmousedown(r[b].start),r.splice(b,1),k.unbind(\"snap.drag.*.\"+this.id));!r.length&&a.unmousemove(e).unmouseup(l);return this}});C.plugin(function(a,v,y,C){y=y.prototype;var A=/^\\s*url\\((.+)\\)/,w=String,z=a._.$;a.filter={};y.filter=function(d){var f=this;\"svg\"!=f.type&&(f=f.paper);d=a.parse(w(d));var k=a._.id(),u=z(\"filter\");z(u,{id:k,filterUnits:\"userSpaceOnUse\"});u.appendChild(d.node);f.defs.appendChild(u);return new v(u)};k.on(\"snap.util.getattr.filter\",\n",
        "function(){k.stop();var d=z(this.node,\"filter\");if(d)return(d=w(d).match(A))&&a.select(d[1])});k.on(\"snap.util.attr.filter\",function(d){if(d instanceof v&&\"filter\"==d.type){k.stop();var f=d.node.id;f||(z(d.node,{id:d.id}),f=d.id);z(this.node,{filter:a.url(f)})}d&&\"none\"!=d||(k.stop(),this.node.removeAttribute(\"filter\"))});a.filter.blur=function(d,f){null==d&&(d=2);return a.format('<feGaussianBlur stdDeviation=\"{def}\"/>',{def:null==f?d:[d,f]})};a.filter.blur.toString=function(){return this()};a.filter.shadow=\n",
        "function(d,f,k,u,p){\"string\"==typeof k&&(p=u=k,k=4);\"string\"!=typeof u&&(p=u,u=\"#000\");null==k&&(k=4);null==p&&(p=1);null==d&&(d=0,f=2);null==f&&(f=d);u=a.color(u||\"#000\");return a.format('<feGaussianBlur in=\"SourceAlpha\" stdDeviation=\"{blur}\"/><feOffset dx=\"{dx}\" dy=\"{dy}\" result=\"offsetblur\"/><feFlood flood-color=\"{color}\"/><feComposite in2=\"offsetblur\" operator=\"in\"/><feComponentTransfer><feFuncA type=\"linear\" slope=\"{opacity}\"/></feComponentTransfer><feMerge><feMergeNode/><feMergeNode in=\"SourceGraphic\"/></feMerge>',\n",
        "{color:u,dx:d,dy:f,blur:k,opacity:p})};a.filter.shadow.toString=function(){return this()};a.filter.grayscale=function(d){null==d&&(d=1);return a.format('<feColorMatrix type=\"matrix\" values=\"{a} {b} {c} 0 0 {d} {e} {f} 0 0 {g} {b} {h} 0 0 0 0 0 1 0\"/>',{a:0.2126+0.7874*(1-d),b:0.7152-0.7152*(1-d),c:0.0722-0.0722*(1-d),d:0.2126-0.2126*(1-d),e:0.7152+0.2848*(1-d),f:0.0722-0.0722*(1-d),g:0.2126-0.2126*(1-d),h:0.0722+0.9278*(1-d)})};a.filter.grayscale.toString=function(){return this()};a.filter.sepia=\n",
        "function(d){null==d&&(d=1);return a.format('<feColorMatrix type=\"matrix\" values=\"{a} {b} {c} 0 0 {d} {e} {f} 0 0 {g} {h} {i} 0 0 0 0 0 1 0\"/>',{a:0.393+0.607*(1-d),b:0.769-0.769*(1-d),c:0.189-0.189*(1-d),d:0.349-0.349*(1-d),e:0.686+0.314*(1-d),f:0.168-0.168*(1-d),g:0.272-0.272*(1-d),h:0.534-0.534*(1-d),i:0.131+0.869*(1-d)})};a.filter.sepia.toString=function(){return this()};a.filter.saturate=function(d){null==d&&(d=1);return a.format('<feColorMatrix type=\"saturate\" values=\"{amount}\"/>',{amount:1-\n",
        "d})};a.filter.saturate.toString=function(){return this()};a.filter.hueRotate=function(d){return a.format('<feColorMatrix type=\"hueRotate\" values=\"{angle}\"/>',{angle:d||0})};a.filter.hueRotate.toString=function(){return this()};a.filter.invert=function(d){null==d&&(d=1);return a.format('<feComponentTransfer><feFuncR type=\"table\" tableValues=\"{amount} {amount2}\"/><feFuncG type=\"table\" tableValues=\"{amount} {amount2}\"/><feFuncB type=\"table\" tableValues=\"{amount} {amount2}\"/></feComponentTransfer>',{amount:d,\n",
        "amount2:1-d})};a.filter.invert.toString=function(){return this()};a.filter.brightness=function(d){null==d&&(d=1);return a.format('<feComponentTransfer><feFuncR type=\"linear\" slope=\"{amount}\"/><feFuncG type=\"linear\" slope=\"{amount}\"/><feFuncB type=\"linear\" slope=\"{amount}\"/></feComponentTransfer>',{amount:d})};a.filter.brightness.toString=function(){return this()};a.filter.contrast=function(d){null==d&&(d=1);return a.format('<feComponentTransfer><feFuncR type=\"linear\" slope=\"{amount}\" intercept=\"{amount2}\"/><feFuncG type=\"linear\" slope=\"{amount}\" intercept=\"{amount2}\"/><feFuncB type=\"linear\" slope=\"{amount}\" intercept=\"{amount2}\"/></feComponentTransfer>',\n",
        "{amount:d,amount2:0.5-d/2})};a.filter.contrast.toString=function(){return this()}});return C});\n",
        "\n",
        "]]> </script>\n",
        "<script> <![CDATA[\n",
        "\n",
        "(function (glob, factory) {\n",
        "    // AMD support\n",
        "    if (typeof define === \"function\" && define.amd) {\n",
        "        // Define as an anonymous module\n",
        "        define(\"Gadfly\", [\"Snap.svg\"], function (Snap) {\n",
        "            return factory(Snap);\n",
        "        });\n",
        "    } else {\n",
        "        // Browser globals (glob is window)\n",
        "        // Snap adds itself to window\n",
        "        glob.Gadfly = factory(glob.Snap);\n",
        "    }\n",
        "}(this, function (Snap) {\n",
        "\n",
        "var Gadfly = {};\n",
        "\n",
        "// Get an x/y coordinate value in pixels\n",
        "var xPX = function(fig, x) {\n",
        "    var client_box = fig.node.getBoundingClientRect();\n",
        "    return x * fig.node.viewBox.baseVal.width / client_box.width;\n",
        "};\n",
        "\n",
        "var yPX = function(fig, y) {\n",
        "    var client_box = fig.node.getBoundingClientRect();\n",
        "    return y * fig.node.viewBox.baseVal.height / client_box.height;\n",
        "};\n",
        "\n",
        "\n",
        "Snap.plugin(function (Snap, Element, Paper, global) {\n",
        "    // Traverse upwards from a snap element to find and return the first\n",
        "    // note with the \"plotroot\" class.\n",
        "    Element.prototype.plotroot = function () {\n",
        "        var element = this;\n",
        "        while (!element.hasClass(\"plotroot\") && element.parent() != null) {\n",
        "            element = element.parent();\n",
        "        }\n",
        "        return element;\n",
        "    };\n",
        "\n",
        "    Element.prototype.svgroot = function () {\n",
        "        var element = this;\n",
        "        while (element.node.nodeName != \"svg\" && element.parent() != null) {\n",
        "            element = element.parent();\n",
        "        }\n",
        "        return element;\n",
        "    };\n",
        "\n",
        "    Element.prototype.plotbounds = function () {\n",
        "        var root = this.plotroot()\n",
        "        var bbox = root.select(\".guide.background\").node.getBBox();\n",
        "        return {\n",
        "            x0: bbox.x,\n",
        "            x1: bbox.x + bbox.width,\n",
        "            y0: bbox.y,\n",
        "            y1: bbox.y + bbox.height\n",
        "        };\n",
        "    };\n",
        "\n",
        "    Element.prototype.plotcenter = function () {\n",
        "        var root = this.plotroot()\n",
        "        var bbox = root.select(\".guide.background\").node.getBBox();\n",
        "        return {\n",
        "            x: bbox.x + bbox.width / 2,\n",
        "            y: bbox.y + bbox.height / 2\n",
        "        };\n",
        "    };\n",
        "\n",
        "    // Emulate IE style mouseenter/mouseleave events, since Microsoft always\n",
        "    // does everything right.\n",
        "    // See: http://www.dynamic-tools.net/toolbox/isMouseLeaveOrEnter/\n",
        "    var events = [\"mouseenter\", \"mouseleave\"];\n",
        "\n",
        "    for (i in events) {\n",
        "        (function (event_name) {\n",
        "            var event_name = events[i];\n",
        "            Element.prototype[event_name] = function (fn, scope) {\n",
        "                if (Snap.is(fn, \"function\")) {\n",
        "                    var fn2 = function (event) {\n",
        "                        if (event.type != \"mouseover\" && event.type != \"mouseout\") {\n",
        "                            return;\n",
        "                        }\n",
        "\n",
        "                        var reltg = event.relatedTarget ? event.relatedTarget :\n",
        "                            event.type == \"mouseout\" ? event.toElement : event.fromElement;\n",
        "                        while (reltg && reltg != this.node) reltg = reltg.parentNode;\n",
        "\n",
        "                        if (reltg != this.node) {\n",
        "                            return fn.apply(this, event);\n",
        "                        }\n",
        "                    };\n",
        "\n",
        "                    if (event_name == \"mouseenter\") {\n",
        "                        this.mouseover(fn2, scope);\n",
        "                    } else {\n",
        "                        this.mouseout(fn2, scope);\n",
        "                    }\n",
        "                }\n",
        "                return this;\n",
        "            };\n",
        "        })(events[i]);\n",
        "    }\n",
        "\n",
        "\n",
        "    Element.prototype.mousewheel = function (fn, scope) {\n",
        "        if (Snap.is(fn, \"function\")) {\n",
        "            var el = this;\n",
        "            var fn2 = function (event) {\n",
        "                fn.apply(el, [event]);\n",
        "            };\n",
        "        }\n",
        "\n",
        "        this.node.addEventListener(\n",
        "            /Firefox/i.test(navigator.userAgent) ? \"DOMMouseScroll\" : \"mousewheel\",\n",
        "            fn2);\n",
        "\n",
        "        return this;\n",
        "    };\n",
        "\n",
        "\n",
        "    // Snap's attr function can be too slow for things like panning/zooming.\n",
        "    // This is a function to directly update element attributes without going\n",
        "    // through eve.\n",
        "    Element.prototype.attribute = function(key, val) {\n",
        "        if (val === undefined) {\n",
        "            return this.node.getAttribute(key, val);\n",
        "        } else {\n",
        "            return this.node.setAttribute(key, val);\n",
        "        }\n",
        "    };\n",
        "});\n",
        "\n",
        "\n",
        "// When the plot is moused over, emphasize the grid lines.\n",
        "Gadfly.plot_mouseover = function(event) {\n",
        "    var root = this.plotroot();\n",
        "    init_pan_zoom(root);\n",
        "\n",
        "    var xgridlines = root.select(\".xgridlines\"),\n",
        "        ygridlines = root.select(\".ygridlines\");\n",
        "\n",
        "    xgridlines.data(\"unfocused_strokedash\",\n",
        "                    xgridlines.attr(\"stroke-dasharray\").replace(/px/g, \"mm\"))\n",
        "    ygridlines.data(\"unfocused_strokedash\",\n",
        "                    ygridlines.attr(\"stroke-dasharray\").replace(/px/g, \"mm\"))\n",
        "\n",
        "    // emphasize grid lines\n",
        "    var destcolor = root.data(\"focused_xgrid_color\");\n",
        "    xgridlines.attr(\"stroke-dasharray\", \"none\")\n",
        "              .selectAll(\"path\")\n",
        "              .animate({stroke: destcolor}, 250);\n",
        "\n",
        "    destcolor = root.data(\"focused_ygrid_color\");\n",
        "    ygridlines.attr(\"stroke-dasharray\", \"none\")\n",
        "              .selectAll(\"path\")\n",
        "              .animate({stroke: destcolor}, 250);\n",
        "\n",
        "    // reveal zoom slider\n",
        "    root.select(\".zoomslider\")\n",
        "        .animate({opacity: 1.0}, 250);\n",
        "};\n",
        "\n",
        "\n",
        "// Unemphasize grid lines on mouse out.\n",
        "Gadfly.plot_mouseout = function(event) {\n",
        "    var root = this.plotroot();\n",
        "    var xgridlines = root.select(\".xgridlines\"),\n",
        "        ygridlines = root.select(\".ygridlines\");\n",
        "\n",
        "    var destcolor = root.data(\"unfocused_xgrid_color\");\n",
        "\n",
        "    xgridlines.attr(\"stroke-dasharray\", xgridlines.data(\"unfocused_strokedash\"))\n",
        "              .selectAll(\"path\")\n",
        "              .animate({stroke: destcolor}, 250);\n",
        "\n",
        "    destcolor = root.data(\"unfocused_ygrid_color\");\n",
        "    ygridlines.attr(\"stroke-dasharray\", ygridlines.data(\"unfocused_strokedash\"))\n",
        "              .selectAll(\"path\")\n",
        "              .animate({stroke: destcolor}, 250);\n",
        "\n",
        "    // hide zoom slider\n",
        "    root.select(\".zoomslider\")\n",
        "        .animate({opacity: 0.0}, 250);\n",
        "};\n",
        "\n",
        "\n",
        "var set_geometry_transform = function(root, tx, ty, scale) {\n",
        "    var xscalable = root.hasClass(\"xscalable\"),\n",
        "        yscalable = root.hasClass(\"yscalable\");\n",
        "\n",
        "    var old_scale = root.data(\"scale\");\n",
        "\n",
        "    var xscale = xscalable ? scale : 1.0,\n",
        "        yscale = yscalable ? scale : 1.0;\n",
        "\n",
        "    tx = xscalable ? tx : 0.0;\n",
        "    ty = yscalable ? ty : 0.0;\n",
        "\n",
        "    var t = new Snap.Matrix().translate(tx, ty).scale(xscale, yscale);\n",
        "\n",
        "    root.selectAll(\".geometry\")\n",
        "        .forEach(function (element, i) {\n",
        "            element.transform(t);\n",
        "        });\n",
        "\n",
        "    bounds = root.plotbounds();\n",
        "\n",
        "    if (yscalable) {\n",
        "        var xfixed_t = new Snap.Matrix().translate(0, ty).scale(1.0, yscale);\n",
        "        root.selectAll(\".xfixed\")\n",
        "            .forEach(function (element, i) {\n",
        "                element.transform(xfixed_t);\n",
        "            });\n",
        "\n",
        "        root.select(\".ylabels\")\n",
        "            .transform(xfixed_t)\n",
        "            .selectAll(\"text\")\n",
        "            .forEach(function (element, i) {\n",
        "                if (element.attribute(\"gadfly:inscale\") == \"true\") {\n",
        "                    var cx = element.asPX(\"x\"),\n",
        "                        cy = element.asPX(\"y\");\n",
        "                    var st = element.data(\"static_transform\");\n",
        "                    unscale_t = new Snap.Matrix();\n",
        "                    unscale_t.scale(1, 1/scale, cx, cy).add(st);\n",
        "                    element.transform(unscale_t);\n",
        "\n",
        "                    var y = cy * scale + ty;\n",
        "                    element.attr(\"visibility\",\n",
        "                        bounds.y0 <= y && y <= bounds.y1 ? \"visible\" : \"hidden\");\n",
        "                }\n",
        "            });\n",
        "    }\n",
        "\n",
        "    if (xscalable) {\n",
        "        var yfixed_t = new Snap.Matrix().translate(tx, 0).scale(xscale, 1.0);\n",
        "        var xtrans = new Snap.Matrix().translate(tx, 0);\n",
        "        root.selectAll(\".yfixed\")\n",
        "            .forEach(function (element, i) {\n",
        "                element.transform(yfixed_t);\n",
        "            });\n",
        "\n",
        "        root.select(\".xlabels\")\n",
        "            .transform(yfixed_t)\n",
        "            .selectAll(\"text\")\n",
        "            .forEach(function (element, i) {\n",
        "                if (element.attribute(\"gadfly:inscale\") == \"true\") {\n",
        "                    var cx = element.asPX(\"x\"),\n",
        "                        cy = element.asPX(\"y\");\n",
        "                    var st = element.data(\"static_transform\");\n",
        "                    unscale_t = new Snap.Matrix();\n",
        "                    unscale_t.scale(1/scale, 1, cx, cy).add(st);\n",
        "\n",
        "                    element.transform(unscale_t);\n",
        "\n",
        "                    var x = cx * scale + tx;\n",
        "                    element.attr(\"visibility\",\n",
        "                        bounds.x0 <= x && x <= bounds.x1 ? \"visible\" : \"hidden\");\n",
        "                    }\n",
        "            });\n",
        "    }\n",
        "\n",
        "    // we must unscale anything that is scale invariance: widths, raiduses, etc.\n",
        "    var size_attribs = [\"font-size\"];\n",
        "    var unscaled_selection = \".geometry, .geometry > *\";\n",
        "    if (xscalable) {\n",
        "        size_attribs.push(\"rx\");\n",
        "        unscaled_selection += \", .xgridlines\";\n",
        "    }\n",
        "    if (yscalable) {\n",
        "        size_attribs.push(\"ry\");\n",
        "        unscaled_selection += \", .ygridlines\";\n",
        "    }\n",
        "\n",
        "    root.selectAll(unscaled_selection)\n",
        "        .forEach(function (element, i) {\n",
        "            // circle need special help\n",
        "            if (element.node.nodeName == \"circle\") {\n",
        "                var cx = element.attribute(\"cx\"),\n",
        "                    cy = element.attribute(\"cy\");\n",
        "                unscale_t = new Snap.Matrix().scale(1/xscale, 1/yscale,\n",
        "                                                        cx, cy);\n",
        "                element.transform(unscale_t);\n",
        "                return;\n",
        "            }\n",
        "\n",
        "            for (i in size_attribs) {\n",
        "                var key = size_attribs[i];\n",
        "                var val = parseFloat(element.attribute(key));\n",
        "                if (val !== undefined && val != 0 && !isNaN(val)) {\n",
        "                    element.attribute(key, val * old_scale / scale);\n",
        "                }\n",
        "            }\n",
        "        });\n",
        "};\n",
        "\n",
        "\n",
        "// Find the most appropriate tick scale and update label visibility.\n",
        "var update_tickscale = function(root, scale, axis) {\n",
        "    if (!root.hasClass(axis + \"scalable\")) return;\n",
        "\n",
        "    var tickscales = root.data(axis + \"tickscales\");\n",
        "    var best_tickscale = 1.0;\n",
        "    var best_tickscale_dist = Infinity;\n",
        "    for (tickscale in tickscales) {\n",
        "        var dist = Math.abs(Math.log(tickscale) - Math.log(scale));\n",
        "        if (dist < best_tickscale_dist) {\n",
        "            best_tickscale_dist = dist;\n",
        "            best_tickscale = tickscale;\n",
        "        }\n",
        "    }\n",
        "\n",
        "    if (best_tickscale != root.data(axis + \"tickscale\")) {\n",
        "        root.data(axis + \"tickscale\", best_tickscale);\n",
        "        var mark_inscale_gridlines = function (element, i) {\n",
        "            var inscale = element.attr(\"gadfly:scale\") == best_tickscale;\n",
        "            element.attribute(\"gadfly:inscale\", inscale);\n",
        "            element.attr(\"visibility\", inscale ? \"visible\" : \"hidden\");\n",
        "        };\n",
        "\n",
        "        var mark_inscale_labels = function (element, i) {\n",
        "            var inscale = element.attr(\"gadfly:scale\") == best_tickscale;\n",
        "            element.attribute(\"gadfly:inscale\", inscale);\n",
        "            element.attr(\"visibility\", inscale ? \"visible\" : \"hidden\");\n",
        "        };\n",
        "\n",
        "        root.select(\".\" + axis + \"gridlines\").selectAll(\"path\").forEach(mark_inscale_gridlines);\n",
        "        root.select(\".\" + axis + \"labels\").selectAll(\"text\").forEach(mark_inscale_labels);\n",
        "    }\n",
        "};\n",
        "\n",
        "\n",
        "var set_plot_pan_zoom = function(root, tx, ty, scale) {\n",
        "    var old_scale = root.data(\"scale\");\n",
        "    var bounds = root.plotbounds();\n",
        "\n",
        "    var width = bounds.x1 - bounds.x0,\n",
        "        height = bounds.y1 - bounds.y0;\n",
        "\n",
        "    // compute the viewport derived from tx, ty, and scale\n",
        "    var x_min = -width * scale - (scale * width - width),\n",
        "        x_max = width * scale,\n",
        "        y_min = -height * scale - (scale * height - height),\n",
        "        y_max = height * scale;\n",
        "\n",
        "    var x0 = bounds.x0 - scale * bounds.x0,\n",
        "        y0 = bounds.y0 - scale * bounds.y0;\n",
        "\n",
        "    var tx = Math.max(Math.min(tx - x0, x_max), x_min),\n",
        "        ty = Math.max(Math.min(ty - y0, y_max), y_min);\n",
        "\n",
        "    tx += x0;\n",
        "    ty += y0;\n",
        "\n",
        "    // when the scale change, we may need to alter which set of\n",
        "    // ticks is being displayed\n",
        "    if (scale != old_scale) {\n",
        "        update_tickscale(root, scale, \"x\");\n",
        "        update_tickscale(root, scale, \"y\");\n",
        "    }\n",
        "\n",
        "    set_geometry_transform(root, tx, ty, scale);\n",
        "\n",
        "    root.data(\"scale\", scale);\n",
        "    root.data(\"tx\", tx);\n",
        "    root.data(\"ty\", ty);\n",
        "};\n",
        "\n",
        "\n",
        "var scale_centered_translation = function(root, scale) {\n",
        "    var bounds = root.plotbounds();\n",
        "\n",
        "    var width = bounds.x1 - bounds.x0,\n",
        "        height = bounds.y1 - bounds.y0;\n",
        "\n",
        "    var tx0 = root.data(\"tx\"),\n",
        "        ty0 = root.data(\"ty\");\n",
        "\n",
        "    var scale0 = root.data(\"scale\");\n",
        "\n",
        "    // how off from center the current view is\n",
        "    var xoff = tx0 - (bounds.x0 * (1 - scale0) + (width * (1 - scale0)) / 2),\n",
        "        yoff = ty0 - (bounds.y0 * (1 - scale0) + (height * (1 - scale0)) / 2);\n",
        "\n",
        "    // rescale offsets\n",
        "    xoff = xoff * scale / scale0;\n",
        "    yoff = yoff * scale / scale0;\n",
        "\n",
        "    // adjust for the panel position being scaled\n",
        "    var x_edge_adjust = bounds.x0 * (1 - scale),\n",
        "        y_edge_adjust = bounds.y0 * (1 - scale);\n",
        "\n",
        "    return {\n",
        "        x: xoff + x_edge_adjust + (width - width * scale) / 2,\n",
        "        y: yoff + y_edge_adjust + (height - height * scale) / 2\n",
        "    };\n",
        "};\n",
        "\n",
        "\n",
        "// Initialize data for panning zooming if it isn't already.\n",
        "var init_pan_zoom = function(root) {\n",
        "    if (root.data(\"zoompan-ready\")) {\n",
        "        return;\n",
        "    }\n",
        "\n",
        "    // The non-scaling-stroke trick. Rather than try to correct for the\n",
        "    // stroke-width when zooming, we force it to a fixed value.\n",
        "    var px_per_mm = root.node.getCTM().a;\n",
        "\n",
        "    // Drag events report deltas in pixels, which we'd like to convert to\n",
        "    // millimeters.\n",
        "    root.data(\"px_per_mm\", px_per_mm);\n",
        "\n",
        "    root.selectAll(\"path\")\n",
        "        .forEach(function (element, i) {\n",
        "        sw = element.asPX(\"stroke-width\") * px_per_mm;\n",
        "        if (sw > 0) {\n",
        "            element.attribute(\"stroke-width\", sw);\n",
        "            element.attribute(\"vector-effect\", \"non-scaling-stroke\");\n",
        "        }\n",
        "    });\n",
        "\n",
        "    // Store ticks labels original tranformation\n",
        "    root.selectAll(\".xlabels > text, .ylabels > text\")\n",
        "        .forEach(function (element, i) {\n",
        "            var lm = element.transform().localMatrix;\n",
        "            element.data(\"static_transform\",\n",
        "                new Snap.Matrix(lm.a, lm.b, lm.c, lm.d, lm.e, lm.f));\n",
        "        });\n",
        "\n",
        "    if (root.data(\"tx\") === undefined) root.data(\"tx\", 0);\n",
        "    if (root.data(\"ty\") === undefined) root.data(\"ty\", 0);\n",
        "    if (root.data(\"scale\") === undefined) root.data(\"scale\", 1.0);\n",
        "    if (root.data(\"xtickscales\") === undefined) {\n",
        "\n",
        "        // index all the tick scales that are listed\n",
        "        var xtickscales = {};\n",
        "        var ytickscales = {};\n",
        "        var add_x_tick_scales = function (element, i) {\n",
        "            xtickscales[element.attribute(\"gadfly:scale\")] = true;\n",
        "        };\n",
        "        var add_y_tick_scales = function (element, i) {\n",
        "            ytickscales[element.attribute(\"gadfly:scale\")] = true;\n",
        "        };\n",
        "\n",
        "        root.select(\".xgridlines\").selectAll(\"path\").forEach(add_x_tick_scales);\n",
        "        root.select(\".ygridlines\").selectAll(\"path\").forEach(add_y_tick_scales);\n",
        "        root.select(\".xlabels\").selectAll(\"text\").forEach(add_x_tick_scales);\n",
        "        root.select(\".ylabels\").selectAll(\"text\").forEach(add_y_tick_scales);\n",
        "\n",
        "        root.data(\"xtickscales\", xtickscales);\n",
        "        root.data(\"ytickscales\", ytickscales);\n",
        "        root.data(\"xtickscale\", 1.0);\n",
        "    }\n",
        "\n",
        "    var min_scale = 1.0, max_scale = 1.0;\n",
        "    for (scale in xtickscales) {\n",
        "        min_scale = Math.min(min_scale, scale);\n",
        "        max_scale = Math.max(max_scale, scale);\n",
        "    }\n",
        "    for (scale in ytickscales) {\n",
        "        min_scale = Math.min(min_scale, scale);\n",
        "        max_scale = Math.max(max_scale, scale);\n",
        "    }\n",
        "    root.data(\"min_scale\", min_scale);\n",
        "    root.data(\"max_scale\", max_scale);\n",
        "\n",
        "    // store the original positions of labels\n",
        "    root.select(\".xlabels\")\n",
        "        .selectAll(\"text\")\n",
        "        .forEach(function (element, i) {\n",
        "            element.data(\"x\", element.asPX(\"x\"));\n",
        "        });\n",
        "\n",
        "    root.select(\".ylabels\")\n",
        "        .selectAll(\"text\")\n",
        "        .forEach(function (element, i) {\n",
        "            element.data(\"y\", element.asPX(\"y\"));\n",
        "        });\n",
        "\n",
        "    // mark grid lines and ticks as in or out of scale.\n",
        "    var mark_inscale = function (element, i) {\n",
        "        element.attribute(\"gadfly:inscale\", element.attribute(\"gadfly:scale\") == 1.0);\n",
        "    };\n",
        "\n",
        "    root.select(\".xgridlines\").selectAll(\"path\").forEach(mark_inscale);\n",
        "    root.select(\".ygridlines\").selectAll(\"path\").forEach(mark_inscale);\n",
        "    root.select(\".xlabels\").selectAll(\"text\").forEach(mark_inscale);\n",
        "    root.select(\".ylabels\").selectAll(\"text\").forEach(mark_inscale);\n",
        "\n",
        "    // figure out the upper ond lower bounds on panning using the maximum\n",
        "    // and minum grid lines\n",
        "    var bounds = root.plotbounds();\n",
        "    var pan_bounds = {\n",
        "        x0: 0.0,\n",
        "        y0: 0.0,\n",
        "        x1: 0.0,\n",
        "        y1: 0.0\n",
        "    };\n",
        "\n",
        "    root.select(\".xgridlines\")\n",
        "        .selectAll(\"path\")\n",
        "        .forEach(function (element, i) {\n",
        "            if (element.attribute(\"gadfly:inscale\") == \"true\") {\n",
        "                var bbox = element.node.getBBox();\n",
        "                if (bounds.x1 - bbox.x < pan_bounds.x0) {\n",
        "                    pan_bounds.x0 = bounds.x1 - bbox.x;\n",
        "                }\n",
        "                if (bounds.x0 - bbox.x > pan_bounds.x1) {\n",
        "                    pan_bounds.x1 = bounds.x0 - bbox.x;\n",
        "                }\n",
        "            }\n",
        "        });\n",
        "\n",
        "    root.select(\".ygridlines\")\n",
        "        .selectAll(\"path\")\n",
        "        .forEach(function (element, i) {\n",
        "            if (element.attribute(\"gadfly:inscale\") == \"true\") {\n",
        "                var bbox = element.node.getBBox();\n",
        "                if (bounds.y1 - bbox.y < pan_bounds.y0) {\n",
        "                    pan_bounds.y0 = bounds.y1 - bbox.y;\n",
        "                }\n",
        "                if (bounds.y0 - bbox.y > pan_bounds.y1) {\n",
        "                    pan_bounds.y1 = bounds.y0 - bbox.y;\n",
        "                }\n",
        "            }\n",
        "        });\n",
        "\n",
        "    // nudge these values a little\n",
        "    pan_bounds.x0 -= 5;\n",
        "    pan_bounds.x1 += 5;\n",
        "    pan_bounds.y0 -= 5;\n",
        "    pan_bounds.y1 += 5;\n",
        "    root.data(\"pan_bounds\", pan_bounds);\n",
        "\n",
        "    // Set all grid lines at scale 1.0 to visible. Out of bounds lines\n",
        "    // will be clipped.\n",
        "    root.select(\".xgridlines\")\n",
        "        .selectAll(\"path\")\n",
        "        .forEach(function (element, i) {\n",
        "            if (element.attribute(\"gadfly:inscale\") == \"true\") {\n",
        "                element.attr(\"visibility\", \"visible\");\n",
        "            }\n",
        "        });\n",
        "\n",
        "    root.select(\".ygridlines\")\n",
        "        .selectAll(\"path\")\n",
        "        .forEach(function (element, i) {\n",
        "            if (element.attribute(\"gadfly:inscale\") == \"true\") {\n",
        "                element.attr(\"visibility\", \"visible\");\n",
        "            }\n",
        "        });\n",
        "\n",
        "    root.data(\"zoompan-ready\", true)\n",
        "};\n",
        "\n",
        "\n",
        "// Panning\n",
        "Gadfly.guide_background_drag_onmove = function(dx, dy, x, y, event) {\n",
        "    var root = this.plotroot();\n",
        "    var px_per_mm = root.data(\"px_per_mm\");\n",
        "    dx /= px_per_mm;\n",
        "    dy /= px_per_mm;\n",
        "\n",
        "    var tx0 = root.data(\"tx\"),\n",
        "        ty0 = root.data(\"ty\");\n",
        "\n",
        "    var dx0 = root.data(\"dx\"),\n",
        "        dy0 = root.data(\"dy\");\n",
        "\n",
        "    root.data(\"dx\", dx);\n",
        "    root.data(\"dy\", dy);\n",
        "\n",
        "    dx = dx - dx0;\n",
        "    dy = dy - dy0;\n",
        "\n",
        "    var tx = tx0 + dx,\n",
        "        ty = ty0 + dy;\n",
        "\n",
        "    set_plot_pan_zoom(root, tx, ty, root.data(\"scale\"));\n",
        "};\n",
        "\n",
        "\n",
        "Gadfly.guide_background_drag_onstart = function(x, y, event) {\n",
        "    var root = this.plotroot();\n",
        "    root.data(\"dx\", 0);\n",
        "    root.data(\"dy\", 0);\n",
        "    init_pan_zoom(root);\n",
        "};\n",
        "\n",
        "\n",
        "Gadfly.guide_background_drag_onend = function(event) {\n",
        "    var root = this.plotroot();\n",
        "};\n",
        "\n",
        "\n",
        "Gadfly.guide_background_scroll = function(event) {\n",
        "    if (event.shiftKey) {\n",
        "        var root = this.plotroot();\n",
        "        init_pan_zoom(root);\n",
        "        var new_scale = root.data(\"scale\") * Math.pow(2, 0.002 * event.wheelDelta);\n",
        "        new_scale = Math.max(\n",
        "            root.data(\"min_scale\"),\n",
        "            Math.min(root.data(\"max_scale\"), new_scale))\n",
        "        update_plot_scale(root, new_scale);\n",
        "        event.stopPropagation();\n",
        "    }\n",
        "};\n",
        "\n",
        "\n",
        "Gadfly.zoomslider_button_mouseover = function(event) {\n",
        "    this.select(\".button_logo\")\n",
        "         .animate({fill: this.data(\"mouseover_color\")}, 100);\n",
        "};\n",
        "\n",
        "\n",
        "Gadfly.zoomslider_button_mouseout = function(event) {\n",
        "     this.select(\".button_logo\")\n",
        "         .animate({fill: this.data(\"mouseout_color\")}, 100);\n",
        "};\n",
        "\n",
        "\n",
        "Gadfly.zoomslider_zoomout_click = function(event) {\n",
        "    var root = this.plotroot();\n",
        "    init_pan_zoom(root);\n",
        "    var min_scale = root.data(\"min_scale\"),\n",
        "        scale = root.data(\"scale\");\n",
        "    Snap.animate(\n",
        "        scale,\n",
        "        Math.max(min_scale, scale / 1.5),\n",
        "        function (new_scale) {\n",
        "            update_plot_scale(root, new_scale);\n",
        "        },\n",
        "        200);\n",
        "};\n",
        "\n",
        "\n",
        "Gadfly.zoomslider_zoomin_click = function(event) {\n",
        "    var root = this.plotroot();\n",
        "    init_pan_zoom(root);\n",
        "    var max_scale = root.data(\"max_scale\"),\n",
        "        scale = root.data(\"scale\");\n",
        "\n",
        "    Snap.animate(\n",
        "        scale,\n",
        "        Math.min(max_scale, scale * 1.5),\n",
        "        function (new_scale) {\n",
        "            update_plot_scale(root, new_scale);\n",
        "        },\n",
        "        200);\n",
        "};\n",
        "\n",
        "\n",
        "Gadfly.zoomslider_track_click = function(event) {\n",
        "    // TODO\n",
        "};\n",
        "\n",
        "\n",
        "Gadfly.zoomslider_thumb_mousedown = function(event) {\n",
        "    this.animate({fill: this.data(\"mouseover_color\")}, 100);\n",
        "};\n",
        "\n",
        "\n",
        "Gadfly.zoomslider_thumb_mouseup = function(event) {\n",
        "    this.animate({fill: this.data(\"mouseout_color\")}, 100);\n",
        "};\n",
        "\n",
        "\n",
        "// compute the position in [0, 1] of the zoom slider thumb from the current scale\n",
        "var slider_position_from_scale = function(scale, min_scale, max_scale) {\n",
        "    if (scale >= 1.0) {\n",
        "        return 0.5 + 0.5 * (Math.log(scale) / Math.log(max_scale));\n",
        "    }\n",
        "    else {\n",
        "        return 0.5 * (Math.log(scale) - Math.log(min_scale)) / (0 - Math.log(min_scale));\n",
        "    }\n",
        "}\n",
        "\n",
        "\n",
        "var update_plot_scale = function(root, new_scale) {\n",
        "    var trans = scale_centered_translation(root, new_scale);\n",
        "    set_plot_pan_zoom(root, trans.x, trans.y, new_scale);\n",
        "\n",
        "    root.selectAll(\".zoomslider_thumb\")\n",
        "        .forEach(function (element, i) {\n",
        "            var min_pos = element.data(\"min_pos\"),\n",
        "                max_pos = element.data(\"max_pos\"),\n",
        "                min_scale = root.data(\"min_scale\"),\n",
        "                max_scale = root.data(\"max_scale\");\n",
        "            var xmid = (min_pos + max_pos) / 2;\n",
        "            var xpos = slider_position_from_scale(new_scale, min_scale, max_scale);\n",
        "            element.transform(new Snap.Matrix().translate(\n",
        "                Math.max(min_pos, Math.min(\n",
        "                         max_pos, min_pos + (max_pos - min_pos) * xpos)) - xmid, 0));\n",
        "    });\n",
        "};\n",
        "\n",
        "\n",
        "Gadfly.zoomslider_thumb_dragmove = function(dx, dy, x, y) {\n",
        "    var root = this.plotroot();\n",
        "    var min_pos = this.data(\"min_pos\"),\n",
        "        max_pos = this.data(\"max_pos\"),\n",
        "        min_scale = root.data(\"min_scale\"),\n",
        "        max_scale = root.data(\"max_scale\"),\n",
        "        old_scale = root.data(\"old_scale\");\n",
        "\n",
        "    var px_per_mm = root.data(\"px_per_mm\");\n",
        "    dx /= px_per_mm;\n",
        "    dy /= px_per_mm;\n",
        "\n",
        "    var xmid = (min_pos + max_pos) / 2;\n",
        "    var xpos = slider_position_from_scale(old_scale, min_scale, max_scale) +\n",
        "                   dx / (max_pos - min_pos);\n",
        "\n",
        "    // compute the new scale\n",
        "    var new_scale;\n",
        "    if (xpos >= 0.5) {\n",
        "        new_scale = Math.exp(2.0 * (xpos - 0.5) * Math.log(max_scale));\n",
        "    }\n",
        "    else {\n",
        "        new_scale = Math.exp(2.0 * xpos * (0 - Math.log(min_scale)) +\n",
        "                        Math.log(min_scale));\n",
        "    }\n",
        "    new_scale = Math.min(max_scale, Math.max(min_scale, new_scale));\n",
        "\n",
        "    update_plot_scale(root, new_scale);\n",
        "};\n",
        "\n",
        "\n",
        "Gadfly.zoomslider_thumb_dragstart = function(event) {\n",
        "    var root = this.plotroot();\n",
        "    init_pan_zoom(root);\n",
        "\n",
        "    // keep track of what the scale was when we started dragging\n",
        "    root.data(\"old_scale\", root.data(\"scale\"));\n",
        "};\n",
        "\n",
        "\n",
        "Gadfly.zoomslider_thumb_dragend = function(event) {\n",
        "};\n",
        "\n",
        "\n",
        "var toggle_color_class = function(root, color_class, ison) {\n",
        "    var guides = root.selectAll(\".guide.\" + color_class + \",.guide .\" + color_class);\n",
        "    var geoms = root.selectAll(\".geometry.\" + color_class + \",.geometry .\" + color_class);\n",
        "    if (ison) {\n",
        "        guides.animate({opacity: 0.5}, 250);\n",
        "        geoms.animate({opacity: 0.0}, 250);\n",
        "    } else {\n",
        "        guides.animate({opacity: 1.0}, 250);\n",
        "        geoms.animate({opacity: 1.0}, 250);\n",
        "    }\n",
        "};\n",
        "\n",
        "\n",
        "Gadfly.colorkey_swatch_click = function(event) {\n",
        "    var root = this.plotroot();\n",
        "    var color_class = this.data(\"color_class\");\n",
        "\n",
        "    if (event.shiftKey) {\n",
        "        root.selectAll(\".colorkey text\")\n",
        "            .forEach(function (element) {\n",
        "                var other_color_class = element.data(\"color_class\");\n",
        "                if (other_color_class != color_class) {\n",
        "                    toggle_color_class(root, other_color_class,\n",
        "                                       element.attr(\"opacity\") == 1.0);\n",
        "                }\n",
        "            });\n",
        "    } else {\n",
        "        toggle_color_class(root, color_class, this.attr(\"opacity\") == 1.0);\n",
        "    }\n",
        "};\n",
        "\n",
        "\n",
        "return Gadfly;\n",
        "\n",
        "}));\n",
        "\n",
        "\n",
        "//@ sourceURL=gadfly.js\n",
        "\n",
        "(function (glob, factory) {\n",
        "    // AMD support\n",
        "      if (typeof require === \"function\" && typeof define === \"function\" && define.amd) {\n",
        "        require([\"Snap.svg\", \"Gadfly\"], function (Snap, Gadfly) {\n",
        "            factory(Snap, Gadfly);\n",
        "        });\n",
        "      } else {\n",
        "          factory(glob.Snap, glob.Gadfly);\n",
        "      }\n",
        "})(window, function (Snap, Gadfly) {\n",
        "    var fig = Snap(\"#fig-941554d3eb3b4b908c6699e000f5c6c8\");\n",
        "fig.select(\"#fig-941554d3eb3b4b908c6699e000f5c6c8-element-4\")\n",
        "   .mouseenter(Gadfly.plot_mouseover)\n",
        ".mouseleave(Gadfly.plot_mouseout)\n",
        ".mousewheel(Gadfly.guide_background_scroll)\n",
        ".drag(Gadfly.guide_background_drag_onmove,\n",
        "      Gadfly.guide_background_drag_onstart,\n",
        "      Gadfly.guide_background_drag_onend)\n",
        ";\n",
        "fig.select(\"#fig-941554d3eb3b4b908c6699e000f5c6c8-element-7\")\n",
        "   .plotroot().data(\"unfocused_ygrid_color\", \"#D0D0E0\")\n",
        ";\n",
        "fig.select(\"#fig-941554d3eb3b4b908c6699e000f5c6c8-element-7\")\n",
        "   .plotroot().data(\"focused_ygrid_color\", \"#A0A0A0\")\n",
        ";\n",
        "fig.select(\"#fig-941554d3eb3b4b908c6699e000f5c6c8-element-8\")\n",
        "   .plotroot().data(\"unfocused_xgrid_color\", \"#D0D0E0\")\n",
        ";\n",
        "fig.select(\"#fig-941554d3eb3b4b908c6699e000f5c6c8-element-8\")\n",
        "   .plotroot().data(\"focused_xgrid_color\", \"#A0A0A0\")\n",
        ";\n",
        "fig.select(\"#fig-941554d3eb3b4b908c6699e000f5c6c8-element-12\")\n",
        "   .data(\"mouseover_color\", \"#cd5c5c\")\n",
        ";\n",
        "fig.select(\"#fig-941554d3eb3b4b908c6699e000f5c6c8-element-12\")\n",
        "   .data(\"mouseout_color\", \"#6a6a6a\")\n",
        ";\n",
        "fig.select(\"#fig-941554d3eb3b4b908c6699e000f5c6c8-element-12\")\n",
        "   .click(Gadfly.zoomslider_zoomin_click)\n",
        ".mouseenter(Gadfly.zoomslider_button_mouseover)\n",
        ".mouseleave(Gadfly.zoomslider_button_mouseout)\n",
        ";\n",
        "fig.select(\"#fig-941554d3eb3b4b908c6699e000f5c6c8-element-14\")\n",
        "   .data(\"max_pos\", 99)\n",
        ";\n",
        "fig.select(\"#fig-941554d3eb3b4b908c6699e000f5c6c8-element-14\")\n",
        "   .data(\"min_pos\", 82)\n",
        ";\n",
        "fig.select(\"#fig-941554d3eb3b4b908c6699e000f5c6c8-element-14\")\n",
        "   .click(Gadfly.zoomslider_track_click);\n",
        "fig.select(\"#fig-941554d3eb3b4b908c6699e000f5c6c8-element-15\")\n",
        "   .data(\"max_pos\", 99)\n",
        ";\n",
        "fig.select(\"#fig-941554d3eb3b4b908c6699e000f5c6c8-element-15\")\n",
        "   .data(\"min_pos\", 82)\n",
        ";\n",
        "fig.select(\"#fig-941554d3eb3b4b908c6699e000f5c6c8-element-15\")\n",
        "   .data(\"mouseover_color\", \"#cd5c5c\")\n",
        ";\n",
        "fig.select(\"#fig-941554d3eb3b4b908c6699e000f5c6c8-element-15\")\n",
        "   .data(\"mouseout_color\", \"#6a6a6a\")\n",
        ";\n",
        "fig.select(\"#fig-941554d3eb3b4b908c6699e000f5c6c8-element-15\")\n",
        "   .drag(Gadfly.zoomslider_thumb_dragmove,\n",
        "     Gadfly.zoomslider_thumb_dragstart,\n",
        "     Gadfly.zoomslider_thumb_dragend)\n",
        ".mousedown(Gadfly.zoomslider_thumb_mousedown)\n",
        ".mouseup(Gadfly.zoomslider_thumb_mouseup)\n",
        ";\n",
        "fig.select(\"#fig-941554d3eb3b4b908c6699e000f5c6c8-element-16\")\n",
        "   .data(\"mouseover_color\", \"#cd5c5c\")\n",
        ";\n",
        "fig.select(\"#fig-941554d3eb3b4b908c6699e000f5c6c8-element-16\")\n",
        "   .data(\"mouseout_color\", \"#6a6a6a\")\n",
        ";\n",
        "fig.select(\"#fig-941554d3eb3b4b908c6699e000f5c6c8-element-16\")\n",
        "   .click(Gadfly.zoomslider_zoomout_click)\n",
        ".mouseenter(Gadfly.zoomslider_button_mouseover)\n",
        ".mouseleave(Gadfly.zoomslider_button_mouseout)\n",
        ";\n",
        "    });\n",
        "]]> </script>\n",
        "</svg>\n"
       ],
       "metadata": {
        "comm_id": "fabd81cf-9fe4-4a45-9c63-98dede3d72b3",
        "reactive": true
       },
       "output_type": "pyout",
       "prompt_number": 24,
       "svg": [
        "<?xml version=\"1.0\" encoding=\"UTF-8\"?>\n",
        "<svg xmlns=\"http://www.w3.org/2000/svg\"\n",
        "     xmlns:xlink=\"http://www.w3.org/1999/xlink\"\n",
        "     xmlns:gadfly=\"http://www.gadflyjl.org/ns\"\n",
        "     version=\"1.2\"\n",
        "     width=\"120mm\" height=\"80mm\" viewBox=\"0 0 120 80\"\n",
        "     stroke=\"none\"\n",
        "     fill=\"#000000\"\n",
        "     stroke-width=\"0.3\"\n",
        ">\n",
        "<g class=\"plotroot xscalable yscalable\" id=\"fig-02bb8a0f6edf4d08bfefb22d68e36970-element-1\">\n",
        "  <g font-size=\"3.88\" font-family=\"'PT Sans','Helvetica Neue','Helvetica',sans-serif\" fill=\"#564A55\" stroke=\"none\" id=\"fig-02bb8a0f6edf4d08bfefb22d68e36970-element-2\">\n",
        "    <text x=\"67.37\" y=\"72\" text-anchor=\"middle\">x</text>\n",
        "  </g>\n",
        "  <g class=\"guide xlabels\" font-size=\"2.82\" font-family=\"'PT Sans Caption','Helvetica Neue','Helvetica',sans-serif\" fill=\"#6C606B\" id=\"fig-02bb8a0f6edf4d08bfefb22d68e36970-element-3\">\n",
        "    <text x=\"21.75\" y=\"66.39\" text-anchor=\"middle\">0</text>\n",
        "    <text x=\"40\" y=\"66.39\" text-anchor=\"middle\">5</text>\n",
        "    <text x=\"58.25\" y=\"66.39\" text-anchor=\"middle\">10</text>\n",
        "    <text x=\"76.5\" y=\"66.39\" text-anchor=\"middle\">15</text>\n",
        "    <text x=\"94.75\" y=\"66.39\" text-anchor=\"middle\">20</text>\n",
        "    <text x=\"113\" y=\"66.39\" text-anchor=\"middle\">25</text>\n",
        "  </g>\n",
        "  <g clip-path=\"url(#fig-02bb8a0f6edf4d08bfefb22d68e36970-element-5)\" id=\"fig-02bb8a0f6edf4d08bfefb22d68e36970-element-4\">\n",
        "    <g pointer-events=\"visible\" opacity=\"1\" fill=\"none\" stroke=\"none\" class=\"guide background\" id=\"fig-02bb8a0f6edf4d08bfefb22d68e36970-element-6\">\n",
        "      <rect x=\"19.75\" y=\"5\" width=\"95.26\" height=\"57.72\"/>\n",
        "    </g>\n",
        "    <g class=\"guide ygridlines xfixed\" stroke-dasharray=\"0.5,0.5\" stroke-width=\"0.2\" stroke=\"#D0D0E0\" id=\"fig-02bb8a0f6edf4d08bfefb22d68e36970-element-7\">\n",
        "      <path d=\"M19.75,60.72 L 115 60.72\"/>\n",
        "      <path d=\"M19.75,47.29 L 115 47.29\"/>\n",
        "      <path d=\"M19.75,33.86 L 115 33.86\"/>\n",
        "      <path d=\"M19.75,20.43 L 115 20.43\"/>\n",
        "      <path d=\"M19.75,7 L 115 7\"/>\n",
        "    </g>\n",
        "    <g class=\"guide xgridlines yfixed\" stroke-dasharray=\"0.5,0.5\" stroke-width=\"0.2\" stroke=\"#D0D0E0\" id=\"fig-02bb8a0f6edf4d08bfefb22d68e36970-element-8\">\n",
        "      <path d=\"M21.75,5 L 21.75 62.72\"/>\n",
        "      <path d=\"M40,5 L 40 62.72\"/>\n",
        "      <path d=\"M58.25,5 L 58.25 62.72\"/>\n",
        "      <path d=\"M76.5,5 L 76.5 62.72\"/>\n",
        "      <path d=\"M94.75,5 L 94.75 62.72\"/>\n",
        "      <path d=\"M113,5 L 113 62.72\"/>\n",
        "    </g>\n",
        "    <g class=\"plotpanel\" id=\"fig-02bb8a0f6edf4d08bfefb22d68e36970-element-9\">\n",
        "      <g stroke-width=\"0.3\" fill=\"none\" class=\"geometry\" stroke=\"#00BFFF\" id=\"fig-02bb8a0f6edf4d08bfefb22d68e36970-element-10\">\n",
        "        <path d=\"M21.75,7 L 22.11 7.14 22.48 7.54 22.84 8.21 23.21 9.14 23.58 10.31 23.94 11.73 24.31 13.36 24.68 15.21 25.04 17.24 25.41 19.44 25.78 21.78 26.14 24.25 26.51 26.81 26.88 29.44 27.24 32.12 27.61 34.81 27.98 37.5 28.34 40.15 28.71 42.73 29.07 45.23 29.44 47.61 29.81 49.85 30.17 51.94 30.54 53.84 30.91 55.53 31.27 57.01 31.64 58.26 32.01 59.26 32.37 60.01 32.74 60.49 33.11 60.7 33.47 60.65 33.84 60.32 34.21 59.73 34.57 58.87 34.94 57.77 35.3 56.42 35.67 54.85 36.04 53.06 36.4 51.08 36.77 48.93 37.14 46.63 37.5 44.2 37.87 41.66 38.24 39.04 38.6 36.38 38.97 33.68 39.34 30.99 39.7 28.33 40.07 25.72 40.44 23.2 40.8 20.78 41.17 18.5 41.54 16.37 41.9 14.41 42.27 12.65 42.63 11.11 43 9.79 43.37 8.72 43.73 7.9 44.1 7.34 44.47 7.05 44.83 7.02 45.2 7.27 45.57 7.79 45.93 8.57 46.3 9.6 46.67 10.88 47.03 12.39 47.4 14.11 47.77 16.04 48.13 18.14 48.5 20.4 48.86 22.8 49.23 25.31 49.6 27.91 49.96 30.56 50.33 33.25 50.7 35.94 51.06 38.62 51.43 41.24 51.8 43.79 52.16 46.24 52.53 48.57 52.9 50.75 53.26 52.76 53.63 54.57 54 56.18 54.36 57.57 54.73 58.71 55.1 59.61 55.46 60.24 55.83 60.61 56.19 60.71 56.56 60.54 56.93 60.1 57.29 59.4 57.66 58.44 58.03 57.23 58.39 55.79 58.76 54.12 59.13 52.26 59.49 50.2 59.86 47.98 60.23 45.62 60.59 43.14 60.96 40.57 61.33 37.93 61.69 35.25 62.06 32.55 62.42 29.87 62.79 27.23 63.16 24.65 63.52 22.17 63.89 19.81 64.26 17.58 64.62 15.52 64.99 13.65 65.36 11.98 65.72 10.53 66.09 9.31 66.46 8.34 66.82 7.63 67.19 7.18 67.56 7 67.92 7.1 68.29 7.46 68.66 8.08 69.02 8.97 69.39 10.11 69.75 11.48 70.12 13.09 70.49 14.9 70.85 16.9 71.22 19.07 71.59 21.39 71.95 23.84 72.32 26.39 72.69 29.01 73.05 31.69 73.42 34.38 73.79 37.07 74.15 39.73 74.52 42.32 74.89 44.84 75.25 47.24 75.62 49.5 75.98 51.61 76.35 53.54 76.72 55.28 77.08 56.79 77.45 58.08 77.82 59.12 78.18 59.91 78.55 60.43 78.92 60.69 79.28 60.67 79.65 60.39 80.02 59.84 80.38 59.03 80.75 57.96 81.12 56.65 81.48 55.12 81.85 53.36 82.22 51.41 82.58 49.29 82.95 47.01 83.31 44.59 83.68 42.07 84.05 39.47 84.41 36.81 84.78 34.12 85.15 31.42 85.51 28.76 85.88 26.14 86.25 23.6 86.61 21.16 86.98 18.85 87.35 16.7 87.71 14.71 88.08 12.92 88.45 11.34 88.81 9.99 89.18 8.87 89.54 8.01 89.91 7.41 90.28 7.07 90.64 7.01 91.01 7.21 91.38 7.69 91.74 8.42 92.11 9.42 92.48 10.66 92.84 12.13 93.21 13.82 93.58 15.72 93.94 17.79 94.31 20.03 94.68 22.41 95.04 24.9 95.41 27.48 95.78 30.13 96.14 32.81 96.51 35.51 96.87 38.19 97.24 40.82 97.61 43.39 97.97 45.86 98.34 48.21 98.71 50.41 99.07 52.45 99.44 54.29 99.81 55.94 100.17 57.36 100.54 58.54 100.91 59.48 101.27 60.16 101.64 60.57 102.01 60.71 102.37 60.59 102.74 60.19 103.1 59.53 103.47 58.61 103.84 57.44 104.2 56.04 104.57 54.41 104.94 52.57 105.3 50.54 105.67 48.35 106.04 46.01 106.4 43.55 106.77 40.99 107.14 38.36 107.5 35.68 107.87 32.99 108.24 30.3 108.6 27.65 108.97 25.06 109.34 22.56 109.7 20.18 110.07 17.93 110.43 15.84 110.8 13.94 111.17 12.23 111.53 10.74 111.9 9.49 112.27 8.48 112.63 7.73 113 7.24\"/>\n",
        "      </g>\n",
        "    </g>\n",
        "  </g>\n",
        "  <g class=\"guide ylabels\" font-size=\"2.82\" font-family=\"'PT Sans Caption','Helvetica Neue','Helvetica',sans-serif\" fill=\"#6C606B\" id=\"fig-02bb8a0f6edf4d08bfefb22d68e36970-element-11\">\n",
        "    <text x=\"18.75\" y=\"60.72\" text-anchor=\"end\" dy=\"0.35em\">-1.0</text>\n",
        "    <text x=\"18.75\" y=\"47.29\" text-anchor=\"end\" dy=\"0.35em\">-0.5</text>\n",
        "    <text x=\"18.75\" y=\"33.86\" text-anchor=\"end\" dy=\"0.35em\">0.0</text>\n",
        "    <text x=\"18.75\" y=\"20.43\" text-anchor=\"end\" dy=\"0.35em\">0.5</text>\n",
        "    <text x=\"18.75\" y=\"7\" text-anchor=\"end\" dy=\"0.35em\">1.0</text>\n",
        "  </g>\n",
        "  <g font-size=\"3.88\" font-family=\"'PT Sans','Helvetica Neue','Helvetica',sans-serif\" fill=\"#564A55\" stroke=\"none\" id=\"fig-02bb8a0f6edf4d08bfefb22d68e36970-element-12\">\n",
        "    <text x=\"8.81\" y=\"31.86\" text-anchor=\"middle\" dy=\"0.35em\" transform=\"rotate(-90, 8.81, 33.86)\">f(x)</text>\n",
        "  </g>\n",
        "</g>\n",
        "<defs>\n",
        "<clipPath id=\"fig-02bb8a0f6edf4d08bfefb22d68e36970-element-5\">\n",
        "  <path d=\"M19.75,5 L 115 5 115 62.72 19.75 62.72\" />\n",
        "</clipPath\n",
        "></defs>\n",
        "</svg>\n"
       ],
       "text": [
        "Plot(...)"
       ]
      }
     ],
     "prompt_number": 24
    },
    {
     "cell_type": "markdown",
     "metadata": {},
     "source": [
      "La estructura"
     ]
    },
    {
     "cell_type": "code",
     "collapsed": false,
     "input": [
      "d = [\"Jean\"=>sin, \"Jean\"=>cos]"
     ],
     "language": "python",
     "metadata": {},
     "outputs": [
      {
       "metadata": {},
       "output_type": "pyout",
       "prompt_number": 17,
       "text": [
        "Dict{ASCIIString,Function} with 2 entries:\n",
        "  \"cos\"  => cos\n",
        "  \"jean\" => sin"
       ]
      }
     ],
     "prompt_number": 17
    },
    {
     "cell_type": "markdown",
     "metadata": {},
     "source": [
      "se llama un *diccionario*; es un *arreglo asociativo*, que asocia *valores* a *claves*. Es como un arreglo, perlo las claves pueden ser de *cualquier* tipo."
     ]
    },
    {
     "cell_type": "code",
     "collapsed": false,
     "input": [],
     "language": "python",
     "metadata": {},
     "outputs": []
    }
   ],
   "metadata": {}
  }
 ]
}