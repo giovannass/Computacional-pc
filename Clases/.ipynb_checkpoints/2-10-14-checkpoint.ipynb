{
 "metadata": {
  "language": "Julia",
  "name": "",
  "signature": "sha256:b242ffcdc181085fbce0adc2034b259aed426e0d88473f3b0381f114225423be"
 },
 "nbformat": 3,
 "nbformat_minor": 0,
 "worksheets": [
  {
   "cells": [
    {
     "cell_type": "code",
     "collapsed": false,
     "input": [
      "using PyPlot\n"
     ],
     "language": "python",
     "metadata": {},
     "outputs": [
      {
       "output_type": "stream",
       "stream": "stderr",
       "text": [
        "INFO: Loading help data...\n"
       ]
      }
     ],
     "prompt_number": 1
    },
    {
     "cell_type": "code",
     "collapsed": false,
     "input": [
      "h=10\n",
      "\n",
      "x1,y1=0,h\n",
      "x2,y2=5,0"
     ],
     "language": "python",
     "metadata": {},
     "outputs": [
      {
       "metadata": {},
       "output_type": "pyout",
       "prompt_number": 10,
       "text": [
        "(5,0)"
       ]
      }
     ],
     "prompt_number": 10
    },
    {
     "cell_type": "code",
     "collapsed": false,
     "input": [
      "plot([x1,x2],[y1,y2])\n",
      "plot([0,0],[y1,0],\"r--\")\n",
      "plot([x2],[y2], \"go\", markersize= 20)#markersize=20 es un argumento de palabra cable\n",
      "axis(\"equal\")\n",
      "text (6,0,L\"m\")\n",
      "ylim(-2)\n",
      "\n",
      "savefig(\"pendulo.pdf\")"
     ],
     "language": "python",
     "metadata": {},
     "outputs": [
      {
       "metadata": {},
       "output_type": "display_data",
       "png": "[encoded data removed]",
       "text": [
        "Figure(PyObject <matplotlib.figure.Figure object at 0xbfb43d0>)"
       ]
      }
     ],
     "prompt_number": 31
    },
    {
     "cell_type": "code",
     "collapsed": false,
     "input": [
      ";pwd"
     ],
     "language": "python",
     "metadata": {},
     "outputs": [
      {
       "output_type": "stream",
       "stream": "stdout",
       "text": [
        "/home/est2\n"
       ]
      }
     ],
     "prompt_number": 33
    },
    {
     "cell_type": "code",
     "collapsed": false,
     "input": [
      "\n",
      ";ls\n"
     ],
     "language": "python",
     "metadata": {},
     "outputs": [
      {
       "output_type": "stream",
       "stream": "stdout",
       "text": [
        "25-09-14.ipynb\n",
        "29-09-14.ipynb\n",
        "Clase 19-08-14.ipynb\n",
        "Clase 21-08-15.ipynb\n",
        "Clase 23-09-14.ipynb\n",
        "Descargas\n",
        "Documentos\n",
        "Escritorio\n",
        "gio.txt\n",
        "gio.txt~\n",
        "Im\u00e1genes\n",
        "M\u00fasica\n",
        "pendulo.pdf\n",
        "Plantillas\n",
        "P\u00fablico\n",
        "text.txt\n",
        "Untitled0.ipynb\n",
        "Untitled1.ipynb\n",
        "Untitled2.ipynb\n",
        "Untitled3.ipynb\n",
        "V\u00eddeos\n"
       ]
      }
     ],
     "prompt_number": 34
    },
    {
     "cell_type": "code",
     "collapsed": false,
     "input": [
      ";xdg-open pendulo.pdf"
     ],
     "language": "python",
     "metadata": {},
     "outputs": [],
     "prompt_number": 37
    },
    {
     "cell_type": "code",
     "collapsed": false,
     "input": [
      ";cd\n"
     ],
     "language": "python",
     "metadata": {},
     "outputs": [
      {
       "output_type": "stream",
       "stream": "stdout",
       "text": [
        "/home/est2\n"
       ]
      }
     ],
     "prompt_number": 46
    },
    {
     "cell_type": "code",
     "collapsed": false,
     "input": [
      ";cd Documentos/fisica_computacional"
     ],
     "language": "python",
     "metadata": {},
     "outputs": [
      {
       "output_type": "stream",
       "stream": "stdout",
       "text": [
        "/home/est2/Documentos/fisica_computacional\n"
       ]
      }
     ],
     "prompt_number": 47
    },
    {
     "cell_type": "code",
     "collapsed": false,
     "input": [
      "include(\"Hola.jl\")"
     ],
     "language": "python",
     "metadata": {},
     "outputs": [
      {
       "output_type": "stream",
       "stream": "stdout",
       "text": [
        "ARGS=UTF8String[\"/home/est2/.ipython/profile_julia/security/kernel-72b37962-0d4f-4ece-8277-4a364a3c805d.json\"]\n"
       ]
      },
      {
       "output_type": "stream",
       "stream": "stdout",
       "text": [
        "Syntaxis: Hola.jl N\n"
       ]
      },
      {
       "ename": "LoadError",
       "evalue": "invalid base 10 digit '/' in \"/home/est2/.ipython/profile_julia/security/kernel-72b37962-0d4f-4ece-8277-4a364a3c805d.json\"\nwhile loading /home/est2/Documentos/fisica_computacional/Hola.jl, in expression starting on line 9\nwhile loading In[48], in expression starting on line 1",
       "output_type": "pyerr",
       "traceback": [
        "invalid base 10 digit '/' in \"/home/est2/.ipython/profile_julia/security/kernel-72b37962-0d4f-4ece-8277-4a364a3c805d.json\"\nwhile loading /home/est2/Documentos/fisica_computacional/Hola.jl, in expression starting on line 9\nwhile loading In[48], in expression starting on line 1",
        "",
        " in error at error.jl:21",
        " in parseint_nocheck at ./string.jl:1520",
        " in parseint_nocheck at ./string.jl:1548",
        " in int at string.jl:1559",
        " in include at ./boot.jl:245",
        " in include_from_node1 at ./loading.jl:128"
       ]
      }
     ],
     "prompt_number": 48
    },
    {
     "cell_type": "markdown",
     "metadata": {},
     "source": [
      "![](http://www.neodeko.com/73-143-thickbox/sticker-tux-el-pinguino-de-linux.jpg) "
     ]
    },
    {
     "cell_type": "markdown",
     "metadata": {},
     "source": [
      "![Liga](http://es.wikipedia.org/wiki/Tux)"
     ]
    },
    {
     "cell_type": "code",
     "collapsed": false,
     "input": [],
     "language": "python",
     "metadata": {},
     "outputs": []
    }
   ],
   "metadata": {}
  }
 ]
}