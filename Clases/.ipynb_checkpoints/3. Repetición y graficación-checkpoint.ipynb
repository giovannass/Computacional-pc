{
 "metadata": {
  "language": "Julia",
  "name": "",
  "signature": "sha256:f12c7a4cb46c83f0a48a4424cc6923d66a1547c32339abf58117137ad7dd0071"
 },
 "nbformat": 3,
 "nbformat_minor": 0,
 "worksheets": [
  {
   "cells": [
    {
     "cell_type": "heading",
     "level": 1,
     "metadata": {},
     "source": [
      "Repetici\u00f3n"
     ]
    },
    {
     "cell_type": "markdown",
     "metadata": {},
     "source": [
      "Muy seguido, es necesario poder repetir un c\u00e1lculo muchas veces, cambiando lo que se calcula de una forma determinada. Esto suele hacerse con *bucles* / *ciclos* / *loops*. En Julia, muchos c\u00e1lculos de este estilo se pueden escribir de una forma m\u00e1s breve."
     ]
    },
    {
     "cell_type": "heading",
     "level": 2,
     "metadata": {},
     "source": [
      "Rangos"
     ]
    },
    {
     "cell_type": "markdown",
     "metadata": {},
     "source": [
      "Un rango se escribe con dos puntos, `:`, y genera un tipo de objeto especial que genera todos los n\u00fameros entre su principio y fin:"
     ]
    },
    {
     "cell_type": "code",
     "collapsed": false,
     "input": [
      "1:10"
     ],
     "language": "python",
     "metadata": {},
     "outputs": [
      {
       "metadata": {},
       "output_type": "pyout",
       "prompt_number": 6,
       "text": [
        "1:10"
       ]
      }
     ],
     "prompt_number": 6
    },
    {
     "cell_type": "code",
     "collapsed": false,
     "input": [
      "typeof(1:10)"
     ],
     "language": "python",
     "metadata": {},
     "outputs": [
      {
       "metadata": {},
       "output_type": "pyout",
       "prompt_number": 1,
       "text": [
        "UnitRange{Int64} (constructor with 1 method)"
       ]
      }
     ],
     "prompt_number": 1
    },
    {
     "cell_type": "markdown",
     "metadata": {},
     "source": [
      "[1] \u00bfQu\u00e9 tipo tiene este objeto?\n"
     ]
    },
    {
     "cell_type": "markdown",
     "metadata": {},
     "source": [
      "Los n\u00fameros que producir\u00e1 se pueden ver al incluir el rango en corchetes, `[` y `]`:"
     ]
    },
    {
     "cell_type": "code",
     "collapsed": false,
     "input": [
      "[1:10]"
     ],
     "language": "python",
     "metadata": {},
     "outputs": [
      {
       "metadata": {},
       "output_type": "pyout",
       "prompt_number": 7,
       "text": [
        "10-element Array{Int64,1}:\n",
        "  1\n",
        "  2\n",
        "  3\n",
        "  4\n",
        "  5\n",
        "  6\n",
        "  7\n",
        "  8\n",
        "  9\n",
        " 10"
       ]
      }
     ],
     "prompt_number": 7
    },
    {
     "cell_type": "markdown",
     "metadata": {},
     "source": [
      "[2] \u00bfDe qu\u00e9 tipo es este nuevo objeto?\n",
      "\n",
      "[3] Se puede incluir un tama\u00f1o de paso como un tercer \"argumento\". Encuentra la sintaxis."
     ]
    },
    {
     "cell_type": "code",
     "collapsed": false,
     "input": [
      "[1:2:10]"
     ],
     "language": "python",
     "metadata": {},
     "outputs": [
      {
       "metadata": {},
       "output_type": "pyout",
       "prompt_number": 11,
       "text": [
        "5-element Array{Int64,1}:\n",
        " 1\n",
        " 3\n",
        " 5\n",
        " 7\n",
        " 9"
       ]
      }
     ],
     "prompt_number": 11
    },
    {
     "cell_type": "code",
     "collapsed": false,
     "input": [
      "typeof([1:10])"
     ],
     "language": "python",
     "metadata": {},
     "outputs": [
      {
       "metadata": {},
       "output_type": "pyout",
       "prompt_number": 2,
       "text": [
        "Array{Int64,1}"
       ]
      }
     ],
     "prompt_number": 2
    },
    {
     "cell_type": "markdown",
     "metadata": {},
     "source": [
      "Hay ciertas funciones que aceptan rangos como argumentos, incluyendo `sum` y `prod` para sumas y productos.\n",
      "\n",
      "[4] Calcula la suma de los primeros 100 enteros.\n",
      "\n",
      "[5] \u00bfPuedes calcular el producto de los primeros 100 enteros de esta manera?"
     ]
    },
    {
     "cell_type": "code",
     "collapsed": false,
     "input": [
      "sum(1:100)"
     ],
     "language": "python",
     "metadata": {},
     "outputs": [
      {
       "metadata": {},
       "output_type": "pyout",
       "prompt_number": 12,
       "text": [
        "5050"
       ]
      }
     ],
     "prompt_number": 12
    },
    {
     "cell_type": "code",
     "collapsed": false,
     "input": [
      "prod(1:25)"
     ],
     "language": "python",
     "metadata": {},
     "outputs": [
      {
       "metadata": {},
       "output_type": "pyout",
       "prompt_number": 20,
       "text": [
        "7034535277573963776"
       ]
      }
     ],
     "prompt_number": 20
    },
    {
     "cell_type": "heading",
     "level": 2,
     "metadata": {},
     "source": [
      "Arreglos por comprensi\u00f3n"
     ]
    },
    {
     "cell_type": "markdown",
     "metadata": {},
     "source": [
      "Julia tiene una sintaxis muy poderosa para operar f\u00e1cilmente sobre una secuencia de n\u00fameros para dar otro: *arreglos por comprensi\u00f3n*. \n",
      "\n",
      "Podemos pensar en un arreglo como una lista, o secuencia, o conjunto de datos.\n",
      "\n",
      "En matem\u00e1ticas, hay una notaci\u00f3n muy bonita para especifar, por ejemplo, el conjunto de los cuadrados de los primeros diez enteros:\n",
      "\n",
      "$$\\{ x^2 : x \\in \\{1, \\ldots, 10 \\} \\}$$\n",
      "\n",
      "Podemos hacer algo muy similar en Julia:"
     ]
    },
    {
     "cell_type": "code",
     "collapsed": false,
     "input": [
      "[x^2 for x in 1:10]"
     ],
     "language": "python",
     "metadata": {},
     "outputs": [
      {
       "metadata": {},
       "output_type": "pyout",
       "prompt_number": 15,
       "text": [
        "10-element Array{Int64,1}:\n",
        "   1\n",
        "   4\n",
        "   9\n",
        "  16\n",
        "  25\n",
        "  36\n",
        "  49\n",
        "  64\n",
        "  81\n",
        " 100"
       ]
      }
     ],
     "prompt_number": 15
    },
    {
     "cell_type": "markdown",
     "metadata": {},
     "source": [
      "Podemos leer esto como \"la lista de $x^2$ *para* ('for') $x$ de 1 hasta 10\", o \"la lista de los cuadrados de los n\u00fameros de 1 a 10$.\n",
      "\n",
      "[6] Utiliza la funci\u00f3n `sum` para calcular la suma de estos cuadrados.\n",
      "\n",
      "[7] Haz una funci\u00f3n `my_exp` que calcula el exponencial usando estas ideas."
     ]
    },
    {
     "cell_type": "code",
     "collapsed": false,
     "input": [
      "cjto=[x^2 for x in 1:10]\n",
      "    "
     ],
     "language": "python",
     "metadata": {},
     "outputs": [
      {
       "metadata": {},
       "output_type": "pyout",
       "prompt_number": 26,
       "text": [
        "10-element Array{Int64,1}:\n",
        "   1\n",
        "   4\n",
        "   9\n",
        "  16\n",
        "  25\n",
        "  36\n",
        "  49\n",
        "  64\n",
        "  81\n",
        " 100"
       ]
      }
     ],
     "prompt_number": 26
    },
    {
     "cell_type": "code",
     "collapsed": false,
     "input": [
      "sum([x^2 for x in 1:10])"
     ],
     "language": "python",
     "metadata": {},
     "outputs": [
      {
       "metadata": {},
       "output_type": "pyout",
       "prompt_number": 30,
       "text": [
        "385"
       ]
      }
     ],
     "prompt_number": 30
    },
    {
     "cell_type": "code",
     "collapsed": false,
     "input": [
      "f(x)= sum([(x^n)/factorial(n) for n in 0:20])"
     ],
     "language": "python",
     "metadata": {},
     "outputs": [
      {
       "metadata": {},
       "output_type": "pyout",
       "prompt_number": 40,
       "text": [
        "f (generic function with 1 method)"
       ]
      }
     ],
     "prompt_number": 40
    },
    {
     "cell_type": "code",
     "collapsed": false,
     "input": [
      "f(1)"
     ],
     "language": "python",
     "metadata": {},
     "outputs": [
      {
       "metadata": {},
       "output_type": "pyout",
       "prompt_number": 42,
       "text": [
        "2.718281828459045"
       ]
      }
     ],
     "prompt_number": 42
    },
    {
     "cell_type": "heading",
     "level": 2,
     "metadata": {},
     "source": [
      "Arreglos"
     ]
    },
    {
     "cell_type": "markdown",
     "metadata": {},
     "source": [
      "Nosotros podemos crear arreglos simplemente poniendo los elementos dentro de corchetes:"
     ]
    },
    {
     "cell_type": "code",
     "collapsed": false,
     "input": [
      "arreglo1 = [3, 4, 7]"
     ],
     "language": "python",
     "metadata": {},
     "outputs": [
      {
       "metadata": {},
       "output_type": "pyout",
       "prompt_number": 45,
       "text": [
        "3-element Array{Int64,1}:\n",
        " 3\n",
        " 4\n",
        " 7"
       ]
      }
     ],
     "prompt_number": 45
    },
    {
     "cell_type": "markdown",
     "metadata": {},
     "source": [
      "[7] \u00bfDe qu\u00e9 tipo es `arreglo1`?\n",
      "\n",
      "[8] \u00bfQu\u00e9 pasa con el tipo si defines un nuevo arreglo con elementos que son decimales? "
     ]
    },
    {
     "cell_type": "code",
     "collapsed": false,
     "input": [
      "typeof(arreglo1)"
     ],
     "language": "python",
     "metadata": {},
     "outputs": [
      {
       "metadata": {},
       "output_type": "pyout",
       "prompt_number": 46,
       "text": [
        "Array{Int64,1}"
       ]
      }
     ],
     "prompt_number": 46
    },
    {
     "cell_type": "code",
     "collapsed": false,
     "input": [
      "arreglo2=[1.5,1.8,2.0]"
     ],
     "language": "python",
     "metadata": {},
     "outputs": [
      {
       "metadata": {},
       "output_type": "pyout",
       "prompt_number": 47,
       "text": [
        "3-element Array{Float64,1}:\n",
        " 1.5\n",
        " 1.8\n",
        " 2.0"
       ]
      }
     ],
     "prompt_number": 47
    },
    {
     "cell_type": "code",
     "collapsed": false,
     "input": [
      "typeof(ans)"
     ],
     "language": "python",
     "metadata": {},
     "outputs": [
      {
       "metadata": {},
       "output_type": "pyout",
       "prompt_number": 48,
       "text": [
        "Array{Float64,1}"
       ]
      }
     ],
     "prompt_number": 48
    },
    {
     "cell_type": "markdown",
     "metadata": {},
     "source": [
      "Ahora podemos operar sobre los elementos del arreglo de la misma forma que con rangos:"
     ]
    },
    {
     "cell_type": "code",
     "collapsed": false,
     "input": [
      "cuadrados = [x^2 for x in arreglo1]"
     ],
     "language": "python",
     "metadata": {},
     "outputs": [
      {
       "metadata": {},
       "output_type": "pyout",
       "prompt_number": 18,
       "text": [
        "3-element Array{Any,1}:\n",
        "  9\n",
        " 16\n",
        " 49"
       ]
      }
     ],
     "prompt_number": 18
    },
    {
     "cell_type": "heading",
     "level": 1,
     "metadata": {},
     "source": [
      "Graficaci\u00f3n"
     ]
    },
    {
     "cell_type": "markdown",
     "metadata": {},
     "source": [
      "Ahora que somos capaces de producir datos interesantes, se nos antoja *visualizarlos*, es decir, graficarlos.\n",
      "\n",
      "Hay varios paquetes gr\u00e1ficos en Julia, todav\u00eda en desarrollo. Tal vez el m\u00e1s maduro es `PyPlot`, que provee un interfaz juliano al paquete `matplotlib` de Python para graficar.\n",
      "\n",
      "Para utilizarlo, es necesario primero instalar el paquete:"
     ]
    },
    {
     "cell_type": "code",
     "collapsed": false,
     "input": [
      "Pkg.add(\"PyPlot\")"
     ],
     "language": "python",
     "metadata": {},
     "outputs": [
      {
       "output_type": "stream",
       "stream": "stderr",
       "text": [
        "INFO: Nothing to be done\n"
       ]
      },
      {
       "output_type": "stream",
       "stream": "stderr",
       "text": [
        "INFO: METADATA is out-of-date \u2014 you may not have the latest version of PyPlot\n",
        "INFO: Use `Pkg.update()` to get the latest versions of your packages\n"
       ]
      }
     ],
     "prompt_number": 19
    },
    {
     "cell_type": "code",
     "collapsed": false,
     "input": [
      "Pkg.add(\"PyPlot\")"
     ],
     "language": "python",
     "metadata": {},
     "outputs": [
      {
       "output_type": "stream",
       "stream": "stderr",
       "text": [
        "INFO: Cloning cache of Color from git://github.com/JuliaLang/Color.jl.git\n"
       ]
      },
      {
       "output_type": "stream",
       "stream": "stderr",
       "text": [
        "INFO: Cloning cache of PyCall from git://github.com/stevengj/PyCall.jl.git\n"
       ]
      },
      {
       "output_type": "stream",
       "stream": "stderr",
       "text": [
        "INFO: Cloning cache of PyPlot from git://github.com/stevengj/PyPlot.jl.git\n"
       ]
      },
      {
       "output_type": "stream",
       "stream": "stderr",
       "text": [
        "INFO: Installing Color v0.2.11\n"
       ]
      },
      {
       "output_type": "stream",
       "stream": "stderr",
       "text": [
        "INFO: Installing PyCall v0.4.8\n"
       ]
      },
      {
       "output_type": "stream",
       "stream": "stderr",
       "text": [
        "INFO: Installing PyPlot v1.2.10\n"
       ]
      },
      {
       "output_type": "stream",
       "stream": "stderr",
       "text": [
        "INFO: Package database updated\n"
       ]
      },
      {
       "output_type": "stream",
       "stream": "stderr",
       "text": [
        "INFO: METADATA is out-of-date \u2014 you may not have the latest version of PyPlot\n",
        "INFO: Use `Pkg.update()` to get the latest versions of your packages\n"
       ]
      }
     ],
     "prompt_number": 49
    },
    {
     "cell_type": "code",
     "collapsed": false,
     "input": [
      "Pkg.update()"
     ],
     "language": "python",
     "metadata": {},
     "outputs": [
      {
       "output_type": "stream",
       "stream": "stderr",
       "text": [
        "INFO: Updating METADATA...\n"
       ]
      },
      {
       "output_type": "stream",
       "stream": "stderr",
       "text": [
        "INFO: Updating cache of REPLCompletions...\n"
       ]
      },
      {
       "output_type": "stream",
       "stream": "stderr",
       "text": [
        "INFO: Computing changes...\n"
       ]
      },
      {
       "output_type": "stream",
       "stream": "stderr",
       "text": [
        "INFO: Cloning cache of FixedPointNumbers from git://github.com/JeffBezanson/FixedPointNumbers.jl.git\n"
       ]
      },
      {
       "output_type": "stream",
       "stream": "stderr",
       "text": [
        "INFO: Upgrading Color: v0.2.11 => v0.3.0\n"
       ]
      },
      {
       "output_type": "stream",
       "stream": "stderr",
       "text": [
        "INFO: Installing FixedPointNumbers v0.0.1\n"
       ]
      }
     ],
     "prompt_number": 50
    },
    {
     "cell_type": "code",
     "collapsed": false,
     "input": [
      "using PyCall\n",
      "pygui(:gtk)\n",
      "using PyPlot"
     ],
     "language": "python",
     "metadata": {},
     "outputs": [
      {
       "output_type": "stream",
       "stream": "stderr",
       "text": [
        "INFO: Loading help data...\n"
       ]
      }
     ],
     "prompt_number": 51
    },
    {
     "cell_type": "markdown",
     "metadata": {},
     "source": [
      "y luego cargarlo:"
     ]
    },
    {
     "cell_type": "code",
     "collapsed": false,
     "input": [
      "using PyPlot  # \"using\" == \"usando\""
     ],
     "language": "python",
     "metadata": {},
     "outputs": [
      {
       "output_type": "stream",
       "stream": "stderr",
       "text": [
        "INFO: Loading help data...\n"
       ]
      }
     ],
     "prompt_number": 1
    },
    {
     "cell_type": "markdown",
     "metadata": {},
     "source": [
      "[1] Crea un arreglo `x` con n\u00fameros igualmente espaciados de -3 a 3 y un paso chiquito.\n",
      "\n",
      "[2] Crea un arreglo `y` que corresponde a la funci\u00f3n $3x^2 - 2$.\n",
      "\n",
      "[3] Usa la funci\u00f3n `plot` de `PyPlot` para graficar la funci\u00f3n.\n",
      "\n",
      "[4] Utiliza la ayuda de la funci\u00f3n [`?plot` o `help(plot)`] para cambiar el estilo de la gr\u00e1fica para utilizar l\u00edneas rojas y puntos verdes.\n",
      "\n",
      "[5] Busca c\u00f3mo agregar etiquetas a los ejes (lo cual debe hacerse en *cualquier* gr\u00e1fica) y un t\u00edtulo global, as\u00ed como una leyenda."
     ]
    },
    {
     "cell_type": "code",
     "collapsed": false,
     "input": [
      "X=[-3:0.2:3]"
     ],
     "language": "python",
     "metadata": {},
     "outputs": [
      {
       "metadata": {},
       "output_type": "pyout",
       "prompt_number": 55,
       "text": [
        "31-element Array{Float64,1}:\n",
        " -3.0\n",
        " -2.8\n",
        " -2.6\n",
        " -2.4\n",
        " -2.2\n",
        " -2.0\n",
        " -1.8\n",
        " -1.6\n",
        " -1.4\n",
        " -1.2\n",
        " -1.0\n",
        " -0.8\n",
        " -0.6\n",
        "  \u22ee  \n",
        "  0.8\n",
        "  1.0\n",
        "  1.2\n",
        "  1.4\n",
        "  1.6\n",
        "  1.8\n",
        "  2.0\n",
        "  2.2\n",
        "  2.4\n",
        "  2.6\n",
        "  2.8\n",
        "  3.0"
       ]
      }
     ],
     "prompt_number": 55
    },
    {
     "cell_type": "code",
     "collapsed": false,
     "input": [
      "Y=[3x^2-2 for x in X]"
     ],
     "language": "python",
     "metadata": {},
     "outputs": [
      {
       "metadata": {},
       "output_type": "pyout",
       "prompt_number": 74,
       "text": [
        "31-element Array{Any,1}:\n",
        " 25.0 \n",
        " 21.52\n",
        " 18.28\n",
        " 15.28\n",
        " 12.52\n",
        " 10.0 \n",
        "  7.72\n",
        "  5.68\n",
        "  3.88\n",
        "  2.32\n",
        "  1.0 \n",
        " -0.08\n",
        " -0.92\n",
        "  \u22ee   \n",
        " -0.08\n",
        "  1.0 \n",
        "  2.32\n",
        "  3.88\n",
        "  5.68\n",
        "  7.72\n",
        " 10.0 \n",
        " 12.52\n",
        " 15.28\n",
        " 18.28\n",
        " 21.52\n",
        " 25.0 "
       ]
      }
     ],
     "prompt_number": 74
    },
    {
     "cell_type": "code",
     "collapsed": true,
     "input": [
      "plot(Y)"
     ],
     "language": "python",
     "metadata": {},
     "outputs": [
      {
       "metadata": {},
       "output_type": "display_data",
       "png": "[encoded data removed]",
       "text": [
        "Figure(PyObject <matplotlib.figure.Figure object at 0x1dd64e50>)"
       ]
      },
      {
       "metadata": {},
       "output_type": "pyout",
       "prompt_number": 75,
       "text": [
        "1-element Array{Any,1}:\n",
        " PyObject <matplotlib.lines.Line2D object at 0x7b5a310>"
       ]
      }
     ],
     "prompt_number": 75
    },
    {
     "cell_type": "code",
     "collapsed": false,
     "input": [
      "plot(X,Y, \"gD\", label= \"HOla\") \n",
      "xlabel(\"X\")\n",
      "ylabel(\"Y\")\n",
      "title(\"Afuera\")\n",
      "legend()\n"
     ],
     "language": "python",
     "metadata": {},
     "outputs": [
      {
       "metadata": {},
       "output_type": "display_data",
       "png": "[encoded data removed]",
       "text": [
        "Figure(PyObject <matplotlib.figure.Figure object at 0x18e05c90>)"
       ]
      },
      {
       "metadata": {},
       "output_type": "pyout",
       "prompt_number": 117,
       "text": [
        "PyObject <matplotlib.legend.Legend object at 0x13767d90>"
       ]
      }
     ],
     "prompt_number": 117
    },
    {
     "cell_type": "code",
     "collapsed": false,
     "input": [],
     "language": "python",
     "metadata": {},
     "outputs": [],
     "prompt_number": 108
    },
    {
     "cell_type": "code",
     "collapsed": false,
     "input": [
      "?plot"
     ],
     "language": "python",
     "metadata": {},
     "outputs": [
      {
       "output_type": "stream",
       "stream": "stdout",
       "text": [
        "Plot lines and/or markers to the\n",
        ":class:`~matplotlib.axes.Axes`.  *args* is a variable length\n",
        "argument, allowing for multiple *x*, *y* pairs with an\n",
        "optional format string.  For example, each of the following is\n",
        "legal::\n",
        "\n",
        "    plot(x, y)        # plot x and y using default line style and color\n",
        "    plot(x, y, 'bo')  # plot x and y using blue circle markers\n",
        "    plot(y)           # plot y using x as index array 0..N-1\n",
        "    plot(y, 'r+')     # ditto, but with red plusses\n",
        "\n",
        "If *x* and/or *y* is 2-dimensional, then the corresponding columns\n",
        "will be plotted.\n",
        "\n",
        "An arbitrary number of *x*, *y*, *fmt* groups can be\n",
        "specified, as in::\n",
        "\n",
        "    a.plot(x1, y1, 'g^', x2, y2, 'g-')\n",
        "\n",
        "Return value is a list of lines that were added.\n",
        "\n",
        "By default, each line is assigned a different color specified by a\n",
        "'color cycle'.  To change this behavior, you can edit the\n",
        "axes.color_cycle rcParam. Alternatively, you can use\n",
        ":meth:`~matplotlib.axes.Axes.set_default_color_cycle`.\n",
        "\n",
        "The following format string characters are accepted to control\n",
        "the line style or marker:\n",
        "\n",
        "================    ===============================\n",
        "character           description\n",
        "================    ===============================\n",
        "``'-'``             solid line style\n",
        "``'--'``            dashed line style\n",
        "``'-.'``            dash-dot line style\n",
        "``':'``             dotted line style\n",
        "``'.'``             point marker\n",
        "``','``             pixel marker\n",
        "``'o'``             circle marker\n",
        "``'v'``             triangle_down marker\n",
        "``'^'``             triangle_up marker\n",
        "``'<'``             triangle_left marker\n",
        "``'>'``             triangle_right marker\n",
        "``'1'``             tri_down marker\n",
        "``'2'``             tri_up marker\n",
        "``'3'``             tri_left marker\n",
        "``'4'``             tri_right marker\n",
        "``'s'``             square marker\n",
        "``'p'``             pentagon marker\n",
        "``'*'``             star marker\n",
        "``'h'``             hexagon1 marker\n",
        "``'H'``             hexagon2 marker\n",
        "``'+'``             plus marker\n",
        "``'x'``             x marker\n",
        "``'D'``             diamond marker\n",
        "``'d'``             thin_diamond marker\n",
        "``'|'``             vline marker\n",
        "``'_'``             hline marker\n",
        "================    ===============================\n",
        "\n",
        "\n",
        "The following color abbreviations are supported:\n",
        "\n",
        "==========  ========\n",
        "character   color\n",
        "==========  ========\n",
        "'b'         blue\n",
        "'g'         green\n",
        "'r'         red\n",
        "'c'         cyan\n",
        "'m'         magenta\n",
        "'y'         yellow\n",
        "'k'         black\n",
        "'w'         white\n",
        "==========  ========\n",
        "\n",
        "In addition, you can specify colors in many weird and\n",
        "wonderful ways, including full names (``'green'``), hex\n",
        "strings (``'#008000'``), RGB or RGBA tuples (``(0,1,0,1)``) or\n",
        "grayscale intensities as a string (``'0.8'``).  Of these, the\n",
        "string specifications can be used in place of a ``fmt`` group,\n",
        "but the tuple forms can be used only as ``kwargs``.\n",
        "\n",
        "Line styles and colors are combined in a single format string, as in\n",
        "``'bo'`` for blue circles.\n",
        "\n",
        "The *kwargs* can be used to set line properties (any property that has\n",
        "a ``set_*`` method).  You can use this to set a line label (for auto\n",
        "legends), linewidth, anitialising, marker face color, etc.  Here is an\n",
        "example::\n",
        "\n",
        "    plot([1,2,3], [1,2,3], 'go-', label='line 1', linewidth=2)\n",
        "    plot([1,2,3], [1,4,9], 'rs',  label='line 2')\n",
        "    axis([0, 4, 0, 10])\n",
        "    legend()\n",
        "\n",
        "If you make multiple lines with one plot command, the kwargs\n",
        "apply to all those lines, e.g.::\n",
        "\n",
        "    plot(x1, y1, x2, y2, antialised=False)\n",
        "\n",
        "Neither line will be antialiased.\n",
        "\n",
        "You do not need to use format strings, which are just\n",
        "abbreviations.  All of the line properties can be controlled\n",
        "by keyword arguments.  For example, you can set the color,\n",
        "marker, linestyle, and markercolor with::\n",
        "\n",
        "    plot(x, y, color='green', linestyle='dashed', marker='o',\n",
        "         markerfacecolor='blue', markersize=12).\n",
        "\n",
        "See :class:`~matplotlib.lines.Line2D` for details.\n",
        "\n",
        "The kwargs are :class:`~matplotlib.lines.Line2D` properties:\n",
        "\n",
        "  agg_filter: unknown\n",
        "  alpha: float (0.0 transparent through 1.0 opaque)         \n",
        "  animated: [True | False]         \n",
        "  antialiased or aa: [True | False]         \n",
        "  axes: an :class:`~matplotlib.axes.Axes` instance         \n",
        "  clip_box: a :class:`matplotlib.transforms.Bbox` instance         \n",
        "  clip_on: [True | False]         \n",
        "  clip_path: [ (:class:`~matplotlib.path.Path`,         :class:`~matplotlib.transforms.Transform`) |         :class:`~matplotlib.patches.Patch` | None ]         \n",
        "  color or c: any matplotlib color         \n",
        "  contains: a callable function         \n",
        "  dash_capstyle: ['butt' | 'round' | 'projecting']         \n",
        "  dash_joinstyle: ['miter' | 'round' | 'bevel']         \n",
        "  dashes: sequence of on/off ink in points         \n",
        "  drawstyle: ['default' | 'steps' | 'steps-pre' | 'steps-mid' |                   'steps-post']         \n",
        "  figure: a :class:`matplotlib.figure.Figure` instance         \n",
        "  fillstyle: ['full' | 'left' | 'right' | 'bottom' | 'top' | 'none']         \n",
        "  gid: an id string         \n",
        "  label: string or anything printable with '%s' conversion.         \n",
        "  linestyle or ls: [``'-'`` | ``'--'`` | ``'-.'`` | ``':'`` | ``'None'`` |                   ``' '`` | ``''``]         and any drawstyle in combination with a linestyle, e.g., ``'steps--'``.         \n",
        "  linewidth or lw: float value in points         \n",
        "  lod: [True | False]         \n",
        "  marker: unknown\n",
        "  markeredgecolor or mec: any matplotlib color         \n",
        "  markeredgewidth or mew: float value in points         \n",
        "  markerfacecolor or mfc: any matplotlib color         \n",
        "  markerfacecoloralt or mfcalt: any matplotlib color         \n",
        "  markersize or ms: float         \n",
        "  markevery: None | integer | (startind, stride)\n",
        "  path_effects: unknown\n",
        "  picker: float distance in points or callable pick function         ``fn(artist, event)``         \n",
        "  pickradius: float distance in points         \n",
        "  rasterized: [True | False | None]         \n",
        "  sketch_params: unknown\n",
        "  snap: unknown\n",
        "  solid_capstyle: ['butt' | 'round' |  'projecting']         \n",
        "  solid_joinstyle: ['miter' | 'round' | 'bevel']         \n",
        "  transform: a :class:`matplotlib.transforms.Transform` instance         \n",
        "  url: a url string         \n",
        "  visible: [True | False]         \n",
        "  xdata: 1D array         \n",
        "  ydata: 1D array         \n",
        "  zorder: any number         \n",
        "\n",
        "kwargs *scalex* and *scaley*, if defined, are passed on to\n",
        ":meth:`~matplotlib.axes.Axes.autoscale_view` to determine\n",
        "whether the *x* and *y* axes are autoscaled; the default is\n",
        "*True*.\n",
        "\n",
        "Additional kwargs: hold = [True|False] overrides default hold state\n"
       ]
      }
     ],
     "prompt_number": 60
    },
    {
     "cell_type": "heading",
     "level": 2,
     "metadata": {},
     "source": [
      "Tiro parab\u00f3lico"
     ]
    },
    {
     "cell_type": "markdown",
     "metadata": {},
     "source": [
      "[6] Haz una funci\u00f3n que calcula la trayectoria de una part\u00edcula en tiro parab\u00f3lico con una velocidad inicial dada.\n",
      "\n",
      "[7] Grafica distintas trayectorias con la misma rapidez inicial pero distintos \u00e1ngulos iniciales, y comprobar gr\u00e1ficamente para cu\u00e1l \u00e1ngulo se tiene el m\u00e1ximo alcance."
     ]
    },
    {
     "cell_type": "code",
     "collapsed": false,
     "input": [
      "X=[1:0.2:4]"
     ],
     "language": "python",
     "metadata": {},
     "outputs": [
      {
       "metadata": {},
       "output_type": "pyout",
       "prompt_number": 118,
       "text": [
        "16-element Array{Float64,1}:\n",
        " 1.0\n",
        " 1.2\n",
        " 1.4\n",
        " 1.6\n",
        " 1.8\n",
        " 2.0\n",
        " 2.2\n",
        " 2.4\n",
        " 2.6\n",
        " 2.8\n",
        " 3.0\n",
        " 3.2\n",
        " 3.4\n",
        " 3.6\n",
        " 3.8\n",
        " 4.0"
       ]
      }
     ],
     "prompt_number": 118
    },
    {
     "cell_type": "code",
     "collapsed": false,
     "input": [
      "X2=[1:0.2:10]"
     ],
     "language": "python",
     "metadata": {},
     "outputs": [
      {
       "metadata": {},
       "output_type": "pyout",
       "prompt_number": 119,
       "text": [
        "46-element Array{Float64,1}:\n",
        "  1.0\n",
        "  1.2\n",
        "  1.4\n",
        "  1.6\n",
        "  1.8\n",
        "  2.0\n",
        "  2.2\n",
        "  2.4\n",
        "  2.6\n",
        "  2.8\n",
        "  3.0\n",
        "  3.2\n",
        "  3.4\n",
        "  \u22ee  \n",
        "  7.8\n",
        "  8.0\n",
        "  8.2\n",
        "  8.4\n",
        "  8.6\n",
        "  8.8\n",
        "  9.0\n",
        "  9.2\n",
        "  9.4\n",
        "  9.6\n",
        "  9.8\n",
        " 10.0"
       ]
      }
     ],
     "prompt_number": 119
    },
    {
     "cell_type": "code",
     "collapsed": false,
     "input": [
      "y2=[x^2 for x in X]"
     ],
     "language": "python",
     "metadata": {},
     "outputs": [
      {
       "metadata": {},
       "output_type": "pyout",
       "prompt_number": 120,
       "text": [
        "16-element Array{Any,1}:\n",
        "  1.0 \n",
        "  1.44\n",
        "  1.96\n",
        "  2.56\n",
        "  3.24\n",
        "  4.0 \n",
        "  4.84\n",
        "  5.76\n",
        "  6.76\n",
        "  7.84\n",
        "  9.0 \n",
        " 10.24\n",
        " 11.56\n",
        " 12.96\n",
        " 14.44\n",
        " 16.0 "
       ]
      }
     ],
     "prompt_number": 120
    },
    {
     "cell_type": "code",
     "collapsed": false,
     "input": [
      "y2=[x^2 for x in X2]"
     ],
     "language": "python",
     "metadata": {},
     "outputs": [
      {
       "metadata": {},
       "output_type": "pyout",
       "prompt_number": 121,
       "text": [
        "46-element Array{Any,1}:\n",
        "   1.0 \n",
        "   1.44\n",
        "   1.96\n",
        "   2.56\n",
        "   3.24\n",
        "   4.0 \n",
        "   4.84\n",
        "   5.76\n",
        "   6.76\n",
        "   7.84\n",
        "   9.0 \n",
        "  10.24\n",
        "  11.56\n",
        "   \u22ee   \n",
        "  60.84\n",
        "  64.0 \n",
        "  67.24\n",
        "  70.56\n",
        "  73.96\n",
        "  77.44\n",
        "  81.0 \n",
        "  84.64\n",
        "  88.36\n",
        "  92.16\n",
        "  96.04\n",
        " 100.0 "
       ]
      }
     ],
     "prompt_number": 121
    },
    {
     "cell_type": "code",
     "collapsed": false,
     "input": [
      "plot(X2, y2,label=\"tiro\")\n",
      "legend()"
     ],
     "language": "python",
     "metadata": {},
     "outputs": [
      {
       "metadata": {},
       "output_type": "display_data",
       "png": "[encoded data removed]",
       "text": [
        "Figure(PyObject <matplotlib.figure.Figure object at 0x20be87d0>)"
       ]
      },
      {
       "metadata": {},
       "output_type": "pyout",
       "prompt_number": 123,
       "text": [
        "PyObject <matplotlib.legend.Legend object at 0x20c12290>"
       ]
      }
     ],
     "prompt_number": 123
    },
    {
     "cell_type": "code",
     "collapsed": false,
     "input": [
      "function Tp(x,\u03b8,Vc)\n",
      "    x*tan(\u03b8)-(9.81*x^2)/((2*Vc)*(cos(\u03b8))^2)\n",
      "end"
     ],
     "language": "python",
     "metadata": {},
     "outputs": [
      {
       "metadata": {},
       "output_type": "pyout",
       "prompt_number": 124,
       "text": [
        "Tp (generic function with 1 method)"
       ]
      }
     ],
     "prompt_number": 124
    },
    {
     "cell_type": "code",
     "collapsed": false,
     "input": [
      "X=[1:100]"
     ],
     "language": "python",
     "metadata": {},
     "outputs": [
      {
       "metadata": {},
       "output_type": "pyout",
       "prompt_number": 125,
       "text": [
        "100-element Array{Int64,1}:\n",
        "   1\n",
        "   2\n",
        "   3\n",
        "   4\n",
        "   5\n",
        "   6\n",
        "   7\n",
        "   8\n",
        "   9\n",
        "  10\n",
        "  11\n",
        "  12\n",
        "  13\n",
        "   \u22ee\n",
        "  89\n",
        "  90\n",
        "  91\n",
        "  92\n",
        "  93\n",
        "  94\n",
        "  95\n",
        "  96\n",
        "  97\n",
        "  98\n",
        "  99\n",
        " 100"
       ]
      }
     ],
     "prompt_number": 125
    },
    {
     "cell_type": "code",
     "collapsed": false,
     "input": [
      "Y=[Tp(x,\u03c0/4,900) for x in X]"
     ],
     "language": "python",
     "metadata": {},
     "outputs": [
      {
       "metadata": {},
       "output_type": "pyout",
       "prompt_number": 135,
       "text": [
        "100-element Array{Any,1}:\n",
        "  0.9891\n",
        "  1.9564\n",
        "  2.9019\n",
        "  3.8256\n",
        "  4.7275\n",
        "  5.6076\n",
        "  6.4659\n",
        "  7.3024\n",
        "  8.1171\n",
        "  8.91  \n",
        "  9.6811\n",
        " 10.4304\n",
        " 11.1579\n",
        "  \u22ee     \n",
        "  2.6611\n",
        "  1.71  \n",
        "  0.7371\n",
        " -0.2576\n",
        " -1.2741\n",
        " -2.3124\n",
        " -3.3725\n",
        " -4.4544\n",
        " -5.5581\n",
        " -6.6836\n",
        " -7.8309\n",
        " -9.0   "
       ]
      }
     ],
     "prompt_number": 135
    },
    {
     "cell_type": "code",
     "collapsed": false,
     "input": [
      "plot(X,Y)"
     ],
     "language": "python",
     "metadata": {},
     "outputs": [
      {
       "metadata": {},
       "output_type": "display_data",
       "png": "[encoded data removed]",
       "text": [
        "Figure(PyObject <matplotlib.figure.Figure object at 0x20c18710>)"
       ]
      },
      {
       "metadata": {},
       "output_type": "pyout",
       "prompt_number": 136,
       "text": [
        "1-element Array{Any,1}:\n",
        " PyObject <matplotlib.lines.Line2D object at 0x17258ed0>"
       ]
      }
     ],
     "prompt_number": 136
    },
    {
     "cell_type": "code",
     "collapsed": false,
     "input": [
      "Y1=[Tp(x,\u03c0/5,900) for x in X]"
     ],
     "language": "python",
     "metadata": {},
     "outputs": [
      {
       "metadata": {},
       "output_type": "pyout",
       "prompt_number": 143,
       "text": [
        "100-element Array{Any,1}:\n",
        "   0.718216\n",
        "   1.41978 \n",
        "   2.10469 \n",
        "   2.77294 \n",
        "   3.42454 \n",
        "   4.05949 \n",
        "   4.67778 \n",
        "   5.27942 \n",
        "   5.86441 \n",
        "   6.43274 \n",
        "   6.98442 \n",
        "   7.51944 \n",
        "   8.03781 \n",
        "   \u22ee       \n",
        "  -1.29477 \n",
        "  -2.05873 \n",
        "  -2.83935 \n",
        "  -3.63662 \n",
        "  -4.45055 \n",
        "  -5.28113 \n",
        "  -6.12836 \n",
        "  -6.99225 \n",
        "  -7.87279 \n",
        "  -8.76999 \n",
        "  -9.68384 \n",
        " -10.6143  "
       ]
      }
     ],
     "prompt_number": 143
    },
    {
     "cell_type": "code",
     "collapsed": false,
     "input": [
      "Y2=[Tp(x,\u03c0/6,900) for x in X]"
     ],
     "language": "python",
     "metadata": {},
     "outputs": [
      {
       "metadata": {},
       "output_type": "pyout",
       "prompt_number": 141,
       "text": [
        "100-element Array{Any,1}:\n",
        "   0.570084\n",
        "   1.12563 \n",
        "   1.66665 \n",
        "   2.19313 \n",
        "   2.70508 \n",
        "   3.2025  \n",
        "   3.68539 \n",
        "   4.15374 \n",
        "   4.60755 \n",
        "   5.04684 \n",
        "   5.47159 \n",
        "   5.8818  \n",
        "   6.27749 \n",
        "   \u22ee       \n",
        "  -6.17509 \n",
        "  -6.89848 \n",
        "  -7.63639 \n",
        "  -8.38884 \n",
        "  -9.15582 \n",
        "  -9.93734 \n",
        " -10.7334  \n",
        " -11.544   \n",
        " -12.3691  \n",
        " -13.2087  \n",
        " -14.0629  \n",
        " -14.9316  "
       ]
      }
     ],
     "prompt_number": 141
    },
    {
     "cell_type": "code",
     "collapsed": false,
     "input": [
      "plot(X,Y,X,Y1,X,Y2)"
     ],
     "language": "python",
     "metadata": {},
     "outputs": [
      {
       "metadata": {},
       "output_type": "display_data",
       "png": "[encoded data removed]",
       "text": [
        "Figure(PyObject <matplotlib.figure.Figure object at 0x224f2890>)"
       ]
      },
      {
       "metadata": {},
       "output_type": "pyout",
       "prompt_number": 144,
       "text": [
        "3-element Array{Any,1}:\n",
        " PyObject <matplotlib.lines.Line2D object at 0x22928e10>\n",
        " PyObject <matplotlib.lines.Line2D object at 0x2292b0d0>\n",
        " PyObject <matplotlib.lines.Line2D object at 0x2292b790>"
       ]
      }
     ],
     "prompt_number": 144
    },
    {
     "cell_type": "code",
     "collapsed": false,
     "input": [],
     "language": "python",
     "metadata": {},
     "outputs": []
    }
   ],
   "metadata": {}
  }
 ]
}