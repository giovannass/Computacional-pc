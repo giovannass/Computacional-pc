{
 "metadata": {
  "language": "Julia",
  "name": "",
  "signature": "sha256:025eb0de45a500bbcc8d9d219ed522e0c015f809df4bf02b9c9cab0e177ff185"
 },
 "nbformat": 3,
 "nbformat_minor": 0,
 "worksheets": [
  {
   "cells": [
    {
     "cell_type": "heading",
     "level": 1,
     "metadata": {},
     "source": [
      "Euler"
     ]
    },
    {
     "cell_type": "code",
     "collapsed": false,
     "input": [
      "function euler(x0,h,f,N)\n",
      "    x=Vector{Float64}[[x0]]\n",
      "    t=Float64[t0]\n",
      "    for i in 1:N\n",
      "        x_n= x0 + h*f(t0,x0)#Euler explicito adelantado, usamos terminos explicitos de la funcion evaluados en valores conocidos\n",
      "        t0= t0+ h\n",
      "        x0=x_n\n",
      "        push!(t,t0)\n",
      "        push!(x,x0)\n",
      "    end\n",
      "    t,vcat(x...)'\n",
      "end"
     ],
     "language": "python",
     "metadata": {},
     "outputs": []
    },
    {
     "cell_type": "code",
     "collapsed": true,
     "input": [
      "function euler(x0,t0,h,f,N)\n",
      "    x=Vector{Float64}[[x0]]\n",
      "    t=Float64[t0]\n",
      "    for i in 1:N\n",
      "        x_n = x0 + h*f(t0,x0)\n",
      "        t0=t0 + h\n",
      "        x0 =x_n\n",
      "        push!(t,t0)\n",
      "        push!(x,[x0])\n",
      "    end\n",
      "    t,vcat(x...)'\n",
      "end"
     ],
     "language": "python",
     "metadata": {},
     "outputs": [
      {
       "metadata": {},
       "output_type": "pyout",
       "prompt_number": 2,
       "text": [
        "euler (generic function with 1 method)"
       ]
      }
     ],
     "prompt_number": 2
    },
    {
     "cell_type": "code",
     "collapsed": false,
     "input": [
      "function f(t,x)\n",
      "    \u03b8 = x[1]\n",
      "    \u03c9 = x[2]\n",
      "    [\u03c9,-\u03b8]#es el vector xpunto, las entradas dependen de la eleccion de cada quien\n",
      "end\n"
     ],
     "language": "python",
     "metadata": {},
     "outputs": [
      {
       "metadata": {},
       "output_type": "pyout",
       "prompt_number": 4,
       "text": [
        "f (generic function with 1 method)"
       ]
      }
     ],
     "prompt_number": 4
    },
    {
     "cell_type": "code",
     "collapsed": false,
     "input": [],
     "language": "python",
     "metadata": {},
     "outputs": []
    }
   ],
   "metadata": {}
  }
 ]
}