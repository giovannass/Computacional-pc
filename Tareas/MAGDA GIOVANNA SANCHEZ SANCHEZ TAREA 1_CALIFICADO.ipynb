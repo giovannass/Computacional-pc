{
 "metadata": {
  "language": "Julia",
  "name": "",
  "signature": "sha256:ece6727c600aea9b8dfcd7c914458046f434eaac895cb0b294f2930b70f5cb25"
 },
 "nbformat": 3,
 "nbformat_minor": 0,
 "worksheets": [
  {
   "cells": [
    {
     "cell_type": "heading",
     "level": 1,
     "metadata": {},
     "source": [
      "TAREA 1"
     ]
    },
    {
     "cell_type": "heading",
     "level": 3,
     "metadata": {},
     "source": [
      "Magda Giovanna S\u00e1nchez S\u00e1nchez "
     ]
    },
    {
     "cell_type": "heading",
     "level": 3,
     "metadata": {},
     "source": [
      "Cuenta 309280293"
     ]
    },
    {
     "cell_type": "code",
     "collapsed": false,
     "input": [
      "np = 7;\n",
      "p = zeros(np);"
     ],
     "language": "python",
     "metadata": {},
     "outputs": [],
     "prompt_number": 1
    },
    {
     "cell_type": "code",
     "collapsed": false,
     "input": [
      "for n in 1:np\n",
      "    println(\"Pregunta $n: -->  $(p[n]) puntos\")\n",
      "end"
     ],
     "language": "python",
     "metadata": {},
     "outputs": [
      {
       "output_type": "stream",
       "stream": "stdout",
       "text": [
        "Pregunta 1: -->  1.0 puntos\n"
       ]
      },
      {
       "output_type": "stream",
       "stream": "stdout",
       "text": [
        "Pregunta 2: -->  0.8 puntos\n",
        "Pregunta 3: -->  0.9 puntos\n",
        "Pregunta 4: -->  1.0 puntos\n",
        "Pregunta 5: -->  1.0 puntos\n",
        "Pregunta 6: -->  1.0 puntos\n",
        "Pregunta 7: -->  1.0 puntos\n"
       ]
      }
     ],
     "prompt_number": 58
    },
    {
     "cell_type": "code",
     "collapsed": false,
     "input": [
      "calif = round(sum(p)*10/np,2)"
     ],
     "language": "python",
     "metadata": {},
     "outputs": [
      {
       "metadata": {},
       "output_type": "pyout",
       "prompt_number": 59,
       "text": [
        "9.57"
       ]
      }
     ],
     "prompt_number": 59
    },
    {
     "cell_type": "markdown",
     "metadata": {},
     "source": [
      "# <font color=blue>Calificaci\u00f3n</font> *9.57*"
     ]
    },
    {
     "cell_type": "heading",
     "level": 2,
     "metadata": {},
     "source": [
      "Preguntas\n"
     ]
    },
    {
     "cell_type": "heading",
     "level": 4,
     "metadata": {},
     "source": [
      "1. Implementa una funci\u00f3n `mi_sin` usando recursi\u00f3n"
     ]
    },
    {
     "cell_type": "markdown",
     "metadata": {},
     "source": [
      "La funci\u00f3n $sen(x)$ se puede desarrollar en su serie de Taylor alrededor del punto $x_0=0$ de la manera siguiente:\n",
      "\n",
      "$$\\sum_{n=0}^{\\infty} (-1)^n \\frac{x^{2n+1}}{(2n+1)!}= x + \\frac{x^3}{3!}+\\frac{x^5}{5!}+\\frac{x^7}{7!}+ \\cdots ,\\ n \\in \\mathbb{N} $$\n"
     ]
    },
    {
     "cell_type": "markdown",
     "metadata": {},
     "source": [
      "Dicha expansi\u00f3n es v\u00e1lida tanto para n\u00fameros reales como para n\u00fameros complejos por lo que se puede utilizar sin problema. Por tanto, para la resoluci\u00f3n del problema se desarrolla la expansi\u00f3n de Taylor como una funci\u00f3n de $x$ y de $n$, donde entre mayor es el valor asignado a $n$, mayor es la precisi\u00f3n del resultado.\n"
     ]
    },
    {
     "cell_type": "code",
     "collapsed": false,
     "input": [
      "function mi_sin(x,n)\n",
      "     if  n==0\n",
      "        x\n",
      "      \n",
      "        else\n",
      "      \n",
      "            (((-1)^big(n))*(x^(2*(big(n))+1)/factorial(2*(big(n))+1)))+mi_sin(x,n-1)\n",
      "            \n",
      "    end\n",
      "end"
     ],
     "language": "python",
     "metadata": {},
     "outputs": [
      {
       "metadata": {},
       "output_type": "pyout",
       "prompt_number": 2,
       "text": [
        "mi_sin (generic function with 1 method)"
       ]
      }
     ],
     "prompt_number": 2
    },
    {
     "cell_type": "markdown",
     "metadata": {},
     "source": [
      "El uso de la fuinci\u00f3n big al implementar el c\u00f3digo surgi\u00f3 de la necesidad de calcular factoriales grandes de $n$ para obtener una mayor precisi\u00f3n sin que ocurriera alg\u00fan error, en este y los programas restantes. A continuaci\u00f3n se presentan los valores de $sin(1)$ con la funci\u00f3n `mi_sin()` y con la funci\u00f3n por defecto de Julia `sin()`"
     ]
    },
    {
     "cell_type": "code",
     "collapsed": false,
     "input": [
      "mi_sin(1,50)"
     ],
     "language": "python",
     "metadata": {},
     "outputs": [
      {
       "metadata": {},
       "output_type": "pyout",
       "prompt_number": 3,
       "text": [
        "8.414709848078965066525023216302989996225630607983710656727517099919104043912398e-01 with 256 bits of precision"
       ]
      }
     ],
     "prompt_number": 3
    },
    {
     "cell_type": "code",
     "collapsed": false,
     "input": [
      "sin(1)"
     ],
     "language": "python",
     "metadata": {},
     "outputs": [
      {
       "metadata": {},
       "output_type": "pyout",
       "prompt_number": 4,
       "text": [
        "0.8414709848078965"
       ]
      }
     ],
     "prompt_number": 4
    },
    {
     "cell_type": "markdown",
     "metadata": {},
     "source": [
      "Se puede definir ahora una funci\u00f3n `mi_sen(x)` dejando un valor fijo de $n$ como se muestra a continuaci\u00f3n:"
     ]
    },
    {
     "cell_type": "code",
     "collapsed": false,
     "input": [
      "function mi_sin(x)\n",
      "    mi_sin(x,50)\n",
      "end"
     ],
     "language": "python",
     "metadata": {},
     "outputs": [
      {
       "metadata": {},
       "output_type": "pyout",
       "prompt_number": 5,
       "text": [
        "mi_sin (generic function with 2 methods)"
       ]
      }
     ],
     "prompt_number": 5
    },
    {
     "cell_type": "code",
     "collapsed": false,
     "input": [
      "mi_sin(1)"
     ],
     "language": "python",
     "metadata": {},
     "outputs": [
      {
       "metadata": {},
       "output_type": "pyout",
       "prompt_number": 6,
       "text": [
        "8.414709848078965066525023216302989996225630607983710656727517099919104043912398e-01 with 256 bits of precision"
       ]
      }
     ],
     "prompt_number": 6
    },
    {
     "cell_type": "markdown",
     "metadata": {},
     "source": [
      "Pregunta 1: **1 pto**"
     ]
    },
    {
     "cell_type": "code",
     "collapsed": false,
     "input": [
      "p[1]=1;"
     ],
     "language": "python",
     "metadata": {},
     "outputs": [],
     "prompt_number": 9
    },
    {
     "cell_type": "heading",
     "level": 4,
     "metadata": {},
     "source": [
      "2 . Implementa una nueva versi\u00f3n de la funci\u00f3n exponencial que calcule el exponencial de su argumento $x$. Para hacerlo, no utilices recursi\u00f3n, sino primero construye un arreglo adecuado y de ah\u00ed calcula el exponencial.\n"
     ]
    },
    {
     "cell_type": "markdown",
     "metadata": {},
     "source": [
      "Para este problema se usa ahora la serie de Taylor para la exponencial alrededor de $x_0=0$ que est\u00e1 dada por:\n",
      "\n",
      "$$\\sum_{n=0}^{\\infty}\\frac{x^n}{n!}= 1+\\frac{x^2}{2!}+\\frac{x^3}{3!}+ \\cdots ,\\ n \\in \\mathbb{N}$$"
     ]
    },
    {
     "cell_type": "markdown",
     "metadata": {},
     "source": [
      "Se utiliza un arreglo para definir el l\u00edmite de la suma desde el inicio, es decir, en el arreglo se especifica que valores puede tomar $n$ en vez de utilizar recursi\u00f3n, quedando la funci\u00f3n de la siguiente manera:"
     ]
    },
    {
     "cell_type": "code",
     "collapsed": false,
     "input": [
      "arreglo=[0:1:50]"
     ],
     "language": "python",
     "metadata": {},
     "outputs": [
      {
       "metadata": {},
       "output_type": "pyout",
       "prompt_number": 12,
       "text": [
        "51-element Array{Int32,1}:\n",
        "  0\n",
        "  1\n",
        "  2\n",
        "  3\n",
        "  4\n",
        "  5\n",
        "  6\n",
        "  7\n",
        "  8\n",
        "  9\n",
        " 10\n",
        " 11\n",
        " 12\n",
        "  \u22ee\n",
        " 39\n",
        " 40\n",
        " 41\n",
        " 42\n",
        " 43\n",
        " 44\n",
        " 45\n",
        " 46\n",
        " 47\n",
        " 48\n",
        " 49\n",
        " 50"
       ]
      }
     ],
     "prompt_number": 12
    },
    {
     "cell_type": "code",
     "collapsed": true,
     "input": [
      "function mi_exp(x)\n",
      "\n",
      "sum([(x^n)/factorial(big(n)) for n in arreglo])\n",
      "\n",
      "end"
     ],
     "language": "python",
     "metadata": {},
     "outputs": [
      {
       "metadata": {},
       "output_type": "pyout",
       "prompt_number": 13,
       "text": [
        "mi_exp (generic function with 1 method)"
       ]
      }
     ],
     "prompt_number": 13
    },
    {
     "cell_type": "markdown",
     "metadata": {},
     "source": [
      "Para comprobar que el resultado sea adecuado se compara el valor de `mi_exp()`con el de `exp()` de julia"
     ]
    },
    {
     "cell_type": "code",
     "collapsed": false,
     "input": [
      "mi_exp(1)"
     ],
     "language": "python",
     "metadata": {},
     "outputs": [
      {
       "metadata": {},
       "output_type": "pyout",
       "prompt_number": 14,
       "text": [
        "2.718281828459045235360287471352662497757247093699959574966967627723419298053521e+00 with 256 bits of precision"
       ]
      }
     ],
     "prompt_number": 14
    },
    {
     "cell_type": "code",
     "collapsed": false,
     "input": [
      "exp(1)"
     ],
     "language": "python",
     "metadata": {},
     "outputs": [
      {
       "metadata": {},
       "output_type": "pyout",
       "prompt_number": 15,
       "text": [
        "2.718281828459045"
       ]
      }
     ],
     "prompt_number": 15
    },
    {
     "cell_type": "heading",
     "level": 3,
     "metadata": {},
     "source": [
      "Hubiera sido bueno que tambi\u00e9n pudiera elegirse el tama\u00f1o del arreglo en la definici\u00f3n de `mi_exp`"
     ]
    },
    {
     "cell_type": "markdown",
     "metadata": {},
     "source": [
      "Pregunta 2: **0.8 ptos**"
     ]
    },
    {
     "cell_type": "code",
     "collapsed": false,
     "input": [
      "p[2]=0.8;"
     ],
     "language": "python",
     "metadata": {},
     "outputs": [],
     "prompt_number": 16
    },
    {
     "cell_type": "heading",
     "level": 4,
     "metadata": {},
     "source": [
      "3 . Implementa una funci\u00f3n `mi_sin2` que utilice un arreglo. Calcula $sin(1)$.\n"
     ]
    },
    {
     "cell_type": "markdown",
     "metadata": {},
     "source": [
      "Como ya se ha definido un arreglo previamente, utilizaremos el mismo para hacer correr la suma de Taylor para el $sin()$ con esos valores de $n$, omitiendo el uso de la recursi\u00f3n."
     ]
    },
    {
     "cell_type": "code",
     "collapsed": false,
     "input": [
      "function mi_sin2(x)\n",
      "\n",
      "    sum([((-1)^big(n))*(x^(2*(big(n))+1)/factorial(2*(big(n))+1)) for n in arreglo])\n",
      "end\n"
     ],
     "language": "python",
     "metadata": {},
     "outputs": [
      {
       "metadata": {},
       "output_type": "pyout",
       "prompt_number": 17,
       "text": [
        "mi_sin2 (generic function with 1 method)"
       ]
      }
     ],
     "prompt_number": 17
    },
    {
     "cell_type": "markdown",
     "metadata": {},
     "source": [
      "Para comprobobar el resultado se compara con `sin(1)`\n"
     ]
    },
    {
     "cell_type": "code",
     "collapsed": false,
     "input": [
      "mi_sin2(1)"
     ],
     "language": "python",
     "metadata": {},
     "outputs": [
      {
       "metadata": {},
       "output_type": "pyout",
       "prompt_number": 18,
       "text": [
        "8.414709848078965066525023216302989996225630607983710656727517099919104043912398e-01 with 256 bits of precision"
       ]
      }
     ],
     "prompt_number": 18
    },
    {
     "cell_type": "code",
     "collapsed": false,
     "input": [
      "sin(1)"
     ],
     "language": "python",
     "metadata": {},
     "outputs": [
      {
       "metadata": {},
       "output_type": "pyout",
       "prompt_number": 19,
       "text": [
        "0.8414709848078965"
       ]
      }
     ],
     "prompt_number": 19
    },
    {
     "cell_type": "heading",
     "level": 3,
     "metadata": {},
     "source": [
      "Lo mismo sobre el tama\u00f1o del arreglo"
     ]
    },
    {
     "cell_type": "markdown",
     "metadata": {},
     "source": [
      "Pregunta 3: **0.9 ptos**"
     ]
    },
    {
     "cell_type": "code",
     "collapsed": false,
     "input": [
      "p[3]=0.9;"
     ],
     "language": "python",
     "metadata": {},
     "outputs": [],
     "prompt_number": 20
    },
    {
     "cell_type": "heading",
     "level": 4,
     "metadata": {},
     "source": [
      "4 . Implementa una funci\u00f3n `mi_sin3` que utilice la f\u00f3rmula de Euler. Calcula $\\sin(1)$. \n"
     ]
    },
    {
     "cell_type": "markdown",
     "metadata": {},
     "source": [
      "La f\u00f3rmula de Euler es la siguiente:\n",
      "$$e^{ix}=cos(x)+i sen(x)$$\n",
      "\n",
      "V\u00e1lida para n\u00fameros $x \\in \\mathbb{I}$ y por tanto en $\\mathbb{R}$. A partir de ella se llegan a diversas identidades muy \u00fatiles. Por ejemplo:\n",
      "\n",
      "$$e^{ix}-e^{-ix}=cos(x)+isen(x)-cos(-x)-isen(-x)$$\n",
      "\n",
      "$$=cos(x)+isen(x)-cos(x)+isen(x)$$\n",
      "\n",
      "$$=2\\ i\\ sen(x)$$\n",
      "\n",
      "$$\\therefore \\ sen(x)= \\frac{e^{ix}-e^{-ix}}{2\\ i}$$\n",
      "\n",
      "Esta funci\u00f3n es la que se utilizar\u00e1 en este problema, simplemente definiendola como funci\u00f3n.\n"
     ]
    },
    {
     "cell_type": "code",
     "collapsed": false,
     "input": [
      "function mi_sin3(x)\n",
      "    ((e^(x*im))-(e^((-x)*im)))/(2*im)\n",
      "    \n",
      "end"
     ],
     "language": "python",
     "metadata": {},
     "outputs": [
      {
       "metadata": {},
       "output_type": "pyout",
       "prompt_number": 21,
       "text": [
        "mi_sin3 (generic function with 1 method)"
       ]
      }
     ],
     "prompt_number": 21
    },
    {
     "cell_type": "code",
     "collapsed": false,
     "input": [
      "mi_sin3(1)"
     ],
     "language": "python",
     "metadata": {},
     "outputs": [
      {
       "metadata": {},
       "output_type": "pyout",
       "prompt_number": 22,
       "text": [
        "0.8414709848078965 + 0.0im"
       ]
      }
     ],
     "prompt_number": 22
    },
    {
     "cell_type": "code",
     "collapsed": false,
     "input": [
      "sin(1)"
     ],
     "language": "python",
     "metadata": {},
     "outputs": [
      {
       "metadata": {},
       "output_type": "pyout",
       "prompt_number": 23,
       "text": [
        "0.8414709848078965"
       ]
      }
     ],
     "prompt_number": 23
    },
    {
     "cell_type": "markdown",
     "metadata": {},
     "source": [
      "Pregunta 4: ** 1 pto **"
     ]
    },
    {
     "cell_type": "code",
     "collapsed": false,
     "input": [
      "p[4]=1;"
     ],
     "language": "python",
     "metadata": {},
     "outputs": [],
     "prompt_number": 24
    },
    {
     "cell_type": "heading",
     "level": 4,
     "metadata": {},
     "source": [
      "5 . \u00bfFuncionan estas funciones con argumentos que sean n\u00fameros complejos?"
     ]
    },
    {
     "cell_type": "markdown",
     "metadata": {},
     "source": [
      "Deben de funcionar pues la expansi\u00f3n en series de estas funciones es propia de los n\u00fameros complejos y es la que se utiliz\u00f3. Para omprobarlo se evaluar\u00e1n todas las funciones en el mismo valor imaginario para cotejarlas despu\u00e9s con el valor que proprciona Julia."
     ]
    },
    {
     "cell_type": "code",
     "collapsed": false,
     "input": [
      "mi_sin(1+im,30)"
     ],
     "language": "python",
     "metadata": {},
     "outputs": [
      {
       "metadata": {},
       "output_type": "pyout",
       "prompt_number": 25,
       "text": [
        "1.29845758141597729482604236580781562031343656163520807340184210367391171441968e+00 with 256 bits of precision + 6.349639147847361082550822029915097815170819514193794105269529419319753121371858e-01 with 256 bits of precisionim"
       ]
      }
     ],
     "prompt_number": 25
    },
    {
     "cell_type": "code",
     "collapsed": false,
     "input": [
      "mi_sin2(1+im)"
     ],
     "language": "python",
     "metadata": {},
     "outputs": [
      {
       "metadata": {},
       "output_type": "pyout",
       "prompt_number": 26,
       "text": [
        "1.298457581415977294826042365807815620313436561635208073401842103673911714419646e+00 with 256 bits of precision + 6.349639147847361082550822029915097815170819514193794105269529419319753121371944e-01 with 256 bits of precisionim"
       ]
      }
     ],
     "prompt_number": 26
    },
    {
     "cell_type": "code",
     "collapsed": false,
     "input": [
      "mi_sin3(1+im)\n"
     ],
     "language": "python",
     "metadata": {},
     "outputs": [
      {
       "metadata": {},
       "output_type": "pyout",
       "prompt_number": 27,
       "text": [
        "1.2984575814159773 + 0.6349639147847361im"
       ]
      }
     ],
     "prompt_number": 27
    },
    {
     "cell_type": "code",
     "collapsed": false,
     "input": [
      "mi_exp(1+im)"
     ],
     "language": "python",
     "metadata": {},
     "outputs": [
      {
       "metadata": {},
       "output_type": "pyout",
       "prompt_number": 28,
       "text": [
        "1.468693939915885157138967597326604261326956736629008722797698156420925678352923e+00 with 256 bits of precision + 2.287355287178842391208171906700501808955586256668355680938636497987156393566231e+00 with 256 bits of precisionim"
       ]
      }
     ],
     "prompt_number": 28
    },
    {
     "cell_type": "code",
     "collapsed": false,
     "input": [
      "exp(1+im)"
     ],
     "language": "python",
     "metadata": {},
     "outputs": [
      {
       "metadata": {},
       "output_type": "pyout",
       "prompt_number": 29,
       "text": [
        "1.4686939399158851 + 2.2873552871788423im"
       ]
      }
     ],
     "prompt_number": 29
    },
    {
     "cell_type": "code",
     "collapsed": false,
     "input": [
      "sin(1+im)"
     ],
     "language": "python",
     "metadata": {},
     "outputs": [
      {
       "metadata": {},
       "output_type": "pyout",
       "prompt_number": 30,
       "text": [
        "1.2984575814159773 + 0.6349639147847362im"
       ]
      }
     ],
     "prompt_number": 30
    },
    {
     "cell_type": "markdown",
     "metadata": {},
     "source": [
      "Se observa con estos resultados que efectivamente las funciones eval\u00faan de manera adecuada los complejos."
     ]
    },
    {
     "cell_type": "markdown",
     "metadata": {},
     "source": [
      "\u00a1 MUY BIEN POR COMPROBAR !\n",
      "\n",
      "Pregunta 5: **1 pto**"
     ]
    },
    {
     "cell_type": "code",
     "collapsed": false,
     "input": [
      "p[5]=1;"
     ],
     "language": "python",
     "metadata": {},
     "outputs": [],
     "prompt_number": 31
    },
    {
     "cell_type": "heading",
     "level": 4,
     "metadata": {},
     "source": [
      "6 . \u00bfC\u00f3mo podr\u00edas implementar `mi_cos` sin mayor dificultad? Hazlo.\n"
     ]
    },
    {
     "cell_type": "markdown",
     "metadata": {},
     "source": [
      "Revisando los procedimientos anteriores, a mi parecer la forma m\u00e1s sencilla de implementar una funci\u00f3n trigonom\u00e9trica fue a trav\u00e9s de la f\u00f3rmula de Euler. Para el caso del $cos(x)$ se tiene que:\n",
      "\n",
      "$$e^{ix}+e^{-ix}=cos(x)+isen(x)+cos(-x)+isen(-x)$$\n",
      "\n",
      "$$=cos(x)+isen(x)+cos(x)-isen(x)$$\n",
      "\n",
      "$$=2\\ cos(x)$$\n",
      "\n",
      "$$\\therefore \\ cos(x)= \\frac{e^{ix}+e^{-ix}}{2}$$"
     ]
    },
    {
     "cell_type": "code",
     "collapsed": false,
     "input": [
      "function mi_cos(x)\n",
      "    ((e^(x*im))+(e^((-x)*im)))/2\n",
      "end"
     ],
     "language": "python",
     "metadata": {},
     "outputs": [
      {
       "metadata": {},
       "output_type": "pyout",
       "prompt_number": 32,
       "text": [
        "mi_cos (generic function with 1 method)"
       ]
      }
     ],
     "prompt_number": 32
    },
    {
     "cell_type": "code",
     "collapsed": false,
     "input": [
      "mi_cos(1)"
     ],
     "language": "python",
     "metadata": {},
     "outputs": [
      {
       "metadata": {},
       "output_type": "pyout",
       "prompt_number": 33,
       "text": [
        "0.5403023058681398 + 0.0im"
       ]
      }
     ],
     "prompt_number": 33
    },
    {
     "cell_type": "code",
     "collapsed": false,
     "input": [
      "cos(1)"
     ],
     "language": "python",
     "metadata": {},
     "outputs": [
      {
       "metadata": {},
       "output_type": "pyout",
       "prompt_number": 34,
       "text": [
        "0.5403023058681398"
       ]
      }
     ],
     "prompt_number": 34
    },
    {
     "cell_type": "markdown",
     "metadata": {},
     "source": [
      "Pregunta 6: **1 pto**"
     ]
    },
    {
     "cell_type": "code",
     "collapsed": false,
     "input": [
      "p[6]=1;"
     ],
     "language": "python",
     "metadata": {},
     "outputs": [],
     "prompt_number": 35
    },
    {
     "cell_type": "heading",
     "level": 4,
     "metadata": {},
     "source": [
      "7 . Verifica unas relaciones trigonom\u00e9tricas con tus funciones."
     ]
    },
    {
     "cell_type": "markdown",
     "metadata": {},
     "source": [
      "Para comprobar las funciones utilizar\u00e9 las siguientes relaciones trigonom\u00e9tricas:\n",
      "\n",
      "$$cos(x)^{2} +\\ sen(x)^{2}=1   \\ \\ \\ \\ \\ \\  \\ \\ \\ (1)$$ \n",
      "\n",
      "$$sin(2x)=2\\ sin(x)\\ cos(x)\\ \\ \\ \\ \\ (2)$$ "
     ]
    },
    {
     "cell_type": "markdown",
     "metadata": {},
     "source": [
      "**Primera identidad:** Se implementa una funci\u00f3n igual a la identidad (1) para verificar que de como valor 1 o un n\u00famero muy cercano para cualquier valor de $x$."
     ]
    },
    {
     "cell_type": "code",
     "collapsed": false,
     "input": [
      "identidad(x)= (mi_sin(x))^2+(mi_cos(x))^2\n"
     ],
     "language": "python",
     "metadata": {},
     "outputs": [
      {
       "metadata": {},
       "output_type": "pyout",
       "prompt_number": 37,
       "text": [
        "identidad (generic function with 1 method)"
       ]
      }
     ],
     "prompt_number": 37
    },
    {
     "cell_type": "code",
     "collapsed": false,
     "input": [
      "identidad(pi)"
     ],
     "language": "python",
     "metadata": {},
     "outputs": [
      {
       "metadata": {},
       "output_type": "pyout",
       "prompt_number": 38,
       "text": [
        "1.00000000000000000000000000000020011086091185920238136847403275815692554797406e+00 with 256 bits of precision - 0e+00 with 256 bits of precisionim"
       ]
      }
     ],
     "prompt_number": 38
    },
    {
     "cell_type": "code",
     "collapsed": false,
     "input": [
      "identidad2(x)=(mi_sin2(x))^2+(mi_cos(x))^2"
     ],
     "language": "python",
     "metadata": {},
     "outputs": [
      {
       "metadata": {},
       "output_type": "pyout",
       "prompt_number": 39,
       "text": [
        "identidad2 (generic function with 1 method)"
       ]
      }
     ],
     "prompt_number": 39
    },
    {
     "cell_type": "code",
     "collapsed": false,
     "input": [
      "identidad2(pi)"
     ],
     "language": "python",
     "metadata": {},
     "outputs": [
      {
       "metadata": {},
       "output_type": "pyout",
       "prompt_number": 40,
       "text": [
        "1.000000000000000000000000000000105542365211429517202114911715850670183858535941e+00 with 256 bits of precision - 0e+00 with 256 bits of precisionim"
       ]
      }
     ],
     "prompt_number": 40
    },
    {
     "cell_type": "code",
     "collapsed": false,
     "input": [
      "identidad3(x)=(mi_sin3(x))^2+(mi_cos(x))^2"
     ],
     "language": "python",
     "metadata": {},
     "outputs": [
      {
       "metadata": {},
       "output_type": "pyout",
       "prompt_number": 41,
       "text": [
        "identidad3 (generic function with 1 method)"
       ]
      }
     ],
     "prompt_number": 41
    },
    {
     "cell_type": "code",
     "collapsed": false,
     "input": [
      "identidad3(pi)"
     ],
     "language": "python",
     "metadata": {},
     "outputs": [
      {
       "metadata": {},
       "output_type": "pyout",
       "prompt_number": 42,
       "text": [
        "1.0 + 0.0im"
       ]
      }
     ],
     "prompt_number": 42
    },
    {
     "cell_type": "markdown",
     "metadata": {},
     "source": [
      "Se observa que los valores se acercan al valor establecido por la identidad."
     ]
    },
    {
     "cell_type": "markdown",
     "metadata": {},
     "source": [
      "**Segunda indentidad:** se comprobar\u00e1 evaluando cada lado de la ecuac\u00f3n por separado para despues comparar los resultados obtenidos, nombr\u00e1ndolos `der` e `izq` dependiendo de que mienbro de la ecuaci\u00f3n se trate."
     ]
    },
    {
     "cell_type": "code",
     "collapsed": false,
     "input": [
      "der(x)=2*(mi_sin(x))*(mi_cos(x))"
     ],
     "language": "python",
     "metadata": {},
     "outputs": [
      {
       "metadata": {},
       "output_type": "pyout",
       "prompt_number": 43,
       "text": [
        "der (generic function with 1 method)"
       ]
      }
     ],
     "prompt_number": 43
    },
    {
     "cell_type": "code",
     "collapsed": false,
     "input": [
      "izq(x)= mi_sin(2*x)"
     ],
     "language": "python",
     "metadata": {},
     "outputs": [
      {
       "metadata": {},
       "output_type": "pyout",
       "prompt_number": 44,
       "text": [
        "izq (generic function with 1 method)"
       ]
      }
     ],
     "prompt_number": 44
    },
    {
     "cell_type": "code",
     "collapsed": false,
     "input": [
      "der(pi/12)"
     ],
     "language": "python",
     "metadata": {},
     "outputs": [
      {
       "metadata": {},
       "output_type": "pyout",
       "prompt_number": 45,
       "text": [
        "4.999999999999999599366958427564613505409122628703337338922559343370655930677859e-01 with 256 bits of precision + 0e+00 with 256 bits of precisionim"
       ]
      }
     ],
     "prompt_number": 45
    },
    {
     "cell_type": "code",
     "collapsed": false,
     "input": [
      "izq(pi/12)"
     ],
     "language": "python",
     "metadata": {},
     "outputs": [
      {
       "metadata": {},
       "output_type": "pyout",
       "prompt_number": 46,
       "text": [
        "4.999999999999999516198806057883127452886368875763845491373513720947485721254919e-01 with 256 bits of precision"
       ]
      }
     ],
     "prompt_number": 46
    },
    {
     "cell_type": "markdown",
     "metadata": {},
     "source": [
      "Tanto el lado izquierdo como el derecho en cada caso proporcionan un resultado pr\u00e1cticamente igual por lo que se verfica la f\u00f3rmula."
     ]
    },
    {
     "cell_type": "code",
     "collapsed": false,
     "input": [
      "der2(x)=2*(mi_sin2(x))*(mi_cos(x))"
     ],
     "language": "python",
     "metadata": {},
     "outputs": [
      {
       "metadata": {},
       "output_type": "pyout",
       "prompt_number": 47,
       "text": [
        "der2 (generic function with 1 method)"
       ]
      }
     ],
     "prompt_number": 47
    },
    {
     "cell_type": "code",
     "collapsed": false,
     "input": [
      "izq2(x)= mi_sin2(2*x)"
     ],
     "language": "python",
     "metadata": {},
     "outputs": [
      {
       "metadata": {},
       "output_type": "pyout",
       "prompt_number": 48,
       "text": [
        "izq2 (generic function with 1 method)"
       ]
      }
     ],
     "prompt_number": 48
    },
    {
     "cell_type": "code",
     "collapsed": false,
     "input": [
      "der2(pi/12)"
     ],
     "language": "python",
     "metadata": {},
     "outputs": [
      {
       "metadata": {},
       "output_type": "pyout",
       "prompt_number": 49,
       "text": [
        "4.999999999999999599366958427564613505409122628703337338922559343370655930677945e-01 with 256 bits of precision + 0e+00 with 256 bits of precisionim"
       ]
      }
     ],
     "prompt_number": 49
    },
    {
     "cell_type": "code",
     "collapsed": false,
     "input": [
      "izq2(pi/12)"
     ],
     "language": "python",
     "metadata": {},
     "outputs": [
      {
       "metadata": {},
       "output_type": "pyout",
       "prompt_number": 50,
       "text": [
        "4.999999999999999516198806057883127452886368875763845491373513720947485721254876e-01 with 256 bits of precision"
       ]
      }
     ],
     "prompt_number": 50
    },
    {
     "cell_type": "markdown",
     "metadata": {},
     "source": [
      "De nuevo se verifica la segunda identidad."
     ]
    },
    {
     "cell_type": "code",
     "collapsed": false,
     "input": [
      "der3(x)=2*(mi_sin3(x))*(mi_cos(x))"
     ],
     "language": "python",
     "metadata": {},
     "outputs": [
      {
       "metadata": {},
       "output_type": "pyout",
       "prompt_number": 51,
       "text": [
        "der3 (generic function with 1 method)"
       ]
      }
     ],
     "prompt_number": 51
    },
    {
     "cell_type": "code",
     "collapsed": false,
     "input": [
      "izq3(x)= mi_sin3(2*x)"
     ],
     "language": "python",
     "metadata": {},
     "outputs": [
      {
       "metadata": {},
       "output_type": "pyout",
       "prompt_number": 52,
       "text": [
        "izq3 (generic function with 1 method)"
       ]
      }
     ],
     "prompt_number": 52
    },
    {
     "cell_type": "code",
     "collapsed": false,
     "input": [
      "der3(pi/12)"
     ],
     "language": "python",
     "metadata": {},
     "outputs": [
      {
       "metadata": {},
       "output_type": "pyout",
       "prompt_number": 53,
       "text": [
        "0.49999999999999994 + 0.0im"
       ]
      }
     ],
     "prompt_number": 53
    },
    {
     "cell_type": "code",
     "collapsed": false,
     "input": [
      "izq3(pi/12)"
     ],
     "language": "python",
     "metadata": {},
     "outputs": [
      {
       "metadata": {},
       "output_type": "pyout",
       "prompt_number": 54,
       "text": [
        "0.49999999999999994 + 0.0im"
       ]
      }
     ],
     "prompt_number": 54
    },
    {
     "cell_type": "markdown",
     "metadata": {},
     "source": [
      "Finalmente las dos identidades han sido verificadas para las funciones trigonom\u00e9tricas obtenidas =)"
     ]
    },
    {
     "cell_type": "heading",
     "level": 3,
     "metadata": {},
     "source": [
      "Est\u00e1 muy bien que hayas verificado para todas las funciones que utilizaste. Mi \u00fanica sugerencia es que mejor muestres que su diferencia es muy cercana a cero en lugar de mostrar sus dos valores por separados; *i.e*"
     ]
    },
    {
     "cell_type": "markdown",
     "metadata": {},
     "source": [
      "(Otra cosa ser\u00eda que probaras para argumentos aleatorios)"
     ]
    },
    {
     "cell_type": "code",
     "collapsed": false,
     "input": [
      "x = rand()\n",
      "println(der(x)-izq(x))\n",
      "println(der2(x)-izq2(x))\n",
      "println(der3(x)- izq3(x))"
     ],
     "language": "python",
     "metadata": {},
     "outputs": [
      {
       "output_type": "stream",
       "stream": "stdout",
       "text": [
        "-8.248792696576054427904910717397958472644166245035298919087787882391596057862779e-18 with 256 bits of precision"
       ]
      },
      {
       "output_type": "stream",
       "stream": "stdout",
       "text": [
        " + 0e+00 with 256 bits of precisionim\n",
        "-8.248792696576054427904910717397958472644166245035298919087805154728706246752029e-18 with 256 bits of precision + 0e+00 with 256 bits of precisionim\n",
        "0.0 + 0.0im\n"
       ]
      }
     ],
     "prompt_number": 56
    },
    {
     "cell_type": "markdown",
     "metadata": {},
     "source": [
      "Pero eso es s\u00f3lo conveniencia. Est\u00e1 muy bien tu tarea"
     ]
    },
    {
     "cell_type": "markdown",
     "metadata": {},
     "source": [
      "Pregunta 7: **1 pto**"
     ]
    },
    {
     "cell_type": "code",
     "collapsed": false,
     "input": [
      "p[7]=1;"
     ],
     "language": "python",
     "metadata": {},
     "outputs": [],
     "prompt_number": 57
    }
   ],
   "metadata": {}
  }
 ]
}