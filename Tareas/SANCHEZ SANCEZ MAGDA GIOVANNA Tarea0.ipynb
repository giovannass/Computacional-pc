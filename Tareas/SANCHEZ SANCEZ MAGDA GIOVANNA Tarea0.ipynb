{
 "metadata": {
  "name": "",
  "signature": "sha256:e443d6bf75225da6898535ec7a7fb26a8d3db4961ef88ee83dc8229723e3f01b"
 },
 "nbformat": 3,
 "nbformat_minor": 0,
 "worksheets": [
  {
   "cells": [
    {
     "cell_type": "heading",
     "level": 1,
     "metadata": {
      "slideshow": {
       "slide_type": "slide"
      }
     },
     "source": [
      "Notas de Relatividad\n"
     ]
    },
    {
     "cell_type": "heading",
     "level": 3,
     "metadata": {},
     "source": [
      "4-velocidad $\\vec{u}$"
     ]
    },
    {
     "cell_type": "markdown",
     "metadata": {},
     "source": [
      "El vector *4-velocidad* es el vector tangente a la l\u00ednea universo de la part\u00edcula usando como par\u00e1metro el tiempo propio $\\tau$. Est\u00e1 definido para trayectorias temporaloides, por tanto, los fotones no tienen 4-velocidad.\n",
      "\n",
      " $$\\vec{u} \\equiv \\frac{\\partial \\vec{x}}{\\partial \\tau}$$\n",
      "  \n",
      "Donde la norma del vector 4-velocidad es: $\\mid u\\mid = \\vec{u} \\cdotp \\vec{u} = \\frac{ds^2}{d\\tau^2}= \\frac{ds^2}{-ds^2}=-1$\n",
      "\n",
      "Considerando el sistema moment\u00e1neamente en reposo *SMR* \u00bfCu\u00e1les son las componentes de $\\vec{u}$ ?\n",
      "\n",
      "$\\vec{u}_{SMR}= (1,0,0,0)$, pues un objeto \"en reposo\" se mueve hacia el futuro. Para obtener una expresi\u00f3n general del vector se utiliza la dilataci\u00f3n del tiempo $dt=\\gamma$ $d\\tau$ de donde se tiene $\\tau=\\frac{dt}{\\gamma}$. En consecuencia: $$\\vec{u}=(\\frac{dt}{\\frac{dt}{\\gamma}},\\frac{dx^i}{\\frac{dt}{\\gamma}})= \\gamma (1,v^i)$$\n",
      "\n",
      "Y finalmente se obtiene:\n",
      "$$\\vec{u}= (\\gamma, \\gamma v^i)$$\n",
      " \n",
      " "
     ]
    },
    {
     "cell_type": "heading",
     "level": 3,
     "metadata": {},
     "source": [
      "4-aceleraci\u00f3n $\\vec{a}$"
     ]
    },
    {
     "cell_type": "markdown",
     "metadata": {},
     "source": [
      "El vector *4-aceleraci\u00f3n* se define como:\n",
      "$$\\vec{a} = \\frac{d\\vec{u}}{d\\tau}$$\n",
      "\n",
      "Es importante observar que: $$\\vec{u} \\cdotp \\vec{a} = 0 $$\n",
      "\n",
      "Dicha expresi\u00f3n implica que en el espacio-tiempo, la 4-velocidad y la 4-aceleraci\u00f3n no son colineales, a diferencia de la idea Newtoniana, la cual puede ser recuperada a partir de una proyecci\u00f3n. Esta propiedad se deriva de la siguiente manera:\n",
      "$$0=\\frac{d}{d\\tau}(\\vec{u}\\cdotp \\vec{u})=2\\vec{u} \\cdotp \\frac{d\\vec{u}}{d\\tau}= 2 \\vec{u} \\cdotp \\vec{a}$$\n",
      "\n"
     ]
    },
    {
     "cell_type": "heading",
     "level": 3,
     "metadata": {},
     "source": [
      "4-momento $\\vec{p}$"
     ]
    },
    {
     "cell_type": "markdown",
     "metadata": {},
     "source": [
      "Para part\u00edculas con masa *m*, en reposo, se define el *4-momento* como:\n",
      "$$\\vec{p} \\equiv m\\vec{u}$$\n",
      "\n",
      "Para medir $\\vec{p}$ de una part\u00edcula siempre se mide en reposo. Desglosando la definici\u00f3n de 4-momento se tiene:\n",
      "\n",
      "$$\\vec{p}= (mu^0, mu^i)=(m\\gamma, m\\gamma v^i)$$\n",
      "\n",
      "De donde se sigue que $p^i= m\\gamma v^i$  y se define $E=p^0 \\equiv m\\gamma$\n",
      "\n",
      "Por lo tanto, $\\vec{p}$ puede escribirse como: \n",
      "$$\\vec{p} =(E, p^i)$$\n",
      "\n",
      "La norma de $\\vec{p}$ est\u00e1 dada por  $\\vec{p} \\cdotp \\vec{p} =m^2 (-1)=-m^2$, que a su vez se puede escribir como $\\vec{p} \\cdotp \\vec{p} = -E^2+p_x^2+p_y^2+p_z^2$. Redefiniendo $P^2 \\equiv \\sum_{i=1}^3 p^i$ se llega a la expresi\u00f3n $-m^2=E^2+P^2$, obteniendo la llamada **Relaci\u00f3n de dispersi\u00f3n**:\n",
      "\n",
      "$$E^2=m^2+P^2$$\n",
      "\n",
      "En relatividad especial, *p* es una cantidad conservada. Por ejemplo, en colisiones de part\u00edculas, se conserva el 4-momento lineal. La relatividad especial unifica la energ\u00eda y el momento, ambas son componentes de lo mismo y conforman una s\u00f3la ley de conservaci\u00f3n, a diferencia de la teor\u00eda Newtoniana, para la cual hay una ley de conservaci\u00f3n de energ\u00eda y otra de momento.\n",
      "\n",
      "Una curiosa observaci\u00f3n, es que la ecuaci\u00f3n de Schr\u00f6dinger, al ser obtenida a partir de $E=\\frac{p^2}{2m}$, la expresi\u00f3n Newtoniana de la energ\u00eda, es una ecuaci\u00f3n cu\u00e1ntica NO relativista.\n",
      "\n",
      "Se puede regresar a los resultados de Newton a trav\u00e9s de aproximaciones de Taylor, por ejemplo:\n",
      "$$E=(m^2+P^2)^{\\frac{1}{2}}= m (1+\\frac{p^2}{m^2})^\\frac{1}{2}$$,    $$\\epsilon=\\frac{p^2}{m^2} << 1 \\longrightarrow E\\approx m(1+\\frac{1}{2}\\epsilon)$$\n",
      "\n",
      "$$E\\approx m+\\frac{p^2}{2m}$$\n",
      "De donde se obtiene una expresi\u00f3n newtoniana.\n",
      "\n",
      "Para el caso de la velocidad se tiene un procedimiento similar:\n",
      "\n",
      "$$ \\gamma = \\frac{1}{(1-v^2)^{\\frac{1}{2}}}$$  $$v^2<< 1\\longrightarrow \\gamma \\approx 1+ \\frac{v^2}{2}$$\n",
      "\n",
      "$$E=m\\gamma \\approx m(1+frac{v^2}{2})$$\n",
      "\n",
      "$$E \\approx m+\\frac{1}{2}mv^2$$\n",
      "\n"
     ]
    },
    {
     "cell_type": "heading",
     "level": 3,
     "metadata": {},
     "source": [
      "Fotones"
     ]
    },
    {
     "cell_type": "markdown",
     "metadata": {},
     "source": [
      "* No tienen 4-velocidad\n",
      "* Si tiene 4-momento\n",
      "\n",
      "   $\\vec{p}=(E, p^i)$, como $m=0$ en un fot\u00f3n, $\\vec{p}\\cdotp \\vec{p}= 0$. De la relacion de dispersi\u00f3n se tiene entonces $E^2=P^2$.\n",
      "   \n",
      "   Para un fot\u00f3n se tiene $E= \\hbar \\omega$ y $p^i=\\hbar k^i$ con $k^i=$vector de onda, de donde $k^2\\equiv k_x^2+k_y^2+k_z^2= (\\frac{2\\pi}{\\lambda})^2$\n",
      "   \n",
      "   Tomando $k=\\omega$ y a su vez $\\omega=\\frac{2\\pi}{\\lambda}$ se tiene finalmente que el 4-momento de un fot\u00f3n est\u00e1 dado por:\n",
      "   \n",
      "   $$\\vec{p}= \\hbar \\omega (1,n^i)$$\n",
      "   \n",
      "   Con $n^i\\equiv$vector unitario de direcci\u00f3n de propagaci\u00f3n. Esta definici\u00f3n de 4-momento es v\u00e1lida para cualquier part\u00edcula de $m=0$\n",
      "   \n",
      "   "
     ]
    }
   ],
   "metadata": {}
  }
 ]
}